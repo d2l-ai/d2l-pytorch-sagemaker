{
 "cells": [
  {
   "cell_type": "markdown",
   "id": "ee0ec083",
   "metadata": {
    "origin_pos": 0
   },
   "source": [
    "# File I/O\n",
    "\n",
    "So far we discussed how to process data and how\n",
    "to build, train, and test deep learning models.\n",
    "However, at some point, we will hopefully be happy enough\n",
    "with the learned models that we will want\n",
    "to save the results for later use in various contexts\n",
    "(perhaps even to make predictions in deployment).\n",
    "Additionally, when running a long training process,\n",
    "the best practice is to periodically save intermediate results (checkpointing)\n",
    "to ensure that we do not lose several days worth of computation\n",
    "if we trip over the power cord of our server.\n",
    "Thus it is time to learn how to load and store\n",
    "both individual weight vectors and entire models.\n",
    "This section addresses both issues.\n",
    "\n",
    "## (**Loading and Saving Tensors**)\n",
    "\n",
    "For individual tensors, we can directly\n",
    "invoke the `load` and `save` functions\n",
    "to read and write them respectively.\n",
    "Both functions require that we supply a name,\n",
    "and `save` requires as input the variable to be saved.\n"
   ]
  },
  {
   "cell_type": "code",
   "execution_count": 1,
   "id": "fd3197fa",
   "metadata": {
    "execution": {
     "iopub.execute_input": "2022-08-29T07:25:44.771194Z",
     "iopub.status.busy": "2022-08-29T07:25:44.770173Z",
     "iopub.status.idle": "2022-08-29T07:25:45.706030Z",
     "shell.execute_reply": "2022-08-29T07:25:45.704746Z"
    },
    "origin_pos": 3,
    "tab": [
     "pytorch"
    ]
   },
   "outputs": [],
   "source": [
    "import torch\n",
    "from torch import nn\n",
    "from torch.nn import functional as F\n",
    "\n",
    "x = torch.arange(4)\n",
    "torch.save(x, 'x-file')"
   ]
  },
  {
   "cell_type": "markdown",
   "id": "ba7bd416",
   "metadata": {
    "origin_pos": 5
   },
   "source": [
    "We can now read the data from the stored file back into memory.\n"
   ]
  },
  {
   "cell_type": "code",
   "execution_count": 2,
   "id": "1f851acb",
   "metadata": {
    "execution": {
     "iopub.execute_input": "2022-08-29T07:25:45.710856Z",
     "iopub.status.busy": "2022-08-29T07:25:45.710073Z",
     "iopub.status.idle": "2022-08-29T07:25:45.726223Z",
     "shell.execute_reply": "2022-08-29T07:25:45.725150Z"
    },
    "origin_pos": 7,
    "tab": [
     "pytorch"
    ]
   },
   "outputs": [
    {
     "data": {
      "text/plain": [
       "tensor([0, 1, 2, 3])"
      ]
     },
     "execution_count": 2,
     "metadata": {},
     "output_type": "execute_result"
    }
   ],
   "source": [
    "x2 = torch.load('x-file')\n",
    "x2"
   ]
  },
  {
   "cell_type": "markdown",
   "id": "9d776f3d",
   "metadata": {
    "origin_pos": 9
   },
   "source": [
    "We can [**store a list of tensors and read them back into memory.**]\n"
   ]
  },
  {
   "cell_type": "code",
   "execution_count": 3,
   "id": "0b389370",
   "metadata": {
    "execution": {
     "iopub.execute_input": "2022-08-29T07:25:45.731051Z",
     "iopub.status.busy": "2022-08-29T07:25:45.730489Z",
     "iopub.status.idle": "2022-08-29T07:25:45.739532Z",
     "shell.execute_reply": "2022-08-29T07:25:45.738718Z"
    },
    "origin_pos": 11,
    "tab": [
     "pytorch"
    ]
   },
   "outputs": [
    {
     "data": {
      "text/plain": [
       "(tensor([0, 1, 2, 3]), tensor([0., 0., 0., 0.]))"
      ]
     },
     "execution_count": 3,
     "metadata": {},
     "output_type": "execute_result"
    }
   ],
   "source": [
    "y = torch.zeros(4)\n",
    "torch.save([x, y],'x-files')\n",
    "x2, y2 = torch.load('x-files')\n",
    "(x2, y2)"
   ]
  },
  {
   "cell_type": "markdown",
   "id": "92930278",
   "metadata": {
    "origin_pos": 13
   },
   "source": [
    "We can even [**write and read a dictionary that maps\n",
    "from strings to tensors.**]\n",
    "This is convenient when we want\n",
    "to read or write all the weights in a model.\n"
   ]
  },
  {
   "cell_type": "code",
   "execution_count": 4,
   "id": "c1f5039f",
   "metadata": {
    "execution": {
     "iopub.execute_input": "2022-08-29T07:25:45.743582Z",
     "iopub.status.busy": "2022-08-29T07:25:45.743088Z",
     "iopub.status.idle": "2022-08-29T07:25:45.751787Z",
     "shell.execute_reply": "2022-08-29T07:25:45.750729Z"
    },
    "origin_pos": 15,
    "tab": [
     "pytorch"
    ]
   },
   "outputs": [
    {
     "data": {
      "text/plain": [
       "{'x': tensor([0, 1, 2, 3]), 'y': tensor([0., 0., 0., 0.])}"
      ]
     },
     "execution_count": 4,
     "metadata": {},
     "output_type": "execute_result"
    }
   ],
   "source": [
    "mydict = {'x': x, 'y': y}\n",
    "torch.save(mydict, 'mydict')\n",
    "mydict2 = torch.load('mydict')\n",
    "mydict2"
   ]
  },
  {
   "cell_type": "markdown",
   "id": "6d16a908",
   "metadata": {
    "origin_pos": 17
   },
   "source": [
    "## [**Loading and Saving Model Parameters**]\n",
    "\n",
    "Saving individual weight vectors (or other tensors) is useful,\n",
    "but it gets very tedious if we want to save\n",
    "(and later load) an entire model.\n",
    "After all, we might have hundreds of\n",
    "parameter groups sprinkled throughout.\n",
    "For this reason the deep learning framework provides built-in functionalities\n",
    "to load and save entire networks.\n",
    "An important detail to note is that this\n",
    "saves model *parameters* and not the entire model.\n",
    "For example, if we have a 3-layer MLP,\n",
    "we need to specify the architecture separately.\n",
    "The reason for this is that the models themselves can contain arbitrary code,\n",
    "hence they cannot be serialized as naturally.\n",
    "Thus, in order to reinstate a model, we need\n",
    "to generate the architecture in code\n",
    "and then load the parameters from disk.\n",
    "(**Let's start with our familiar MLP.**)\n"
   ]
  },
  {
   "cell_type": "code",
   "execution_count": 5,
   "id": "8f1d256f",
   "metadata": {
    "execution": {
     "iopub.execute_input": "2022-08-29T07:25:45.755404Z",
     "iopub.status.busy": "2022-08-29T07:25:45.754914Z",
     "iopub.status.idle": "2022-08-29T07:25:45.764748Z",
     "shell.execute_reply": "2022-08-29T07:25:45.763659Z"
    },
    "origin_pos": 19,
    "tab": [
     "pytorch"
    ]
   },
   "outputs": [
    {
     "name": "stdout",
     "output_type": "stream",
     "text": [
      "/home/d2l-worker/miniconda3/envs/d2l-en-release-0/lib/python3.9/site-packages/torch/nn/modules/lazy.py:178: UserWarning: Lazy modules are a new feature under heavy development so changes to the API or functionality can happen at any moment.\n",
      "  warnings.warn('Lazy modules are a new feature under heavy development '\n"
     ]
    }
   ],
   "source": [
    "class MLP(nn.Module):\n",
    "    def __init__(self):\n",
    "        super().__init__()\n",
    "        self.hidden = nn.LazyLinear(256)\n",
    "        self.output = nn.LazyLinear(10)\n",
    "\n",
    "    def forward(self, x):\n",
    "        return self.output(F.relu(self.hidden(x)))\n",
    "\n",
    "net = MLP()\n",
    "X = torch.randn(size=(2, 20))\n",
    "Y = net(X)"
   ]
  },
  {
   "cell_type": "markdown",
   "id": "ff8fe9b2",
   "metadata": {
    "origin_pos": 21
   },
   "source": [
    "Next, we [**store the parameters of the model as a file**] with the name \"mlp.params\".\n"
   ]
  },
  {
   "cell_type": "code",
   "execution_count": 6,
   "id": "a13c247f",
   "metadata": {
    "execution": {
     "iopub.execute_input": "2022-08-29T07:25:45.769351Z",
     "iopub.status.busy": "2022-08-29T07:25:45.768217Z",
     "iopub.status.idle": "2022-08-29T07:25:45.775287Z",
     "shell.execute_reply": "2022-08-29T07:25:45.774153Z"
    },
    "origin_pos": 23,
    "tab": [
     "pytorch"
    ]
   },
   "outputs": [],
   "source": [
    "torch.save(net.state_dict(), 'mlp.params')"
   ]
  },
  {
   "cell_type": "markdown",
   "id": "3d9801b8",
   "metadata": {
    "origin_pos": 25
   },
   "source": [
    "To recover the model, we instantiate a clone\n",
    "of the original MLP model.\n",
    "Instead of randomly initializing the model parameters,\n",
    "we [**read the parameters stored in the file directly**].\n"
   ]
  },
  {
   "cell_type": "code",
   "execution_count": 7,
   "id": "1d586cfd",
   "metadata": {
    "execution": {
     "iopub.execute_input": "2022-08-29T07:25:45.780433Z",
     "iopub.status.busy": "2022-08-29T07:25:45.779682Z",
     "iopub.status.idle": "2022-08-29T07:25:45.790548Z",
     "shell.execute_reply": "2022-08-29T07:25:45.789479Z"
    },
    "origin_pos": 27,
    "tab": [
     "pytorch"
    ]
   },
   "outputs": [
    {
     "data": {
      "text/plain": [
       "MLP(\n",
       "  (hidden): LazyLinear(in_features=0, out_features=256, bias=True)\n",
       "  (output): LazyLinear(in_features=0, out_features=10, bias=True)\n",
       ")"
      ]
     },
     "execution_count": 7,
     "metadata": {},
     "output_type": "execute_result"
    }
   ],
   "source": [
    "clone = MLP()\n",
    "clone.load_state_dict(torch.load('mlp.params'))\n",
    "clone.eval()"
   ]
  },
  {
   "cell_type": "markdown",
   "id": "72428967",
   "metadata": {
    "origin_pos": 29
   },
   "source": [
    "Since both instances have the same model parameters,\n",
    "the computational result of the same input `X` should be the same.\n",
    "Let's verify this.\n"
   ]
  },
  {
   "cell_type": "code",
   "execution_count": 8,
   "id": "c1286312",
   "metadata": {
    "execution": {
     "iopub.execute_input": "2022-08-29T07:25:45.794558Z",
     "iopub.status.busy": "2022-08-29T07:25:45.794093Z",
     "iopub.status.idle": "2022-08-29T07:25:45.802593Z",
     "shell.execute_reply": "2022-08-29T07:25:45.801522Z"
    },
    "origin_pos": 30,
    "tab": [
     "pytorch"
    ]
   },
   "outputs": [
    {
     "data": {
      "text/plain": [
       "tensor([[True, True, True, True, True, True, True, True, True, True],\n",
       "        [True, True, True, True, True, True, True, True, True, True]])"
      ]
     },
     "execution_count": 8,
     "metadata": {},
     "output_type": "execute_result"
    }
   ],
   "source": [
    "Y_clone = clone(X)\n",
    "Y_clone == Y"
   ]
  },
  {
   "cell_type": "markdown",
   "id": "002ef1bf",
   "metadata": {
    "origin_pos": 31
   },
   "source": [
    "## Summary\n",
    "\n",
    "* The `save` and `load` functions can be used to perform file I/O for tensor objects.\n",
    "* We can save and load the entire sets of parameters for a network via a parameter dictionary.\n",
    "* Saving the architecture has to be done in code rather than in parameters.\n",
    "\n",
    "## Exercises\n",
    "\n",
    "1. Even if there is no need to deploy trained models to a different device, what are the practical benefits of storing model parameters?\n",
    "1. Assume that we want to reuse only parts of a network to be incorporated into a network of a different architecture. How would you go about using, say the first two layers from a previous network in a new network?\n",
    "1. How would you go about saving the network architecture and parameters? What restrictions would you impose on the architecture?\n"
   ]
  },
  {
   "cell_type": "markdown",
   "id": "04e17194",
   "metadata": {
    "origin_pos": 33,
    "tab": [
     "pytorch"
    ]
   },
   "source": [
    "[Discussions](https://discuss.d2l.ai/t/61)\n"
   ]
  }
 ],
 "metadata": {
  "kernelspec": {
   "display_name": "conda_pytorch_p36",
   "name": "conda_pytorch_p36"
  },
  "language_info": {
   "name": "python"
  }
 },
 "nbformat": 4,
 "nbformat_minor": 5
}