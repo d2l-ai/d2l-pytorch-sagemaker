{
 "cells": [
  {
   "cell_type": "markdown",
   "id": "1731f5a5",
   "metadata": {},
   "source": [
    "Installing (updating) the following libraries for your Sagemaker\n",
    "instance."
   ]
  },
  {
   "cell_type": "code",
   "execution_count": null,
   "id": "b7a30f36",
   "metadata": {},
   "outputs": [],
   "source": [
    "!pip install .. # installing d2l\n"
   ]
  },
  {
   "cell_type": "markdown",
   "id": "a7ee05fe",
   "metadata": {
    "origin_pos": 1
   },
   "source": [
    "# Custom Layers\n",
    "\n",
    "One factor behind deep learning's success\n",
    "is the availability of a wide range of layers\n",
    "that can be composed in creative ways\n",
    "to design architectures suitable\n",
    "for a wide variety of tasks.\n",
    "For instance, researchers have invented layers\n",
    "specifically for handling images, text,\n",
    "looping over sequential data,\n",
    "and\n",
    "performing dynamic programming.\n",
    "Sooner or later, you will encounter or invent\n",
    "a layer that does not exist yet in the deep learning framework.\n",
    "In these cases, you must build a custom layer.\n",
    "In this section, we show you how.\n"
   ]
  },
  {
   "cell_type": "code",
   "execution_count": 1,
   "id": "d4ab4931",
   "metadata": {
    "execution": {
     "iopub.execute_input": "2023-02-10T04:36:10.224808Z",
     "iopub.status.busy": "2023-02-10T04:36:10.224515Z",
     "iopub.status.idle": "2023-02-10T04:36:13.302190Z",
     "shell.execute_reply": "2023-02-10T04:36:13.299002Z"
    },
    "origin_pos": 3,
    "tab": [
     "pytorch"
    ]
   },
   "outputs": [],
   "source": [
    "import torch\n",
    "from torch import nn\n",
    "from torch.nn import functional as F\n",
    "from d2l import torch as d2l"
   ]
  },
  {
   "cell_type": "markdown",
   "id": "0087ce81",
   "metadata": {
    "origin_pos": 6
   },
   "source": [
    "## (**Layers without Parameters**)\n",
    "\n",
    "To start, we construct a custom layer\n",
    "that does not have any parameters of its own.\n",
    "This should look familiar if you recall our\n",
    "introduction to module in :numref:`sec_model_construction`.\n",
    "The following `CenteredLayer` class simply\n",
    "subtracts the mean from its input.\n",
    "To build it, we simply need to inherit\n",
    "from the base layer class and implement the forward propagation function.\n"
   ]
  },
  {
   "cell_type": "code",
   "execution_count": 2,
   "id": "ac0141bf",
   "metadata": {
    "execution": {
     "iopub.execute_input": "2023-02-10T04:36:13.309039Z",
     "iopub.status.busy": "2023-02-10T04:36:13.308200Z",
     "iopub.status.idle": "2023-02-10T04:36:13.319620Z",
     "shell.execute_reply": "2023-02-10T04:36:13.316707Z"
    },
    "origin_pos": 8,
    "tab": [
     "pytorch"
    ]
   },
   "outputs": [],
   "source": [
    "class CenteredLayer(nn.Module):\n",
    "    def __init__(self):\n",
    "        super().__init__()\n",
    "\n",
    "    def forward(self, X):\n",
    "        return X - X.mean()"
   ]
  },
  {
   "cell_type": "markdown",
   "id": "827474b3",
   "metadata": {
    "origin_pos": 11
   },
   "source": [
    "Let's verify that our layer works as intended by feeding some data through it.\n"
   ]
  },
  {
   "cell_type": "code",
   "execution_count": 3,
   "id": "6b1880d1",
   "metadata": {
    "execution": {
     "iopub.execute_input": "2023-02-10T04:36:13.324173Z",
     "iopub.status.busy": "2023-02-10T04:36:13.323047Z",
     "iopub.status.idle": "2023-02-10T04:36:13.359712Z",
     "shell.execute_reply": "2023-02-10T04:36:13.358859Z"
    },
    "origin_pos": 12,
    "tab": [
     "pytorch"
    ]
   },
   "outputs": [
    {
     "data": {
      "text/plain": [
       "tensor([-2., -1.,  0.,  1.,  2.])"
      ]
     },
     "execution_count": 3,
     "metadata": {},
     "output_type": "execute_result"
    }
   ],
   "source": [
    "layer = CenteredLayer()\n",
    "layer(torch.tensor([1.0, 2, 3, 4, 5]))"
   ]
  },
  {
   "cell_type": "markdown",
   "id": "b0d30017",
   "metadata": {
    "origin_pos": 13
   },
   "source": [
    "We can now [**incorporate our layer as a component\n",
    "in constructing more complex models.**]\n"
   ]
  },
  {
   "cell_type": "code",
   "execution_count": 4,
   "id": "aadbe863",
   "metadata": {
    "execution": {
     "iopub.execute_input": "2023-02-10T04:36:13.364118Z",
     "iopub.status.busy": "2023-02-10T04:36:13.363585Z",
     "iopub.status.idle": "2023-02-10T04:36:13.386564Z",
     "shell.execute_reply": "2023-02-10T04:36:13.384919Z"
    },
    "origin_pos": 15,
    "tab": [
     "pytorch"
    ]
   },
   "outputs": [],
   "source": [
    "net = nn.Sequential(nn.LazyLinear(128), CenteredLayer())"
   ]
  },
  {
   "cell_type": "markdown",
   "id": "aaaed2b2",
   "metadata": {
    "origin_pos": 18
   },
   "source": [
    "As an extra sanity check, we can send random data\n",
    "through the network and check that the mean is in fact 0.\n",
    "Because we are dealing with floating point numbers,\n",
    "we may still see a very small nonzero number\n",
    "due to quantization.\n"
   ]
  },
  {
   "cell_type": "code",
   "execution_count": 5,
   "id": "a84fe9dd",
   "metadata": {
    "execution": {
     "iopub.execute_input": "2023-02-10T04:36:13.391206Z",
     "iopub.status.busy": "2023-02-10T04:36:13.389826Z",
     "iopub.status.idle": "2023-02-10T04:36:13.403839Z",
     "shell.execute_reply": "2023-02-10T04:36:13.401188Z"
    },
    "origin_pos": 20,
    "tab": [
     "pytorch"
    ]
   },
   "outputs": [
    {
     "data": {
      "text/plain": [
       "tensor(0., grad_fn=<MeanBackward0>)"
      ]
     },
     "execution_count": 5,
     "metadata": {},
     "output_type": "execute_result"
    }
   ],
   "source": [
    "Y = net(torch.rand(4, 8))\n",
    "Y.mean()"
   ]
  },
  {
   "cell_type": "markdown",
   "id": "0932522e",
   "metadata": {
    "origin_pos": 23
   },
   "source": [
    "## [**Layers with Parameters**]\n",
    "\n",
    "Now that we know how to define simple layers,\n",
    "let's move on to defining layers with parameters\n",
    "that can be adjusted through training.\n",
    "We can use built-in functions to create parameters, which\n",
    "provide some basic housekeeping functionality.\n",
    "In particular, they govern access, initialization,\n",
    "sharing, saving, and loading model parameters.\n",
    "This way, among other benefits, we will not need to write\n",
    "custom serialization routines for every custom layer.\n",
    "\n",
    "Now let's implement our own version of the  fully connected layer.\n",
    "Recall that this layer requires two parameters,\n",
    "one to represent the weight and the other for the bias.\n",
    "In this implementation, we bake in the ReLU activation as a default.\n",
    "This layer requires two input arguments: `in_units` and `units`, which\n",
    "denote the number of inputs and outputs, respectively.\n"
   ]
  },
  {
   "cell_type": "code",
   "execution_count": 6,
   "id": "11e7b26d",
   "metadata": {
    "execution": {
     "iopub.execute_input": "2023-02-10T04:36:13.408871Z",
     "iopub.status.busy": "2023-02-10T04:36:13.407600Z",
     "iopub.status.idle": "2023-02-10T04:36:13.420033Z",
     "shell.execute_reply": "2023-02-10T04:36:13.417146Z"
    },
    "origin_pos": 25,
    "tab": [
     "pytorch"
    ]
   },
   "outputs": [],
   "source": [
    "class MyLinear(nn.Module):\n",
    "    def __init__(self, in_units, units):\n",
    "        super().__init__()\n",
    "        self.weight = nn.Parameter(torch.randn(in_units, units))\n",
    "        self.bias = nn.Parameter(torch.randn(units,))\n",
    "\n",
    "    def forward(self, X):\n",
    "        linear = torch.matmul(X, self.weight.data) + self.bias.data\n",
    "        return F.relu(linear)"
   ]
  },
  {
   "cell_type": "markdown",
   "id": "00ead6a6",
   "metadata": {
    "origin_pos": 29,
    "tab": [
     "pytorch"
    ]
   },
   "source": [
    "Next, we instantiate the `MyLinear` class\n",
    "and access its model parameters.\n"
   ]
  },
  {
   "cell_type": "code",
   "execution_count": 7,
   "id": "5f27458f",
   "metadata": {
    "execution": {
     "iopub.execute_input": "2023-02-10T04:36:13.427151Z",
     "iopub.status.busy": "2023-02-10T04:36:13.425883Z",
     "iopub.status.idle": "2023-02-10T04:36:13.436271Z",
     "shell.execute_reply": "2023-02-10T04:36:13.435422Z"
    },
    "origin_pos": 31,
    "tab": [
     "pytorch"
    ]
   },
   "outputs": [
    {
     "data": {
      "text/plain": [
       "Parameter containing:\n",
       "tensor([[-1.2894e+00,  6.5869e-01, -1.3933e+00],\n",
       "        [ 7.2590e-01,  7.1593e-01,  1.8115e-03],\n",
       "        [-1.5900e+00,  4.1654e-01, -1.3358e+00],\n",
       "        [ 2.2732e-02, -2.1329e+00,  1.8811e+00],\n",
       "        [-1.0993e+00,  2.9763e-01, -1.4413e+00]], requires_grad=True)"
      ]
     },
     "execution_count": 7,
     "metadata": {},
     "output_type": "execute_result"
    }
   ],
   "source": [
    "linear = MyLinear(5, 3)\n",
    "linear.weight"
   ]
  },
  {
   "cell_type": "markdown",
   "id": "d1ec0b69",
   "metadata": {
    "origin_pos": 34
   },
   "source": [
    "We can [**directly carry out forward propagation calculations using custom layers.**]\n"
   ]
  },
  {
   "cell_type": "code",
   "execution_count": 8,
   "id": "556ef632",
   "metadata": {
    "execution": {
     "iopub.execute_input": "2023-02-10T04:36:13.441810Z",
     "iopub.status.busy": "2023-02-10T04:36:13.440223Z",
     "iopub.status.idle": "2023-02-10T04:36:13.448345Z",
     "shell.execute_reply": "2023-02-10T04:36:13.447507Z"
    },
    "origin_pos": 36,
    "tab": [
     "pytorch"
    ]
   },
   "outputs": [
    {
     "data": {
      "text/plain": [
       "tensor([[0.0000, 1.7772, 0.0000],\n",
       "        [0.0000, 1.0303, 0.0000]])"
      ]
     },
     "execution_count": 8,
     "metadata": {},
     "output_type": "execute_result"
    }
   ],
   "source": [
    "linear(torch.rand(2, 5))"
   ]
  },
  {
   "cell_type": "markdown",
   "id": "e4219382",
   "metadata": {
    "origin_pos": 39
   },
   "source": [
    "We can also (**construct models using custom layers.**)\n",
    "Once we have that we can use it just like the built-in fully connected layer.\n"
   ]
  },
  {
   "cell_type": "code",
   "execution_count": 9,
   "id": "067b63ba",
   "metadata": {
    "execution": {
     "iopub.execute_input": "2023-02-10T04:36:13.453905Z",
     "iopub.status.busy": "2023-02-10T04:36:13.453521Z",
     "iopub.status.idle": "2023-02-10T04:36:13.473649Z",
     "shell.execute_reply": "2023-02-10T04:36:13.467570Z"
    },
    "origin_pos": 41,
    "tab": [
     "pytorch"
    ]
   },
   "outputs": [
    {
     "data": {
      "text/plain": [
       "tensor([[0.],\n",
       "        [0.]])"
      ]
     },
     "execution_count": 9,
     "metadata": {},
     "output_type": "execute_result"
    }
   ],
   "source": [
    "net = nn.Sequential(MyLinear(64, 8), MyLinear(8, 1))\n",
    "net(torch.rand(2, 64))"
   ]
  },
  {
   "cell_type": "markdown",
   "id": "6130c834",
   "metadata": {
    "origin_pos": 44
   },
   "source": [
    "## Summary\n",
    "\n",
    "We can design custom layers via the basic layer class. This allows us to define flexible new layers that behave differently from any existing layers in the library.\n",
    "Once defined, custom layers can be invoked in arbitrary contexts and architectures.\n",
    "Layers can have local parameters, which can be created through built-in functions.\n",
    "\n",
    "\n",
    "## Exercises\n",
    "\n",
    "1. Design a layer that takes an input and computes a tensor reduction,\n",
    "   i.e., it returns $y_k = \\sum_{i, j} W_{ijk} x_i x_j$.\n",
    "1. Design a layer that returns the leading half of the Fourier coefficients of the data.\n"
   ]
  },
  {
   "cell_type": "markdown",
   "id": "93546b8d",
   "metadata": {
    "origin_pos": 46,
    "tab": [
     "pytorch"
    ]
   },
   "source": [
    "[Discussions](https://discuss.d2l.ai/t/59)\n"
   ]
  }
 ],
 "metadata": {
  "kernelspec": {
   "display_name": "conda_pytorch_p36",
   "name": "conda_pytorch_p36"
  },
  "language_info": {
   "name": "python"
  }
 },
 "nbformat": 4,
 "nbformat_minor": 5
}