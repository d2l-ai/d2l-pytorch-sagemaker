{
 "cells": [
  {
   "cell_type": "markdown",
   "metadata": {
    "origin_pos": 0
   },
   "source": [
    "# Sistemas de Recomendação\n",
    ":label:`chap_recsys`\n",
    "\n",
    "\n",
    "**Shuai Zhang** (*Amazon*), **Aston Zhang** (*Amazon*), ande **Yi Tay** (*Google*)\n",
    "\n",
    "\n",
    "Os sistemas de recomendação são amplamente empregados na indústria e onipresentes em nossa vida diária. Esses sistemas são utilizados em várias áreas, como sites de compras online (por exemplo, amazon.com), site de serviços de música / filmes (por exemplo, Netflix e Spotify), lojas de aplicativos móveis (por exemplo, loja de aplicativos IOS e google play), online publicidade, apenas para citar alguns.\n",
    "\n",
    "O principal objetivo dos sistemas de recomendação é ajudar os usuários a descobrir itens relevantes, como filmes para assistir, textos para ler ou produtos para comprar, de modo a criar uma experiência agradável para o usuário. Além disso, os sistemas de recomendação estão entre os sistemas de aprendizado de máquina mais poderosos que os varejistas online implementam para gerar receita incremental. Os sistemas de recomendação são substitutos dos motores de busca, reduzindo os esforços em buscas proativas e surpreendendo os usuários com ofertas que eles nunca procuraram. Muitas empresas conseguiram se posicionar à frente de seus concorrentes com a ajuda de sistemas de recomendação mais eficazes. Como tal, os sistemas de recomendação são centrais não apenas para nossas vidas diárias, mas também altamente indispensáveis ​​em alguns setores.\n",
    "\n",
    "Neste capítulo, cobriremos os fundamentos e avanços dos sistemas de recomendação, junto com a exploração de algumas técnicas fundamentais comuns para a construção de sistemas de recomendação com diferentes fontes de dados disponíveis e suas implementações. Especificamente, você aprenderá como prever a classificação que um usuário pode dar a um item em potencial, como gerar uma lista de recomendação de itens e como prever a taxa de cliques de recursos abundantes. Essas tarefas são comuns em aplicativos do mundo real. Ao estudar este capítulo, você obterá experiência prática relacionada à solução de problemas de recomendação do mundo real não apenas com métodos clássicos, mas também com modelos baseados em aprendizado profundo mais avançados.\n",
    "\n",
    ":begin_tab:toc\n",
    " - [recsys-intro](recsys-intro.ipynb)\n",
    " - [movielens](movielens.ipynb)\n",
    " - [mf](mf.ipynb)\n",
    " - [autorec](autorec.ipynb)\n",
    " - [ranking](ranking.ipynb)\n",
    " - [neumf](neumf.ipynb)\n",
    " - [seqrec](seqrec.ipynb)\n",
    " - [ctr](ctr.ipynb)\n",
    " - [fm](fm.ipynb)\n",
    " - [deepfm](deepfm.ipynb)\n",
    ":end_tab:\n",
    "\n",
    "<!--stackedit_data:\n",
    "eyJoaXN0b3J5IjpbMTYwMjI4ODI5MywtMTk4OTM4Mjk2MV19\n",
    "-->\n"
   ]
  }
 ],
 "metadata": {
  "kernelspec": {
   "display_name": "conda_pytorch_p36",
   "name": "conda_pytorch_p36"
  },
  "language_info": {
   "name": "python"
  }
 },
 "nbformat": 4,
 "nbformat_minor": 4
}