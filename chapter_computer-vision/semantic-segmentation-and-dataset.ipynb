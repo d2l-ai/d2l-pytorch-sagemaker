{
 "cells": [
  {
   "cell_type": "markdown",
   "id": "5e22e72c",
   "metadata": {},
   "source": [
    "Installing (updating) the following libraries for your Sagemaker\n",
    "instance."
   ]
  },
  {
   "cell_type": "code",
   "execution_count": null,
   "id": "23652347",
   "metadata": {},
   "outputs": [],
   "source": [
    "!pip install .. # installing d2l\n"
   ]
  },
  {
   "cell_type": "markdown",
   "id": "72299e19",
   "metadata": {
    "origin_pos": 0
   },
   "source": [
    "# Semantic Segmentation and the Dataset\n",
    ":label:`sec_semantic_segmentation`\n",
    "\n",
    "When discussing object detection tasks\n",
    "in :numref:`sec_bbox`--:numref:`sec_rcnn`,\n",
    "rectangular bounding boxes\n",
    "are used to label and predict objects in images.\n",
    "This section will discuss the problem of *semantic segmentation*,\n",
    "which focuses on how to divide an image into regions belonging to different semantic classes.\n",
    "Different from object detection,\n",
    "semantic segmentation\n",
    "recognizes and understands\n",
    "what are in images in pixel level:\n",
    "its labeling and prediction of semantic regions are\n",
    "in pixel level.\n",
    ":numref:`fig_segmentation` shows the labels\n",
    "of the dog, cat, and background of the image in semantic segmentation.\n",
    "Compared with in object detection,\n",
    "the pixel-level borders labeled\n",
    "in semantic segmentation are obviously more fine-grained.\n",
    "\n",
    "\n",
    "![Labels of the dog, cat, and background of the image in semantic segmentation.](../img/segmentation.svg)\n",
    ":label:`fig_segmentation`\n",
    "\n",
    "\n",
    "## Image Segmentation and Instance Segmentation\n",
    "\n",
    "There are also two important tasks\n",
    "in the field of computer vision that are similar to semantic segmentation,\n",
    "namely image segmentation and instance segmentation.\n",
    "We will briefly\n",
    "distinguish them from semantic segmentation as follows.\n",
    "\n",
    "* *Image segmentation* divides an image into several constituent regions. The methods for this type of problem usually make use of the correlation between pixels in the image. It does not need label information about image pixels during training, and it cannot guarantee that the segmented regions will have the semantics that we hope to obtain during prediction. Taking the image in :numref:`fig_segmentation` as input, image segmentation may divide the dog into two regions: one covers the mouth and eyes which are mainly black, and the other covers the rest of the body which is mainly yellow.\n",
    "* *Instance segmentation* is also called *simultaneous detection and segmentation*. It studies how to recognize the pixel-level regions of each object instance in an image. Different from semantic segmentation, instance segmentation needs to distinguish not only semantics, but also different object instances. For example, if there are two dogs in the image, instance segmentation needs to distinguish which of the two dogs a pixel belongs to.\n",
    "\n",
    "\n",
    "\n",
    "## The Pascal VOC2012 Semantic Segmentation Dataset\n",
    "\n",
    "[**On of the most important semantic segmentation dataset\n",
    "is [Pascal VOC2012](http://host.robots.ox.ac.uk/pascal/VOC/voc2012/).**]\n",
    "In the following,\n",
    "we will take a look at this dataset.\n"
   ]
  },
  {
   "cell_type": "code",
   "execution_count": 1,
   "id": "935e1a6f",
   "metadata": {
    "execution": {
     "iopub.execute_input": "2022-07-13T08:08:54.694537Z",
     "iopub.status.busy": "2022-07-13T08:08:54.693421Z",
     "iopub.status.idle": "2022-07-13T08:08:56.891965Z",
     "shell.execute_reply": "2022-07-13T08:08:56.890767Z"
    },
    "origin_pos": 2,
    "tab": [
     "pytorch"
    ]
   },
   "outputs": [],
   "source": [
    "%matplotlib inline\n",
    "import os\n",
    "import torch\n",
    "import torchvision\n",
    "from d2l import torch as d2l"
   ]
  },
  {
   "cell_type": "markdown",
   "id": "fc740b64",
   "metadata": {
    "origin_pos": 3
   },
   "source": [
    "The tar file of the dataset is about 2 GB,\n",
    "so it may take a while to download the file.\n",
    "The extracted dataset is located at `../data/VOCdevkit/VOC2012`.\n"
   ]
  },
  {
   "cell_type": "code",
   "execution_count": 2,
   "id": "995728f2",
   "metadata": {
    "execution": {
     "iopub.execute_input": "2022-07-13T08:08:56.897529Z",
     "iopub.status.busy": "2022-07-13T08:08:56.896705Z",
     "iopub.status.idle": "2022-07-13T08:09:12.846821Z",
     "shell.execute_reply": "2022-07-13T08:09:12.845603Z"
    },
    "origin_pos": 4,
    "tab": [
     "pytorch"
    ]
   },
   "outputs": [],
   "source": [
    "#@save\n",
    "d2l.DATA_HUB['voc2012'] = (d2l.DATA_URL + 'VOCtrainval_11-May-2012.tar',\n",
    "                           '4e443f8a2eca6b1dac8a6c57641b67dd40621a49')\n",
    "\n",
    "voc_dir = d2l.download_extract('voc2012', 'VOCdevkit/VOC2012')"
   ]
  },
  {
   "cell_type": "markdown",
   "id": "34e7f333",
   "metadata": {
    "origin_pos": 5
   },
   "source": [
    "After entering the path `../data/VOCdevkit/VOC2012`,\n",
    "we can see the different components of the dataset.\n",
    "The `ImageSets/Segmentation` path contains text files\n",
    "that specify training and test samples,\n",
    "while the `JPEGImages` and `SegmentationClass` paths\n",
    "store the input image and label for each example, respectively.\n",
    "The label here is also in the image format,\n",
    "with the same size\n",
    "as its labeled input image.\n",
    "Besides,\n",
    "pixels with the same color in any label image belong to the same semantic class.\n",
    "The following defines the `read_voc_images` function to [**read all the input images and labels into the memory**].\n"
   ]
  },
  {
   "cell_type": "code",
   "execution_count": 3,
   "id": "9ffa3b62",
   "metadata": {
    "execution": {
     "iopub.execute_input": "2022-07-13T08:09:12.851391Z",
     "iopub.status.busy": "2022-07-13T08:09:12.850814Z",
     "iopub.status.idle": "2022-07-13T08:09:18.481576Z",
     "shell.execute_reply": "2022-07-13T08:09:18.480700Z"
    },
    "origin_pos": 7,
    "tab": [
     "pytorch"
    ]
   },
   "outputs": [],
   "source": [
    "#@save\n",
    "def read_voc_images(voc_dir, is_train=True):\n",
    "    \"\"\"Read all VOC feature and label images.\"\"\"\n",
    "    txt_fname = os.path.join(voc_dir, 'ImageSets', 'Segmentation',\n",
    "                             'train.txt' if is_train else 'val.txt')\n",
    "    mode = torchvision.io.image.ImageReadMode.RGB\n",
    "    with open(txt_fname, 'r') as f:\n",
    "        images = f.read().split()\n",
    "    features, labels = [], []\n",
    "    for i, fname in enumerate(images):\n",
    "        features.append(torchvision.io.read_image(os.path.join(\n",
    "            voc_dir, 'JPEGImages', f'{fname}.jpg')))\n",
    "        labels.append(torchvision.io.read_image(os.path.join(\n",
    "            voc_dir, 'SegmentationClass' ,f'{fname}.png'), mode))\n",
    "    return features, labels\n",
    "\n",
    "train_features, train_labels = read_voc_images(voc_dir, True)"
   ]
  },
  {
   "cell_type": "markdown",
   "id": "0cb1bb30",
   "metadata": {
    "origin_pos": 8
   },
   "source": [
    "We [**draw the first five input images and their labels**].\n",
    "In the label images, white and black represent borders and  background, respectively, while the other colors correspond to different classes.\n"
   ]
  },
  {
   "cell_type": "code",
   "execution_count": 4,
   "id": "1ff0a619",
   "metadata": {
    "execution": {
     "iopub.execute_input": "2022-07-13T08:09:18.485880Z",
     "iopub.status.busy": "2022-07-13T08:09:18.485283Z",
     "iopub.status.idle": "2022-07-13T08:09:19.000565Z",
     "shell.execute_reply": "2022-07-13T08:09:18.999731Z"
    },
    "origin_pos": 10,
    "tab": [
     "pytorch"
    ]
   },
   "outputs": [
    {
     "data": {
      "image/png": "[encoded data removed]",
      "text/plain": [
       "<Figure size 540x216 with 10 Axes>"
      ]
     },
     "metadata": {
      "needs_background": "light"
     },
     "output_type": "display_data"
    }
   ],
   "source": [
    "n = 5\n",
    "imgs = train_features[:n] + train_labels[:n]\n",
    "imgs = [img.permute(1,2,0) for img in imgs]\n",
    "d2l.show_images(imgs, 2, n);"
   ]
  },
  {
   "cell_type": "markdown",
   "id": "63bef9a6",
   "metadata": {
    "origin_pos": 11
   },
   "source": [
    "Next, we [**enumerate\n",
    "the RGB color values and class names**]\n",
    "for all the labels in this dataset.\n"
   ]
  },
  {
   "cell_type": "code",
   "execution_count": 5,
   "id": "c4cc6cfb",
   "metadata": {
    "execution": {
     "iopub.execute_input": "2022-07-13T08:09:19.005205Z",
     "iopub.status.busy": "2022-07-13T08:09:19.004726Z",
     "iopub.status.idle": "2022-07-13T08:09:19.011264Z",
     "shell.execute_reply": "2022-07-13T08:09:19.010480Z"
    },
    "origin_pos": 12,
    "tab": [
     "pytorch"
    ]
   },
   "outputs": [],
   "source": [
    "#@save\n",
    "VOC_COLORMAP = [[0, 0, 0], [128, 0, 0], [0, 128, 0], [128, 128, 0],\n",
    "                [0, 0, 128], [128, 0, 128], [0, 128, 128], [128, 128, 128],\n",
    "                [64, 0, 0], [192, 0, 0], [64, 128, 0], [192, 128, 0],\n",
    "                [64, 0, 128], [192, 0, 128], [64, 128, 128], [192, 128, 128],\n",
    "                [0, 64, 0], [128, 64, 0], [0, 192, 0], [128, 192, 0],\n",
    "                [0, 64, 128]]\n",
    "\n",
    "#@save\n",
    "VOC_CLASSES = ['background', 'aeroplane', 'bicycle', 'bird', 'boat',\n",
    "               'bottle', 'bus', 'car', 'cat', 'chair', 'cow',\n",
    "               'diningtable', 'dog', 'horse', 'motorbike', 'person',\n",
    "               'potted plant', 'sheep', 'sofa', 'train', 'tv/monitor']"
   ]
  },
  {
   "cell_type": "markdown",
   "id": "b724f0dc",
   "metadata": {
    "origin_pos": 13
   },
   "source": [
    "With the two constants defined above,\n",
    "we can conveniently\n",
    "[**find the class index for each pixel in a label**].\n",
    "We define the `voc_colormap2label` function\n",
    "to build the mapping from the above RGB color values\n",
    "to class indices,\n",
    "and the `voc_label_indices` function\n",
    "to map any RGB values to their class indices in this Pascal VOC2012 dataset.\n"
   ]
  },
  {
   "cell_type": "code",
   "execution_count": 6,
   "id": "f35850c9",
   "metadata": {
    "execution": {
     "iopub.execute_input": "2022-07-13T08:09:19.014797Z",
     "iopub.status.busy": "2022-07-13T08:09:19.014373Z",
     "iopub.status.idle": "2022-07-13T08:09:19.020106Z",
     "shell.execute_reply": "2022-07-13T08:09:19.019341Z"
    },
    "origin_pos": 15,
    "tab": [
     "pytorch"
    ]
   },
   "outputs": [],
   "source": [
    "#@save\n",
    "def voc_colormap2label():\n",
    "    \"\"\"Build the mapping from RGB to class indices for VOC labels.\"\"\"\n",
    "    colormap2label = torch.zeros(256 ** 3, dtype=torch.long)\n",
    "    for i, colormap in enumerate(VOC_COLORMAP):\n",
    "        colormap2label[\n",
    "            (colormap[0] * 256 + colormap[1]) * 256 + colormap[2]] = i\n",
    "    return colormap2label\n",
    "\n",
    "#@save\n",
    "def voc_label_indices(colormap, colormap2label):\n",
    "    \"\"\"Map any RGB values in VOC labels to their class indices.\"\"\"\n",
    "    colormap = colormap.permute(1, 2, 0).numpy().astype('int32')\n",
    "    idx = ((colormap[:, :, 0] * 256 + colormap[:, :, 1]) * 256\n",
    "           + colormap[:, :, 2])\n",
    "    return colormap2label[idx]"
   ]
  },
  {
   "cell_type": "markdown",
   "id": "83cac0b4",
   "metadata": {
    "origin_pos": 16
   },
   "source": [
    "[**For example**], in the first example image,\n",
    "the class index for the front part of the airplane is 1,\n",
    "while the background index is 0.\n"
   ]
  },
  {
   "cell_type": "code",
   "execution_count": 7,
   "id": "c5d74417",
   "metadata": {
    "execution": {
     "iopub.execute_input": "2022-07-13T08:09:19.023407Z",
     "iopub.status.busy": "2022-07-13T08:09:19.023132Z",
     "iopub.status.idle": "2022-07-13T08:09:19.068777Z",
     "shell.execute_reply": "2022-07-13T08:09:19.067854Z"
    },
    "origin_pos": 17,
    "tab": [
     "pytorch"
    ]
   },
   "outputs": [
    {
     "data": {
      "text/plain": [
       "(tensor([[0, 0, 0, 0, 0, 0, 0, 0, 0, 1],\n",
       "         [0, 0, 0, 0, 0, 0, 0, 1, 1, 1],\n",
       "         [0, 0, 0, 0, 0, 0, 1, 1, 1, 1],\n",
       "         [0, 0, 0, 0, 0, 1, 1, 1, 1, 1],\n",
       "         [0, 0, 0, 0, 0, 1, 1, 1, 1, 1],\n",
       "         [0, 0, 0, 0, 1, 1, 1, 1, 1, 1],\n",
       "         [0, 0, 0, 0, 0, 1, 1, 1, 1, 1],\n",
       "         [0, 0, 0, 0, 0, 1, 1, 1, 1, 1],\n",
       "         [0, 0, 0, 0, 0, 0, 1, 1, 1, 1],\n",
       "         [0, 0, 0, 0, 0, 0, 0, 0, 1, 1]]),\n",
       " 'aeroplane')"
      ]
     },
     "execution_count": 7,
     "metadata": {},
     "output_type": "execute_result"
    }
   ],
   "source": [
    "y = voc_label_indices(train_labels[0], voc_colormap2label())\n",
    "y[105:115, 130:140], VOC_CLASSES[1]"
   ]
  },
  {
   "cell_type": "markdown",
   "id": "ae9454e3",
   "metadata": {
    "origin_pos": 18
   },
   "source": [
    "### Data Preprocessing\n",
    "\n",
    "In previous experiments\n",
    "such as in :numref:`sec_alexnet`--:numref:`sec_googlenet`,\n",
    "images are rescaled\n",
    "to fit the model's required input shape.\n",
    "However, in semantic segmentation,\n",
    "doing so\n",
    "requires rescaling the predicted pixel classes\n",
    "back to the original shape of the input image.\n",
    "Such rescaling may be inaccurate,\n",
    "especially for segmented regions with different classes. To avoid this issue,\n",
    "we crop the image to a *fixed* shape instead of rescaling. Specifically, [**using random cropping from image augmentation, we crop the same area of\n",
    "the input image and the label**].\n"
   ]
  },
  {
   "cell_type": "code",
   "execution_count": 8,
   "id": "5e050bb7",
   "metadata": {
    "execution": {
     "iopub.execute_input": "2022-07-13T08:09:19.072597Z",
     "iopub.status.busy": "2022-07-13T08:09:19.072010Z",
     "iopub.status.idle": "2022-07-13T08:09:19.076858Z",
     "shell.execute_reply": "2022-07-13T08:09:19.076093Z"
    },
    "origin_pos": 20,
    "tab": [
     "pytorch"
    ]
   },
   "outputs": [],
   "source": [
    "#@save\n",
    "def voc_rand_crop(feature, label, height, width):\n",
    "    \"\"\"Randomly crop both feature and label images.\"\"\"\n",
    "    rect = torchvision.transforms.RandomCrop.get_params(\n",
    "        feature, (height, width))\n",
    "    feature = torchvision.transforms.functional.crop(feature, *rect)\n",
    "    label = torchvision.transforms.functional.crop(label, *rect)\n",
    "    return feature, label"
   ]
  },
  {
   "cell_type": "code",
   "execution_count": 9,
   "id": "dd713aca",
   "metadata": {
    "execution": {
     "iopub.execute_input": "2022-07-13T08:09:19.080092Z",
     "iopub.status.busy": "2022-07-13T08:09:19.079667Z",
     "iopub.status.idle": "2022-07-13T08:09:19.464286Z",
     "shell.execute_reply": "2022-07-13T08:09:19.463416Z"
    },
    "origin_pos": 22,
    "tab": [
     "pytorch"
    ]
   },
   "outputs": [
    {
     "data": {
      "image/png": "[encoded data removed]",
      "text/plain": [
       "<Figure size 540x216 with 10 Axes>"
      ]
     },
     "metadata": {
      "needs_background": "light"
     },
     "output_type": "display_data"
    }
   ],
   "source": [
    "imgs = []\n",
    "for _ in range(n):\n",
    "    imgs += voc_rand_crop(train_features[0], train_labels[0], 200, 300)\n",
    "\n",
    "imgs = [img.permute(1, 2, 0) for img in imgs]\n",
    "d2l.show_images(imgs[::2] + imgs[1::2], 2, n);"
   ]
  },
  {
   "cell_type": "markdown",
   "id": "df24848f",
   "metadata": {
    "origin_pos": 23
   },
   "source": [
    "### [**Custom Semantic Segmentation Dataset Class**]\n",
    "\n",
    "We define a custom semantic segmentation dataset class `VOCSegDataset` by inheriting the `Dataset` class provided by high-level APIs.\n",
    "By implementing the `__getitem__` function,\n",
    "we can arbitrarily access the input image indexed as `idx` in the dataset and the class index of each pixel in this image.\n",
    "Since some images in the dataset\n",
    "have a smaller size\n",
    "than the output size of random cropping,\n",
    "these examples are filtered out\n",
    "by a custom `filter` function.\n",
    "In addition, we also\n",
    "define the `normalize_image` function to\n",
    "standardize the values of the three RGB channels of input images.\n"
   ]
  },
  {
   "cell_type": "code",
   "execution_count": 10,
   "id": "f2ab437a",
   "metadata": {
    "execution": {
     "iopub.execute_input": "2022-07-13T08:09:19.468135Z",
     "iopub.status.busy": "2022-07-13T08:09:19.467511Z",
     "iopub.status.idle": "2022-07-13T08:09:19.475729Z",
     "shell.execute_reply": "2022-07-13T08:09:19.474934Z"
    },
    "origin_pos": 25,
    "tab": [
     "pytorch"
    ]
   },
   "outputs": [],
   "source": [
    "#@save\n",
    "class VOCSegDataset(torch.utils.data.Dataset):\n",
    "    \"\"\"A customized dataset to load the VOC dataset.\"\"\"\n",
    "\n",
    "    def __init__(self, is_train, crop_size, voc_dir):\n",
    "        self.transform = torchvision.transforms.Normalize(\n",
    "            mean=[0.485, 0.456, 0.406], std=[0.229, 0.224, 0.225])\n",
    "        self.crop_size = crop_size\n",
    "        features, labels = read_voc_images(voc_dir, is_train=is_train)\n",
    "        self.features = [self.normalize_image(feature)\n",
    "                         for feature in self.filter(features)]\n",
    "        self.labels = self.filter(labels)\n",
    "        self.colormap2label = voc_colormap2label()\n",
    "        print('read ' + str(len(self.features)) + ' examples')\n",
    "\n",
    "    def normalize_image(self, img):\n",
    "        return self.transform(img.float() / 255)\n",
    "\n",
    "    def filter(self, imgs):\n",
    "        return [img for img in imgs if (\n",
    "            img.shape[1] >= self.crop_size[0] and\n",
    "            img.shape[2] >= self.crop_size[1])]\n",
    "\n",
    "    def __getitem__(self, idx):\n",
    "        feature, label = voc_rand_crop(self.features[idx], self.labels[idx],\n",
    "                                       *self.crop_size)\n",
    "        return (feature, voc_label_indices(label, self.colormap2label))\n",
    "\n",
    "    def __len__(self):\n",
    "        return len(self.features)"
   ]
  },
  {
   "cell_type": "markdown",
   "id": "54fb66ed",
   "metadata": {
    "origin_pos": 26
   },
   "source": [
    "### [**Reading the Dataset**]\n",
    "\n",
    "We use the custom `VOCSegDatase`t class to\n",
    "create instances of the training set and test set, respectively.\n",
    "Suppose that\n",
    "we specify that the output shape of randomly cropped images is $320\\times 480$.\n",
    "Below we can view the number of examples\n",
    "that are retained in the training set and test set.\n"
   ]
  },
  {
   "cell_type": "code",
   "execution_count": 11,
   "id": "1311eeeb",
   "metadata": {
    "execution": {
     "iopub.execute_input": "2022-07-13T08:09:19.479223Z",
     "iopub.status.busy": "2022-07-13T08:09:19.478686Z",
     "iopub.status.idle": "2022-07-13T08:09:31.869114Z",
     "shell.execute_reply": "2022-07-13T08:09:31.868236Z"
    },
    "origin_pos": 27,
    "tab": [
     "pytorch"
    ]
   },
   "outputs": [
    {
     "name": "stdout",
     "output_type": "stream",
     "text": [
      "read 1114 examples\n"
     ]
    },
    {
     "name": "stdout",
     "output_type": "stream",
     "text": [
      "read 1078 examples\n"
     ]
    }
   ],
   "source": [
    "crop_size = (320, 480)\n",
    "voc_train = VOCSegDataset(True, crop_size, voc_dir)\n",
    "voc_test = VOCSegDataset(False, crop_size, voc_dir)"
   ]
  },
  {
   "cell_type": "markdown",
   "id": "e9b0f997",
   "metadata": {
    "origin_pos": 28
   },
   "source": [
    "Setting the batch size to 64,\n",
    "we define the data iterator for the training set.\n",
    "Let's print the shape of the first minibatch.\n",
    "Different from in image classification or object detection, labels here are three-dimensional tensors.\n"
   ]
  },
  {
   "cell_type": "code",
   "execution_count": 12,
   "id": "81e1d8a9",
   "metadata": {
    "execution": {
     "iopub.execute_input": "2022-07-13T08:09:31.873595Z",
     "iopub.status.busy": "2022-07-13T08:09:31.873305Z",
     "iopub.status.idle": "2022-07-13T08:09:33.494345Z",
     "shell.execute_reply": "2022-07-13T08:09:33.493341Z"
    },
    "origin_pos": 30,
    "tab": [
     "pytorch"
    ]
   },
   "outputs": [
    {
     "name": "stdout",
     "output_type": "stream",
     "text": [
      "torch.Size([64, 3, 320, 480])\n",
      "torch.Size([64, 320, 480])\n"
     ]
    }
   ],
   "source": [
    "batch_size = 64\n",
    "train_iter = torch.utils.data.DataLoader(voc_train, batch_size, shuffle=True,\n",
    "                                    drop_last=True,\n",
    "                                    num_workers=d2l.get_dataloader_workers())\n",
    "for X, Y in train_iter:\n",
    "    print(X.shape)\n",
    "    print(Y.shape)\n",
    "    break"
   ]
  },
  {
   "cell_type": "markdown",
   "id": "ed50cbb1",
   "metadata": {
    "origin_pos": 31
   },
   "source": [
    "### [**Putting All Things Together**]\n",
    "\n",
    "Finally, we define the following `load_data_voc` function\n",
    "to download and read the Pascal VOC2012 semantic segmentation dataset.\n",
    "It returns data iterators for both the training and test datasets.\n"
   ]
  },
  {
   "cell_type": "code",
   "execution_count": 13,
   "id": "94eb367d",
   "metadata": {
    "execution": {
     "iopub.execute_input": "2022-07-13T08:09:33.498760Z",
     "iopub.status.busy": "2022-07-13T08:09:33.498134Z",
     "iopub.status.idle": "2022-07-13T08:09:33.504095Z",
     "shell.execute_reply": "2022-07-13T08:09:33.503332Z"
    },
    "origin_pos": 33,
    "tab": [
     "pytorch"
    ]
   },
   "outputs": [],
   "source": [
    "#@save\n",
    "def load_data_voc(batch_size, crop_size):\n",
    "    \"\"\"Load the VOC semantic segmentation dataset.\"\"\"\n",
    "    voc_dir = d2l.download_extract('voc2012', os.path.join(\n",
    "        'VOCdevkit', 'VOC2012'))\n",
    "    num_workers = d2l.get_dataloader_workers()\n",
    "    train_iter = torch.utils.data.DataLoader(\n",
    "        VOCSegDataset(True, crop_size, voc_dir), batch_size,\n",
    "        shuffle=True, drop_last=True, num_workers=num_workers)\n",
    "    test_iter = torch.utils.data.DataLoader(\n",
    "        VOCSegDataset(False, crop_size, voc_dir), batch_size,\n",
    "        drop_last=True, num_workers=num_workers)\n",
    "    return train_iter, test_iter"
   ]
  },
  {
   "cell_type": "markdown",
   "id": "6cd076b0",
   "metadata": {
    "origin_pos": 34
   },
   "source": [
    "## Summary\n",
    "\n",
    "* Semantic segmentation recognizes and understands what are in an image in pixel level by dividing the image into regions belonging to different semantic classes.\n",
    "* One of the most important semantic segmentation dataset is Pascal VOC2012.\n",
    "* In semantic segmentation, since the input image and  label correspond one-to-one on the pixel, the input image is randomly cropped to a fixed shape rather than rescaled.\n",
    "\n",
    "\n",
    "## Exercises\n",
    "\n",
    "1. How can semantic segmentation be applied in autonomous vehicles and medical image diagnostics? Can you think of other applications?\n",
    "1. Recall the descriptions of data augmentation in :numref:`sec_image_augmentation`. Which of the image augmentation methods used in image classification would be infeasible to be applied in semantic segmentation?\n"
   ]
  },
  {
   "cell_type": "markdown",
   "id": "b60634b7",
   "metadata": {
    "origin_pos": 36,
    "tab": [
     "pytorch"
    ]
   },
   "source": [
    "[Discussions](https://discuss.d2l.ai/t/1480)\n"
   ]
  }
 ],
 "metadata": {
  "kernelspec": {
   "display_name": "conda_pytorch_p36",
   "name": "conda_pytorch_p36"
  },
  "language_info": {
   "name": "python"
  }
 },
 "nbformat": 4,
 "nbformat_minor": 5
}