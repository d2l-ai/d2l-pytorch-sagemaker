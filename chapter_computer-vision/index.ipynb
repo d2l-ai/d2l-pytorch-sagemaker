{
 "cells": [
  {
   "cell_type": "markdown",
   "metadata": {
    "origin_pos": 0
   },
   "source": [
    "# Visão Computacional\n",
    ":label:`chap_cv`\n",
    "\n",
    "\n",
    "Muitas aplicações na área de visão computacional estão intimamente relacionadas às nossas vidas diárias, agora e no futuro, sejam diagnósticos médicos, veículos sem motorista, monitoramento de câmeras ou filtros inteligentes. Nos últimos anos, a tecnologia de aprendizado profundo melhorou muito o desempenho dos sistemas de visão computacional. Pode-se dizer que as aplicações de visão computacional mais avançadas são quase inseparáveis ​​do aprendizado profundo.\n",
    "\n",
    "Introduzimos modelos de aprendizagem profunda comumente usados ​​na área de visão computacional no capítulo \"Redes Neurais Convolucionais\" e praticamos tarefas simples de classificação de imagens. Neste capítulo, apresentaremos os métodos de aumento e ajuste fino de imagens e os aplicaremos à classificação de imagens. Em seguida, exploraremos vários métodos de detecção de objetos. Depois disso, aprenderemos como usar redes totalmente convolucionais para realizar segmentação semântica em imagens. Em seguida, explicamos como usar a tecnologia de transferência de estilo para gerar imagens que se parecem com a capa deste livro. Finalmente, realizaremos exercícios práticos em dois importantes conjuntos de dados de visão computacional para revisar o conteúdo deste capítulo e dos capítulos anteriores.\n",
    "\n",
    ":begin_tab:toc\n",
    " - [image-augmentation](image-augmentation.ipynb)\n",
    " - [fine-tuning](fine-tuning.ipynb)\n",
    " - [bounding-box](bounding-box.ipynb)\n",
    " - [anchor](anchor.ipynb)\n",
    " - [multiscale-object-detection](multiscale-object-detection.ipynb)\n",
    " - [object-detection-dataset](object-detection-dataset.ipynb)\n",
    " - [ssd](ssd.ipynb)\n",
    " - [rcnn](rcnn.ipynb)\n",
    " - [semantic-segmentation-and-dataset](semantic-segmentation-and-dataset.ipynb)\n",
    " - [transposed-conv](transposed-conv.ipynb)\n",
    " - [fcn](fcn.ipynb)\n",
    " - [neural-style](neural-style.ipynb)\n",
    " - [kaggle-cifar10](kaggle-cifar10.ipynb)\n",
    " - [kaggle-dog](kaggle-dog.ipynb)\n",
    ":end_tab:\n",
    "\n",
    "<!--stackedit_data:\n",
    "eyJoaXN0b3J5IjpbLTY0MTg3Mzc0NV19\n",
    "-->\n"
   ]
  }
 ],
 "metadata": {
  "kernelspec": {
   "display_name": "conda_pytorch_p36",
   "name": "conda_pytorch_p36"
  },
  "language_info": {
   "name": "python"
  }
 },
 "nbformat": 4,
 "nbformat_minor": 4
}