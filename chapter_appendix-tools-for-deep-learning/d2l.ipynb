{
 "cells": [
  {
   "cell_type": "markdown",
   "id": "ea72602b",
   "metadata": {
    "origin_pos": 0
   },
   "source": [
    "# `d2l` API Document\n",
    ":label:`sec_d2l`\n",
    "\n",
    "The implementations of the following members of the `d2l` package and sections where they are defined and explained can be found in the [source file](https://github.com/d2l-ai/d2l-en/tree/master/d2l).\n"
   ]
  },
  {
   "cell_type": "markdown",
   "id": "f21855c9",
   "metadata": {
    "origin_pos": 2,
    "tab": [
     "pytorch"
    ]
   },
   "source": [
    "```eval_rst\n",
    "\n",
    ".. currentmodule:: d2l.torch\n",
    "\n",
    "```\n"
   ]
  },
  {
   "cell_type": "markdown",
   "id": "a7fabe45",
   "metadata": {
    "origin_pos": 4
   },
   "source": [
    "## Models\n",
    "\n",
    "```eval_rst \n",
    ".. autoclass:: Module\n",
    "   :members: \n",
    "\n",
    ".. autoclass:: LinearRegressionScratch\n",
    "   :members:\n",
    "\n",
    ".. autoclass:: LinearRegression\n",
    "   :members:    \n",
    "\n",
    ".. autoclass:: Classifier\n",
    "   :members:\n",
    "```\n",
    "\n",
    "## Data\n",
    "\n",
    "```eval_rst \n",
    ".. autoclass:: DataModule\n",
    "   :members: \n",
    "\n",
    ".. autoclass:: SyntheticRegressionData\n",
    "   :members: \n",
    "\n",
    ".. autoclass:: FashionMNIST\n",
    "   :members:\n",
    "```\n",
    "\n",
    "## Trainer\n",
    "\n",
    "```eval_rst \n",
    ".. autoclass:: Trainer\n",
    "   :members: \n",
    "\n",
    ".. autoclass:: SGD\n",
    "   :members:\n",
    "```\n",
    "\n",
    "## Utilities\n",
    "\n",
    "```eval_rst \n",
    ".. autofunction:: add_to_class\n",
    "\n",
    ".. autofunction:: cpu\n",
    "\n",
    ".. autofunction:: gpu\n",
    "\n",
    ".. autofunction:: num_gpus\n",
    "\n",
    ".. autoclass:: ProgressBoard\n",
    "   :members: \n",
    "\n",
    ".. autoclass:: HyperParameters\n",
    "   :members:\n",
    "```\n"
   ]
  }
 ],
 "metadata": {
  "kernelspec": {
   "display_name": "conda_pytorch_p36",
   "name": "conda_pytorch_p36"
  },
  "language_info": {
   "name": "python"
  }
 },
 "nbformat": 4,
 "nbformat_minor": 5
}