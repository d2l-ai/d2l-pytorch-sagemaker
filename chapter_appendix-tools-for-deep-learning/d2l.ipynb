{
 "cells": [
  {
   "cell_type": "markdown",
   "metadata": {
    "origin_pos": 0
   },
   "source": [
    "# Documento da API `d2l` \n",
    ":label:`sec_d2l`\n",
    "\n",
    "As implementações dos seguintes membros do pacote `d2l` e seções onde eles são definidos e explicados podem ser encontrados no [arquivo fonte](https://github.com/d2l-ai/d2l-en/tree/master/d2l).\n"
   ]
  },
  {
   "cell_type": "markdown",
   "metadata": {
    "origin_pos": 2,
    "tab": [
     "pytorch"
    ]
   },
   "source": [
    "```eval_rst\n",
    "\n",
    ".. automodule:: d2l.torch\n",
    "   :members:\n",
    "   :imported-members:\n",
    "\n",
    "```\n"
   ]
  },
  {
   "cell_type": "markdown",
   "metadata": {
    "origin_pos": 4
   },
   "source": [
    "<!--stackedit_data:\n",
    "eyJoaXN0b3J5IjpbNzEzODY5NjQwXX0=\n",
    "-->\n"
   ]
  }
 ],
 "metadata": {
  "kernelspec": {
   "display_name": "conda_pytorch_p36",
   "name": "conda_pytorch_p36"
  },
  "language_info": {
   "name": "python"
  }
 },
 "nbformat": 4,
 "nbformat_minor": 4
}