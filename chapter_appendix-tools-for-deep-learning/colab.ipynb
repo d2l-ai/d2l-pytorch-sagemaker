{
 "cells": [
  {
   "cell_type": "markdown",
   "metadata": {
    "origin_pos": 0
   },
   "source": [
    "# Usando Google Colab\n",
    ":label:`sec_colab`\n",
    "\n",
    "Apresentamos como executar este livro na AWS em :numref:`sec_sagemaker` e :numref:`sec_aws`. Outra opção é executar este livro no [Google Colab](https://colab.research.google.com/), que fornece GPU gratuita se você tiver uma conta do Google.\n",
    "\n",
    "Para executar uma seção no Colab, você pode simplesmente clicar no botão `Colab` à direita do título dessa seção, como em :numref:`fig_colab`.\n",
    "\n",
    "![Abrindo uma sessão no Colab](../img/colab.png)\n",
    ":width:`300px`\n",
    ":label:`fig_colab`\n",
    "\n",
    "Quando for a primeira vez que você executa uma célula de código, você receberá uma mensagem de aviso conforme mostrado em :numref:`fig_colab2`. Você pode clicar em \"RUN ANYWAY\" para ignorá-lo.\n",
    "\n",
    "![A mensagem de aviso para a execução de uma seção sobre Colab](../img/colab-2.png)\n",
    ":width:`300px`\n",
    ":label:`fig_colab2`\n",
    "\n",
    "Em seguida, o Colab irá conectá-lo a uma instância para executar este notebook. Especificamente, se a GPU for necessária, como ao invocar a função `d2l.try_gpu()`, solicitaremos que o Colab se conecte a uma instância da GPU automaticamente.\n",
    "\n",
    "\n",
    "## Sumário\n",
    "\n",
    "* Você pode usar o Google Colab para executar cada seção deste livro com GPUs.\n",
    "\n",
    "\n",
    "## Exercícios\n",
    "\n",
    "1. Tente editar e executar o código deste livro usando o Google Colab.\n",
    "\n",
    "\n",
    "[Discussão](https://discuss.d2l.ai/t/424)\n",
    "<!--stackedit_data:\n",
    "eyJoaXN0b3J5IjpbNzU4NTY5MTg4XX0=\n",
    "-->\n"
   ]
  }
 ],
 "metadata": {
  "kernelspec": {
   "display_name": "conda_pytorch_p36",
   "name": "conda_pytorch_p36"
  },
  "language_info": {
   "name": "python"
  }
 },
 "nbformat": 4,
 "nbformat_minor": 4
}