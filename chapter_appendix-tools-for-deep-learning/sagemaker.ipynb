{
 "cells": [
  {
   "cell_type": "markdown",
   "metadata": {
    "origin_pos": 0
   },
   "source": [
    "# Usando Amazon SageMaker\n",
    ":label:`sec_sagemaker`\n",
    "\n",
    "Muitos aplicativos de aprendizado profundo requerem uma quantidade significativa de computação. Sua máquina local pode ser muito lenta para resolver esses problemas em um período de tempo razoável. Os serviços de computação em nuvem fornecem acesso a computadores mais poderosos para executar as partes deste livro com uso intensivo de GPU. Este tutorial o guiará pelo Amazon SageMaker: um serviço que permite que você execute este livro facilmente.\n",
    "\n",
    "\n",
    "## Registro e login\n",
    "\n",
    "Primeiro, precisamos registrar uma conta em https://aws.amazon.com/. Nós encorajamos você a usar a autenticação de dois fatores para segurança adicional. Também é uma boa ideia configurar o faturamento detalhado e alertas de gastos para evitar surpresas inesperadas no caso de você se esquecer de interromper qualquer instância em execução.\n",
    "Observe que você precisará de um cartão de crédito.\n",
    "Depois de fazer login em sua conta AWS, vá para seu [console](http://console.aws.amazon.com/) e pesquise \"SageMaker\" (consulte :numref:`fig_sagemaker`) e clique para abrir o painel SageMaker.\n",
    "\n",
    "![Abra o painel SageMaker.](../img/sagemaker.png)\n",
    ":width:`300px`\n",
    ":label:`fig_sagemaker`\n",
    "\n",
    "\n",
    "\n",
    "## Criação de uma instância do SageMaker\n",
    "\n",
    "A seguir, vamos criar uma instância de notebook conforme descrito em :numref:`fig_sagemaker-create`.\n",
    "\n",
    "![Crie uma instância SageMaker.](../img/sagemaker-create.png)\n",
    ":width:`400px`\n",
    ":label:`fig_sagemaker-create`\n",
    "\n",
    "O SageMaker fornece vários [tipos de instância](https://aws.amazon.com/sagemaker/pricing/instance-types/) de diferentes poder computacional e preços.\n",
    "Ao criar uma instância, podemos especificar o nome da instância e escolher seu tipo.\n",
    "Em :numref:`fig_sagemaker-create-2`, escolhemos `ml.p3.2xlarge`. Com uma GPU Tesla V100 e uma CPU de 8 núcleos, esta instância é poderosa o suficiente para a maioria dos capítulos.\n",
    "\n",
    "![Escolha o tipo de instância.](../img/sagemaker-create-2.png)\n",
    ":width:`400px`\n",
    ":label:`fig_sagemaker-create-2`\n"
   ]
  },
  {
   "cell_type": "markdown",
   "metadata": {
    "origin_pos": 2,
    "tab": [
     "pytorch"
    ]
   },
   "source": [
    "Uma versão do notebook Jupyter deste livro para ajustar o SageMaker está disponível em https://github.com/d2l-ai/d2l-pytorch-sagemaker. Podemos especificar a URL do repositório GitHub para permitir que o SageMaker clone este repositório durante a criação da instância, conforme mostrado em :numref:`fig_sagemaker-create-3`.\n"
   ]
  },
  {
   "cell_type": "markdown",
   "metadata": {
    "origin_pos": 4
   },
   "source": [
    "![Especifique o repositório GitHub.](../img/sagemaker-create-3.png)\n",
    ":width:`400px`\n",
    ":label:`fig_sagemaker-create-3`\n",
    "\n",
    "\n",
    "\n",
    "## Executando e parando uma instância\n",
    "\n",
    "Pode levar alguns minutos para que a instância esteja pronta.\n",
    "Quando estiver pronto, você pode clicar no link \"Open Jupyter\" conforme mostrado em :numref:`fig_sagemaker-open`.\n",
    "\n",
    "![Abra o Jupyter na instância criada do SageMaker.](../img/sagemaker-open.png)\n",
    ":width:`400px`\n",
    ":label:`fig_sagemaker-open`\n",
    "\n",
    "Então, como mostrado em :numref:`fig_sagemaker-jupyter`, você pode navegar pelo servidor Jupyter em execução nesta instância.\n",
    "\n",
    "![O servidor Jupyter em execução na instância do SageMaker.](../img/sagemaker-jupyter.png)\n",
    ":width:`400px`\n",
    ":label:`fig_sagemaker-jupyter`\n",
    "\n",
    "Executar e editar blocos de notas Jupyter na instância SageMaker é semelhante ao que discutimos em :numref:`sec_jupyter`.\n",
    "Depois de terminar seu trabalho, não se esqueça de parar a instância para evitar mais cobranças, como mostrado em :numref:`fig_sagemaker-stop`.\n",
    "\n",
    "![Pare uma instância do SageMaker.](../img/sagemaker-stop.png)\n",
    ":width:`300px`\n",
    ":label:`fig_sagemaker-stop`\n",
    "\n",
    "\n",
    "## Atualizando Notebooks\n"
   ]
  },
  {
   "cell_type": "markdown",
   "metadata": {
    "origin_pos": 6,
    "tab": [
     "pytorch"
    ]
   },
   "source": [
    "Atualizaremos regularmente os blocos de notas no repositório GitHub [d2l-ai/d2l-pytorch-sagemaker](https://github.com/d2l-ai/d2l-pytorch-sagemaker). Você pode simplesmente usar o comando `git pull` para atualizar para a versão mais recente.\n"
   ]
  },
  {
   "cell_type": "markdown",
   "metadata": {
    "origin_pos": 8
   },
   "source": [
    "Primeiro, você precisa abrir um terminal como mostrado em :numref:`fig_sagemaker-terminal`.\n",
    "\n",
    "![Abra um terminal na instância SageMaker.](../img/sagemaker-terminal.png)\n",
    ":width:`300px`\n",
    ":label:`fig_sagemaker-terminal`\n",
    "\n",
    "Você pode querer submeter suas mudanças locais antes de puxar as atualizações. Alternativamente, você pode simplesmente ignorar todas as suas alterações locais com os seguintes comandos no terminal.\n"
   ]
  },
  {
   "cell_type": "markdown",
   "metadata": {
    "origin_pos": 10,
    "tab": [
     "pytorch"
    ]
   },
   "source": [
    "```bash\n",
    "cd SageMaker/d2l-pytorch-sagemaker/\n",
    "git reset --hard\n",
    "git pull\n",
    "```\n"
   ]
  },
  {
   "cell_type": "markdown",
   "metadata": {
    "origin_pos": 12
   },
   "source": [
    "## Sumário\n",
    "\n",
    "* Podemos iniciar e interromper um servidor Jupyter por meio do Amazon SageMaker para executar este livro.\n",
    "* Podemos atualizar notebooks por meio do terminal na instância do Amazon SageMaker.\n",
    "\n",
    "\n",
    "## Exercícios\n",
    "\n",
    "1. Tente editar e executar o código neste livro usando o Amazon SageMaker.\n",
    "1. Acesse o diretório do código-fonte através do terminal.\n",
    "\n",
    "\n",
    "[Discussão](https://discuss.d2l.ai/t/422)\n",
    "<!--stackedit_data:\n",
    "eyJoaXN0b3J5IjpbMzQ4NjkzMjE3XX0=\n",
    "-->\n"
   ]
  }
 ],
 "metadata": {
  "kernelspec": {
   "display_name": "conda_pytorch_p36",
   "name": "conda_pytorch_p36"
  },
  "language_info": {
   "name": "python"
  }
 },
 "nbformat": 4,
 "nbformat_minor": 4
}