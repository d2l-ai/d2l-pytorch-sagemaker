{
 "cells": [
  {
   "cell_type": "markdown",
   "metadata": {
    "origin_pos": 0
   },
   "source": [
    "# Apêndice: Ferramentas para Deep Learning\n",
    ":label:`chap_appendix_tools`\n",
    "\n",
    "Neste capítulo, vamos guiá-lo pelas principais ferramentas para aprendizado profundo, desde a introdução do Jupyter notebook em :numref:`sec_jupyter` até capacitar modelos de treinamento na nuvem, como Amazon SageMaker em :numref:`sec_sagemaker`, Amazon EC2 em :numref:`sec_aws` e Google Colab em :numref:`sec_colab`. Além disso, se você gostaria de comprar suas próprias GPUs, também anotamos algumas sugestões práticas em :numref:`sec_buy_gpu`. Se você está interessado em ser um contribuidor deste livro, você pode seguir as instruções em :numref:`sec_how_to_contribute`.\n",
    "\n",
    ":begin_tab:toc\n",
    " - [jupyter](jupyter.ipynb)\n",
    " - [sagemaker](sagemaker.ipynb)\n",
    " - [aws](aws.ipynb)\n",
    " - [colab](colab.ipynb)\n",
    " - [selecting-servers-gpus](selecting-servers-gpus.ipynb)\n",
    " - [contributing](contributing.ipynb)\n",
    " - [d2l](d2l.ipynb)\n",
    ":end_tab:\n",
    "\n",
    "<!--stackedit_data:\n",
    "eyJoaXN0b3J5IjpbOTc3ODcxNTIyXX0=\n",
    "-->\n"
   ]
  }
 ],
 "metadata": {
  "kernelspec": {
   "display_name": "conda_pytorch_p36",
   "name": "conda_pytorch_p36"
  },
  "language_info": {
   "name": "python"
  }
 },
 "nbformat": 4,
 "nbformat_minor": 4
}