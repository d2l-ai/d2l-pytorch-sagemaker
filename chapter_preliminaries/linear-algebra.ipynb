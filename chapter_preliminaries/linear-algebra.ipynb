{
 "cells": [
  {
   "cell_type": "markdown",
   "metadata": {
    "origin_pos": 0
   },
   "source": [
    "# Álgebra Linear\n",
    ":label:`sec_linear-algebra`\n",
    "\n",
    "Agora que você pode armazenar e manipular dados,\n",
    "vamos revisar brevemente o subconjunto da álgebra linear básica\n",
    "que você precisa para entender e implementar\n",
    "a maioria dos modelos cobertos neste livro.\n",
    "Abaixo, apresentamos os objetos matemáticos básicos, aritméticos,\n",
    "e operações em álgebra linear,\n",
    "expressar cada um deles por meio de notação matemática\n",
    "e a implementação correspondente em código.\n",
    "\n",
    "## Escalares\n",
    "\n",
    "Se você nunca estudou álgebra linear ou aprendizado de máquina,\n",
    "então sua experiência anterior com matemática provavelmente consistia\n",
    "de pensar em um número de cada vez.\n",
    "E, se você já equilibrou um talão de cheques\n",
    "ou até mesmo pagou por um jantar em um restaurante\n",
    "então você já sabe como fazer coisas básicas\n",
    "como adicionar e multiplicar pares de números.\n",
    "Por exemplo, a temperatura em Palo Alto é de $52$ graus Fahrenheit.\n",
    "\n",
    "Formalmente, chamamos de valores que consistem\n",
    "de apenas uma quantidade numérica *escalar*.\n",
    "Se você quiser converter este valor para Celsius\n",
    "(escala de temperatura mais sensível do sistema métrico),\n",
    "você avaliaria a expressão $c = \\frac{5}{9}(f - 32)$, definindo $f$ para $52$.\n",
    "Nesta equação, cada um dos termos---$5$, $9$, e $32$---são valores escalares.\n",
    "Os marcadores $c$ e $f$ são chamados de *variáveis*\n",
    "e eles representam valores escalares desconhecidos.\n",
    "\n",
    "Neste livro, adotamos a notação matemática\n",
    "onde as variáveis escalares são denotadas\n",
    "por letras minúsculas comuns (por exemplo, $x$, $y$, and $z$).\n",
    "Denotamos o espaço de todos os escalares (contínuos) *com valor real* por $\\mathbb{R}$.\n",
    "Por conveniência, vamos lançar mão de definições rigorosas\n",
    "do que exatamente é *espaço*,\n",
    "mas lembre-se por enquanto que a expressão $x \\in \\mathbb{R}$\n",
    "é uma maneira formal de dizer que $x$ é um escalar com valor real.\n",
    "O símbolo $\\in$ pode ser pronunciado \"em\"\n",
    "e simplesmente denota associação em um conjunto.\n",
    "Analogamente, poderíamos escrever $x, y \\in \\{0, 1\\}$\n",
    "para afirmar que $x$ e $y$ são números\n",
    "cujo valor só pode ser $0$ ou $1$.\n",
    "\n",
    "(**Um escalar é representado por um tensor com apenas um elemento.**)\n",
    "No próximo trecho de código, instanciamos dois escalares\n",
    "e realizar algumas operações aritméticas familiares com eles,\n",
    "a saber, adição, multiplicação, divisão e exponenciação.\n"
   ]
  },
  {
   "cell_type": "code",
   "execution_count": 1,
   "metadata": {
    "origin_pos": 2,
    "tab": [
     "pytorch"
    ]
   },
   "outputs": [
    {
     "data": {
      "text/plain": [
       "(tensor([5.]), tensor([6.]), tensor([1.5000]), tensor([9.]))"
      ]
     },
     "execution_count": 1,
     "metadata": {},
     "output_type": "execute_result"
    }
   ],
   "source": [
    "import torch\n",
    "\n",
    "x = torch.tensor([3.0])\n",
    "y = torch.tensor([2.0])\n",
    "\n",
    "x + y, x * y, x / y, x**y"
   ]
  },
  {
   "cell_type": "markdown",
   "metadata": {
    "origin_pos": 4
   },
   "source": [
    "## Vetores\n",
    "\n",
    "[**Você pode pensar em um vetor simplesmente como uma lista de valores escalares.**]\n",
    "Chamamos esses valores de *elementos* (*entradas* ou *componentes*) do vetor.\n",
    "Quando nossos vetores representam exemplos de nosso conjunto de dados,\n",
    "seus valores têm algum significado no mundo real.\n",
    "Por exemplo, se estivéssemos treinando um modelo para prever\n",
    "o risco de inadimplência de um empréstimo,\n",
    "podemos associar cada candidato a um vetor\n",
    "cujos componentes correspondem à sua receita,\n",
    "tempo de emprego, número de inadimplências anteriores e outros fatores.\n",
    "Se estivéssemos estudando o risco de ataques cardíacos que os pacientes de hospitais potencialmente enfrentam,\n",
    "podemos representar cada paciente por um vetor\n",
    "cujos componentes capturam seus sinais vitais mais recentes,\n",
    "níveis de colesterol, minutos de exercício por dia, etc.\n",
    "Em notação matemática, geralmente denotamos os vetores em negrito,\n",
    "letras minúsculas (por exemplo,, $\\mathbf{x}$, $\\mathbf{y}$, and $\\mathbf{z})$.\n",
    "\n",
    "Trabalhamos com vetores via tensores unidimensionais.\n",
    "Em geral, os tensores podem ter comprimentos arbitrários,\n",
    "sujeito aos limites de memória de sua máquina.\n"
   ]
  },
  {
   "cell_type": "code",
   "execution_count": 2,
   "metadata": {
    "origin_pos": 6,
    "tab": [
     "pytorch"
    ]
   },
   "outputs": [
    {
     "data": {
      "text/plain": [
       "tensor([0, 1, 2, 3])"
      ]
     },
     "execution_count": 2,
     "metadata": {},
     "output_type": "execute_result"
    }
   ],
   "source": [
    "x = torch.arange(4)\n",
    "x"
   ]
  },
  {
   "cell_type": "markdown",
   "metadata": {
    "origin_pos": 8
   },
   "source": [
    "Podemos nos referir a qualquer elemento de um vetor usando um subscrito.\n",
    "Por exemplo, podemos nos referir ao elemento $i^\\mathrm{th}$ element of $\\mathbf{x}$  por $x_i$.\n",
    "Observe que o elemento $x_i$ é um escalar,\n",
    "portanto, não colocamos a fonte em negrito quando nos referimos a ela.\n",
    "A literatura extensa considera os vetores de coluna como o padrão\n",
    "orientação de vetores, este livro também.\n",
    "Em matemática, um vetor $\\mathbf{x}$ pode ser escrito como\n",
    "\n",
    "$$\\mathbf{x} =\\begin{bmatrix}x_{1}  \\\\x_{2}  \\\\ \\vdots  \\\\x_{n}\\end{bmatrix},$$\n",
    ":eqlabel:`eq_vec_def`\n",
    "\n",
    "\n",
    "onde $x_1, \\ldots, x_n$ são elementos do vetor. \n",
    "No código (**acessamos qualquer elemento indexando no tensor**)\n"
   ]
  },
  {
   "cell_type": "code",
   "execution_count": 3,
   "metadata": {
    "origin_pos": 10,
    "tab": [
     "pytorch"
    ]
   },
   "outputs": [
    {
     "data": {
      "text/plain": [
       "tensor(3)"
      ]
     },
     "execution_count": 3,
     "metadata": {},
     "output_type": "execute_result"
    }
   ],
   "source": [
    "x[3]"
   ]
  },
  {
   "cell_type": "markdown",
   "metadata": {
    "origin_pos": 12
   },
   "source": [
    "### Comprimento, Dimensionalidade e Forma\n",
    "\n",
    "Vamos revisitar alguns conceitos de: numref: `sec_ndarray`.\n",
    "Um vetor é apenas uma matriz de números.\n",
    "E assim como todo array tem um comprimento, todo vetor também.\n",
    "Em notação matemática, se quisermos dizer que um vetor $\\mathbf{x}$\n",
    "consiste em $n$ escalares com valor real,\n",
    "podemos expressar isso como $\\mathbf{x} \\in \\mathbb{R}^n$.\n",
    "O comprimento de um vetor é comumente chamado de *dimensão* do vetor.\n",
    "\n",
    "Tal como acontece com uma matriz Python comum,\n",
    "nós [**podemos acessar o comprimento de um tensor**]\n",
    "chamando a função `len ()` embutida do Python.\n"
   ]
  },
  {
   "cell_type": "code",
   "execution_count": 4,
   "metadata": {
    "origin_pos": 14,
    "tab": [
     "pytorch"
    ]
   },
   "outputs": [
    {
     "data": {
      "text/plain": [
       "4"
      ]
     },
     "execution_count": 4,
     "metadata": {},
     "output_type": "execute_result"
    }
   ],
   "source": [
    "len(x)"
   ]
  },
  {
   "cell_type": "markdown",
   "metadata": {
    "origin_pos": 16
   },
   "source": [
    "Quando um tensor representa um vetor (com precisamente um eixo),\n",
    "também podemos acessar seu comprimento por meio do atributo `.shape`.\n",
    "A forma é uma tupla que lista o comprimento (dimensionalidade)\n",
    "ao longo de cada eixo do tensor.\n",
    "(**Para tensores com apenas um eixo, a forma tem apenas um elemento.**)\n"
   ]
  },
  {
   "cell_type": "code",
   "execution_count": 5,
   "metadata": {
    "origin_pos": 18,
    "tab": [
     "pytorch"
    ]
   },
   "outputs": [
    {
     "data": {
      "text/plain": [
       "torch.Size([4])"
      ]
     },
     "execution_count": 5,
     "metadata": {},
     "output_type": "execute_result"
    }
   ],
   "source": [
    "x.shape"
   ]
  },
  {
   "cell_type": "markdown",
   "metadata": {
    "origin_pos": 20
   },
   "source": [
    "Observe que a palavra \"dimensão\" tende a ficar sobrecarregada\n",
    "nesses contextos e isso tende a confundir as pessoas.\n",
    "Para esclarecer, usamos a dimensionalidade de um *vetor* ou um *eixo*\n",
    "para se referir ao seu comprimento, ou seja, o número de elementos de um vetor ou eixo.\n",
    "No entanto, usamos a dimensionalidade de um tensor\n",
    "para se referir ao número de eixos que um tensor possui.\n",
    "Nesse sentido, a dimensionalidade de algum eixo de um tensor\n",
    "será o comprimento desse eixo.\n",
    "\n",
    "\n",
    "## Matrizes\n",
    "\n",
    "Assim como os vetores generalizam escalares de ordem zero para ordem um,\n",
    "matrizes generalizam vetores de ordem um para ordem dois.\n",
    "Matrizes, que normalmente denotamos com letras maiúsculas em negrito\n",
    "(por exemplo, $\\mathbf{X}$, $\\mathbf{Y}$, and $\\mathbf{Z}$),\n",
    "são representados no código como tensores com dois eixos.\n",
    "\n",
    "Em notação matemática, usamos $\\mathbf{A} \\in \\mathbb{R}^{m \\times n}$\n",
    "para expressar que a matriz $\\mathbf {A}$ consiste em $m$ linhas e $n$ colunas de escalares com valor real.\n",
    "Visualmente, podemos ilustrar qualquer matriz $\\mathbf{A} \\in \\mathbb{R}^{m \\times n}$ como uma tabela,\n",
    "onde cada elemento $a_{ij}$ pertence à linha $i^{\\mathrm{th}}$ e coluna $j^{\\mathrm{th}}$:\n",
    "\n",
    "$$\\mathbf{A}=\\begin{bmatrix} a_{11} & a_{12} & \\cdots & a_{1n} \\\\ a_{21} & a_{22} & \\cdots & a_{2n} \\\\ \\vdots & \\vdots & \\ddots & \\vdots \\\\ a_{m1} & a_{m2} & \\cdots & a_{mn} \\\\ \\end{bmatrix}.$$\n",
    ":eqlabel:`eq_matrix_def`\n",
    "\n",
    "Para qualquer $\\mathbf{A} \\in \\mathbb{R}^{m \\times n}$, a forma de $\\mathbf{A}$\n",
    "é ($m$, $n$) ou $m \\times n$.\n",
    "Especificamente, quando uma matriz tem o mesmo número de linhas e colunas,\n",
    "sua forma se torna um quadrado; portanto, é chamada de *matriz quadrada*.\n",
    "\n",
    "Podemos [**criar uma matriz $m \\times n$**]\n",
    "especificando uma forma com dois componentes $m$ e $n$\n",
    "ao chamar qualquer uma de nossas funções favoritas para instanciar um tensor.\n"
   ]
  },
  {
   "cell_type": "code",
   "execution_count": 6,
   "metadata": {
    "origin_pos": 22,
    "tab": [
     "pytorch"
    ]
   },
   "outputs": [
    {
     "data": {
      "text/plain": [
       "tensor([[ 0,  1,  2,  3],\n",
       "        [ 4,  5,  6,  7],\n",
       "        [ 8,  9, 10, 11],\n",
       "        [12, 13, 14, 15],\n",
       "        [16, 17, 18, 19]])"
      ]
     },
     "execution_count": 6,
     "metadata": {},
     "output_type": "execute_result"
    }
   ],
   "source": [
    "A = torch.arange(20).reshape(5, 4)\n",
    "A"
   ]
  },
  {
   "cell_type": "markdown",
   "metadata": {
    "origin_pos": 24
   },
   "source": [
    "Podemos acessar o elemento escalar $a_{ij}$ de uma matriz $\\mathbf{A}$ em: eqref: `eq_matrix_def`\n",
    "especificando os índices para a linha ($i$) e coluna ($j$),\n",
    "como $[\\mathbf {A}] _ {ij}$.\n",
    "Quando os elementos escalares de uma matriz $\\mathbf{A}$, como em: eqref: `eq_matrix_def`, não são fornecidos,\n",
    "podemos simplesmente usar a letra minúscula da matriz $\\mathbf{A}$ com o subscrito do índice, $a_{ij}$,\n",
    "para se referir a $[\\mathbf {A}] _ {ij}$.\n",
    "Para manter a notação simples, as vírgulas são inseridas para separar os índices apenas quando necessário,\n",
    "como $a_ {2, 3j}$ e $[\\mathbf {A}] _ {2i-1, 3}$.\n",
    "\n",
    "Às vezes, queremos inverter os eixos.\n",
    "Quando trocamos as linhas e colunas de uma matriz,\n",
    "o resultado é chamado de *transposição* da matriz.\n",
    "Formalmente, significamos uma matriz $\\mathbf {A}$ transposta por $\\mathbf {A} ^ \\top$\n",
    "e se $\\mathbf {B} = \\mathbf {A} ^ \\top$, então $b_ {ij} = a_ {ji}$ para qualquer $i$ e $j$.\n",
    "Assim, a transposição de $\\mathbf {A}$ em: eqref: `eq_matrix_def` é\n",
    "uma matriz $n \\times m$:\n",
    "$$\n",
    "\\mathbf{A}^\\top =\n",
    "\\begin{bmatrix}\n",
    "    a_{11} & a_{21} & \\dots  & a_{m1} \\\\\n",
    "    a_{12} & a_{22} & \\dots  & a_{m2} \\\\\n",
    "    \\vdots & \\vdots & \\ddots  & \\vdots \\\\\n",
    "    a_{1n} & a_{2n} & \\dots  & a_{mn}\n",
    "\\end{bmatrix}.\n",
    "$$\n",
    "\n",
    "Agora acessamoas a  (**matriz transposta**) via código.\n"
   ]
  },
  {
   "cell_type": "code",
   "execution_count": 7,
   "metadata": {
    "origin_pos": 26,
    "tab": [
     "pytorch"
    ]
   },
   "outputs": [
    {
     "data": {
      "text/plain": [
       "tensor([[ 0,  4,  8, 12, 16],\n",
       "        [ 1,  5,  9, 13, 17],\n",
       "        [ 2,  6, 10, 14, 18],\n",
       "        [ 3,  7, 11, 15, 19]])"
      ]
     },
     "execution_count": 7,
     "metadata": {},
     "output_type": "execute_result"
    }
   ],
   "source": [
    "A.T"
   ]
  },
  {
   "cell_type": "markdown",
   "metadata": {
    "origin_pos": 28
   },
   "source": [
    "Como um tipo especial de matriz quadrada,\n",
    "[**a *matriz simétrica* $\\mathbf {A}$ é igual à sua transposta:\n",
    "$\\mathbf{A} = \\mathbf{A}^\\top$.**]\n",
    "Aqui definimos uma matriz simétrica `B`.\n"
   ]
  },
  {
   "cell_type": "code",
   "execution_count": 8,
   "metadata": {
    "origin_pos": 30,
    "tab": [
     "pytorch"
    ]
   },
   "outputs": [
    {
     "data": {
      "text/plain": [
       "tensor([[1, 2, 3],\n",
       "        [2, 0, 4],\n",
       "        [3, 4, 5]])"
      ]
     },
     "execution_count": 8,
     "metadata": {},
     "output_type": "execute_result"
    }
   ],
   "source": [
    "B = torch.tensor([[1, 2, 3], [2, 0, 4], [3, 4, 5]])\n",
    "B"
   ]
  },
  {
   "cell_type": "markdown",
   "metadata": {
    "origin_pos": 32
   },
   "source": [
    "Agora comparamos `B` com sua transposta.\n"
   ]
  },
  {
   "cell_type": "code",
   "execution_count": 9,
   "metadata": {
    "origin_pos": 34,
    "tab": [
     "pytorch"
    ]
   },
   "outputs": [
    {
     "data": {
      "text/plain": [
       "tensor([[True, True, True],\n",
       "        [True, True, True],\n",
       "        [True, True, True]])"
      ]
     },
     "execution_count": 9,
     "metadata": {},
     "output_type": "execute_result"
    }
   ],
   "source": [
    "B == B.T"
   ]
  },
  {
   "cell_type": "markdown",
   "metadata": {
    "origin_pos": 36
   },
   "source": [
    "Matrizes são estruturas de dados úteis:\n",
    "eles nos permitem organizar dados que têm diferentes modalidades de variação.\n",
    "Por exemplo, as linhas em nossa matriz podem corresponder a diferentes casas (exemplos de dados),\n",
    "enquanto as colunas podem corresponder a diferentes atributos.\n",
    "Isso deve soar familiar se você já usou um software de planilha ou\n",
    "leu: numref: `sec_pandas`.\n",
    "Assim, embora a orientação padrão de um único vetor seja um vetor coluna,\n",
    "em uma matriz que representa um conjunto de dados tabular,\n",
    "é mais convencional tratar cada exemplo de dados como um vetor linha na matriz.\n",
    "E, como veremos em capítulos posteriores,\n",
    "esta convenção permitirá práticas comuns de aprendizado profundo.\n",
    "Por exemplo, ao longo do eixo mais externo de um tensor,\n",
    "podemos acessar ou enumerar *minibatches* de exemplos de dados,\n",
    "ou apenas exemplos de dados se não houver *minibatch*.\n",
    "\n",
    "\n",
    "## Tensores\n",
    "\n",
    "Assim como vetores generalizam escalares e matrizes generalizam vetores, podemos construir estruturas de dados com ainda mais eixos.\n",
    "[**Tensores**]\n",
    "(\"tensores\" nesta subseção referem-se a objetos algébricos)\n",
    "(**nos dê uma maneira genérica de descrever matrizes $n$ -dimensionais com um número arbitrário de eixos.**)\n",
    "Vetores, por exemplo, são tensores de primeira ordem e matrizes são tensores de segunda ordem.\n",
    "Tensores são indicados com letras maiúsculas de uma fonte especial\n",
    "(por exemplo, $\\mathsf{X}$, $\\mathsf{Y}$, e $\\mathsf{Z}$)\n",
    "e seu mecanismo de indexação (por exemplo, $x_{ijk}$ e $[\\mathsf{X}]_{1, 2i-1, 3}$) é semelhante ao de matrizes.\n",
    "\n",
    "Os tensores se tornarão mais importantes quando começarmos a trabalhar com imagens,\n",
    "  que chegam como matrizes $n$ -dimensionais com 3 eixos correspondentes à altura, largura e um eixo de *canal* para empilhar os canais de cores (vermelho, verde e azul). Por enquanto, vamos pular tensores de ordem superior e nos concentrar no básico.\n"
   ]
  },
  {
   "cell_type": "code",
   "execution_count": 10,
   "metadata": {
    "origin_pos": 38,
    "tab": [
     "pytorch"
    ]
   },
   "outputs": [
    {
     "data": {
      "text/plain": [
       "tensor([[[ 0,  1,  2,  3],\n",
       "         [ 4,  5,  6,  7],\n",
       "         [ 8,  9, 10, 11]],\n",
       "\n",
       "        [[12, 13, 14, 15],\n",
       "         [16, 17, 18, 19],\n",
       "         [20, 21, 22, 23]]])"
      ]
     },
     "execution_count": 10,
     "metadata": {},
     "output_type": "execute_result"
    }
   ],
   "source": [
    "X = torch.arange(24).reshape(2, 3, 4)\n",
    "X"
   ]
  },
  {
   "cell_type": "markdown",
   "metadata": {
    "origin_pos": 40
   },
   "source": [
    "## Propriedades Básicas de Aritmética de Tensores\n",
    "\n",
    "Escalares, vetores, matrizes e tensores (\"tensores\" nesta subseção referem-se a objetos algébricos)\n",
    "de um número arbitrário de eixos\n",
    "têm algumas propriedades interessantes que muitas vezes são úteis.\n",
    "Por exemplo, você deve ter notado\n",
    "da definição de uma operação elemento a elemento\n",
    "que qualquer operação unária elementar não altera a forma de seu operando.\n",
    "Similarmente,\n",
    "[**dados quaisquer dois tensores com a mesma forma,\n",
    "o resultado de qualquer operação binária elementar\n",
    "será um tensor da mesma forma.**]\n",
    "Por exemplo, adicionar duas matrizes da mesma forma\n",
    "realiza a adição elemento a elemento sobre essas duas matrizes.\n"
   ]
  },
  {
   "cell_type": "code",
   "execution_count": 11,
   "metadata": {
    "origin_pos": 42,
    "tab": [
     "pytorch"
    ]
   },
   "outputs": [
    {
     "data": {
      "text/plain": [
       "(tensor([[ 0.,  1.,  2.,  3.],\n",
       "         [ 4.,  5.,  6.,  7.],\n",
       "         [ 8.,  9., 10., 11.],\n",
       "         [12., 13., 14., 15.],\n",
       "         [16., 17., 18., 19.]]),\n",
       " tensor([[ 0.,  2.,  4.,  6.],\n",
       "         [ 8., 10., 12., 14.],\n",
       "         [16., 18., 20., 22.],\n",
       "         [24., 26., 28., 30.],\n",
       "         [32., 34., 36., 38.]]))"
      ]
     },
     "execution_count": 11,
     "metadata": {},
     "output_type": "execute_result"
    }
   ],
   "source": [
    "A = torch.arange(20, dtype=torch.float32).reshape(5, 4)\n",
    "B = A.clone()  # Cria uma cópia de `A` em `B` alocando nova memória\n",
    "A, A + B"
   ]
  },
  {
   "cell_type": "markdown",
   "metadata": {
    "origin_pos": 44
   },
   "source": [
    "Especificamente,\n",
    "[**a multiplicação elemento a elemento de duas matrizes é chamada de *produto Hadamard***]\n",
    "(notação matemática $\\odot$).\n",
    "Considere a matriz $\\mathbf{B} \\in \\mathbb{R}^{m \\times n}$  cujo elemento da linha $i$ e coluna $j$ é $b_ {ij}$. O produto Hadamard das matrizes $\\mathbf {A}$ (definido em :eqref:`eq_matrix_def`) e $\\mathbf {B}$\n",
    "\n",
    "$$\n",
    "\\mathbf{A} \\odot \\mathbf{B} =\n",
    "\\begin{bmatrix}\n",
    "    a_{11}  b_{11} & a_{12}  b_{12} & \\dots  & a_{1n}  b_{1n} \\\\\n",
    "    a_{21}  b_{21} & a_{22}  b_{22} & \\dots  & a_{2n}  b_{2n} \\\\\n",
    "    \\vdots & \\vdots & \\ddots & \\vdots \\\\\n",
    "    a_{m1}  b_{m1} & a_{m2}  b_{m2} & \\dots  & a_{mn}  b_{mn}\n",
    "\\end{bmatrix}.\n",
    "$$\n"
   ]
  },
  {
   "cell_type": "code",
   "execution_count": 12,
   "metadata": {
    "origin_pos": 46,
    "tab": [
     "pytorch"
    ]
   },
   "outputs": [
    {
     "data": {
      "text/plain": [
       "tensor([[  0.,   1.,   4.,   9.],\n",
       "        [ 16.,  25.,  36.,  49.],\n",
       "        [ 64.,  81., 100., 121.],\n",
       "        [144., 169., 196., 225.],\n",
       "        [256., 289., 324., 361.]])"
      ]
     },
     "execution_count": 12,
     "metadata": {},
     "output_type": "execute_result"
    }
   ],
   "source": [
    "A * B"
   ]
  },
  {
   "cell_type": "markdown",
   "metadata": {
    "origin_pos": 48
   },
   "source": [
    "[**Multiplicar ou adicionar um tensor por um escalar**] também não muda a forma do tensor,\n",
    "onde cada elemento do tensor operando será adicionado ou multiplicado pelo escalar.\n"
   ]
  },
  {
   "cell_type": "code",
   "execution_count": 13,
   "metadata": {
    "origin_pos": 50,
    "tab": [
     "pytorch"
    ]
   },
   "outputs": [
    {
     "data": {
      "text/plain": [
       "(tensor([[[ 2,  3,  4,  5],\n",
       "          [ 6,  7,  8,  9],\n",
       "          [10, 11, 12, 13]],\n",
       " \n",
       "         [[14, 15, 16, 17],\n",
       "          [18, 19, 20, 21],\n",
       "          [22, 23, 24, 25]]]),\n",
       " torch.Size([2, 3, 4]))"
      ]
     },
     "execution_count": 13,
     "metadata": {},
     "output_type": "execute_result"
    }
   ],
   "source": [
    "a = 2\n",
    "X = torch.arange(24).reshape(2, 3, 4)\n",
    "a + X, (a * X).shape"
   ]
  },
  {
   "cell_type": "markdown",
   "metadata": {
    "origin_pos": 52
   },
   "source": [
    "## Redução\n",
    ":label:`subseq_lin-alg-reduction`\n",
    "\n",
    "Uma operação útil que podemos realizar com tensores arbitrários\n",
    "é para\n",
    "calcule [**a soma de seus elementos.**]\n",
    "Em notação matemática, expressamos somas usando o símbolo $\\sum$.\n",
    "Para expressar a soma dos elementos em um vetor $\\mathbf {x}$ de comprimento $d$,\n",
    "escrevemos $\\sum_ {i = 1} ^ d x_i$.\n",
    "No código, podemos apenas chamar a função para calcular a soma.\n"
   ]
  },
  {
   "cell_type": "code",
   "execution_count": 14,
   "metadata": {
    "origin_pos": 54,
    "tab": [
     "pytorch"
    ]
   },
   "outputs": [
    {
     "data": {
      "text/plain": [
       "(tensor([0., 1., 2., 3.]), tensor(6.))"
      ]
     },
     "execution_count": 14,
     "metadata": {},
     "output_type": "execute_result"
    }
   ],
   "source": [
    "x = torch.arange(4, dtype=torch.float32)\n",
    "x, x.sum()"
   ]
  },
  {
   "cell_type": "markdown",
   "metadata": {
    "origin_pos": 56
   },
   "source": [
    "Podemos expressar [**somas sobre os elementos de tensores de forma arbitrária.**]\n",
    "Por exemplo, a soma dos elementos de uma matriz $m \\times n$\n",
    "$\\mathbf{A}$ poderia ser escrita como $\\sum_{i=1}^{m} \\sum_{j=1}^{n} a_{ij}$.\n"
   ]
  },
  {
   "cell_type": "code",
   "execution_count": 15,
   "metadata": {
    "origin_pos": 58,
    "tab": [
     "pytorch"
    ]
   },
   "outputs": [
    {
     "data": {
      "text/plain": [
       "(torch.Size([5, 4]), tensor(190.))"
      ]
     },
     "execution_count": 15,
     "metadata": {},
     "output_type": "execute_result"
    }
   ],
   "source": [
    "A.shape, A.sum()"
   ]
  },
  {
   "cell_type": "markdown",
   "metadata": {
    "origin_pos": 60
   },
   "source": [
    "Por padrão, invocar a função para calcular a soma\n",
    "*reduz* um tensor ao longo de todos os seus eixos a um escalar.\n",
    "Também podemos [**especificar os eixos ao longo dos quais o tensor é reduzido por meio da soma**]\n",
    "Pegue as matrizes como exemplo.\n",
    "Para reduzir a dimensão da linha (eixo 0) somando os elementos de todas as linhas,\n",
    "especificamos `axis = 0` ao invocar a função.\n",
    "Uma vez que a matriz de entrada reduz ao longo do eixo 0 para gerar o vetor de saída,\n",
    "a dimensão do eixo 0 da entrada é perdida na forma de saída.\n"
   ]
  },
  {
   "cell_type": "code",
   "execution_count": 16,
   "metadata": {
    "origin_pos": 62,
    "tab": [
     "pytorch"
    ]
   },
   "outputs": [
    {
     "data": {
      "text/plain": [
       "(tensor([40., 45., 50., 55.]), torch.Size([4]))"
      ]
     },
     "execution_count": 16,
     "metadata": {},
     "output_type": "execute_result"
    }
   ],
   "source": [
    "A_sum_axis0 = A.sum(axis=0)\n",
    "A_sum_axis0, A_sum_axis0.shape"
   ]
  },
  {
   "cell_type": "markdown",
   "metadata": {
    "origin_pos": 64
   },
   "source": [
    "Especificando\n",
    "`eixo = 1` irá reduzir a dimensão da coluna (eixo 1) ao somar os elementos de todas as colunas.\n",
    "Assim, a dimensão do eixo 1 da entrada é perdida na forma da saída.\n"
   ]
  },
  {
   "cell_type": "code",
   "execution_count": 17,
   "metadata": {
    "origin_pos": 66,
    "tab": [
     "pytorch"
    ]
   },
   "outputs": [
    {
     "data": {
      "text/plain": [
       "(tensor([ 6., 22., 38., 54., 70.]), torch.Size([5]))"
      ]
     },
     "execution_count": 17,
     "metadata": {},
     "output_type": "execute_result"
    }
   ],
   "source": [
    "A_sum_axis1 = A.sum(axis=1)\n",
    "A_sum_axis1, A_sum_axis1.shape"
   ]
  },
  {
   "cell_type": "markdown",
   "metadata": {
    "origin_pos": 68
   },
   "source": [
    "Reduzindo uma matriz ao longo de ambas as linhas e colunas por meio da soma\n",
    "é equivalente a somar todos os elementos da matriz.\n"
   ]
  },
  {
   "cell_type": "code",
   "execution_count": 18,
   "metadata": {
    "origin_pos": 70,
    "tab": [
     "pytorch"
    ]
   },
   "outputs": [
    {
     "data": {
      "text/plain": [
       "tensor(190.)"
      ]
     },
     "execution_count": 18,
     "metadata": {},
     "output_type": "execute_result"
    }
   ],
   "source": [
    "A.sum(axis=[0, 1])  # O mesmo que `A.sum()`"
   ]
  },
  {
   "cell_type": "markdown",
   "metadata": {
    "origin_pos": 72
   },
   "source": [
    "[**Uma quantidade relacionada é a *média*, que também é chamada de *média*.**]\n",
    "Calculamos a média dividindo a soma pelo número total de elementos.\n",
    "No código, poderíamos apenas chamar a função para calcular a média\n",
    "em tensores de forma arbitrária.\n"
   ]
  },
  {
   "cell_type": "code",
   "execution_count": 19,
   "metadata": {
    "origin_pos": 74,
    "tab": [
     "pytorch"
    ]
   },
   "outputs": [
    {
     "data": {
      "text/plain": [
       "(tensor(9.5000), tensor(9.5000))"
      ]
     },
     "execution_count": 19,
     "metadata": {},
     "output_type": "execute_result"
    }
   ],
   "source": [
    "A.mean(), A.sum() / A.numel()"
   ]
  },
  {
   "cell_type": "markdown",
   "metadata": {
    "origin_pos": 76
   },
   "source": [
    "Da mesma forma, a função de cálculo da média também pode reduzir um tensor ao longo dos eixos especificados.\n"
   ]
  },
  {
   "cell_type": "code",
   "execution_count": 20,
   "metadata": {
    "origin_pos": 78,
    "tab": [
     "pytorch"
    ]
   },
   "outputs": [
    {
     "data": {
      "text/plain": [
       "(tensor([ 8.,  9., 10., 11.]), tensor([ 8.,  9., 10., 11.]))"
      ]
     },
     "execution_count": 20,
     "metadata": {},
     "output_type": "execute_result"
    }
   ],
   "source": [
    "A.mean(axis=0), A.sum(axis=0) / A.shape[0]"
   ]
  },
  {
   "cell_type": "markdown",
   "metadata": {
    "origin_pos": 80
   },
   "source": [
    "### Soma não reducional\n",
    ":label:`subseq_lin-alg-non-reduction`\n",
    "\n",
    "Contudo,\n",
    "às vezes pode ser útil [**manter o número de eixos inalterado**]\n",
    "ao invocar a função para calcular a soma ou média.\n"
   ]
  },
  {
   "cell_type": "code",
   "execution_count": 21,
   "metadata": {
    "origin_pos": 82,
    "tab": [
     "pytorch"
    ]
   },
   "outputs": [
    {
     "data": {
      "text/plain": [
       "tensor([[ 6.],\n",
       "        [22.],\n",
       "        [38.],\n",
       "        [54.],\n",
       "        [70.]])"
      ]
     },
     "execution_count": 21,
     "metadata": {},
     "output_type": "execute_result"
    }
   ],
   "source": [
    "sum_A = A.sum(axis=1, keepdims=True)\n",
    "sum_A"
   ]
  },
  {
   "cell_type": "markdown",
   "metadata": {
    "origin_pos": 84
   },
   "source": [
    "Por exemplo,\n",
    "uma vez que `sum_A` ainda mantém seus dois eixos após somar cada linha, podemos (**dividir` A` por `sum_A` com *broadcasting*.**)\n"
   ]
  },
  {
   "cell_type": "code",
   "execution_count": 22,
   "metadata": {
    "origin_pos": 86,
    "tab": [
     "pytorch"
    ]
   },
   "outputs": [
    {
     "data": {
      "text/plain": [
       "tensor([[0.0000, 0.1667, 0.3333, 0.5000],\n",
       "        [0.1818, 0.2273, 0.2727, 0.3182],\n",
       "        [0.2105, 0.2368, 0.2632, 0.2895],\n",
       "        [0.2222, 0.2407, 0.2593, 0.2778],\n",
       "        [0.2286, 0.2429, 0.2571, 0.2714]])"
      ]
     },
     "execution_count": 22,
     "metadata": {},
     "output_type": "execute_result"
    }
   ],
   "source": [
    "A / sum_A"
   ]
  },
  {
   "cell_type": "markdown",
   "metadata": {
    "origin_pos": 88
   },
   "source": [
    "Se quisermos calcular [**a soma cumulativa dos elementos de `A` ao longo de algum eixo**], diga` eixo = 0` (linha por linha),\n",
    "podemos chamar a função `cumsum`. Esta função não reduzirá o tensor de entrada ao longo de nenhum eixo.\n"
   ]
  },
  {
   "cell_type": "code",
   "execution_count": 23,
   "metadata": {
    "origin_pos": 90,
    "tab": [
     "pytorch"
    ]
   },
   "outputs": [
    {
     "data": {
      "text/plain": [
       "tensor([[ 0.,  1.,  2.,  3.],\n",
       "        [ 4.,  6.,  8., 10.],\n",
       "        [12., 15., 18., 21.],\n",
       "        [24., 28., 32., 36.],\n",
       "        [40., 45., 50., 55.]])"
      ]
     },
     "execution_count": 23,
     "metadata": {},
     "output_type": "execute_result"
    }
   ],
   "source": [
    "A.cumsum(axis=0)"
   ]
  },
  {
   "cell_type": "markdown",
   "metadata": {
    "origin_pos": 92
   },
   "source": [
    "## Produto Escalar\n",
    "\n",
    "Até agora, realizamos apenas operações elementares, somas e médias. E se isso fosse tudo que pudéssemos fazer, a álgebra linear provavelmente não mereceria sua própria seção. No entanto, uma das operações mais fundamentais é o produto escalar.\n",
    "Dados dois vetores $\\mathbf{x}, \\mathbf{y} \\in \\mathbb{R}^d$, seu *produto escalar* $\\mathbf{x}^\\top \\mathbf{y}$ (ou $\\langle \\mathbf{x}, \\mathbf{y}  \\rangle$) é uma soma sobre os produtos dos elementos na mesma posição: $\\mathbf{x}^\\top \\mathbf{y} = \\sum_{i=1}^{d} x_i y_i$.\n",
    "\n",
    "[~~O *produto escalar* de dois vetores é uma soma sobre os produtos dos elementos na mesma posição~~]\n"
   ]
  },
  {
   "cell_type": "code",
   "execution_count": 24,
   "metadata": {
    "origin_pos": 94,
    "tab": [
     "pytorch"
    ]
   },
   "outputs": [
    {
     "data": {
      "text/plain": [
       "(tensor([0., 1., 2., 3.]), tensor([1., 1., 1., 1.]), tensor(6.))"
      ]
     },
     "execution_count": 24,
     "metadata": {},
     "output_type": "execute_result"
    }
   ],
   "source": [
    "y = torch.ones(4, dtype = torch.float32)\n",
    "x, y, torch.dot(x, y)"
   ]
  },
  {
   "cell_type": "markdown",
   "metadata": {
    "origin_pos": 96
   },
   "source": [
    "Observe que\n",
    "(**podemos expressar o produto escalar de dois vetores de forma equivalente, realizando uma multiplicação elemento a elemento e, em seguida, uma soma:**)\n"
   ]
  },
  {
   "cell_type": "code",
   "execution_count": 25,
   "metadata": {
    "origin_pos": 98,
    "tab": [
     "pytorch"
    ]
   },
   "outputs": [
    {
     "data": {
      "text/plain": [
       "tensor(6.)"
      ]
     },
     "execution_count": 25,
     "metadata": {},
     "output_type": "execute_result"
    }
   ],
   "source": [
    "torch.sum(x * y)"
   ]
  },
  {
   "cell_type": "markdown",
   "metadata": {
    "origin_pos": 100
   },
   "source": [
    "Os produtos escalares são úteis em uma ampla variedade de contextos.\n",
    "Por exemplo, dado algum conjunto de valores,\n",
    "denotado por um vetor $\\mathbf{x}  \\in \\mathbb{R}^d$\n",
    "e um conjunto de pesos denotado por $\\mathbf{w} \\in \\mathbb{R}^d$,,\n",
    "a soma ponderada dos valores em $\\mathbf{x}$\n",
    "de acordo com os pesos $\\mathbf{w}$\n",
    "pode ser expresso como o produto escalar $\\mathbf{x}^\\top \\mathbf{w}$.\n",
    "Quando os pesos não são negativos\n",
    "e soma a um (ou seja, $\\left(\\sum_{i=1}^{d} {w_i} = 1\\right)$),\n",
    "o produto escalar expressa uma *média ponderada*.\n",
    "Depois de normalizar dois vetores para ter o comprimento unitário,\n",
    "os produtos escalares expressam o cosseno do ângulo entre eles.\n",
    "Apresentaremos formalmente essa noção de *comprimento* posteriormente nesta seção.\n",
    "\n",
    "## Produtos Matriz-Vetor\n",
    "\n",
    "Agora que sabemos como calcular produtos escalares,\n",
    "podemos começar a entender *produtos vetoriais de matriz*.\n",
    "Lembre-se da matriz $\\mathbf{A} \\in \\mathbb{R}^{m \\times n}$\n",
    "e o vetor $\\mathbf{x} \\in \\mathbb{R}^n$\n",
    "definido e visualizado em :eqref:`eq_matrix_def` e :eqref:`eq_vec_def` respectivamente.\n",
    "Vamos começar visualizando a matriz $\\mathbf{A}$ em termos de seus vetores linha\n",
    "\n",
    "$$\\mathbf{A}=\n",
    "\\begin{bmatrix}\n",
    "\\mathbf{a}^\\top_{1} \\\\\n",
    "\\mathbf{a}^\\top_{2} \\\\\n",
    "\\vdots \\\\\n",
    "\\mathbf{a}^\\top_m \\\\\n",
    "\\end{bmatrix},$$\n",
    "\n",
    "onde cada $\\mathbf{a}^\\top_{i} \\in \\mathbb{R}^n$\n",
    "é uma linha vetor representando a $i^\\mathrm{th}$ linha da matriz $\\mathbf{A}$.\n",
    "\n",
    "[**O produto vetor-matriz $\\mathbf{A}\\mathbf{x}$\n",
    "é simplesmente um vetor coluna de comprimento $m$,\n",
    "cujo elemento $i^\\mathrm{th}$ é o produto escalar $\\mathbf{a}^\\top_i \\mathbf{x}$:**]\n",
    "\n",
    "$$\n",
    "\\mathbf{A}\\mathbf{x}\n",
    "= \\begin{bmatrix}\n",
    "\\mathbf{a}^\\top_{1} \\\\\n",
    "\\mathbf{a}^\\top_{2} \\\\\n",
    "\\vdots \\\\\n",
    "\\mathbf{a}^\\top_m \\\\\n",
    "\\end{bmatrix}\\mathbf{x}\n",
    "= \\begin{bmatrix}\n",
    " \\mathbf{a}^\\top_{1} \\mathbf{x}  \\\\\n",
    " \\mathbf{a}^\\top_{2} \\mathbf{x} \\\\\n",
    "\\vdots\\\\\n",
    " \\mathbf{a}^\\top_{m} \\mathbf{x}\\\\\n",
    "\\end{bmatrix}.\n",
    "$$\n",
    "\n",
    "Podemos pensar na multiplicação por uma matriz $\\mathbf{A}\\in \\mathbb{R}^{m \\times n}$\n",
    "como uma transformação que projeta vetores\n",
    "de $\\mathbb{R}^{n}$ a $\\mathbb{R}^{m}$.\n",
    "Essas transformações revelaram-se extremamente úteis.\n",
    "Por exemplo, podemos representar rotações\n",
    "como multiplicações por uma matriz quadrada.\n",
    "Como veremos nos capítulos subsequentes,\n",
    "também podemos usar produtos vetoriais de matriz\n",
    "para descrever os cálculos mais intensivos\n",
    "necessário ao calcular cada camada em uma rede neural\n",
    "dados os valores da camada anterior.\n",
    "\n",
    "Expressando produtos de vetor-matriz em código com tensores,\n",
    "usamos a mesma função `dot` que para produtos de ponto.\n",
    "Quando chamamos `np.dot (A, x)` com uma matriz `A` e um vetor` x`,\n",
    "o produto matriz-vetor é realizado.\n",
    "Observe que a dimensão da coluna de `A` (seu comprimento ao longo do eixo 1)\n",
    "deve ser igual à dimensão de `x` (seu comprimento).\n"
   ]
  },
  {
   "cell_type": "code",
   "execution_count": 26,
   "metadata": {
    "origin_pos": 102,
    "tab": [
     "pytorch"
    ]
   },
   "outputs": [
    {
     "data": {
      "text/plain": [
       "(torch.Size([5, 4]), torch.Size([4]), tensor([ 14.,  38.,  62.,  86., 110.]))"
      ]
     },
     "execution_count": 26,
     "metadata": {},
     "output_type": "execute_result"
    }
   ],
   "source": [
    "A.shape, x.shape, torch.mv(A, x)"
   ]
  },
  {
   "cell_type": "markdown",
   "metadata": {
    "origin_pos": 104
   },
   "source": [
    "## Multiplicação Matriz Matriz\n",
    "\n",
    "Se você já pegou o jeito dos produtos escalares e produtos matriciais,\n",
    "então a *multiplicação matriz-matriz* deve ser direta.\n",
    "Digamos que temos duas matrizes $\\mathbf{A} \\in \\mathbb{R}^{n \\times k}$ e $\\mathbf{B} \\in \\mathbb{R}^{k \\times m}$:\n",
    "\n",
    "$$\\mathbf{A}=\\begin{bmatrix}\n",
    " a_{11} & a_{12} & \\cdots & a_{1k} \\\\\n",
    " a_{21} & a_{22} & \\cdots & a_{2k} \\\\\n",
    "\\vdots & \\vdots & \\ddots & \\vdots \\\\\n",
    " a_{n1} & a_{n2} & \\cdots & a_{nk} \\\\\n",
    "\\end{bmatrix},\\quad\n",
    "\\mathbf{B}=\\begin{bmatrix}\n",
    " b_{11} & b_{12} & \\cdots & b_{1m} \\\\\n",
    " b_{21} & b_{22} & \\cdots & b_{2m} \\\\\n",
    "\\vdots & \\vdots & \\ddots & \\vdots \\\\\n",
    " b_{k1} & b_{k2} & \\cdots & b_{km} \\\\\n",
    "\\end{bmatrix}.$$\n",
    "\n",
    "\n",
    "Denotada por $\\mathbf{a}^\\top_{i} \\in \\mathbb{R}^k$\n",
    "o vetor linha representando a $i^\\mathrm{th}$ linha da matriz $\\mathbf{A}$,\n",
    "e $\\mathbf{b}_{j} \\in \\mathbb{R}^k$\n",
    "seja o vetor coluna da $j^\\mathrm{th}$ coluna matriz $\\mathbf{B}$.\n",
    "Para produzir o produto de matrizes $\\mathbf{C} = \\mathbf{A}\\mathbf{B}$, é mais facil pensar $\\mathbf{A}$ em termos de seus vetores linha $\\mathbf{B}$ em termos de seus vetores coluna:\n",
    "\n",
    "$$\\mathbf{A}=\n",
    "\\begin{bmatrix}\n",
    "\\mathbf{a}^\\top_{1} \\\\\n",
    "\\mathbf{a}^\\top_{2} \\\\\n",
    "\\vdots \\\\\n",
    "\\mathbf{a}^\\top_n \\\\\n",
    "\\end{bmatrix},\n",
    "\\quad \\mathbf{B}=\\begin{bmatrix}\n",
    " \\mathbf{b}_{1} & \\mathbf{b}_{2} & \\cdots & \\mathbf{b}_{m} \\\\\n",
    "\\end{bmatrix}.\n",
    "$$\n",
    "\n",
    "Então, o produto da matriz $\\mathbf{C} \\in \\mathbb{R}^{n \\times m}$ é produzido, pois simplesmente calculamos cada elemento $c_ {ij}$ como o produto escalar $\\mathbf{a}^\\top_i \\mathbf{b}_j$:\n",
    "\n",
    "$$\\mathbf{C} = \\mathbf{AB} = \\begin{bmatrix}\n",
    "\\mathbf{a}^\\top_{1} \\\\\n",
    "\\mathbf{a}^\\top_{2} \\\\\n",
    "\\vdots \\\\\n",
    "\\mathbf{a}^\\top_n \\\\\n",
    "\\end{bmatrix}\n",
    "\\begin{bmatrix}\n",
    " \\mathbf{b}_{1} & \\mathbf{b}_{2} & \\cdots & \\mathbf{b}_{m} \\\\\n",
    "\\end{bmatrix}\n",
    "= \\begin{bmatrix}\n",
    "\\mathbf{a}^\\top_{1} \\mathbf{b}_1 & \\mathbf{a}^\\top_{1}\\mathbf{b}_2& \\cdots & \\mathbf{a}^\\top_{1} \\mathbf{b}_m \\\\\n",
    " \\mathbf{a}^\\top_{2}\\mathbf{b}_1 & \\mathbf{a}^\\top_{2} \\mathbf{b}_2 & \\cdots & \\mathbf{a}^\\top_{2} \\mathbf{b}_m \\\\\n",
    " \\vdots & \\vdots & \\ddots &\\vdots\\\\\n",
    "\\mathbf{a}^\\top_{n} \\mathbf{b}_1 & \\mathbf{a}^\\top_{n}\\mathbf{b}_2& \\cdots& \\mathbf{a}^\\top_{n} \\mathbf{b}_m\n",
    "\\end{bmatrix}.\n",
    "$$\n",
    "\n",
    "[**Podemos pensar na multiplicação matriz-matriz $\\mathbf {AB}$ simplesmente realizando $m$ produtos vetoriais de matriz e juntando os resultados para formar uma matriz $n \\times m$.**]\n",
    "No trecho a seguir, realizamos a multiplicação da matriz em `A` e` B`.\n",
    "Aqui, `A` é uma matriz com 5 linhas e 4 colunas,\n",
    "e `B` é uma matriz com 4 linhas e 3 colunas.\n",
    "Após a multiplicação, obtemos uma matriz com 5 linhas e 3 colunas.\n"
   ]
  },
  {
   "cell_type": "code",
   "execution_count": 27,
   "metadata": {
    "origin_pos": 106,
    "tab": [
     "pytorch"
    ]
   },
   "outputs": [
    {
     "data": {
      "text/plain": [
       "tensor([[ 6.,  6.,  6.],\n",
       "        [22., 22., 22.],\n",
       "        [38., 38., 38.],\n",
       "        [54., 54., 54.],\n",
       "        [70., 70., 70.]])"
      ]
     },
     "execution_count": 27,
     "metadata": {},
     "output_type": "execute_result"
    }
   ],
   "source": [
    "B = torch.ones(4, 3)\n",
    "torch.mm(A, B)"
   ]
  },
  {
   "cell_type": "markdown",
   "metadata": {
    "origin_pos": 108
   },
   "source": [
    "A multiplicação de matriz-matriz pode ser simplesmente chamada de *multiplicação de matrizes* e não deve ser confundida com o produto Hadamard.\n",
    "\n",
    "## Normas\n",
    ":label:`subsec_lin-algebra-norms`\n",
    "\n",
    "Alguns dos operadores mais úteis em álgebra linear são *normas*.\n",
    "Informalmente, a norma de um vetor nos diz o quão *grande* é um vetor.\n",
    "A noção de *tamanho* em consideração aqui\n",
    "preocupa-se não em dimensionalidade\n",
    ",mas sim a magnitude dos componentes.\n",
    "\n",
    "Na álgebra linear, uma norma vetorial é uma função $f$ que mapeia um vetor\n",
    "para um escalar, satisfazendo um punhado de propriedades.\n",
    "Dado qualquer vetor $\\mathbf{x}$,\n",
    "a primeira propriedade diz\n",
    "que se escalarmos todos os elementos de um vetor\n",
    "por um fator constante $\\alpha$,\n",
    "sua norma também escala pelo *valor absoluto*\n",
    "do mesmo fator constante:\n",
    "\n",
    "$$f(\\alpha \\mathbf{x}) = |\\alpha| f(\\mathbf{x}).$$\n",
    "\n",
    "\n",
    "A segunda propriedade é a familiar desigualdade do triângulo:\n",
    "\n",
    "$$f(\\mathbf{x} + \\mathbf{y}) \\leq f(\\mathbf{x}) + f(\\mathbf{y}).$$\n",
    "\n",
    "\n",
    "A terceira propriedade simplesmente diz que a norma deve ser não negativa:\n",
    "\n",
    "$$f(\\mathbf{x}) \\geq 0.$$\n",
    "\n",
    "\n",
    "Isso faz sentido, pois na maioria dos contextos, o menor *tamanho* para qualquer coisa é 0.\n",
    "A propriedade final requer que a menor norma seja alcançada e somente alcançada\n",
    "por um vetor que consiste em todos os zeros.\n",
    "\n",
    "$$\\forall i, [\\mathbf{x}]_i = 0 \\Leftrightarrow f(\\mathbf{x})=0.$$\n",
    "\n",
    "\n",
    "\n",
    "Você pode notar que as normas se parecem muito com medidas de distância.\n",
    "E se você se lembra das distâncias euclidianas\n",
    "(pense no teorema de Pitágoras) da escola primária,\n",
    "então, os conceitos de não negatividade e a desigualdade do triângulo podem ser familiares.\n",
    "Na verdade, a distância euclidiana é uma norma:\n",
    "especificamente, é a norma $L_2$.\n",
    "Suponha que os elementos no vetor $n$ -dimensional\n",
    "$\\mathbf{x}$ são $x_1, \\ldots, x_n$.\n",
    "\n",
    "[**A $L_2$ *norma* de $\\mathbf {x}$ é a raiz quadrada da soma dos quadrados dos elementos do vetor:**]\n",
    "\n",
    "(**$$\\|\\mathbf{x}\\|_2 = \\sqrt{\\sum_{i=1}^n x_i^2},$$**)\n",
    "\n",
    "\n",
    "\n",
    "onde o subscrito $2$ é frequentemente omitido nas normas $L_2$, ou seja, $\\|\\mathbf{x}\\|$ é equivalente a $\\|\\mathbf{x}\\|_2$. Em código,\n",
    "podemos calcular a norma $L_2$ de um vetor da seguinte maneira.\n"
   ]
  },
  {
   "cell_type": "code",
   "execution_count": 28,
   "metadata": {
    "origin_pos": 110,
    "tab": [
     "pytorch"
    ]
   },
   "outputs": [
    {
     "data": {
      "text/plain": [
       "tensor(5.)"
      ]
     },
     "execution_count": 28,
     "metadata": {},
     "output_type": "execute_result"
    }
   ],
   "source": [
    "u = torch.tensor([3.0, -4.0])\n",
    "torch.norm(u)"
   ]
  },
  {
   "cell_type": "markdown",
   "metadata": {
    "origin_pos": 112
   },
   "source": [
    "Em *Deep Learning*, trabalhamos com mais frequência\n",
    "com a norma $L_2$ ao quadrado.\n",
    "\n",
    "Você também encontrará frequentemente [**a norma $L_1$**],\n",
    "que é expresso como a soma dos valores absolutos dos elementos do vetor:\n",
    "\n",
    "(**$$\\|\\mathbf{x}\\|_1 = \\sum_{i=1}^n \\left|x_i \\right|.$$**)\n",
    "\n",
    "\n",
    "Em comparação com a norma $L_2$,\n",
    "é menos influenciado por outliers.\n",
    "Para calcular a norma $L_1$, nós compomos\n",
    "a função de valor absoluto com uma soma sobre os elementos.\n"
   ]
  },
  {
   "cell_type": "code",
   "execution_count": 29,
   "metadata": {
    "origin_pos": 114,
    "tab": [
     "pytorch"
    ]
   },
   "outputs": [
    {
     "data": {
      "text/plain": [
       "tensor(7.)"
      ]
     },
     "execution_count": 29,
     "metadata": {},
     "output_type": "execute_result"
    }
   ],
   "source": [
    "torch.abs(u).sum()"
   ]
  },
  {
   "cell_type": "markdown",
   "metadata": {
    "origin_pos": 116
   },
   "source": [
    "Tanto a norma $L_2$ quanto a norma $L_1$\n",
    "são casos especiais da norma mais geral $L_p$:\n",
    "\n",
    "$$\\|\\mathbf{x}\\|_p = \\left(\\sum_{i=1}^n \\left|x_i \\right|^p \\right)^{1/p}.$$\n",
    "\n",
    "Análogo a $L_2$ normas de vetores,\n",
    "[**a *norma de Frobenius* de uma matriz $\\mathbf{X} \\in \\mathbb{R}^{m \\times n}$**]\n",
    "é a raiz quadrada da soma dos quadrados dos elementos da matriz:\n",
    "\n",
    "[**$$\\|\\mathbf{X}\\|_F = \\sqrt{\\sum_{i=1}^m \\sum_{j=1}^n x_{ij}^2}.$$**]\n",
    "\n",
    "A norma Frobenius satisfaz todas as propriedades das normas vetoriais.\n",
    "Ele se comporta como se fosse uma norma $L_2$ de um vetor em forma de matriz.\n",
    "Invocar a função a seguir calculará a norma de Frobenius de uma matriz.\n"
   ]
  },
  {
   "cell_type": "code",
   "execution_count": 30,
   "metadata": {
    "origin_pos": 118,
    "tab": [
     "pytorch"
    ]
   },
   "outputs": [
    {
     "data": {
      "text/plain": [
       "tensor(6.)"
      ]
     },
     "execution_count": 30,
     "metadata": {},
     "output_type": "execute_result"
    }
   ],
   "source": [
    "torch.norm(torch.ones((4, 9)))"
   ]
  },
  {
   "cell_type": "markdown",
   "metadata": {
    "origin_pos": 120
   },
   "source": [
    "### Normas e Objetivos\n",
    ":label:`subsec_norms_and_objectives`\n",
    "\n",
    "\n",
    "Embora não queiramos nos adiantar muito,\n",
    "já podemos ter uma intuição sobre por que esses conceitos são úteis.\n",
    "No *Deep Learning*, muitas vezes tentamos resolver problemas de otimização:\n",
    "*maximizar* a probabilidade atribuída aos dados observados;\n",
    "*minimizar* a distância entre as previsões\n",
    "e as observações de verdade.\n",
    "Atribuir representações vetoriais a itens (como palavras, produtos ou artigos de notícias)\n",
    "de modo que a distância entre itens semelhantes seja minimizada,\n",
    "e a distância entre itens diferentes é maximizada.\n",
    "Muitas vezes, os objetivos, talvez os componentes mais importantes\n",
    "de algoritmos de *Deep Learning* (além dos dados),\n",
    "são expressos como normas.\n",
    "\n",
    "\n",
    "\n",
    "## Mais sobre Algebra Linear\n",
    "\n",
    "Apenas nesta seção,\n",
    "nós ensinamos a vocês toda a álgebra linear\n",
    "que você precisa entender\n",
    "um pedaço notável do aprendizado profundo moderno.\n",
    "Há muito mais coisas na álgebra linear\n",
    "e muito dessa matemática é útil para o *Deep Learning*.\n",
    "Por exemplo, as matrizes podem ser decompostas em fatores,\n",
    "e essas decomposições podem revelar\n",
    "estrutura de baixa dimensão em conjuntos de dados do mundo real.\n",
    "Existem subcampos inteiros de *Deep Learning*\n",
    "que se concentram no uso de decomposições de matriz\n",
    "e suas generalizações para tensores de alta ordem\n",
    "para descobrir a estrutura em conjuntos de dados e resolver problemas de previsão.\n",
    "Mas este livro se concentra no *Deep Learning*.\n",
    "E acreditamos que você estará muito mais inclinado a aprender mais matemática\n",
    "depois de sujar as mãos\n",
    "implantar modelos úteis de aprendizado de máquina em conjuntos de dados reais.\n",
    "Portanto, embora nos reservemos o direito de introduzir mais matemática muito mais tarde,\n",
    "vamos encerrar esta seção aqui.\n",
    "\n",
    "Se voce gostaria de aprender mais sobre Algebra Linear, pode procurar em \n",
    "[apêndice online sobre operações de algebra linear](https://d2l.ai/chapter_appendix-mathematics-for-deep-learning/geometry-linear-algebraic-ops.html)\n",
    "ou outra excelente fonte :cite:`Strang.1993,Kolter.2008,Petersen.Pedersen.ea.2008`.\n",
    "\n",
    "\n",
    "\n",
    "## Sumário\n",
    "\n",
    "* Escalares, vetores, matrizes e tensores são objetos matemáticos básicos em álgebra linear.\n",
    "* Vetores generalizam escalares e matrizes generalizam vetores.\n",
    "* Escalares, vetores, matrizes e tensores têm zero, um, dois e um número arbitrário de eixos, respectivamente.\n",
    "* Um tensor pode ser reduzido ao longo dos eixos especificados por `soma` e `média`.\n",
    "* A multiplicação elementar de duas matrizes é chamada de produto Hadamard. É diferente da multiplicação de matrizes.\n",
    "* No aprendizado profundo, geralmente trabalhamos com normas como a norma $L_1$, a norma $L_2$ e a norma Frobenius.\n",
    "* Podemos realizar uma variedade de operações sobre escalares, vetores, matrizes e tensores.\n",
    "\n",
    "## Exercícios\n",
    "\n",
    "1. Prove que a transposta de uma matriz $\\mathbf {A}$ transposta é $\\mathbf {A}$: $(\\mathbf {A} ^ \\top) ^ \\top = \\mathbf {A}$.\n",
    "1. Dadas duas matrizes $\\mathbf {A}$ e $\\mathbf {B}$, mostre que a soma das transpostas é igual à transposta de uma soma: $\\mathbf {A} ^ \\top + \\mathbf {B} ^ \\top = (\\mathbf {A} + \\mathbf {B}) ^ \\top$.\n",
    "1. Dada qualquer matriz quadrada $\\mathbf {A}$, $\\mathbf {A} + \\mathbf {A} ^ \\top$ é sempre simétrica? Porque?\n",
    "1. Definimos o tensor `X` de forma (2, 3, 4) nesta seção. Qual é a saída de `len (X)`?\n",
    "1. Para um tensor `X` de forma arbitrária, `len (X) `sempre corresponde ao comprimento de um certo eixo de `X`? Qual é esse eixo?\n",
    "1. Execute `A / A.sum (eixo = 1)` e veja o que acontece. Você pode analisar o motivo?\n",
    "1. Ao viajar entre dois pontos em Manhattan, qual é a distância que você precisa percorrer em termos de coordenadas, ou seja, em termos de avenidas e ruas? Você pode viajar na diagonal?\n",
    "1. Considere um tensor com forma (2, 3, 4). Quais são as formas das saídas de soma ao longo dos eixos 0, 1 e 2?\n",
    "1. Alimente um tensor com 3 ou mais eixos para a função `linalg.norm` e observe sua saída. O que essa função calcula para tensores de forma arbitrária?\n"
   ]
  },
  {
   "cell_type": "markdown",
   "metadata": {
    "origin_pos": 122,
    "tab": [
     "pytorch"
    ]
   },
   "source": [
    "[Discussions](https://discuss.d2l.ai/t/31)\n"
   ]
  },
  {
   "cell_type": "markdown",
   "metadata": {
    "origin_pos": 124
   },
   "source": [
    "<!--stackedit_data:\n",
    "eyJoaXN0b3J5IjpbMTM5NjcyMTQ4NSwtMTM5MjIzNjEzMSwxNj\n",
    "YzOTY2MDg1LC0xNzU2MjUxNTU4LDIwNzQ0MzkxOTMsLTQ5MjUw\n",
    "MTY0MSwxMTA1NzM3OTQ4LDYwMTg4NzIzNiw4NTc0ODg5OTksMT\n",
    "Y4MTA1MjQyMSwxNjM5NjEyNzk5LDIwMzc5Njc4NjQsMTg0OTQ5\n",
    "NDc3NCwxMDE5Mjg4MDM2XX0=\n",
    "-->\n"
   ]
  }
 ],
 "metadata": {
  "kernelspec": {
   "display_name": "conda_pytorch_p36",
   "name": "conda_pytorch_p36"
  },
  "language_info": {
   "name": "python"
  }
 },
 "nbformat": 4,
 "nbformat_minor": 4
}