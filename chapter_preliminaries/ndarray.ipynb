{
 "cells": [
  {
   "cell_type": "markdown",
   "id": "80fba2db",
   "metadata": {
    "origin_pos": 1
   },
   "source": [
    "# Data Manipulation\n",
    ":label:`sec_ndarray`\n",
    "\n",
    "In order to get anything done, \n",
    "we need some way to store and manipulate data.\n",
    "Generally, there are two important things \n",
    "we need to do with data: \n",
    "(i) acquire them; \n",
    "and (ii) process them once they are inside the computer. \n",
    "There is no point in acquiring data \n",
    "without some way to store it, \n",
    "so to start, let's get our hands dirty\n",
    "with $n$-dimensional arrays, \n",
    "which we also call *tensors*.\n",
    "If you already know the NumPy \n",
    "scientific computing package, \n",
    "this will be a breeze.\n",
    "For all modern deep learning frameworks,\n",
    "the *tensor class* (`ndarray` in MXNet, \n",
    "`Tensor` in PyTorch and TensorFlow) \n",
    "resembles NumPy's `ndarray`,\n",
    "with a few killer features added.\n",
    "First, the tensor class\n",
    "supports automatic differentiation.\n",
    "Second, it leverages GPUs\n",
    "to accelerate numerical computation,\n",
    "whereas NumPy only runs on CPUs.\n",
    "These properties make neural networks\n",
    "both easy to code and fast to run.\n",
    "\n",
    "\n",
    "\n",
    "## Getting Started\n"
   ]
  },
  {
   "cell_type": "markdown",
   "id": "6763c107",
   "metadata": {
    "origin_pos": 3,
    "tab": [
     "pytorch"
    ]
   },
   "source": [
    "(**To start, we import the PyTorch library.\n",
    "Note that the package name is `torch`.**)\n"
   ]
  },
  {
   "cell_type": "code",
   "execution_count": 1,
   "id": "16d950a7",
   "metadata": {
    "execution": {
     "iopub.execute_input": "2022-07-13T08:08:18.420748Z",
     "iopub.status.busy": "2022-07-13T08:08:18.420184Z",
     "iopub.status.idle": "2022-07-13T08:08:19.233854Z",
     "shell.execute_reply": "2022-07-13T08:08:19.232931Z"
    },
    "origin_pos": 6,
    "tab": [
     "pytorch"
    ]
   },
   "outputs": [],
   "source": [
    "import torch"
   ]
  },
  {
   "cell_type": "markdown",
   "id": "75430e22",
   "metadata": {
    "origin_pos": 8
   },
   "source": [
    "[**A tensor represents a (possibly multi-dimensional) array of numerical values.**]\n",
    "With one axis, a tensor is called a *vector*.\n",
    "With two axes, a tensor is called a *matrix*.\n",
    "With $k > 2$ axes, we drop the specialized names\n",
    "and just refer to the object as a $k^\\mathrm{th}$ *order tensor*.\n"
   ]
  },
  {
   "cell_type": "markdown",
   "id": "fa015a81",
   "metadata": {
    "origin_pos": 10,
    "tab": [
     "pytorch"
    ]
   },
   "source": [
    "PyTorch provides a variety of functions \n",
    "for creating new tensors \n",
    "prepopulated with values. \n",
    "For example, by invoking `arange(n)`,\n",
    "we can create a vector of evenly spaced values,\n",
    "starting at 0 (included) \n",
    "and ending at `n` (not included).\n",
    "By default, the interval size is $1$.\n",
    "Unless otherwise specified, \n",
    "new tensors are stored in main memory \n",
    "and designated for CPU-based computation.\n"
   ]
  },
  {
   "cell_type": "code",
   "execution_count": 2,
   "id": "1ef352f2",
   "metadata": {
    "execution": {
     "iopub.execute_input": "2022-07-13T08:08:19.238106Z",
     "iopub.status.busy": "2022-07-13T08:08:19.237746Z",
     "iopub.status.idle": "2022-07-13T08:08:19.250830Z",
     "shell.execute_reply": "2022-07-13T08:08:19.250059Z"
    },
    "origin_pos": 13,
    "tab": [
     "pytorch"
    ]
   },
   "outputs": [
    {
     "data": {
      "text/plain": [
       "tensor([ 0.,  1.,  2.,  3.,  4.,  5.,  6.,  7.,  8.,  9., 10., 11.])"
      ]
     },
     "execution_count": 2,
     "metadata": {},
     "output_type": "execute_result"
    }
   ],
   "source": [
    "x = torch.arange(12, dtype=torch.float32)\n",
    "x"
   ]
  },
  {
   "cell_type": "markdown",
   "id": "fdbf1d05",
   "metadata": {
    "origin_pos": 16,
    "tab": [
     "pytorch"
    ]
   },
   "source": [
    "Each of these values is called\n",
    "an *element* of the tensor.\n",
    "The tensor `x` contains 12 elements.\n",
    "We can inspect the total number of elements \n",
    "in a tensor via its `numel` method.\n"
   ]
  },
  {
   "cell_type": "code",
   "execution_count": 3,
   "id": "a01da7cf",
   "metadata": {
    "execution": {
     "iopub.execute_input": "2022-07-13T08:08:19.254160Z",
     "iopub.status.busy": "2022-07-13T08:08:19.253871Z",
     "iopub.status.idle": "2022-07-13T08:08:19.259018Z",
     "shell.execute_reply": "2022-07-13T08:08:19.258266Z"
    },
    "origin_pos": 19,
    "tab": [
     "pytorch"
    ]
   },
   "outputs": [
    {
     "data": {
      "text/plain": [
       "12"
      ]
     },
     "execution_count": 3,
     "metadata": {},
     "output_type": "execute_result"
    }
   ],
   "source": [
    "x.numel()"
   ]
  },
  {
   "cell_type": "markdown",
   "id": "e538ceee",
   "metadata": {
    "origin_pos": 21
   },
   "source": [
    "(**We can access a tensor's *shape***) \n",
    "(the length along each axis)\n",
    "by inspecting its `shape` attribute.\n",
    "Because we are dealing with a vector here,\n",
    "the `shape` contains just a single element\n",
    "and is identical to the size.\n"
   ]
  },
  {
   "cell_type": "code",
   "execution_count": 4,
   "id": "2ecc34f1",
   "metadata": {
    "execution": {
     "iopub.execute_input": "2022-07-13T08:08:19.262232Z",
     "iopub.status.busy": "2022-07-13T08:08:19.261947Z",
     "iopub.status.idle": "2022-07-13T08:08:19.267036Z",
     "shell.execute_reply": "2022-07-13T08:08:19.266276Z"
    },
    "origin_pos": 22,
    "tab": [
     "pytorch"
    ]
   },
   "outputs": [
    {
     "data": {
      "text/plain": [
       "torch.Size([12])"
      ]
     },
     "execution_count": 4,
     "metadata": {},
     "output_type": "execute_result"
    }
   ],
   "source": [
    "x.shape"
   ]
  },
  {
   "cell_type": "markdown",
   "id": "26fc8ce7",
   "metadata": {
    "origin_pos": 23
   },
   "source": [
    "We can [**change the shape of a tensor\n",
    "without altering its size or values**],\n",
    "by invoking `reshape`.\n",
    "For example, we can transform \n",
    "our vector `x` whose shape is (12,) \n",
    "to a matrix `X`  with shape (3, 4).\n",
    "This new tensor retains all elements\n",
    "but reconfigures them into a matrix.\n",
    "Notice that the elements of our vector\n",
    "are laid out one row at a time and thus\n",
    "`x[3] == X[0, 3]`.\n"
   ]
  },
  {
   "cell_type": "code",
   "execution_count": 5,
   "id": "70969cab",
   "metadata": {
    "execution": {
     "iopub.execute_input": "2022-07-13T08:08:19.270169Z",
     "iopub.status.busy": "2022-07-13T08:08:19.269883Z",
     "iopub.status.idle": "2022-07-13T08:08:19.276123Z",
     "shell.execute_reply": "2022-07-13T08:08:19.275318Z"
    },
    "origin_pos": 24,
    "tab": [
     "pytorch"
    ]
   },
   "outputs": [
    {
     "data": {
      "text/plain": [
       "tensor([[ 0.,  1.,  2.,  3.],\n",
       "        [ 4.,  5.,  6.,  7.],\n",
       "        [ 8.,  9., 10., 11.]])"
      ]
     },
     "execution_count": 5,
     "metadata": {},
     "output_type": "execute_result"
    }
   ],
   "source": [
    "X = x.reshape(3, 4)\n",
    "X"
   ]
  },
  {
   "cell_type": "markdown",
   "id": "7bd5cfac",
   "metadata": {
    "origin_pos": 26
   },
   "source": [
    "Note that specifying every shape component\n",
    "to `reshape` is redundant.\n",
    "Because we already know our tensor's size,\n",
    "we can work out one component of the shape given the rest.\n",
    "For example, given a tensor of size $n$\n",
    "and target shape ($h$, $w$),\n",
    "we know that $w = n/h$.\n",
    "To automatically infer one component of the shape,\n",
    "we can place a `-1` for the shape component\n",
    "that should be inferred automatically.\n",
    "In our case, instead of calling `x.reshape(3, 4)`,\n",
    "we could have equivalently called `x.reshape(-1, 4)` or `x.reshape(3, -1)`.\n",
    "\n",
    "Practitioners often need to work with tensors\n",
    "initialized to contain all zeros or ones.\n",
    "[**We can construct a tensor with all elements set to zero**] (~~or one~~)\n",
    "and a shape of (2, 3, 4) via the `zeros` function.\n"
   ]
  },
  {
   "cell_type": "code",
   "execution_count": 6,
   "id": "cb5164e4",
   "metadata": {
    "execution": {
     "iopub.execute_input": "2022-07-13T08:08:19.279304Z",
     "iopub.status.busy": "2022-07-13T08:08:19.278994Z",
     "iopub.status.idle": "2022-07-13T08:08:19.285014Z",
     "shell.execute_reply": "2022-07-13T08:08:19.284216Z"
    },
    "origin_pos": 28,
    "tab": [
     "pytorch"
    ]
   },
   "outputs": [
    {
     "data": {
      "text/plain": [
       "tensor([[[0., 0., 0., 0.],\n",
       "         [0., 0., 0., 0.],\n",
       "         [0., 0., 0., 0.]],\n",
       "\n",
       "        [[0., 0., 0., 0.],\n",
       "         [0., 0., 0., 0.],\n",
       "         [0., 0., 0., 0.]]])"
      ]
     },
     "execution_count": 6,
     "metadata": {},
     "output_type": "execute_result"
    }
   ],
   "source": [
    "torch.zeros((2, 3, 4))"
   ]
  },
  {
   "cell_type": "markdown",
   "id": "a28de1bf",
   "metadata": {
    "origin_pos": 30
   },
   "source": [
    "Similarly, we can create a tensor \n",
    "with all ones by invoking `ones`.\n"
   ]
  },
  {
   "cell_type": "code",
   "execution_count": 7,
   "id": "0efaa6b2",
   "metadata": {
    "execution": {
     "iopub.execute_input": "2022-07-13T08:08:19.288159Z",
     "iopub.status.busy": "2022-07-13T08:08:19.287875Z",
     "iopub.status.idle": "2022-07-13T08:08:19.294211Z",
     "shell.execute_reply": "2022-07-13T08:08:19.293447Z"
    },
    "origin_pos": 32,
    "tab": [
     "pytorch"
    ]
   },
   "outputs": [
    {
     "data": {
      "text/plain": [
       "tensor([[[1., 1., 1., 1.],\n",
       "         [1., 1., 1., 1.],\n",
       "         [1., 1., 1., 1.]],\n",
       "\n",
       "        [[1., 1., 1., 1.],\n",
       "         [1., 1., 1., 1.],\n",
       "         [1., 1., 1., 1.]]])"
      ]
     },
     "execution_count": 7,
     "metadata": {},
     "output_type": "execute_result"
    }
   ],
   "source": [
    "torch.ones((2, 3, 4))"
   ]
  },
  {
   "cell_type": "markdown",
   "id": "5fa398cb",
   "metadata": {
    "origin_pos": 34
   },
   "source": [
    "We often wish to \n",
    "[**sample each element randomly (and independently)**] \n",
    "from a given probability distribution.\n",
    "For example, the parameters of neural networks\n",
    "are often initialized randomly.\n",
    "The following snippet creates a tensor \n",
    "with elements drawn from \n",
    "a standard Gaussian (normal) distribution\n",
    "with mean 0 and standard deviation 1.\n"
   ]
  },
  {
   "cell_type": "code",
   "execution_count": 8,
   "id": "3064003f",
   "metadata": {
    "execution": {
     "iopub.execute_input": "2022-07-13T08:08:19.297495Z",
     "iopub.status.busy": "2022-07-13T08:08:19.297210Z",
     "iopub.status.idle": "2022-07-13T08:08:19.303296Z",
     "shell.execute_reply": "2022-07-13T08:08:19.302457Z"
    },
    "origin_pos": 36,
    "tab": [
     "pytorch"
    ]
   },
   "outputs": [
    {
     "data": {
      "text/plain": [
       "tensor([[-2.9653,  0.2525, -0.2086, -0.2206],\n",
       "        [-2.0800, -0.1977,  1.7399,  0.4036],\n",
       "        [-2.1461, -0.5422, -0.2841,  0.7678]])"
      ]
     },
     "execution_count": 8,
     "metadata": {},
     "output_type": "execute_result"
    }
   ],
   "source": [
    "torch.randn(3, 4)"
   ]
  },
  {
   "cell_type": "markdown",
   "id": "71b943a9",
   "metadata": {
    "origin_pos": 38
   },
   "source": [
    "Finally, we can construct tensors by\n",
    "[**supplying the exact values for each element**] \n",
    "by supplying (possibly nested) Python list(s) \n",
    "containing numerical literals.\n",
    "Here, we construct a matrix with a list of lists,\n",
    "where the outermost list corresponds to axis 0,\n",
    "and the inner list to axis 1.\n"
   ]
  },
  {
   "cell_type": "code",
   "execution_count": 9,
   "id": "00892fdb",
   "metadata": {
    "execution": {
     "iopub.execute_input": "2022-07-13T08:08:19.306816Z",
     "iopub.status.busy": "2022-07-13T08:08:19.306416Z",
     "iopub.status.idle": "2022-07-13T08:08:19.313183Z",
     "shell.execute_reply": "2022-07-13T08:08:19.312371Z"
    },
    "origin_pos": 40,
    "tab": [
     "pytorch"
    ]
   },
   "outputs": [
    {
     "data": {
      "text/plain": [
       "tensor([[2, 1, 4, 3],\n",
       "        [1, 2, 3, 4],\n",
       "        [4, 3, 2, 1]])"
      ]
     },
     "execution_count": 9,
     "metadata": {},
     "output_type": "execute_result"
    }
   ],
   "source": [
    "torch.tensor([[2, 1, 4, 3], [1, 2, 3, 4], [4, 3, 2, 1]])"
   ]
  },
  {
   "cell_type": "markdown",
   "id": "a8e3d34f",
   "metadata": {
    "origin_pos": 42
   },
   "source": [
    "## Indexing and Slicing\n",
    "\n",
    "As with  Python lists,\n",
    "we can access tensor elements \n",
    "by indexing (starting with 0).\n",
    "To access an element based on its position\n",
    "relative to the end of the list,\n",
    "we can use negative indexing.\n",
    "Finally, we can access whole ranges of indices \n",
    "via slicing (e.g., `X[start:stop]`), \n",
    "where the returned value includes \n",
    "the first index (`start`) *but not the last* (`stop`).\n",
    "Finally, when only one index (or slice)\n",
    "is specified for a $k^\\mathrm{th}$ order tensor,\n",
    "it is applied along axis 0.\n",
    "Thus, in the following code,\n",
    "[**`[-1]` selects the last row and `[1:3]`\n",
    "selects the second and third rows**].\n"
   ]
  },
  {
   "cell_type": "code",
   "execution_count": 10,
   "id": "88eaf38f",
   "metadata": {
    "execution": {
     "iopub.execute_input": "2022-07-13T08:08:19.316456Z",
     "iopub.status.busy": "2022-07-13T08:08:19.316173Z",
     "iopub.status.idle": "2022-07-13T08:08:19.322647Z",
     "shell.execute_reply": "2022-07-13T08:08:19.321890Z"
    },
    "origin_pos": 43,
    "tab": [
     "pytorch"
    ]
   },
   "outputs": [
    {
     "data": {
      "text/plain": [
       "(tensor([ 8.,  9., 10., 11.]),\n",
       " tensor([[ 4.,  5.,  6.,  7.],\n",
       "         [ 8.,  9., 10., 11.]]))"
      ]
     },
     "execution_count": 10,
     "metadata": {},
     "output_type": "execute_result"
    }
   ],
   "source": [
    "X[-1], X[1:3]"
   ]
  },
  {
   "cell_type": "markdown",
   "id": "4e869a9f",
   "metadata": {
    "origin_pos": 44,
    "tab": [
     "pytorch"
    ]
   },
   "source": [
    "Beyond reading, (**we can also write elements of a matrix by specifying indices.**)\n"
   ]
  },
  {
   "cell_type": "code",
   "execution_count": 11,
   "id": "29408263",
   "metadata": {
    "execution": {
     "iopub.execute_input": "2022-07-13T08:08:19.325885Z",
     "iopub.status.busy": "2022-07-13T08:08:19.325601Z",
     "iopub.status.idle": "2022-07-13T08:08:19.331689Z",
     "shell.execute_reply": "2022-07-13T08:08:19.330876Z"
    },
    "origin_pos": 46,
    "tab": [
     "pytorch"
    ]
   },
   "outputs": [
    {
     "data": {
      "text/plain": [
       "tensor([[ 0.,  1.,  2.,  3.],\n",
       "        [ 4.,  5., 17.,  7.],\n",
       "        [ 8.,  9., 10., 11.]])"
      ]
     },
     "execution_count": 11,
     "metadata": {},
     "output_type": "execute_result"
    }
   ],
   "source": [
    "X[1, 2] = 17\n",
    "X"
   ]
  },
  {
   "cell_type": "markdown",
   "id": "d2d20dcc",
   "metadata": {
    "origin_pos": 48
   },
   "source": [
    "If we want [**to assign multiple elements the same value,\n",
    "we apply the indexing on the left-hand side \n",
    "of the assignment operation.**]\n",
    "For instance, `[:2, :]`  accesses \n",
    "the first and second rows,\n",
    "where `:` takes all the elements along axis 1 (column).\n",
    "While we discussed indexing for matrices,\n",
    "this also works for vectors\n",
    "and for tensors of more than 2 dimensions.\n"
   ]
  },
  {
   "cell_type": "code",
   "execution_count": 12,
   "id": "fb7112a3",
   "metadata": {
    "execution": {
     "iopub.execute_input": "2022-07-13T08:08:19.334887Z",
     "iopub.status.busy": "2022-07-13T08:08:19.334600Z",
     "iopub.status.idle": "2022-07-13T08:08:19.340720Z",
     "shell.execute_reply": "2022-07-13T08:08:19.339920Z"
    },
    "origin_pos": 49,
    "tab": [
     "pytorch"
    ]
   },
   "outputs": [
    {
     "data": {
      "text/plain": [
       "tensor([[12., 12., 12., 12.],\n",
       "        [12., 12., 12., 12.],\n",
       "        [ 8.,  9., 10., 11.]])"
      ]
     },
     "execution_count": 12,
     "metadata": {},
     "output_type": "execute_result"
    }
   ],
   "source": [
    "X[:2, :] = 12\n",
    "X"
   ]
  },
  {
   "cell_type": "markdown",
   "id": "f031b1e4",
   "metadata": {
    "origin_pos": 51
   },
   "source": [
    "## Operations\n",
    "\n",
    "Now that we know how to construct tensors\n",
    "and how to read from and write to their elements,\n",
    "we can begin to manipulate them\n",
    "with various mathematical operations.\n",
    "Among the most useful tools \n",
    "are the *elementwise* operations.\n",
    "These apply a standard scalar operation\n",
    "to each element of a tensor.\n",
    "For functions that take two tensors as inputs,\n",
    "elementwise operations apply some standard binary operator\n",
    "on each pair of corresponding elements.\n",
    "We can create an elementwise function \n",
    "from any function that maps \n",
    "from a scalar to a scalar.\n",
    "\n",
    "In mathematical notation, we denote such\n",
    "*unary* scalar operators (taking one input)\n",
    "by the signature \n",
    "$f: \\mathbb{R} \\rightarrow \\mathbb{R}$.\n",
    "This just means that the function maps\n",
    "from any real number onto some other real number.\n",
    "Most standard operators can be applied elementwise\n",
    "including unary operators like $e^x$.\n"
   ]
  },
  {
   "cell_type": "code",
   "execution_count": 13,
   "id": "8a56a076",
   "metadata": {
    "execution": {
     "iopub.execute_input": "2022-07-13T08:08:19.344156Z",
     "iopub.status.busy": "2022-07-13T08:08:19.343846Z",
     "iopub.status.idle": "2022-07-13T08:08:19.349823Z",
     "shell.execute_reply": "2022-07-13T08:08:19.349048Z"
    },
    "origin_pos": 53,
    "tab": [
     "pytorch"
    ]
   },
   "outputs": [
    {
     "data": {
      "text/plain": [
       "tensor([162754.7969, 162754.7969, 162754.7969, 162754.7969, 162754.7969,\n",
       "        162754.7969, 162754.7969, 162754.7969,   2980.9580,   8103.0840,\n",
       "         22026.4648,  59874.1406])"
      ]
     },
     "execution_count": 13,
     "metadata": {},
     "output_type": "execute_result"
    }
   ],
   "source": [
    "torch.exp(x)"
   ]
  },
  {
   "cell_type": "markdown",
   "id": "4e38083e",
   "metadata": {
    "origin_pos": 55
   },
   "source": [
    "Likewise, we denote *binary* scalar operators,\n",
    "which map pairs of real numbers\n",
    "to a (single) real number\n",
    "via the signature \n",
    "$f: \\mathbb{R}, \\mathbb{R} \\rightarrow \\mathbb{R}$.\n",
    "Given any two vectors $\\mathbf{u}$ \n",
    "and $\\mathbf{v}$ *of the same shape*,\n",
    "and a binary operator $f$, we can produce a vector\n",
    "$\\mathbf{c} = F(\\mathbf{u},\\mathbf{v})$\n",
    "by setting $c_i \\gets f(u_i, v_i)$ for all $i$,\n",
    "where $c_i, u_i$, and $v_i$ are the $i^\\mathrm{th}$ elements\n",
    "of vectors $\\mathbf{c}, \\mathbf{u}$, and $\\mathbf{v}$.\n",
    "Here, we produced the vector-valued\n",
    "$F: \\mathbb{R}^d, \\mathbb{R}^d \\rightarrow \\mathbb{R}^d$\n",
    "by *lifting* the scalar function\n",
    "to an elementwise vector operation.\n",
    "The common standard arithmetic operators\n",
    "for addition (`+`), subtraction (`-`), \n",
    "multiplication (`*`), division (`/`), \n",
    "and exponentiation (`**`)\n",
    "have all been *lifted* to elementwise operations\n",
    "for identically-shaped tensors of arbitrary shape.\n"
   ]
  },
  {
   "cell_type": "code",
   "execution_count": 14,
   "id": "b8d6ffac",
   "metadata": {
    "execution": {
     "iopub.execute_input": "2022-07-13T08:08:19.353028Z",
     "iopub.status.busy": "2022-07-13T08:08:19.352743Z",
     "iopub.status.idle": "2022-07-13T08:08:19.361094Z",
     "shell.execute_reply": "2022-07-13T08:08:19.360282Z"
    },
    "origin_pos": 57,
    "tab": [
     "pytorch"
    ]
   },
   "outputs": [
    {
     "data": {
      "text/plain": [
       "(tensor([ 3.,  4.,  6., 10.]),\n",
       " tensor([-1.,  0.,  2.,  6.]),\n",
       " tensor([ 2.,  4.,  8., 16.]),\n",
       " tensor([0.5000, 1.0000, 2.0000, 4.0000]),\n",
       " tensor([ 1.,  4., 16., 64.]))"
      ]
     },
     "execution_count": 14,
     "metadata": {},
     "output_type": "execute_result"
    }
   ],
   "source": [
    "x = torch.tensor([1.0, 2, 4, 8])\n",
    "y = torch.tensor([2, 2, 2, 2])\n",
    "x + y, x - y, x * y, x / y, x ** y"
   ]
  },
  {
   "cell_type": "markdown",
   "id": "6858e8ad",
   "metadata": {
    "origin_pos": 59
   },
   "source": [
    "In addition to elementwise computations,\n",
    "we can also perform linear algebra operations,\n",
    "such as dot products and matrix multiplications.\n",
    "We will elaborate on these shortly\n",
    "in :numref:`sec_linear-algebra`.\n",
    "\n",
    "We can also [***concatenate* multiple tensors together,**]\n",
    "stacking them end-to-end to form a larger tensor.\n",
    "We just need to provide a list of tensors\n",
    "and tell the system along which axis to concatenate.\n",
    "The example below shows what happens when we concatenate\n",
    "two matrices along rows (axis 0)\n",
    "vs. columns (axis 1).\n",
    "We can see that the first output's axis-0 length ($6$)\n",
    "is the sum of the two input tensors' axis-0 lengths ($3 + 3$);\n",
    "while the second output's axis-1 length ($8$)\n",
    "is the sum of the two input tensors' axis-1 lengths ($4 + 4$).\n"
   ]
  },
  {
   "cell_type": "code",
   "execution_count": 15,
   "id": "c1af1bd2",
   "metadata": {
    "execution": {
     "iopub.execute_input": "2022-07-13T08:08:19.364315Z",
     "iopub.status.busy": "2022-07-13T08:08:19.364027Z",
     "iopub.status.idle": "2022-07-13T08:08:19.372687Z",
     "shell.execute_reply": "2022-07-13T08:08:19.371897Z"
    },
    "origin_pos": 61,
    "tab": [
     "pytorch"
    ]
   },
   "outputs": [
    {
     "data": {
      "text/plain": [
       "(tensor([[ 0.,  1.,  2.,  3.],\n",
       "         [ 4.,  5.,  6.,  7.],\n",
       "         [ 8.,  9., 10., 11.],\n",
       "         [ 2.,  1.,  4.,  3.],\n",
       "         [ 1.,  2.,  3.,  4.],\n",
       "         [ 4.,  3.,  2.,  1.]]),\n",
       " tensor([[ 0.,  1.,  2.,  3.,  2.,  1.,  4.,  3.],\n",
       "         [ 4.,  5.,  6.,  7.,  1.,  2.,  3.,  4.],\n",
       "         [ 8.,  9., 10., 11.,  4.,  3.,  2.,  1.]]))"
      ]
     },
     "execution_count": 15,
     "metadata": {},
     "output_type": "execute_result"
    }
   ],
   "source": [
    "X = torch.arange(12, dtype=torch.float32).reshape((3,4))\n",
    "Y = torch.tensor([[2.0, 1, 4, 3], [1, 2, 3, 4], [4, 3, 2, 1]])\n",
    "torch.cat((X, Y), dim=0), torch.cat((X, Y), dim=1)"
   ]
  },
  {
   "cell_type": "markdown",
   "id": "11199676",
   "metadata": {
    "origin_pos": 63
   },
   "source": [
    "Sometimes, we want to \n",
    "[**construct a binary tensor via *logical statements*.**]\n",
    "Take `X == Y` as an example.\n",
    "For each position `i, j`, if `X[i, j]` and `Y[i, j]` are equal, \n",
    "then the corresponding entry in the result takes value `1`,\n",
    "otherwise it takes value `0`.\n"
   ]
  },
  {
   "cell_type": "code",
   "execution_count": 16,
   "id": "4deb1784",
   "metadata": {
    "execution": {
     "iopub.execute_input": "2022-07-13T08:08:19.376557Z",
     "iopub.status.busy": "2022-07-13T08:08:19.376273Z",
     "iopub.status.idle": "2022-07-13T08:08:19.381847Z",
     "shell.execute_reply": "2022-07-13T08:08:19.381083Z"
    },
    "origin_pos": 64,
    "tab": [
     "pytorch"
    ]
   },
   "outputs": [
    {
     "data": {
      "text/plain": [
       "tensor([[False,  True, False,  True],\n",
       "        [False, False, False, False],\n",
       "        [False, False, False, False]])"
      ]
     },
     "execution_count": 16,
     "metadata": {},
     "output_type": "execute_result"
    }
   ],
   "source": [
    "X == Y"
   ]
  },
  {
   "cell_type": "markdown",
   "id": "28b011e4",
   "metadata": {
    "origin_pos": 65
   },
   "source": [
    "[**Summing all the elements in the tensor**] yields a tensor with only one element.\n"
   ]
  },
  {
   "cell_type": "code",
   "execution_count": 17,
   "id": "452b065a",
   "metadata": {
    "execution": {
     "iopub.execute_input": "2022-07-13T08:08:19.385093Z",
     "iopub.status.busy": "2022-07-13T08:08:19.384795Z",
     "iopub.status.idle": "2022-07-13T08:08:19.390510Z",
     "shell.execute_reply": "2022-07-13T08:08:19.389701Z"
    },
    "origin_pos": 66,
    "tab": [
     "pytorch"
    ]
   },
   "outputs": [
    {
     "data": {
      "text/plain": [
       "tensor(66.)"
      ]
     },
     "execution_count": 17,
     "metadata": {},
     "output_type": "execute_result"
    }
   ],
   "source": [
    "X.sum()"
   ]
  },
  {
   "cell_type": "markdown",
   "id": "4f48a3d9",
   "metadata": {
    "origin_pos": 68
   },
   "source": [
    "## Broadcasting\n",
    ":label:`subsec_broadcasting`\n",
    "\n",
    "By now, you know how to perform \n",
    "elementwise binary operations\n",
    "on two tensors of the same shape. \n",
    "Under certain conditions,\n",
    "even when shapes differ, \n",
    "we can still [**perform elementwise binary operations\n",
    "by invoking the *broadcasting mechanism*.**]\n",
    "Broadcasting works according to \n",
    "the following two-step procedure:\n",
    "(i) expand one or both arrays\n",
    "by copying elements along axes with length 1\n",
    "so that after this transformation,\n",
    "the two tensors have the same shape;\n",
    "(ii) perform an elementwise operation\n",
    "on the resulting arrays.\n"
   ]
  },
  {
   "cell_type": "code",
   "execution_count": 18,
   "id": "70967c83",
   "metadata": {
    "execution": {
     "iopub.execute_input": "2022-07-13T08:08:19.393795Z",
     "iopub.status.busy": "2022-07-13T08:08:19.393510Z",
     "iopub.status.idle": "2022-07-13T08:08:19.399928Z",
     "shell.execute_reply": "2022-07-13T08:08:19.399115Z"
    },
    "origin_pos": 70,
    "tab": [
     "pytorch"
    ]
   },
   "outputs": [
    {
     "data": {
      "text/plain": [
       "(tensor([[0],\n",
       "         [1],\n",
       "         [2]]),\n",
       " tensor([[0, 1]]))"
      ]
     },
     "execution_count": 18,
     "metadata": {},
     "output_type": "execute_result"
    }
   ],
   "source": [
    "a = torch.arange(3).reshape((3, 1))\n",
    "b = torch.arange(2).reshape((1, 2))\n",
    "a, b"
   ]
  },
  {
   "cell_type": "markdown",
   "id": "161d1385",
   "metadata": {
    "origin_pos": 72
   },
   "source": [
    "Since `a` and `b` are $3\\times1$ \n",
    "and $1\\times2$ matrices, respectively,\n",
    "their shapes do not match up.\n",
    "Broadcasting produces a larger $3\\times2$ matrix \n",
    "by replicating matrix `a` along the columns\n",
    "and matrix `b` along the rows\n",
    "before adding them elementwise.\n"
   ]
  },
  {
   "cell_type": "code",
   "execution_count": 19,
   "id": "36c42558",
   "metadata": {
    "execution": {
     "iopub.execute_input": "2022-07-13T08:08:19.403357Z",
     "iopub.status.busy": "2022-07-13T08:08:19.402966Z",
     "iopub.status.idle": "2022-07-13T08:08:19.408631Z",
     "shell.execute_reply": "2022-07-13T08:08:19.407855Z"
    },
    "origin_pos": 73,
    "tab": [
     "pytorch"
    ]
   },
   "outputs": [
    {
     "data": {
      "text/plain": [
       "tensor([[0, 1],\n",
       "        [1, 2],\n",
       "        [2, 3]])"
      ]
     },
     "execution_count": 19,
     "metadata": {},
     "output_type": "execute_result"
    }
   ],
   "source": [
    "a + b"
   ]
  },
  {
   "cell_type": "markdown",
   "id": "c49bdb3b",
   "metadata": {
    "origin_pos": 74
   },
   "source": [
    "## Saving Memory\n",
    "\n",
    "[**Running operations can cause new memory to be\n",
    "allocated to host results.**]\n",
    "For example, if we write `Y = X + Y`,\n",
    "we dereference the tensor that `Y` used to point to\n",
    "and instead point `Y` at the newly allocated memory.\n",
    "We can demonstrate this issue with Python's `id()` function,\n",
    "which gives us the exact address \n",
    "of the referenced object in memory.\n",
    "Note that after we run `Y = Y + X`,\n",
    "`id(Y)` points to a different location.\n",
    "That's because Python first evaluates `Y + X`,\n",
    "allocating new memory for the result \n",
    "and then points `Y` to this new location in memory.\n"
   ]
  },
  {
   "cell_type": "code",
   "execution_count": 20,
   "id": "da161167",
   "metadata": {
    "execution": {
     "iopub.execute_input": "2022-07-13T08:08:19.411797Z",
     "iopub.status.busy": "2022-07-13T08:08:19.411510Z",
     "iopub.status.idle": "2022-07-13T08:08:19.417102Z",
     "shell.execute_reply": "2022-07-13T08:08:19.416321Z"
    },
    "origin_pos": 75,
    "tab": [
     "pytorch"
    ]
   },
   "outputs": [
    {
     "data": {
      "text/plain": [
       "False"
      ]
     },
     "execution_count": 20,
     "metadata": {},
     "output_type": "execute_result"
    }
   ],
   "source": [
    "before = id(Y)\n",
    "Y = Y + X\n",
    "id(Y) == before"
   ]
  },
  {
   "cell_type": "markdown",
   "id": "5dcb9676",
   "metadata": {
    "origin_pos": 76
   },
   "source": [
    "This might be undesirable for two reasons.\n",
    "First, we do not want to run around\n",
    "allocating memory unnecessarily all the time.\n",
    "In machine learning, we often have\n",
    "hundreds of megabytes of parameters\n",
    "and update all of them multiple times per second.\n",
    "Whenever possible, we want to perform these updates *in place*.\n",
    "Second, we might point at the \n",
    "same parameters from multiple variables.\n",
    "If we do not update in place, \n",
    "we must be careful to update all of these references,\n",
    "lest we spring a memory leak \n",
    "or inadvertently refer to stale parameters.\n"
   ]
  },
  {
   "cell_type": "markdown",
   "id": "f9619409",
   "metadata": {
    "origin_pos": 77,
    "tab": [
     "pytorch"
    ]
   },
   "source": [
    "Fortunately, (**performing in-place operations**) is easy.\n",
    "We can assign the result of an operation\n",
    "to a previously allocated array `Y`\n",
    "by using slice notation: `Y[:] = <expression>`.\n",
    "To illustrate this concept, \n",
    "we overwrite the values of tensor `Z`,\n",
    "after initializing it, using `zeros_like`,\n",
    "to have the same shape as `Y`.\n"
   ]
  },
  {
   "cell_type": "code",
   "execution_count": 21,
   "id": "403f7a6e",
   "metadata": {
    "execution": {
     "iopub.execute_input": "2022-07-13T08:08:19.420550Z",
     "iopub.status.busy": "2022-07-13T08:08:19.420263Z",
     "iopub.status.idle": "2022-07-13T08:08:19.425558Z",
     "shell.execute_reply": "2022-07-13T08:08:19.424755Z"
    },
    "origin_pos": 80,
    "tab": [
     "pytorch"
    ]
   },
   "outputs": [
    {
     "name": "stdout",
     "output_type": "stream",
     "text": [
      "id(Z): 140568100168944\n",
      "id(Z): 140568100168944\n"
     ]
    }
   ],
   "source": [
    "Z = torch.zeros_like(Y)\n",
    "print('id(Z):', id(Z))\n",
    "Z[:] = X + Y\n",
    "print('id(Z):', id(Z))"
   ]
  },
  {
   "cell_type": "markdown",
   "id": "a23b567a",
   "metadata": {
    "origin_pos": 82,
    "tab": [
     "pytorch"
    ]
   },
   "source": [
    "[**If the value of `X` is not reused in subsequent computations,\n",
    "we can also use `X[:] = X + Y` or `X += Y`\n",
    "to reduce the memory overhead of the operation.**]\n"
   ]
  },
  {
   "cell_type": "code",
   "execution_count": 22,
   "id": "e85e18f3",
   "metadata": {
    "execution": {
     "iopub.execute_input": "2022-07-13T08:08:19.428788Z",
     "iopub.status.busy": "2022-07-13T08:08:19.428502Z",
     "iopub.status.idle": "2022-07-13T08:08:19.434122Z",
     "shell.execute_reply": "2022-07-13T08:08:19.433330Z"
    },
    "origin_pos": 84,
    "tab": [
     "pytorch"
    ]
   },
   "outputs": [
    {
     "data": {
      "text/plain": [
       "True"
      ]
     },
     "execution_count": 22,
     "metadata": {},
     "output_type": "execute_result"
    }
   ],
   "source": [
    "before = id(X)\n",
    "X += Y\n",
    "id(X) == before"
   ]
  },
  {
   "cell_type": "markdown",
   "id": "6ca9dfb5",
   "metadata": {
    "origin_pos": 86
   },
   "source": [
    "## Conversion to Other Python Objects\n"
   ]
  },
  {
   "cell_type": "markdown",
   "id": "1d010685",
   "metadata": {
    "origin_pos": 88,
    "tab": [
     "pytorch"
    ]
   },
   "source": [
    "[**Converting to a NumPy tensor (`ndarray`)**], or vice versa, is easy.\n",
    "The torch Tensor and numpy array \n",
    "will share their underlying memory, \n",
    "and changing one through an in-place operation \n",
    "will also change the other.\n"
   ]
  },
  {
   "cell_type": "code",
   "execution_count": 23,
   "id": "4c27b3d2",
   "metadata": {
    "execution": {
     "iopub.execute_input": "2022-07-13T08:08:19.437385Z",
     "iopub.status.busy": "2022-07-13T08:08:19.437101Z",
     "iopub.status.idle": "2022-07-13T08:08:19.442718Z",
     "shell.execute_reply": "2022-07-13T08:08:19.441922Z"
    },
    "origin_pos": 90,
    "tab": [
     "pytorch"
    ]
   },
   "outputs": [
    {
     "data": {
      "text/plain": [
       "(numpy.ndarray, torch.Tensor)"
      ]
     },
     "execution_count": 23,
     "metadata": {},
     "output_type": "execute_result"
    }
   ],
   "source": [
    "A = X.numpy()\n",
    "B = torch.from_numpy(A)\n",
    "type(A), type(B)"
   ]
  },
  {
   "cell_type": "markdown",
   "id": "0276ce32",
   "metadata": {
    "origin_pos": 92
   },
   "source": [
    "To (**convert a size-1 tensor to a Python scalar**),\n",
    "we can invoke the `item` function or Python's built-in functions.\n"
   ]
  },
  {
   "cell_type": "code",
   "execution_count": 24,
   "id": "4fba9776",
   "metadata": {
    "execution": {
     "iopub.execute_input": "2022-07-13T08:08:19.445858Z",
     "iopub.status.busy": "2022-07-13T08:08:19.445573Z",
     "iopub.status.idle": "2022-07-13T08:08:19.451845Z",
     "shell.execute_reply": "2022-07-13T08:08:19.451029Z"
    },
    "origin_pos": 94,
    "tab": [
     "pytorch"
    ]
   },
   "outputs": [
    {
     "data": {
      "text/plain": [
       "(tensor([3.5000]), 3.5, 3.5, 3)"
      ]
     },
     "execution_count": 24,
     "metadata": {},
     "output_type": "execute_result"
    }
   ],
   "source": [
    "a = torch.tensor([3.5])\n",
    "a, a.item(), float(a), int(a)"
   ]
  },
  {
   "cell_type": "markdown",
   "id": "37e0a7ce",
   "metadata": {
    "origin_pos": 96
   },
   "source": [
    "## Summary\n",
    "\n",
    " * The tensor class is the main interface for storing and manipulating data in deep learning libraries.\n",
    " * Tensors provide a variety of functionalities including construction routines; indexing and slicing; basic mathematics operations; broadcasting; memory-efficient assignment; and conversion to and from other Python objects.\n",
    "\n",
    "\n",
    "## Exercises\n",
    "\n",
    "1. Run the code in this section. Change the conditional statement `X == Y` to `X < Y` or `X > Y`, and then see what kind of tensor you can get.\n",
    "1. Replace the two tensors that operate by element in the broadcasting mechanism with other shapes, e.g., 3-dimensional tensors. Is the result the same as expected?\n"
   ]
  },
  {
   "cell_type": "markdown",
   "id": "1980d6d7",
   "metadata": {
    "origin_pos": 98,
    "tab": [
     "pytorch"
    ]
   },
   "source": [
    "[Discussions](https://discuss.d2l.ai/t/27)\n"
   ]
  }
 ],
 "metadata": {
  "kernelspec": {
   "display_name": "conda_pytorch_p36",
   "name": "conda_pytorch_p36"
  },
  "language_info": {
   "name": "python"
  }
 },
 "nbformat": 4,
 "nbformat_minor": 5
}