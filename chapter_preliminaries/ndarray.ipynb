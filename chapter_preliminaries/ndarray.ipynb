{
 "cells": [
  {
   "cell_type": "markdown",
   "id": "e4cb957a",
   "metadata": {
    "origin_pos": 1
   },
   "source": [
    "# Data Manipulation\n",
    ":label:`sec_ndarray`\n",
    "\n",
    "In order to get anything done, \n",
    "we need some way to store and manipulate data.\n",
    "Generally, there are two important things \n",
    "we need to do with data: \n",
    "(i) acquire them; \n",
    "and (ii) process them once they are inside the computer. \n",
    "There is no point in acquiring data \n",
    "without some way to store it, \n",
    "so to start, let's get our hands dirty\n",
    "with $n$-dimensional arrays, \n",
    "which we also call *tensors*.\n",
    "If you already know the NumPy \n",
    "scientific computing package, \n",
    "this will be a breeze.\n",
    "For all modern deep learning frameworks,\n",
    "the *tensor class* (`ndarray` in MXNet, \n",
    "`Tensor` in PyTorch and TensorFlow) \n",
    "resembles NumPy's `ndarray`,\n",
    "with a few killer features added.\n",
    "First, the tensor class\n",
    "supports automatic differentiation.\n",
    "Second, it leverages GPUs\n",
    "to accelerate numerical computation,\n",
    "whereas NumPy only runs on CPUs.\n",
    "These properties make neural networks\n",
    "both easy to code and fast to run.\n",
    "\n",
    "\n",
    "\n",
    "## Getting Started\n"
   ]
  },
  {
   "cell_type": "markdown",
   "id": "2c06d378",
   "metadata": {
    "origin_pos": 3,
    "tab": [
     "pytorch"
    ]
   },
   "source": [
    "(**To start, we import the PyTorch library.\n",
    "Note that the package name is `torch`.**)\n"
   ]
  },
  {
   "cell_type": "code",
   "execution_count": 1,
   "id": "bd5df2f8",
   "metadata": {
    "execution": {
     "iopub.execute_input": "2023-08-14T16:43:13.357010Z",
     "iopub.status.busy": "2023-08-14T16:43:13.356362Z",
     "iopub.status.idle": "2023-08-14T16:43:15.401337Z",
     "shell.execute_reply": "2023-08-14T16:43:15.400162Z"
    },
    "origin_pos": 6,
    "tab": [
     "pytorch"
    ]
   },
   "outputs": [],
   "source": [
    "import torch"
   ]
  },
  {
   "cell_type": "markdown",
   "id": "cb7eaa26",
   "metadata": {
    "origin_pos": 9
   },
   "source": [
    "[**A tensor represents a (possibly multidimensional) array of numerical values.**]\n",
    "In the one-dimensional case, i.e., when only one axis is needed for the data,\n",
    "a tensor is called a *vector*.\n",
    "With two axes, a tensor is called a *matrix*.\n",
    "With $k > 2$ axes, we drop the specialized names\n",
    "and just refer to the object as a $k^\\textrm{th}$-*order tensor*.\n"
   ]
  },
  {
   "cell_type": "markdown",
   "id": "f7e9f3ed",
   "metadata": {
    "origin_pos": 11,
    "tab": [
     "pytorch"
    ]
   },
   "source": [
    "PyTorch provides a variety of functions \n",
    "for creating new tensors \n",
    "prepopulated with values. \n",
    "For example, by invoking `arange(n)`,\n",
    "we can create a vector of evenly spaced values,\n",
    "starting at 0 (included) \n",
    "and ending at `n` (not included).\n",
    "By default, the interval size is $1$.\n",
    "Unless otherwise specified, \n",
    "new tensors are stored in main memory \n",
    "and designated for CPU-based computation.\n"
   ]
  },
  {
   "cell_type": "code",
   "execution_count": 2,
   "id": "ddea1dcf",
   "metadata": {
    "execution": {
     "iopub.execute_input": "2023-08-14T16:43:15.405453Z",
     "iopub.status.busy": "2023-08-14T16:43:15.405052Z",
     "iopub.status.idle": "2023-08-14T16:43:15.434362Z",
     "shell.execute_reply": "2023-08-14T16:43:15.433488Z"
    },
    "origin_pos": 14,
    "tab": [
     "pytorch"
    ]
   },
   "outputs": [
    {
     "data": {
      "text/plain": [
       "tensor([ 0.,  1.,  2.,  3.,  4.,  5.,  6.,  7.,  8.,  9., 10., 11.])"
      ]
     },
     "execution_count": 2,
     "metadata": {},
     "output_type": "execute_result"
    }
   ],
   "source": [
    "x = torch.arange(12, dtype=torch.float32)\n",
    "x"
   ]
  },
  {
   "cell_type": "markdown",
   "id": "4a4ef442",
   "metadata": {
    "origin_pos": 18,
    "tab": [
     "pytorch"
    ]
   },
   "source": [
    "Each of these values is called\n",
    "an *element* of the tensor.\n",
    "The tensor `x` contains 12 elements.\n",
    "We can inspect the total number of elements \n",
    "in a tensor via its `numel` method.\n"
   ]
  },
  {
   "cell_type": "code",
   "execution_count": 3,
   "id": "4274747e",
   "metadata": {
    "execution": {
     "iopub.execute_input": "2023-08-14T16:43:15.439292Z",
     "iopub.status.busy": "2023-08-14T16:43:15.438318Z",
     "iopub.status.idle": "2023-08-14T16:43:15.444699Z",
     "shell.execute_reply": "2023-08-14T16:43:15.443644Z"
    },
    "origin_pos": 21,
    "tab": [
     "pytorch"
    ]
   },
   "outputs": [
    {
     "data": {
      "text/plain": [
       "12"
      ]
     },
     "execution_count": 3,
     "metadata": {},
     "output_type": "execute_result"
    }
   ],
   "source": [
    "x.numel()"
   ]
  },
  {
   "cell_type": "markdown",
   "id": "52adb9f3",
   "metadata": {
    "origin_pos": 23
   },
   "source": [
    "(**We can access a tensor's *shape***) \n",
    "(the length along each axis)\n",
    "by inspecting its `shape` attribute.\n",
    "Because we are dealing with a vector here,\n",
    "the `shape` contains just a single element\n",
    "and is identical to the size.\n"
   ]
  },
  {
   "cell_type": "code",
   "execution_count": 4,
   "id": "040c0307",
   "metadata": {
    "execution": {
     "iopub.execute_input": "2023-08-14T16:43:15.448502Z",
     "iopub.status.busy": "2023-08-14T16:43:15.447857Z",
     "iopub.status.idle": "2023-08-14T16:43:15.454347Z",
     "shell.execute_reply": "2023-08-14T16:43:15.453353Z"
    },
    "origin_pos": 24,
    "tab": [
     "pytorch"
    ]
   },
   "outputs": [
    {
     "data": {
      "text/plain": [
       "torch.Size([12])"
      ]
     },
     "execution_count": 4,
     "metadata": {},
     "output_type": "execute_result"
    }
   ],
   "source": [
    "x.shape"
   ]
  },
  {
   "cell_type": "markdown",
   "id": "a144022a",
   "metadata": {
    "origin_pos": 25
   },
   "source": [
    "We can [**change the shape of a tensor\n",
    "without altering its size or values**],\n",
    "by invoking `reshape`.\n",
    "For example, we can transform \n",
    "our vector `x` whose shape is (12,) \n",
    "to a matrix `X`  with shape (3, 4).\n",
    "This new tensor retains all elements\n",
    "but reconfigures them into a matrix.\n",
    "Notice that the elements of our vector\n",
    "are laid out one row at a time and thus\n",
    "`x[3] == X[0, 3]`.\n"
   ]
  },
  {
   "cell_type": "code",
   "execution_count": 5,
   "id": "6d31543d",
   "metadata": {
    "execution": {
     "iopub.execute_input": "2023-08-14T16:43:15.458283Z",
     "iopub.status.busy": "2023-08-14T16:43:15.457626Z",
     "iopub.status.idle": "2023-08-14T16:43:15.465021Z",
     "shell.execute_reply": "2023-08-14T16:43:15.464013Z"
    },
    "origin_pos": 26,
    "tab": [
     "pytorch"
    ]
   },
   "outputs": [
    {
     "data": {
      "text/plain": [
       "tensor([[ 0.,  1.,  2.,  3.],\n",
       "        [ 4.,  5.,  6.,  7.],\n",
       "        [ 8.,  9., 10., 11.]])"
      ]
     },
     "execution_count": 5,
     "metadata": {},
     "output_type": "execute_result"
    }
   ],
   "source": [
    "X = x.reshape(3, 4)\n",
    "X"
   ]
  },
  {
   "cell_type": "markdown",
   "id": "4f44340a",
   "metadata": {
    "origin_pos": 28
   },
   "source": [
    "Note that specifying every shape component\n",
    "to `reshape` is redundant.\n",
    "Because we already know our tensor's size,\n",
    "we can work out one component of the shape given the rest.\n",
    "For example, given a tensor of size $n$\n",
    "and target shape ($h$, $w$),\n",
    "we know that $w = n/h$.\n",
    "To automatically infer one component of the shape,\n",
    "we can place a `-1` for the shape component\n",
    "that should be inferred automatically.\n",
    "In our case, instead of calling `x.reshape(3, 4)`,\n",
    "we could have equivalently called `x.reshape(-1, 4)` or `x.reshape(3, -1)`.\n",
    "\n",
    "Practitioners often need to work with tensors\n",
    "initialized to contain all 0s or 1s.\n",
    "[**We can construct a tensor with all elements set to 0**] (~~or one~~)\n",
    "and a shape of (2, 3, 4) via the `zeros` function.\n"
   ]
  },
  {
   "cell_type": "code",
   "execution_count": 6,
   "id": "2fef3f9c",
   "metadata": {
    "execution": {
     "iopub.execute_input": "2023-08-14T16:43:15.469123Z",
     "iopub.status.busy": "2023-08-14T16:43:15.468507Z",
     "iopub.status.idle": "2023-08-14T16:43:15.476197Z",
     "shell.execute_reply": "2023-08-14T16:43:15.475128Z"
    },
    "origin_pos": 30,
    "tab": [
     "pytorch"
    ]
   },
   "outputs": [
    {
     "data": {
      "text/plain": [
       "tensor([[[0., 0., 0., 0.],\n",
       "         [0., 0., 0., 0.],\n",
       "         [0., 0., 0., 0.]],\n",
       "\n",
       "        [[0., 0., 0., 0.],\n",
       "         [0., 0., 0., 0.],\n",
       "         [0., 0., 0., 0.]]])"
      ]
     },
     "execution_count": 6,
     "metadata": {},
     "output_type": "execute_result"
    }
   ],
   "source": [
    "torch.zeros((2, 3, 4))"
   ]
  },
  {
   "cell_type": "markdown",
   "id": "972f0a35",
   "metadata": {
    "origin_pos": 33
   },
   "source": [
    "Similarly, we can create a tensor \n",
    "with all 1s by invoking `ones`.\n"
   ]
  },
  {
   "cell_type": "code",
   "execution_count": 7,
   "id": "ed76e05e",
   "metadata": {
    "execution": {
     "iopub.execute_input": "2023-08-14T16:43:15.480266Z",
     "iopub.status.busy": "2023-08-14T16:43:15.479488Z",
     "iopub.status.idle": "2023-08-14T16:43:15.487155Z",
     "shell.execute_reply": "2023-08-14T16:43:15.486158Z"
    },
    "origin_pos": 35,
    "tab": [
     "pytorch"
    ]
   },
   "outputs": [
    {
     "data": {
      "text/plain": [
       "tensor([[[1., 1., 1., 1.],\n",
       "         [1., 1., 1., 1.],\n",
       "         [1., 1., 1., 1.]],\n",
       "\n",
       "        [[1., 1., 1., 1.],\n",
       "         [1., 1., 1., 1.],\n",
       "         [1., 1., 1., 1.]]])"
      ]
     },
     "execution_count": 7,
     "metadata": {},
     "output_type": "execute_result"
    }
   ],
   "source": [
    "torch.ones((2, 3, 4))"
   ]
  },
  {
   "cell_type": "markdown",
   "id": "2b5596a2",
   "metadata": {
    "origin_pos": 38
   },
   "source": [
    "We often wish to \n",
    "[**sample each element randomly (and independently)**] \n",
    "from a given probability distribution.\n",
    "For example, the parameters of neural networks\n",
    "are often initialized randomly.\n",
    "The following snippet creates a tensor \n",
    "with elements drawn from \n",
    "a standard Gaussian (normal) distribution\n",
    "with mean 0 and standard deviation 1.\n"
   ]
  },
  {
   "cell_type": "code",
   "execution_count": 8,
   "id": "546645e0",
   "metadata": {
    "execution": {
     "iopub.execute_input": "2023-08-14T16:43:15.490853Z",
     "iopub.status.busy": "2023-08-14T16:43:15.490567Z",
     "iopub.status.idle": "2023-08-14T16:43:15.498278Z",
     "shell.execute_reply": "2023-08-14T16:43:15.497258Z"
    },
    "origin_pos": 40,
    "tab": [
     "pytorch"
    ]
   },
   "outputs": [
    {
     "data": {
      "text/plain": [
       "tensor([[ 1.3409, -0.1467,  1.6857, -1.7043],\n",
       "        [-2.4909, -0.6642,  1.5676,  0.9263],\n",
       "        [ 1.1331, -1.0629,  0.3751, -0.7463]])"
      ]
     },
     "execution_count": 8,
     "metadata": {},
     "output_type": "execute_result"
    }
   ],
   "source": [
    "torch.randn(3, 4)"
   ]
  },
  {
   "cell_type": "markdown",
   "id": "e518210c",
   "metadata": {
    "origin_pos": 43
   },
   "source": [
    "Finally, we can construct tensors by\n",
    "[**supplying the exact values for each element**] \n",
    "by supplying (possibly nested) Python list(s) \n",
    "containing numerical literals.\n",
    "Here, we construct a matrix with a list of lists,\n",
    "where the outermost list corresponds to axis 0,\n",
    "and the inner list corresponds to axis 1.\n"
   ]
  },
  {
   "cell_type": "code",
   "execution_count": 9,
   "id": "291c8d64",
   "metadata": {
    "execution": {
     "iopub.execute_input": "2023-08-14T16:43:15.502310Z",
     "iopub.status.busy": "2023-08-14T16:43:15.501932Z",
     "iopub.status.idle": "2023-08-14T16:43:15.510167Z",
     "shell.execute_reply": "2023-08-14T16:43:15.508981Z"
    },
    "origin_pos": 45,
    "tab": [
     "pytorch"
    ]
   },
   "outputs": [
    {
     "data": {
      "text/plain": [
       "tensor([[2, 1, 4, 3],\n",
       "        [1, 2, 3, 4],\n",
       "        [4, 3, 2, 1]])"
      ]
     },
     "execution_count": 9,
     "metadata": {},
     "output_type": "execute_result"
    }
   ],
   "source": [
    "torch.tensor([[2, 1, 4, 3], [1, 2, 3, 4], [4, 3, 2, 1]])"
   ]
  },
  {
   "cell_type": "markdown",
   "id": "b376dcac",
   "metadata": {
    "origin_pos": 48
   },
   "source": [
    "## Indexing and Slicing\n",
    "\n",
    "As with  Python lists,\n",
    "we can access tensor elements \n",
    "by indexing (starting with 0).\n",
    "To access an element based on its position\n",
    "relative to the end of the list,\n",
    "we can use negative indexing.\n",
    "Finally, we can access whole ranges of indices \n",
    "via slicing (e.g., `X[start:stop]`), \n",
    "where the returned value includes \n",
    "the first index (`start`) *but not the last* (`stop`).\n",
    "Finally, when only one index (or slice)\n",
    "is specified for a $k^\\textrm{th}$-order tensor,\n",
    "it is applied along axis 0.\n",
    "Thus, in the following code,\n",
    "[**`[-1]` selects the last row and `[1:3]`\n",
    "selects the second and third rows**].\n"
   ]
  },
  {
   "cell_type": "code",
   "execution_count": 10,
   "id": "58ca7eb4",
   "metadata": {
    "execution": {
     "iopub.execute_input": "2023-08-14T16:43:15.514253Z",
     "iopub.status.busy": "2023-08-14T16:43:15.513647Z",
     "iopub.status.idle": "2023-08-14T16:43:15.521359Z",
     "shell.execute_reply": "2023-08-14T16:43:15.520515Z"
    },
    "origin_pos": 49,
    "tab": [
     "pytorch"
    ]
   },
   "outputs": [
    {
     "data": {
      "text/plain": [
       "(tensor([ 8.,  9., 10., 11.]),\n",
       " tensor([[ 4.,  5.,  6.,  7.],\n",
       "         [ 8.,  9., 10., 11.]]))"
      ]
     },
     "execution_count": 10,
     "metadata": {},
     "output_type": "execute_result"
    }
   ],
   "source": [
    "X[-1], X[1:3]"
   ]
  },
  {
   "cell_type": "markdown",
   "id": "1dad6790",
   "metadata": {
    "origin_pos": 50,
    "tab": [
     "pytorch"
    ]
   },
   "source": [
    "Beyond reading them, (**we can also *write* elements of a matrix by specifying indices.**)\n"
   ]
  },
  {
   "cell_type": "code",
   "execution_count": 11,
   "id": "12534846",
   "metadata": {
    "execution": {
     "iopub.execute_input": "2023-08-14T16:43:15.525224Z",
     "iopub.status.busy": "2023-08-14T16:43:15.524854Z",
     "iopub.status.idle": "2023-08-14T16:43:15.532679Z",
     "shell.execute_reply": "2023-08-14T16:43:15.531637Z"
    },
    "origin_pos": 52,
    "tab": [
     "pytorch"
    ]
   },
   "outputs": [
    {
     "data": {
      "text/plain": [
       "tensor([[ 0.,  1.,  2.,  3.],\n",
       "        [ 4.,  5., 17.,  7.],\n",
       "        [ 8.,  9., 10., 11.]])"
      ]
     },
     "execution_count": 11,
     "metadata": {},
     "output_type": "execute_result"
    }
   ],
   "source": [
    "X[1, 2] = 17\n",
    "X"
   ]
  },
  {
   "cell_type": "markdown",
   "id": "38b80181",
   "metadata": {
    "origin_pos": 55
   },
   "source": [
    "If we want [**to assign multiple elements the same value,\n",
    "we apply the indexing on the left-hand side \n",
    "of the assignment operation.**]\n",
    "For instance, `[:2, :]`  accesses \n",
    "the first and second rows,\n",
    "where `:` takes all the elements along axis 1 (column).\n",
    "While we discussed indexing for matrices,\n",
    "this also works for vectors\n",
    "and for tensors of more than two dimensions.\n"
   ]
  },
  {
   "cell_type": "code",
   "execution_count": 12,
   "id": "0d667dd2",
   "metadata": {
    "execution": {
     "iopub.execute_input": "2023-08-14T16:43:15.536461Z",
     "iopub.status.busy": "2023-08-14T16:43:15.536184Z",
     "iopub.status.idle": "2023-08-14T16:43:15.543214Z",
     "shell.execute_reply": "2023-08-14T16:43:15.542398Z"
    },
    "origin_pos": 56,
    "tab": [
     "pytorch"
    ]
   },
   "outputs": [
    {
     "data": {
      "text/plain": [
       "tensor([[12., 12., 12., 12.],\n",
       "        [12., 12., 12., 12.],\n",
       "        [ 8.,  9., 10., 11.]])"
      ]
     },
     "execution_count": 12,
     "metadata": {},
     "output_type": "execute_result"
    }
   ],
   "source": [
    "X[:2, :] = 12\n",
    "X"
   ]
  },
  {
   "cell_type": "markdown",
   "id": "80237a5c",
   "metadata": {
    "origin_pos": 59
   },
   "source": [
    "## Operations\n",
    "\n",
    "Now that we know how to construct tensors\n",
    "and how to read from and write to their elements,\n",
    "we can begin to manipulate them\n",
    "with various mathematical operations.\n",
    "Among the most useful of these \n",
    "are the *elementwise* operations.\n",
    "These apply a standard scalar operation\n",
    "to each element of a tensor.\n",
    "For functions that take two tensors as inputs,\n",
    "elementwise operations apply some standard binary operator\n",
    "on each pair of corresponding elements.\n",
    "We can create an elementwise function \n",
    "from any function that maps \n",
    "from a scalar to a scalar.\n",
    "\n",
    "In mathematical notation, we denote such\n",
    "*unary* scalar operators (taking one input)\n",
    "by the signature \n",
    "$f: \\mathbb{R} \\rightarrow \\mathbb{R}$.\n",
    "This just means that the function maps\n",
    "from any real number onto some other real number.\n",
    "Most standard operators, including unary ones like $e^x$, can be applied elementwise.\n"
   ]
  },
  {
   "cell_type": "code",
   "execution_count": 13,
   "id": "094bc79c",
   "metadata": {
    "execution": {
     "iopub.execute_input": "2023-08-14T16:43:15.547237Z",
     "iopub.status.busy": "2023-08-14T16:43:15.546543Z",
     "iopub.status.idle": "2023-08-14T16:43:15.555912Z",
     "shell.execute_reply": "2023-08-14T16:43:15.555133Z"
    },
    "origin_pos": 61,
    "tab": [
     "pytorch"
    ]
   },
   "outputs": [
    {
     "data": {
      "text/plain": [
       "tensor([162754.7969, 162754.7969, 162754.7969, 162754.7969, 162754.7969,\n",
       "        162754.7969, 162754.7969, 162754.7969,   2980.9580,   8103.0840,\n",
       "         22026.4648,  59874.1406])"
      ]
     },
     "execution_count": 13,
     "metadata": {},
     "output_type": "execute_result"
    }
   ],
   "source": [
    "torch.exp(x)"
   ]
  },
  {
   "cell_type": "markdown",
   "id": "726d5705",
   "metadata": {
    "origin_pos": 64
   },
   "source": [
    "Likewise, we denote *binary* scalar operators,\n",
    "which map pairs of real numbers\n",
    "to a (single) real number\n",
    "via the signature \n",
    "$f: \\mathbb{R}, \\mathbb{R} \\rightarrow \\mathbb{R}$.\n",
    "Given any two vectors $\\mathbf{u}$ \n",
    "and $\\mathbf{v}$ *of the same shape*,\n",
    "and a binary operator $f$, we can produce a vector\n",
    "$\\mathbf{c} = F(\\mathbf{u},\\mathbf{v})$\n",
    "by setting $c_i \\gets f(u_i, v_i)$ for all $i$,\n",
    "where $c_i, u_i$, and $v_i$ are the $i^\\textrm{th}$ elements\n",
    "of vectors $\\mathbf{c}, \\mathbf{u}$, and $\\mathbf{v}$.\n",
    "Here, we produced the vector-valued\n",
    "$F: \\mathbb{R}^d, \\mathbb{R}^d \\rightarrow \\mathbb{R}^d$\n",
    "by *lifting* the scalar function\n",
    "to an elementwise vector operation.\n",
    "The common standard arithmetic operators\n",
    "for addition (`+`), subtraction (`-`), \n",
    "multiplication (`*`), division (`/`), \n",
    "and exponentiation (`**`)\n",
    "have all been *lifted* to elementwise operations\n",
    "for identically-shaped tensors of arbitrary shape.\n"
   ]
  },
  {
   "cell_type": "code",
   "execution_count": 14,
   "id": "20e00a5b",
   "metadata": {
    "execution": {
     "iopub.execute_input": "2023-08-14T16:43:15.559932Z",
     "iopub.status.busy": "2023-08-14T16:43:15.559258Z",
     "iopub.status.idle": "2023-08-14T16:43:15.569256Z",
     "shell.execute_reply": "2023-08-14T16:43:15.568325Z"
    },
    "origin_pos": 66,
    "tab": [
     "pytorch"
    ]
   },
   "outputs": [
    {
     "data": {
      "text/plain": [
       "(tensor([ 3.,  4.,  6., 10.]),\n",
       " tensor([-1.,  0.,  2.,  6.]),\n",
       " tensor([ 2.,  4.,  8., 16.]),\n",
       " tensor([0.5000, 1.0000, 2.0000, 4.0000]),\n",
       " tensor([ 1.,  4., 16., 64.]))"
      ]
     },
     "execution_count": 14,
     "metadata": {},
     "output_type": "execute_result"
    }
   ],
   "source": [
    "x = torch.tensor([1.0, 2, 4, 8])\n",
    "y = torch.tensor([2, 2, 2, 2])\n",
    "x + y, x - y, x * y, x / y, x ** y"
   ]
  },
  {
   "cell_type": "markdown",
   "id": "efc6fdbb",
   "metadata": {
    "origin_pos": 69
   },
   "source": [
    "In addition to elementwise computations,\n",
    "we can also perform linear algebraic operations,\n",
    "such as dot products and matrix multiplications.\n",
    "We will elaborate on these\n",
    "in :numref:`sec_linear-algebra`.\n",
    "\n",
    "We can also [***concatenate* multiple tensors,**]\n",
    "stacking them end-to-end to form a larger one.\n",
    "We just need to provide a list of tensors\n",
    "and tell the system along which axis to concatenate.\n",
    "The example below shows what happens when we concatenate\n",
    "two matrices along rows (axis 0)\n",
    "instead of columns (axis 1).\n",
    "We can see that the first output's axis-0 length ($6$)\n",
    "is the sum of the two input tensors' axis-0 lengths ($3 + 3$);\n",
    "while the second output's axis-1 length ($8$)\n",
    "is the sum of the two input tensors' axis-1 lengths ($4 + 4$).\n"
   ]
  },
  {
   "cell_type": "code",
   "execution_count": 15,
   "id": "f6023cc0",
   "metadata": {
    "execution": {
     "iopub.execute_input": "2023-08-14T16:43:15.573547Z",
     "iopub.status.busy": "2023-08-14T16:43:15.572808Z",
     "iopub.status.idle": "2023-08-14T16:43:15.583445Z",
     "shell.execute_reply": "2023-08-14T16:43:15.582489Z"
    },
    "origin_pos": 71,
    "tab": [
     "pytorch"
    ]
   },
   "outputs": [
    {
     "data": {
      "text/plain": [
       "(tensor([[ 0.,  1.,  2.,  3.],\n",
       "         [ 4.,  5.,  6.,  7.],\n",
       "         [ 8.,  9., 10., 11.],\n",
       "         [ 2.,  1.,  4.,  3.],\n",
       "         [ 1.,  2.,  3.,  4.],\n",
       "         [ 4.,  3.,  2.,  1.]]),\n",
       " tensor([[ 0.,  1.,  2.,  3.,  2.,  1.,  4.,  3.],\n",
       "         [ 4.,  5.,  6.,  7.,  1.,  2.,  3.,  4.],\n",
       "         [ 8.,  9., 10., 11.,  4.,  3.,  2.,  1.]]))"
      ]
     },
     "execution_count": 15,
     "metadata": {},
     "output_type": "execute_result"
    }
   ],
   "source": [
    "X = torch.arange(12, dtype=torch.float32).reshape((3,4))\n",
    "Y = torch.tensor([[2.0, 1, 4, 3], [1, 2, 3, 4], [4, 3, 2, 1]])\n",
    "torch.cat((X, Y), dim=0), torch.cat((X, Y), dim=1)"
   ]
  },
  {
   "cell_type": "markdown",
   "id": "6ef14cf1",
   "metadata": {
    "origin_pos": 74
   },
   "source": [
    "Sometimes, we want to \n",
    "[**construct a binary tensor via *logical statements*.**]\n",
    "Take `X == Y` as an example.\n",
    "For each position `i, j`, if `X[i, j]` and `Y[i, j]` are equal, \n",
    "then the corresponding entry in the result takes value `1`,\n",
    "otherwise it takes value `0`.\n"
   ]
  },
  {
   "cell_type": "code",
   "execution_count": 16,
   "id": "d0df93f3",
   "metadata": {
    "execution": {
     "iopub.execute_input": "2023-08-14T16:43:15.587802Z",
     "iopub.status.busy": "2023-08-14T16:43:15.587163Z",
     "iopub.status.idle": "2023-08-14T16:43:15.594146Z",
     "shell.execute_reply": "2023-08-14T16:43:15.593060Z"
    },
    "origin_pos": 75,
    "tab": [
     "pytorch"
    ]
   },
   "outputs": [
    {
     "data": {
      "text/plain": [
       "tensor([[False,  True, False,  True],\n",
       "        [False, False, False, False],\n",
       "        [False, False, False, False]])"
      ]
     },
     "execution_count": 16,
     "metadata": {},
     "output_type": "execute_result"
    }
   ],
   "source": [
    "X == Y"
   ]
  },
  {
   "cell_type": "markdown",
   "id": "aadd69f0",
   "metadata": {
    "origin_pos": 76
   },
   "source": [
    "[**Summing all the elements in the tensor**] yields a tensor with only one element.\n"
   ]
  },
  {
   "cell_type": "code",
   "execution_count": 17,
   "id": "dafefd98",
   "metadata": {
    "execution": {
     "iopub.execute_input": "2023-08-14T16:43:15.598170Z",
     "iopub.status.busy": "2023-08-14T16:43:15.597812Z",
     "iopub.status.idle": "2023-08-14T16:43:15.604751Z",
     "shell.execute_reply": "2023-08-14T16:43:15.603859Z"
    },
    "origin_pos": 77,
    "tab": [
     "pytorch"
    ]
   },
   "outputs": [
    {
     "data": {
      "text/plain": [
       "tensor(66.)"
      ]
     },
     "execution_count": 17,
     "metadata": {},
     "output_type": "execute_result"
    }
   ],
   "source": [
    "X.sum()"
   ]
  },
  {
   "cell_type": "markdown",
   "id": "be2f65f3",
   "metadata": {
    "origin_pos": 79
   },
   "source": [
    "## Broadcasting\n",
    ":label:`subsec_broadcasting`\n",
    "\n",
    "By now, you know how to perform \n",
    "elementwise binary operations\n",
    "on two tensors of the same shape. \n",
    "Under certain conditions,\n",
    "even when shapes differ, \n",
    "we can still [**perform elementwise binary operations\n",
    "by invoking the *broadcasting mechanism*.**]\n",
    "Broadcasting works according to \n",
    "the following two-step procedure:\n",
    "(i) expand one or both arrays\n",
    "by copying elements along axes with length 1\n",
    "so that after this transformation,\n",
    "the two tensors have the same shape;\n",
    "(ii) perform an elementwise operation\n",
    "on the resulting arrays.\n"
   ]
  },
  {
   "cell_type": "code",
   "execution_count": 18,
   "id": "45b51d77",
   "metadata": {
    "execution": {
     "iopub.execute_input": "2023-08-14T16:43:15.608461Z",
     "iopub.status.busy": "2023-08-14T16:43:15.608121Z",
     "iopub.status.idle": "2023-08-14T16:43:15.615321Z",
     "shell.execute_reply": "2023-08-14T16:43:15.614363Z"
    },
    "origin_pos": 81,
    "tab": [
     "pytorch"
    ]
   },
   "outputs": [
    {
     "data": {
      "text/plain": [
       "(tensor([[0],\n",
       "         [1],\n",
       "         [2]]),\n",
       " tensor([[0, 1]]))"
      ]
     },
     "execution_count": 18,
     "metadata": {},
     "output_type": "execute_result"
    }
   ],
   "source": [
    "a = torch.arange(3).reshape((3, 1))\n",
    "b = torch.arange(2).reshape((1, 2))\n",
    "a, b"
   ]
  },
  {
   "cell_type": "markdown",
   "id": "0b1f62fb",
   "metadata": {
    "origin_pos": 84
   },
   "source": [
    "Since `a` and `b` are $3\\times1$ \n",
    "and $1\\times2$ matrices, respectively,\n",
    "their shapes do not match up.\n",
    "Broadcasting produces a larger $3\\times2$ matrix \n",
    "by replicating matrix `a` along the columns\n",
    "and matrix `b` along the rows\n",
    "before adding them elementwise.\n"
   ]
  },
  {
   "cell_type": "code",
   "execution_count": 19,
   "id": "7c9e22ad",
   "metadata": {
    "execution": {
     "iopub.execute_input": "2023-08-14T16:43:15.619325Z",
     "iopub.status.busy": "2023-08-14T16:43:15.618733Z",
     "iopub.status.idle": "2023-08-14T16:43:15.624741Z",
     "shell.execute_reply": "2023-08-14T16:43:15.623931Z"
    },
    "origin_pos": 85,
    "tab": [
     "pytorch"
    ]
   },
   "outputs": [
    {
     "data": {
      "text/plain": [
       "tensor([[0, 1],\n",
       "        [1, 2],\n",
       "        [2, 3]])"
      ]
     },
     "execution_count": 19,
     "metadata": {},
     "output_type": "execute_result"
    }
   ],
   "source": [
    "a + b"
   ]
  },
  {
   "cell_type": "markdown",
   "id": "cc33aa9a",
   "metadata": {
    "origin_pos": 86
   },
   "source": [
    "## Saving Memory\n",
    "\n",
    "[**Running operations can cause new memory to be\n",
    "allocated to host results.**]\n",
    "For example, if we write `Y = X + Y`,\n",
    "we dereference the tensor that `Y` used to point to\n",
    "and instead point `Y` at the newly allocated memory.\n",
    "We can demonstrate this issue with Python's `id()` function,\n",
    "which gives us the exact address \n",
    "of the referenced object in memory.\n",
    "Note that after we run `Y = Y + X`,\n",
    "`id(Y)` points to a different location.\n",
    "That is because Python first evaluates `Y + X`,\n",
    "allocating new memory for the result \n",
    "and then points `Y` to this new location in memory.\n"
   ]
  },
  {
   "cell_type": "code",
   "execution_count": 20,
   "id": "eec3358e",
   "metadata": {
    "execution": {
     "iopub.execute_input": "2023-08-14T16:43:15.628006Z",
     "iopub.status.busy": "2023-08-14T16:43:15.627472Z",
     "iopub.status.idle": "2023-08-14T16:43:15.632622Z",
     "shell.execute_reply": "2023-08-14T16:43:15.631878Z"
    },
    "origin_pos": 87,
    "tab": [
     "pytorch"
    ]
   },
   "outputs": [
    {
     "data": {
      "text/plain": [
       "False"
      ]
     },
     "execution_count": 20,
     "metadata": {},
     "output_type": "execute_result"
    }
   ],
   "source": [
    "before = id(Y)\n",
    "Y = Y + X\n",
    "id(Y) == before"
   ]
  },
  {
   "cell_type": "markdown",
   "id": "ae3de7a9",
   "metadata": {
    "origin_pos": 88
   },
   "source": [
    "This might be undesirable for two reasons.\n",
    "First, we do not want to run around\n",
    "allocating memory unnecessarily all the time.\n",
    "In machine learning, we often have\n",
    "hundreds of megabytes of parameters\n",
    "and update all of them multiple times per second.\n",
    "Whenever possible, we want to perform these updates *in place*.\n",
    "Second, we might point at the \n",
    "same parameters from multiple variables.\n",
    "If we do not update in place, \n",
    "we must be careful to update all of these references,\n",
    "lest we spring a memory leak \n",
    "or inadvertently refer to stale parameters.\n"
   ]
  },
  {
   "cell_type": "markdown",
   "id": "c9ef5aed",
   "metadata": {
    "origin_pos": 89,
    "tab": [
     "pytorch"
    ]
   },
   "source": [
    "Fortunately, (**performing in-place operations**) is easy.\n",
    "We can assign the result of an operation\n",
    "to a previously allocated array `Y`\n",
    "by using slice notation: `Y[:] = <expression>`.\n",
    "To illustrate this concept, \n",
    "we overwrite the values of tensor `Z`,\n",
    "after initializing it, using `zeros_like`,\n",
    "to have the same shape as `Y`.\n"
   ]
  },
  {
   "cell_type": "code",
   "execution_count": 21,
   "id": "3d539108",
   "metadata": {
    "execution": {
     "iopub.execute_input": "2023-08-14T16:43:15.635934Z",
     "iopub.status.busy": "2023-08-14T16:43:15.635412Z",
     "iopub.status.idle": "2023-08-14T16:43:15.640414Z",
     "shell.execute_reply": "2023-08-14T16:43:15.639541Z"
    },
    "origin_pos": 92,
    "tab": [
     "pytorch"
    ]
   },
   "outputs": [
    {
     "name": "stdout",
     "output_type": "stream",
     "text": [
      "id(Z): 140119269288032\n",
      "id(Z): 140119269288032\n"
     ]
    }
   ],
   "source": [
    "Z = torch.zeros_like(Y)\n",
    "print('id(Z):', id(Z))\n",
    "Z[:] = X + Y\n",
    "print('id(Z):', id(Z))"
   ]
  },
  {
   "cell_type": "markdown",
   "id": "ebf9feb8",
   "metadata": {
    "origin_pos": 95,
    "tab": [
     "pytorch"
    ]
   },
   "source": [
    "[**If the value of `X` is not reused in subsequent computations,\n",
    "we can also use `X[:] = X + Y` or `X += Y`\n",
    "to reduce the memory overhead of the operation.**]\n"
   ]
  },
  {
   "cell_type": "code",
   "execution_count": 22,
   "id": "d8b8dc8d",
   "metadata": {
    "execution": {
     "iopub.execute_input": "2023-08-14T16:43:15.643850Z",
     "iopub.status.busy": "2023-08-14T16:43:15.643187Z",
     "iopub.status.idle": "2023-08-14T16:43:15.648458Z",
     "shell.execute_reply": "2023-08-14T16:43:15.647672Z"
    },
    "origin_pos": 97,
    "tab": [
     "pytorch"
    ]
   },
   "outputs": [
    {
     "data": {
      "text/plain": [
       "True"
      ]
     },
     "execution_count": 22,
     "metadata": {},
     "output_type": "execute_result"
    }
   ],
   "source": [
    "before = id(X)\n",
    "X += Y\n",
    "id(X) == before"
   ]
  },
  {
   "cell_type": "markdown",
   "id": "f45160c9",
   "metadata": {
    "origin_pos": 99
   },
   "source": [
    "## Conversion to Other Python Objects\n"
   ]
  },
  {
   "cell_type": "markdown",
   "id": "5cf2329f",
   "metadata": {
    "origin_pos": 101,
    "tab": [
     "pytorch"
    ]
   },
   "source": [
    "[**Converting to a NumPy tensor (`ndarray`)**], or vice versa, is easy.\n",
    "The torch tensor and NumPy array \n",
    "will share their underlying memory, \n",
    "and changing one through an in-place operation \n",
    "will also change the other.\n"
   ]
  },
  {
   "cell_type": "code",
   "execution_count": 23,
   "id": "5f2251b2",
   "metadata": {
    "execution": {
     "iopub.execute_input": "2023-08-14T16:43:15.651872Z",
     "iopub.status.busy": "2023-08-14T16:43:15.651257Z",
     "iopub.status.idle": "2023-08-14T16:43:15.656574Z",
     "shell.execute_reply": "2023-08-14T16:43:15.655810Z"
    },
    "origin_pos": 103,
    "tab": [
     "pytorch"
    ]
   },
   "outputs": [
    {
     "data": {
      "text/plain": [
       "(numpy.ndarray, torch.Tensor)"
      ]
     },
     "execution_count": 23,
     "metadata": {},
     "output_type": "execute_result"
    }
   ],
   "source": [
    "A = X.numpy()\n",
    "B = torch.from_numpy(A)\n",
    "type(A), type(B)"
   ]
  },
  {
   "cell_type": "markdown",
   "id": "fd50c38b",
   "metadata": {
    "origin_pos": 106
   },
   "source": [
    "To (**convert a size-1 tensor to a Python scalar**),\n",
    "we can invoke the `item` function or Python's built-in functions.\n"
   ]
  },
  {
   "cell_type": "code",
   "execution_count": 24,
   "id": "39414c3a",
   "metadata": {
    "execution": {
     "iopub.execute_input": "2023-08-14T16:43:15.660014Z",
     "iopub.status.busy": "2023-08-14T16:43:15.659382Z",
     "iopub.status.idle": "2023-08-14T16:43:15.665315Z",
     "shell.execute_reply": "2023-08-14T16:43:15.664525Z"
    },
    "origin_pos": 108,
    "tab": [
     "pytorch"
    ]
   },
   "outputs": [
    {
     "data": {
      "text/plain": [
       "(tensor([3.5000]), 3.5, 3.5, 3)"
      ]
     },
     "execution_count": 24,
     "metadata": {},
     "output_type": "execute_result"
    }
   ],
   "source": [
    "a = torch.tensor([3.5])\n",
    "a, a.item(), float(a), int(a)"
   ]
  },
  {
   "cell_type": "markdown",
   "id": "cd8dc08f",
   "metadata": {
    "origin_pos": 111
   },
   "source": [
    "## Summary\n",
    "\n",
    "The tensor class is the main interface for storing and manipulating data in deep learning libraries.\n",
    "Tensors provide a variety of functionalities including construction routines; indexing and slicing; basic mathematics operations; broadcasting; memory-efficient assignment; and conversion to and from other Python objects.\n",
    "\n",
    "\n",
    "## Exercises\n",
    "\n",
    "1. Run the code in this section. Change the conditional statement `X == Y` to `X < Y` or `X > Y`, and then see what kind of tensor you can get.\n",
    "1. Replace the two tensors that operate by element in the broadcasting mechanism with other shapes, e.g., 3-dimensional tensors. Is the result the same as expected?\n"
   ]
  },
  {
   "cell_type": "markdown",
   "id": "40d53188",
   "metadata": {
    "origin_pos": 113,
    "tab": [
     "pytorch"
    ]
   },
   "source": [
    "[Discussions](https://discuss.d2l.ai/t/27)\n"
   ]
  }
 ],
 "metadata": {
  "kernelspec": {
   "display_name": "conda_pytorch_p36",
   "name": "conda_pytorch_p36"
  },
  "language_info": {
   "name": "python"
  },
  "required_libs": []
 },
 "nbformat": 4,
 "nbformat_minor": 5
}