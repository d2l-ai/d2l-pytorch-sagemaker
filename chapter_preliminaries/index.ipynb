{
 "cells": [
  {
   "cell_type": "markdown",
   "metadata": {
    "origin_pos": 0
   },
   "source": [
    "#  Preliminares\n",
    ":label:`chap_preliminaries`\n",
    "\n",
    "Para iniciarmos o nosso aprendizado de *Deep Learning*,\n",
    "precisaremos desenvolver algumas habilidades básicas.\n",
    "Todo aprendizado de máquina está relacionado\n",
    "com a extração de informações dos dados.\n",
    "Portanto, começaremos aprendendo as habilidades práticas\n",
    "para armazenar, manipular e pré-processar dados.\n",
    "\n",
    "Além disso, o aprendizado de máquina normalmente requer\n",
    "trabalhar com grandes conjuntos de dados, que podemos considerar como tabelas,\n",
    "onde as linhas correspondem a exemplos\n",
    "e as colunas correspondem aos atributos.\n",
    "A álgebra linear nos dá um poderoso conjunto de técnicas\n",
    "para trabalhar com dados tabulares.\n",
    "Não iremos muito longe nas teoria, mas sim nos concentraremos no básico\n",
    "das operações matriciais e sua implementação.\n",
    "\n",
    "Além disso, o *Deep Learning* tem tudo a ver com otimização.\n",
    "Temos um modelo com alguns parâmetros e\n",
    "queremos encontrar aqueles que melhor se ajustam aos nossos dados.\n",
    "Determinar como alterar cada parâmetro em cada etapa de um algoritmo\n",
    "requer um pouco de cálculo, que será brevemente apresentado.\n",
    "Felizmente, o pacote `autograd` calcula automaticamente a diferenciação para nós,\n",
    "e vamos cobrir isso a seguir.\n",
    "\n",
    "Em seguida, o aprendizado de máquina se preocupa em fazer previsões:\n",
    "qual é o valor provável de algum atributo desconhecido,\n",
    "dada a informação que observamos?\n",
    "Raciocinar rigorosamente sob a incerteza\n",
    "precisaremos invocar a linguagem da probabilidade.\n",
    "\n",
    "No final, a documentação oficial fornece\n",
    "muitas descrições e exemplos que vão além deste livro.\n",
    "Para concluir o capítulo, mostraremos como procurar documentação para\n",
    "as informações necessárias.\n",
    "\n",
    "Este livro manteve o conteúdo matemático no mínimo necessário\n",
    "para obter uma compreensão adequada de *Deep Learning*\n",
    "No entanto, isso não significa que\n",
    "este livro é livre de matemática.\n",
    "Assim, este capítulo fornece uma introdução rápida a\n",
    "matemática básica e frequentemente usada para permitir que qualquer pessoa entenda\n",
    "pelo menos *a maior parte* do conteúdo matemático do livro.\n",
    "Se você deseja entender *todo* o conteúdo matemático,\n",
    "uma revisão adicional do [apêndice online sobre matemática](https://d2l.ai/chapter_apencha-mathematics-for-deep-learning/index.html) deve ser suficiente.\n",
    "\n",
    ":begin_tab:toc\n",
    " - [ndarray](ndarray.ipynb)\n",
    " - [pandas](pandas.ipynb)\n",
    " - [linear-algebra](linear-algebra.ipynb)\n",
    " - [calculus](calculus.ipynb)\n",
    " - [autograd](autograd.ipynb)\n",
    " - [probability](probability.ipynb)\n",
    " - [lookup-api](lookup-api.ipynb)\n",
    ":end_tab:\n",
    "\n",
    "<!--stackedit_data:\n",
    "eyJoaXN0b3J5IjpbNTkwMDAzOTU4LDUyNDkzNDQ2MV19\n",
    "-->\n"
   ]
  }
 ],
 "metadata": {
  "kernelspec": {
   "display_name": "conda_pytorch_p36",
   "name": "conda_pytorch_p36"
  },
  "language_info": {
   "name": "python"
  }
 },
 "nbformat": 4,
 "nbformat_minor": 4
}