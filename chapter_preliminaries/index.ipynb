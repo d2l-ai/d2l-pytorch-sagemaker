{
 "cells": [
  {
   "cell_type": "markdown",
   "id": "74f7da39",
   "metadata": {
    "origin_pos": 0
   },
   "source": [
    "#  Preliminaries\n",
    ":label:`chap_preliminaries`\n",
    "\n",
    "To get started with deep learning,\n",
    "we will need to develop a few basic skills.\n",
    "All machine learning is concerned\n",
    "with extracting information from data.\n",
    "So we will begin by learning the practical skills\n",
    "for storing, manipulating, and preprocessing data.\n",
    "\n",
    "Moreover, machine learning typically requires\n",
    "working with large datasets, which we can think of as tables,\n",
    "where the rows correspond to examples\n",
    "and the columns correspond to attributes.\n",
    "Linear algebra gives us a powerful set of techniques\n",
    "for working with tabular data.\n",
    "We will not go too far into the weeds but rather focus on the basic\n",
    "of matrix operations and their implementation.\n",
    "\n",
    "Additionally, deep learning is all about optimization.\n",
    "We have a model with some parameters and\n",
    "we want to find those that fit our data *the best*.\n",
    "Determining which way to move each parameter at each step of an algorithm\n",
    "requires a little bit of calculus, which will be briefly introduced.\n",
    "Fortunately, the `autograd` package automatically computes differentiation for us,\n",
    "and we will cover it next.\n",
    "\n",
    "Next, machine learning is concerned with making predictions:\n",
    "what is the likely value of some unknown attribute,\n",
    "given the information that we observe?\n",
    "To reason rigorously under uncertainty\n",
    "we will need to invoke the language of probability.\n",
    "\n",
    "In the end, the official documentation provides\n",
    "plenty of descriptions and examples that are beyond this book.\n",
    "To conclude the chapter, we will show you how to look up documentation for\n",
    "the needed information.\n",
    "\n",
    "This book has kept the mathematical content to the minimum necessary\n",
    "to get a proper understanding of deep learning.\n",
    "However, it does not mean that\n",
    "this book is mathematics free.\n",
    "Thus, this chapter provides a rapid introduction to\n",
    "basic and frequently-used mathematics to allow anyone to understand\n",
    "at least *most* of the mathematical content of the book.\n",
    "If you wish to understand *all* of the mathematical content,\n",
    "further reviewing the [online appendix on mathematics](https://d2l.ai/chapter_appendix-mathematics-for-deep-learning/index.html) should be sufficient.\n",
    "\n",
    ":begin_tab:toc\n",
    " - [ndarray](ndarray.ipynb)\n",
    " - [pandas](pandas.ipynb)\n",
    " - [linear-algebra](linear-algebra.ipynb)\n",
    " - [calculus](calculus.ipynb)\n",
    " - [autograd](autograd.ipynb)\n",
    " - [probability](probability.ipynb)\n",
    " - [lookup-api](lookup-api.ipynb)\n",
    ":end_tab:\n"
   ]
  }
 ],
 "metadata": {
  "kernelspec": {
   "display_name": "conda_pytorch_p36",
   "name": "conda_pytorch_p36"
  },
  "language_info": {
   "name": "python"
  }
 },
 "nbformat": 4,
 "nbformat_minor": 5
}