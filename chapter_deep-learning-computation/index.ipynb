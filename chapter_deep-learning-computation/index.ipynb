{
 "cells": [
  {
   "cell_type": "markdown",
   "metadata": {
    "origin_pos": 0
   },
   "source": [
    "# *Deep Learning* Computacional\n",
    ":label:`chap_computation`\n",
    "\n",
    "Junto com conjuntos de dados gigantes e hardware poderoso,\n",
    "ótimas ferramentas de software desempenharam um papel indispensável\n",
    "no rápido progresso do *Deep Learning*.\n",
    "Começando com a revolucionária biblioteca Theano lançada em 2007,\n",
    "ferramentas de código aberto flexíveis têm permitido aos pesquisadores\n",
    "para prototipar modelos rapidamente, evitando trabalho repetitivo\n",
    "ao reciclar componentes padrão\n",
    "ao mesmo tempo em que mantém a capacidade de fazer modificações de baixo nível.\n",
    "Com o tempo, as bibliotecas de *Deep Learning* evoluíram\n",
    "para oferecer abstrações cada vez mais grosseiras.\n",
    "Assim como os designers de semicondutores passaram a especificar transistores\n",
    "para circuitos lógicos para escrever código,\n",
    "pesquisadores de redes neurais deixaram de pensar sobre\n",
    "o comportamento de neurônios artificiais individuais\n",
    "para conceber redes em termos de camadas inteiras,\n",
    "e agora frequentemente projeta arquiteturas com *blocos* muito mais grosseiros em mente.\n",
    "\n",
    "Até agora, apresentamos alguns conceitos básicos de aprendizado de máquina,\n",
    "evoluindo para modelos de *Deep Learning* totalmente funcionais.\n",
    "No último capítulo,\n",
    "implementamos cada componente de um MLP do zero\n",
    "e até mostrou como aproveitar APIs de alto nível\n",
    "para lançar os mesmos modelos sem esforço.\n",
    "Para chegar tão longe tão rápido, nós *chamamos* as bibliotecas,\n",
    "mas pulei detalhes mais avançados sobre *como eles funcionam*.\n",
    "Neste capítulo, vamos abrir a cortina,\n",
    "aprofundando os principais componentes da computação de *Deep Learning*,\n",
    "ou seja, construção de modelo, acesso de parâmetro e inicialização,\n",
    "projetando camadas e blocos personalizados, lendo e gravando modelos em disco,\n",
    "e aproveitando GPUs para obter acelerações dramáticas.\n",
    "Esses *insights* o moverão de *usuário final* para *usuário avançado*,\n",
    "dando a você as ferramentas necessárias para colher os benefícios\n",
    "de uma biblioteca de *Deep Learning* madura, mantendo a flexibilidade\n",
    "para implementar modelos mais complexos, incluindo aqueles que você mesmo inventa!\n",
    "Embora este capítulo não introduza nenhum novo modelo ou conjunto de dados,\n",
    "os capítulos de modelagem avançada que se seguem dependem muito dessas técnicas.\n",
    "\n",
    ":begin_tab:toc\n",
    " - [model-construction](model-construction.ipynb)\n",
    " - [parameters](parameters.ipynb)\n",
    " - [deferred-init](deferred-init.ipynb)\n",
    " - [custom-layer](custom-layer.ipynb)\n",
    " - [read-write](read-write.ipynb)\n",
    " - [use-gpu](use-gpu.ipynb)\n",
    ":end_tab:\n",
    "\n",
    "<!--stackedit_data:\n",
    "eyJoaXN0b3J5IjpbMzIyNTI5NzI3LC0xNTUxMzM3NzY3XX0=\n",
    "-->\n"
   ]
  }
 ],
 "metadata": {
  "kernelspec": {
   "display_name": "conda_pytorch_p36",
   "name": "conda_pytorch_p36"
  },
  "language_info": {
   "name": "python"
  }
 },
 "nbformat": 4,
 "nbformat_minor": 4
}