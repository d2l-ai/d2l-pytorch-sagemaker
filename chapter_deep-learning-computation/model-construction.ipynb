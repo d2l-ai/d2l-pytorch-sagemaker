{
 "cells": [
  {
   "cell_type": "markdown",
   "metadata": {
    "origin_pos": 0
   },
   "source": [
    "# Camadas e Blocos\n",
    ":label:`sec_model_construction`\n",
    "\n",
    "Quando introduzimos as redes neurais pela primeira vez,\n",
    "focamos em modelos lineares com uma única saída.\n",
    "Aqui, todo o modelo consiste em apenas um único neurônio.\n",
    "Observe que um único neurônio\n",
    "(i) leva algum conjunto de entradas;\n",
    "(ii) gera uma saída escalar correspondente;\n",
    "e (iii) tem um conjunto de parâmetros associados que podem ser atualizados\n",
    "para otimizar alguma função objetivo de interesse.\n",
    "Então, quando começamos a pensar em redes com múltiplas saídas,\n",
    "nós alavancamos a aritmética vetorizada\n",
    "para caracterizar uma camada inteira de neurônios.\n",
    "Assim como os neurônios individuais,\n",
    "camadas (i) recebem um conjunto de entradas,\n",
    "(ii) gerar resultados correspondentes,\n",
    "e (iii) são descritos por um conjunto de parâmetros ajustáveis.\n",
    "Quando trabalhamos com a regressão softmax,\n",
    "uma única camada era ela própria o modelo.\n",
    "No entanto, mesmo quando subsequentemente\n",
    "introduziu MLPs,\n",
    "ainda podemos pensar no modelo como\n",
    "mantendo esta mesma estrutura básica.\n",
    "\n",
    "Curiosamente, para MLPs,\n",
    "todo o modelo e suas camadas constituintes\n",
    "compartilham essa estrutura.\n",
    "Todo o modelo recebe entradas brutas (os recursos),\n",
    "gera resultados (as previsões),\n",
    "e possui parâmetros\n",
    "(os parâmetros combinados de todas as camadas constituintes).\n",
    "Da mesma forma, cada camada individual ingere entradas\n",
    "(fornecido pela camada anterior)\n",
    "gera saídas (as entradas para a camada subsequente),\n",
    "e possui um conjunto de parâmetros ajustáveis que são atualizados\n",
    "de acordo com o sinal que flui para trás\n",
    "da camada subsequente.\n",
    "\n",
    "Embora você possa pensar que neurônios, camadas e modelos\n",
    "dê-nos abstrações suficientes para cuidar de nossos negócios,\n",
    "Acontece que muitas vezes achamos conveniente\n",
    "para falar sobre componentes que são\n",
    "maior do que uma camada individual\n",
    "mas menor do que o modelo inteiro.\n",
    "Por exemplo, a arquitetura ResNet-152,\n",
    "que é muito popular na visão computacional,\n",
    "possui centenas de camadas.\n",
    "Essas camadas consistem em padrões repetidos de *grupos de camadas*. Implementar uma camada de rede por vez pode se tornar tedioso.\n",
    "Essa preocupação não é apenas hipotética --- tal\n",
    "padrões de projeto são comuns na prática.\n",
    "A arquitetura ResNet mencionada acima\n",
    "venceu as competições de visão computacional ImageNet e COCO 2015\n",
    "para reconhecimento e detecção :cite:`He.Zhang.Ren.ea.2016`\n",
    "e continua sendo uma arquitetura indispensável para muitas tarefas de visão.\n",
    "Arquiteturas semelhantes nas quais as camadas são organizadas\n",
    "em vários padrões repetidos\n",
    "agora são onipresentes em outros domínios,\n",
    "incluindo processamento de linguagem natural e fala.\n",
    "\n",
    "Para implementar essas redes complexas,\n",
    "introduzimos o conceito de uma rede neural *block*.\n",
    "Um bloco pode descrever uma única camada,\n",
    "um componente que consiste em várias camadas,\n",
    "ou o próprio modelo inteiro!\n",
    "Uma vantagem de trabalhar com a abstração de bloco\n",
    "é que eles podem ser combinados em artefatos maiores,\n",
    "frequentemente recursivamente. Isso é ilustrado em :numref:`fig_blocks`. Definindo o código para gerar blocos\n",
    "de complexidade arbitrária sob demanda,\n",
    "podemos escrever código surpreendentemente compacto\n",
    "e ainda implementar redes neurais complexas.\n",
    "\n",
    "![Múltiplas camadas são combinadas em blocos, formando padrões repetitivos de um modelo maior.](../img/blocks.svg)\n",
    ":label:`fig_blocks`\n",
    "\n",
    "Do ponto de vista da programação, um bloco é representado por uma *classe*.\n",
    "Qualquer subclasse dele deve definir uma função de propagação direta\n",
    "que transforma sua entrada em saída\n",
    "e deve armazenar todos os parâmetros necessários.\n",
    "Observe que alguns blocos não requerem nenhum parâmetro.\n",
    "Finalmente, um bloco deve possuir uma função de retropropagação,\n",
    "para fins de cálculo de gradientes.\n",
    "Felizmente, devido a alguma magia dos bastidores\n",
    "fornecido pela diferenciação automática\n",
    "(introduzido em :numref:`sec_autograd`)\n",
    "ao definir nosso próprio bloco,\n",
    "só precisamos nos preocupar com os parâmetros\n",
    "e a função de propagação direta.\n",
    "\n",
    "Para começar, revisitamos o código\n",
    "que usamos para implementar MLPs\n",
    "(:numref:`sec_mlp_concise`).\n",
    "O código a seguir gera uma rede\n",
    "com uma camada oculta totalmente conectada\n",
    "com 256 unidades e ativação ReLU,\n",
    "seguido por uma camada de saída totalmente conectada\n",
    "com 10 unidades (sem função de ativação).\n"
   ]
  },
  {
   "cell_type": "code",
   "execution_count": 1,
   "metadata": {
    "origin_pos": 2,
    "tab": [
     "pytorch"
    ]
   },
   "outputs": [
    {
     "data": {
      "text/plain": [
       "tensor([[-0.0256,  0.1279,  0.0679,  0.0072, -0.2088,  0.0412, -0.2575, -0.0133,\n",
       "          0.0521,  0.0697],\n",
       "        [ 0.0747,  0.1671,  0.1247, -0.1827, -0.1590,  0.0773, -0.2884, -0.1681,\n",
       "          0.0335,  0.2242]], grad_fn=<AddmmBackward>)"
      ]
     },
     "execution_count": 1,
     "metadata": {},
     "output_type": "execute_result"
    }
   ],
   "source": [
    "import torch\n",
    "from torch import nn\n",
    "from torch.nn import functional as F\n",
    "\n",
    "net = nn.Sequential(nn.Linear(20, 256), nn.ReLU(), nn.Linear(256, 10))\n",
    "\n",
    "X = torch.rand(2, 20)\n",
    "net(X)"
   ]
  },
  {
   "cell_type": "markdown",
   "metadata": {
    "origin_pos": 5,
    "tab": [
     "pytorch"
    ]
   },
   "source": [
    "Neste exemplo, nós construímos\n",
    "nosso modelo instanciando um `nn.Sequential`, com camadas na ordem\n",
    "que eles devem ser executados passados como argumentos.\n",
    "Em suma, `nn.Sequential` define um tipo especial de `Module`,\n",
    "a classe que apresenta um bloco em PyTorch.\n",
    "Ele mantém uma lista ordenada de `Module` constituintes.\n",
    "Observe que cada uma das duas camadas totalmente conectadas é uma instância da classe `Linear`\n",
    "que é uma subclasse de `Module`.\n",
    "A função de propagação direta (`forward`) também é notavelmente simples:\n",
    "ele encadeia cada bloco da lista,\n",
    "passando a saída de cada um como entrada para o próximo.\n",
    "Observe que, até agora, temos invocado nossos modelos\n",
    "através da construção `net (X)` para obter seus resultados.\n",
    "Na verdade, isso é apenas um atalho para `net.__call__(X)`.\n"
   ]
  },
  {
   "cell_type": "markdown",
   "metadata": {
    "origin_pos": 7
   },
   "source": [
    "## Um Bloco Personalizado\n",
    "\n",
    "Talvez a maneira mais fácil de desenvolver intuição\n",
    "sobre como funciona um bloco\n",
    "é implementar um nós mesmos.\n",
    "Antes de implementar nosso próprio bloco personalizado,\n",
    "resumimos brevemente a funcionalidade básica\n",
    "que cada bloco deve fornecer:\n",
    "\n",
    "1. Ingerir dados de entrada como argumentos para sua função de propagação direta.\n",
    "1. Gere uma saída fazendo com que a função de propagação direta retorne um valor. Observe que a saída pode ter uma forma diferente da entrada. Por exemplo, a primeira camada totalmente conectada em nosso modelo acima ingere uma entrada de dimensão arbitrária, mas retorna uma saída de dimensão 256.\n",
    "1. Calcule o gradiente de sua saída em relação à sua entrada, que pode ser acessado por meio de sua função de retropropagação. Normalmente, isso acontece automaticamente.\n",
    "1. Armazene e forneça acesso aos parâmetros necessários\n",
    "    para executar o cálculo de propagação direta.\n",
    "1. Inicialize os parâmetros do modelo conforme necessário.\n",
    "\n",
    "No seguinte trecho de código,\n",
    "nós codificamos um bloco do zero\n",
    "correspondendo a um MLP\n",
    "com uma camada oculta com 256 unidades ocultas,\n",
    "e uma camada de saída de 10 dimensões.\n",
    "Observe que a classe `MLP` abaixo herda a classe que representa um bloco.\n",
    "Vamos contar muito com as funções da classe pai,\n",
    "fornecendo apenas nosso próprio construtor (a função `__init__` em Python) e a função de propagação direta.\n"
   ]
  },
  {
   "cell_type": "code",
   "execution_count": 2,
   "metadata": {
    "origin_pos": 9,
    "tab": [
     "pytorch"
    ]
   },
   "outputs": [],
   "source": [
    "class MLP(nn.Module):\n",
    "    # Declare uma camada com parâmetros de modelo. Aqui, declaramos duas\n",
    "    # camadas totalmente conectadas\n",
    "    def __init__(self):\n",
    "        # Chame o construtor da classe pai `MLP` `Block` para realizar\n",
    "        # a inicialização necessária. Desta forma, outros argumentos de função\n",
    "        # também podem ser especificado durante a instanciação da classe, como\n",
    "        # os parametros do modelo, `params` (a ser descritos posteriormente)\n",
    "        super().__init__()\n",
    "        self.hidden = nn.Linear(20, 256)  # Hidden layer\n",
    "        self.out = nn.Linear(256, 10)  # Output layer\n",
    "\n",
    "    # Defina a propagação direta do modelo, ou seja, como retornar a\n",
    "    # saída do modelo necessária com base na entrada `X`\n",
    "    def forward(self, X):\n",
    "        # Observe aqui que usamos a versão funcional do ReLU definida no\n",
    "        # módulo nn.functional.\n",
    "        return self.out(F.relu(self.hidden(X)))"
   ]
  },
  {
   "cell_type": "markdown",
   "metadata": {
    "origin_pos": 11
   },
   "source": [
    "Vamos primeiro nos concentrar na função de propagação direta.\n",
    "Observe que leva `X` como entrada,\n",
    "calcula a representação oculta\n",
    "com a função de ativação aplicada,\n",
    "e produz seus *logits*.\n",
    "Nesta implementação `MLP`,\n",
    "ambas as camadas são variáveis de instância.\n",
    "Para ver por que isso é razoável, imagine\n",
    "instanciando dois MLPs, `net1` e` net2`,\n",
    "e treiná-los em dados diferentes.\n",
    "Naturalmente, esperaríamos que eles\n",
    "para representar dois modelos aprendidos diferentes.\n",
    "\n",
    "Nós instanciamos as camadas do MLP\n",
    "no construtor\n",
    "e posteriormente invocar essas camadas\n",
    "em cada chamada para a função de propagação direta.\n",
    "Observe alguns detalhes importantes:\n",
    "Primeiro, nossa função `__init__` personalizada\n",
    "invoca a função `__init__` da classe pai\n",
    "via `super().__ init __()`\n",
    "poupando-nos da dor de reafirmar o\n",
    "código padrão aplicável à maioria dos blocos.\n",
    "Em seguida, instanciamos nossas duas camadas totalmente conectadas,\n",
    "atribuindo-os a `self.hidden` e` self.out`.\n",
    "Observe que, a menos que implementemos um novo operador,\n",
    "não precisamos nos preocupar com a função de *backpropagation*\n",
    "ou inicialização de parâmetro.\n",
    "O sistema irá gerar essas funções automaticamente.\n",
    "Vamos tentar fazer isso.\n"
   ]
  },
  {
   "cell_type": "code",
   "execution_count": 3,
   "metadata": {
    "origin_pos": 13,
    "tab": [
     "pytorch"
    ]
   },
   "outputs": [
    {
     "data": {
      "text/plain": [
       "tensor([[-0.0627, -0.0958, -0.0792,  0.2375,  0.3284,  0.1038, -0.0707, -0.0726,\n",
       "         -0.0738,  0.0958],\n",
       "        [ 0.0125, -0.1072,  0.0780,  0.1053,  0.2692,  0.1731, -0.0750, -0.1358,\n",
       "         -0.0111, -0.0523]], grad_fn=<AddmmBackward>)"
      ]
     },
     "execution_count": 3,
     "metadata": {},
     "output_type": "execute_result"
    }
   ],
   "source": [
    "net = MLP()\n",
    "net(X)"
   ]
  },
  {
   "cell_type": "markdown",
   "metadata": {
    "origin_pos": 15
   },
   "source": [
    "Uma virtude fundamental da abstração em bloco é sua versatilidade.\n",
    "Podemos criar uma subclasse de um bloco para criar camadas\n",
    "(como a classe de camada totalmente conectada),\n",
    "modelos inteiros (como a classe `MLP` acima),\n",
    "ou vários componentes de complexidade intermediária.\n",
    "Nós exploramos essa versatilidade\n",
    "ao longo dos capítulos seguintes,\n",
    "como ao abordar\n",
    "redes neurais convolucionais.\n",
    "\n",
    "\n",
    "## O Bloco Sequencial\n",
    "\n",
    "Agora podemos dar uma olhada mais de perto\n",
    "em como a classe `Sequential` funciona.\n",
    "Lembre-se de que `Sequential` foi projetado\n",
    "para conectar outros blocos em série.\n",
    "Para construir nosso próprio `MySequential` simplificado,\n",
    "só precisamos definir duas funções principais:\n",
    "1. Uma função para anexar um blocos a uma lista.\n",
    "2. Uma função de propagação direta para passar uma entrada através da cadeia de blocos, na mesma ordem em que foram acrescentados.\n",
    "\n",
    "A seguinte classe `MySequential` oferece o mesmo\n",
    "funcionalidade da classe `Sequential` padrão.\n"
   ]
  },
  {
   "cell_type": "code",
   "execution_count": 4,
   "metadata": {
    "origin_pos": 17,
    "tab": [
     "pytorch"
    ]
   },
   "outputs": [],
   "source": [
    "class MySequential(nn.Module):\n",
    "    def __init__(self, *args):\n",
    "        super().__init__()\n",
    "        for idx, module in enumerate(args):\n",
    "            # Here, `module` is an instance of a `Module` subclass. We save it\n",
    "            #\n",
    "            # in the member variable `_modules` of the `Module` class, and its\n",
    "            #\n",
    "            # type is OrderedDict\n",
    "            #\n",
    "            self._modules[str(idx)] = module\n",
    "\n",
    "    def forward(self, X):\n",
    "        # OrderedDict guarantees that members will be traversed in the order\n",
    "        #\n",
    "        # they were added\n",
    "        #\n",
    "        for block in self._modules.values():\n",
    "            X = block(X)\n",
    "        return X"
   ]
  },
  {
   "cell_type": "markdown",
   "metadata": {
    "origin_pos": 20,
    "tab": [
     "pytorch"
    ]
   },
   "source": [
    "No método `__init__`, adicionamos todos os módulos\n",
    "para o dicionário ordenado `_modules` um por um.\n",
    "Você pode se perguntar por que todo `Module`\n",
    "possui um atributo `_modules`\n",
    "e por que o usamos em vez de apenas\n",
    "definir uma lista Python nós mesmos.\n",
    "Em suma, a principal vantagem de `_modules`\n",
    "é que durante a inicialização do parâmetro do nosso módulo,\n",
    "o sistema sabe olhar dentro do `_modules`\n",
    "dicionário para encontrar submódulos cujo\n",
    "os parâmetros também precisam ser inicializados.\n"
   ]
  },
  {
   "cell_type": "markdown",
   "metadata": {
    "origin_pos": 21
   },
   "source": [
    "Quando a função de propagação direta de nosso `MySequential` é invocada,\n",
    "cada bloco adicionado é executado\n",
    "na ordem em que foram adicionados.\n",
    "Agora podemos reimplementar um MLP\n",
    "usando nossa classe `MySequential`.\n"
   ]
  },
  {
   "cell_type": "code",
   "execution_count": 5,
   "metadata": {
    "origin_pos": 23,
    "tab": [
     "pytorch"
    ]
   },
   "outputs": [
    {
     "data": {
      "text/plain": [
       "tensor([[-0.1604,  0.0811, -0.1572,  0.0730,  0.1101, -0.1630,  0.0652,  0.0542,\n",
       "          0.3904,  0.3679],\n",
       "        [-0.2220, -0.0184, -0.0323,  0.1314,  0.2649, -0.0249, -0.1741, -0.0846,\n",
       "          0.2679,  0.3209]], grad_fn=<AddmmBackward>)"
      ]
     },
     "execution_count": 5,
     "metadata": {},
     "output_type": "execute_result"
    }
   ],
   "source": [
    "net = MySequential(nn.Linear(20, 256), nn.ReLU(), nn.Linear(256, 10))\n",
    "net(X)"
   ]
  },
  {
   "cell_type": "markdown",
   "metadata": {
    "origin_pos": 25
   },
   "source": [
    "Observe que este uso de `MySequential`\n",
    "é idêntico ao código que escrevemos anteriormente\n",
    "para a classe `Sequential`\n",
    "(conforme descrito em :numref:`sec_mlp_concise`).\n",
    "\n",
    "## Execução de Código na Função de Propagação Direta\n",
    "\n",
    "A classe `Sequential` facilita a construção do modelo,\n",
    "nos permitindo montar novas arquiteturas\n",
    "sem ter que definir nossa própria classe.\n",
    "No entanto, nem todas as arquiteturas são cadeias simples.\n",
    "Quando uma maior flexibilidade é necessária,\n",
    "vamos querer definir nossos próprios blocos.\n",
    "Por exemplo, podemos querer executar o\n",
    "controle de fluxo do Python dentro da função de propagação direta.\n",
    "Além disso, podemos querer realizar\n",
    "operações matemáticas arbitrárias,\n",
    "não simplesmente depender de camadas de rede neural predefinidas.\n",
    "\n",
    "Você deve ter notado que até agora,\n",
    "todas as operações em nossas redes\n",
    "agiram de acordo com as ativações de nossa rede\n",
    "e seus parâmetros.\n",
    "Às vezes, no entanto, podemos querer\n",
    "incorporar termos\n",
    "que não são resultado de camadas anteriores\n",
    "nem parâmetros atualizáveis.\n",
    "Chamamos isso de *parâmetros constantes*.\n",
    "Digamos, por exemplo, que queremos uma camada\n",
    "que calcula a função\n",
    "$f(\\mathbf{x},\\mathbf{w}) = c \\cdot \\mathbf{w}^\\top \\mathbf{x}$,\n",
    "onde $\\mathbf{x}$ é a entrada, $\\mathbf{w}$ é nosso parâmetro,\n",
    "e $c$ é alguma constante especificada\n",
    "que não é atualizado durante a otimização.\n",
    "Portanto, implementamos uma classe `FixedHiddenMLP` como a seguir.\n"
   ]
  },
  {
   "cell_type": "code",
   "execution_count": 6,
   "metadata": {
    "origin_pos": 27,
    "tab": [
     "pytorch"
    ]
   },
   "outputs": [],
   "source": [
    "class FixedHiddenMLP(nn.Module):\n",
    "    def __init__(self):\n",
    "        super().__init__()\n",
    "        # Parâmetros de peso aleatórios que não computarão gradientes e\n",
    "        # portanto, mantem-se constante durante o treinamento\n",
    "        self.rand_weight = torch.rand((20, 20), requires_grad=False)\n",
    "        self.linear = nn.Linear(20, 20)\n",
    "\n",
    "    def forward(self, X):\n",
    "        X = self.linear(X)\n",
    "        # Use os parâmetros constantes criados, bem como as funções `relu` e` mm`\n",
    "        X = F.relu(torch.mm(X, self.rand_weight) + 1)\n",
    "        # Reutilize a camada totalmente conectada. Isso é equivalente a compartilhar\n",
    "        # parâmetros com duas camadas totalmente conectadas\n",
    "        X = self.linear(X)\n",
    "        # Controle de fluxo\n",
    "        while X.abs().sum() > 1:\n",
    "            X /= 2\n",
    "        return X.sum()"
   ]
  },
  {
   "cell_type": "markdown",
   "metadata": {
    "origin_pos": 29
   },
   "source": [
    "Neste modelo `FixedHiddenMLP`,\n",
    "implementamos uma camada oculta cujos pesos\n",
    "(`self.rand_weight`) são inicializados aleatoriamente\n",
    "na instanciação e daí em diante constantes.\n",
    "Este peso não é um parâmetro do modelo\n",
    "e, portanto, nunca é atualizado por *backpropagation*.\n",
    "A rede então passa a saída desta camada \"fixa\"\n",
    "através de uma camada totalmente conectada.\n",
    "\n",
    "Observe que antes de retornar a saída,\n",
    "nosso modelo fez algo incomum.\n",
    "Executamos um *loop while*, testando\n",
    "na condição de que sua norma $L_1$ seja maior que $1$,\n",
    "e dividindo nosso vetor de produção por $2$\n",
    "até que satisfizesse a condição.\n",
    "Finalmente, retornamos a soma das entradas em `X`.\n",
    "Até onde sabemos, nenhuma rede neural padrão\n",
    "executa esta operação.\n",
    "Observe que esta operação em particular pode não ser útil\n",
    "em qualquer tarefa do mundo real.\n",
    "Nosso objetivo é apenas mostrar como integrar\n",
    "código arbitrário no fluxo de seu\n",
    "cálculos de rede neural.\n"
   ]
  },
  {
   "cell_type": "code",
   "execution_count": 7,
   "metadata": {
    "origin_pos": 31,
    "tab": [
     "pytorch"
    ]
   },
   "outputs": [
    {
     "data": {
      "text/plain": [
       "tensor(0.1221, grad_fn=<SumBackward0>)"
      ]
     },
     "execution_count": 7,
     "metadata": {},
     "output_type": "execute_result"
    }
   ],
   "source": [
    "net = FixedHiddenMLP()\n",
    "net(X)"
   ]
  },
  {
   "cell_type": "markdown",
   "metadata": {
    "origin_pos": 32
   },
   "source": [
    "Podemos misturar e combinar vários\n",
    "maneiras de montar blocos juntos.\n",
    "No exemplo a seguir, aninhamos blocos\n",
    "de algumas maneiras criativas.\n"
   ]
  },
  {
   "cell_type": "code",
   "execution_count": 8,
   "metadata": {
    "origin_pos": 34,
    "tab": [
     "pytorch"
    ]
   },
   "outputs": [
    {
     "data": {
      "text/plain": [
       "tensor(-0.0955, grad_fn=<SumBackward0>)"
      ]
     },
     "execution_count": 8,
     "metadata": {},
     "output_type": "execute_result"
    }
   ],
   "source": [
    "class NestMLP(nn.Module):\n",
    "    def __init__(self):\n",
    "        super().__init__()\n",
    "        self.net = nn.Sequential(nn.Linear(20, 64), nn.ReLU(),\n",
    "                                 nn.Linear(64, 32), nn.ReLU())\n",
    "        self.linear = nn.Linear(32, 16)\n",
    "\n",
    "    def forward(self, X):\n",
    "        return self.linear(self.net(X))\n",
    "\n",
    "chimera = nn.Sequential(NestMLP(), nn.Linear(16, 20), FixedHiddenMLP())\n",
    "chimera(X)"
   ]
  },
  {
   "cell_type": "markdown",
   "metadata": {
    "origin_pos": 36
   },
   "source": [
    "## Eficiência\n"
   ]
  },
  {
   "cell_type": "markdown",
   "metadata": {
    "origin_pos": 38,
    "tab": [
     "pytorch"
    ]
   },
   "source": [
    "O leitor ávido pode começar a se preocupar\n",
    "sobre a eficiência de algumas dessas operações.\n",
    "Afinal, temos muitas pesquisas de dicionário,\n",
    "execução de código e muitas outras coisas Pythônicas\n",
    "ocorrendo no que deveria ser\n",
    "uma biblioteca de *Deep Learning* de alto desempenho.\n",
    "Os problemas do [bloqueio do interpretador global](https://wiki.python.org/moin/GlobalInterpreterLock) do Python  são bem conhecidos.\n",
    "No contexto de *Deep Learning*,\n",
    "podemos nos preocupar que nossas GPU(s) extremamente rápidas\n",
    "pode ter que esperar até uma CPU insignificante\n",
    "executa o código Python antes de obter outro trabalho para ser executado.\n"
   ]
  },
  {
   "cell_type": "markdown",
   "metadata": {
    "origin_pos": 40
   },
   "source": [
    "## Sumário\n",
    "\n",
    "* Camadas são blocos.\n",
    "* Muitas camadas podem incluir um bloco.\n",
    "* Muitos blocos podem incluir um bloco.\n",
    "* Um bloco pode conter código.\n",
    "* Os blocos cuidam de muitas tarefas domésticas, incluindo inicialização de parâmetros e *backpropagation*.\n",
    "* As concatenações sequenciais de camadas e blocos são tratadas pelo bloco `Sequencial`.\n",
    "\n",
    "\n",
    "## Exercícios\n",
    "\n",
    "1. Que tipos de problemas ocorrerão se você alterar `MySequential` para armazenar blocos em uma lista Python?\n",
    "1. Implemente um bloco que tenha dois blocos como argumento, digamos `net1` e `net2` e retorne a saída concatenada de ambas as redes na propagação direta. Isso também é chamado de bloco paralelo.\n",
    "1. Suponha que você deseja concatenar várias instâncias da mesma rede. Implemente uma função de fábrica que gere várias instâncias do mesmo bloco e construa uma rede maior a partir dele.\n"
   ]
  },
  {
   "cell_type": "markdown",
   "metadata": {
    "origin_pos": 42,
    "tab": [
     "pytorch"
    ]
   },
   "source": [
    "[Discussions](https://discuss.d2l.ai/t/55)\n"
   ]
  },
  {
   "cell_type": "markdown",
   "metadata": {
    "origin_pos": 44
   },
   "source": [
    "<!--stackedit_data:\n",
    "eyJoaXN0b3J5IjpbLTE3MjkyMDczNzIsMTQwNjIzOTk0NiwtOD\n",
    "U2NjE0MzM3LDM1NTY2MzgxMSw4Mzc5MjY4NDcsMTc3MDI4MDk3\n",
    "NCwtMTYzNzgyOTQ5MF19\n",
    "-->\n"
   ]
  }
 ],
 "metadata": {
  "kernelspec": {
   "display_name": "conda_pytorch_p36",
   "name": "conda_pytorch_p36"
  },
  "language_info": {
   "name": "python"
  }
 },
 "nbformat": 4,
 "nbformat_minor": 4
}