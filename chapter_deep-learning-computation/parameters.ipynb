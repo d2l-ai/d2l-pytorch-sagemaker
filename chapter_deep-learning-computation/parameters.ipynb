{
 "cells": [
  {
   "cell_type": "markdown",
   "id": "e3ef7657",
   "metadata": {
    "origin_pos": 0
   },
   "source": [
    "# Parameter Management\n",
    "\n",
    "Once we have chosen an architecture\n",
    "and set our hyperparameters,\n",
    "we proceed to the training loop,\n",
    "where our goal is to find parameter values\n",
    "that minimize our loss function.\n",
    "After training, we will need these parameters\n",
    "in order to make future predictions.\n",
    "Additionally, we will sometimes wish\n",
    "to extract the parameters\n",
    "either to reuse them in some other context,\n",
    "to save our model to disk so that\n",
    "it may be executed in other software,\n",
    "or for examination in the hope of\n",
    "gaining scientific understanding.\n",
    "\n",
    "Most of the time, we will be able\n",
    "to ignore the nitty-gritty details\n",
    "of how parameters are declared\n",
    "and manipulated, relying on deep learning frameworks\n",
    "to do the heavy lifting.\n",
    "However, when we move away from\n",
    "stacked architectures with standard layers,\n",
    "we will sometimes need to get into the weeds\n",
    "of declaring and manipulating parameters.\n",
    "In this section, we cover the following:\n",
    "\n",
    "* Accessing parameters for debugging, diagnostics, and visualizations.\n",
    "* Parameter initialization.\n",
    "* Sharing parameters across different model components.\n",
    "\n",
    "(**We start by focusing on an MLP with one hidden layer.**)\n"
   ]
  },
  {
   "cell_type": "code",
   "execution_count": 1,
   "id": "e453e2ff",
   "metadata": {
    "execution": {
     "iopub.execute_input": "2022-07-10T03:09:29.901086Z",
     "iopub.status.busy": "2022-07-10T03:09:29.900438Z",
     "iopub.status.idle": "2022-07-10T03:09:30.817442Z",
     "shell.execute_reply": "2022-07-10T03:09:30.816540Z"
    },
    "origin_pos": 2,
    "tab": [
     "pytorch"
    ]
   },
   "outputs": [
    {
     "data": {
      "text/plain": [
       "tensor([[0.3213],\n",
       "        [0.3235]], grad_fn=<AddmmBackward0>)"
      ]
     },
     "execution_count": 1,
     "metadata": {},
     "output_type": "execute_result"
    }
   ],
   "source": [
    "import torch\n",
    "from torch import nn\n",
    "\n",
    "net = nn.Sequential(nn.Linear(4, 8), nn.ReLU(), nn.Linear(8, 1))\n",
    "X = torch.rand(size=(2, 4))\n",
    "net(X)"
   ]
  },
  {
   "cell_type": "markdown",
   "id": "9a73b1cc",
   "metadata": {
    "origin_pos": 4
   },
   "source": [
    "## [**Parameter Access**]\n",
    "\n",
    "Let us start with how to access parameters\n",
    "from the models that you already know.\n",
    "When a model is defined via the `Sequential` class,\n",
    "we can first access any layer by indexing\n",
    "into the model as though it were a list.\n",
    "Each layer's parameters are conveniently\n",
    "located in its attribute.\n",
    "We can inspect the parameters of the second fully-connected layer as follows.\n"
   ]
  },
  {
   "cell_type": "code",
   "execution_count": 2,
   "id": "01bbabd8",
   "metadata": {
    "execution": {
     "iopub.execute_input": "2022-07-10T03:09:30.821451Z",
     "iopub.status.busy": "2022-07-10T03:09:30.820893Z",
     "iopub.status.idle": "2022-07-10T03:09:30.826907Z",
     "shell.execute_reply": "2022-07-10T03:09:30.826049Z"
    },
    "origin_pos": 6,
    "tab": [
     "pytorch"
    ]
   },
   "outputs": [
    {
     "name": "stdout",
     "output_type": "stream",
     "text": [
      "OrderedDict([('weight', tensor([[-0.2025, -0.1594,  0.2165,  0.2746,  0.3402, -0.3157, -0.1644, -0.2814]])), ('bias', tensor([0.1935]))])\n"
     ]
    }
   ],
   "source": [
    "print(net[2].state_dict())"
   ]
  },
  {
   "cell_type": "markdown",
   "id": "6575a1c0",
   "metadata": {
    "origin_pos": 8
   },
   "source": [
    "The output tells us a few important things.\n",
    "First, this fully-connected layer\n",
    "contains two parameters,\n",
    "corresponding to that layer's\n",
    "weights and biases, respectively.\n",
    "Both are stored as single precision floats (float32).\n",
    "Note that the names of the parameters\n",
    "allow us to uniquely identify\n",
    "each layer's parameters,\n",
    "even in a network containing hundreds of layers.\n",
    "\n",
    "\n",
    "### [**Targeted Parameters**]\n",
    "\n",
    "Note that each parameter is represented\n",
    "as an instance of the parameter class.\n",
    "To do anything useful with the parameters,\n",
    "we first need to access the underlying numerical values.\n",
    "There are several ways to do this.\n",
    "Some are simpler while others are more general.\n",
    "The following code extracts the bias\n",
    "from the second neural network layer, which returns a parameter class instance, and \n",
    "further accesses that parameter's value.\n"
   ]
  },
  {
   "cell_type": "code",
   "execution_count": 3,
   "id": "c171f149",
   "metadata": {
    "execution": {
     "iopub.execute_input": "2022-07-10T03:09:30.830409Z",
     "iopub.status.busy": "2022-07-10T03:09:30.829957Z",
     "iopub.status.idle": "2022-07-10T03:09:30.835725Z",
     "shell.execute_reply": "2022-07-10T03:09:30.834816Z"
    },
    "origin_pos": 10,
    "tab": [
     "pytorch"
    ]
   },
   "outputs": [
    {
     "name": "stdout",
     "output_type": "stream",
     "text": [
      "<class 'torch.nn.parameter.Parameter'>\n",
      "Parameter containing:\n",
      "tensor([0.1935], requires_grad=True)\n",
      "tensor([0.1935])\n"
     ]
    }
   ],
   "source": [
    "print(type(net[2].bias))\n",
    "print(net[2].bias)\n",
    "print(net[2].bias.data)"
   ]
  },
  {
   "cell_type": "markdown",
   "id": "8dcaadcb",
   "metadata": {
    "origin_pos": 12,
    "tab": [
     "pytorch"
    ]
   },
   "source": [
    "Parameters are complex objects,\n",
    "containing values, gradients,\n",
    "and additional information.\n",
    "That's why we need to request the value explicitly.\n",
    "\n",
    "In addition to the value, each parameter also allows us to access the gradient. Because we have not invoked backpropagation for this network yet, it is in its initial state.\n"
   ]
  },
  {
   "cell_type": "code",
   "execution_count": 4,
   "id": "d353571a",
   "metadata": {
    "execution": {
     "iopub.execute_input": "2022-07-10T03:09:30.839282Z",
     "iopub.status.busy": "2022-07-10T03:09:30.838676Z",
     "iopub.status.idle": "2022-07-10T03:09:30.844396Z",
     "shell.execute_reply": "2022-07-10T03:09:30.843541Z"
    },
    "origin_pos": 14,
    "tab": [
     "pytorch"
    ]
   },
   "outputs": [
    {
     "data": {
      "text/plain": [
       "True"
      ]
     },
     "execution_count": 4,
     "metadata": {},
     "output_type": "execute_result"
    }
   ],
   "source": [
    "net[2].weight.grad == None"
   ]
  },
  {
   "cell_type": "markdown",
   "id": "1814fbe8",
   "metadata": {
    "origin_pos": 15
   },
   "source": [
    "### [**All Parameters at Once**]\n",
    "\n",
    "When we need to perform operations on all parameters,\n",
    "accessing them one-by-one can grow tedious.\n",
    "The situation can grow especially unwieldy\n",
    "when we work with more complex blocks (e.g., nested blocks),\n",
    "since we would need to recurse\n",
    "through the entire tree to extract\n",
    "each sub-block's parameters. Below we demonstrate accessing the parameters of the first fully-connected layer vs. accessing all layers.\n"
   ]
  },
  {
   "cell_type": "code",
   "execution_count": 5,
   "id": "8dee6603",
   "metadata": {
    "execution": {
     "iopub.execute_input": "2022-07-10T03:09:30.847993Z",
     "iopub.status.busy": "2022-07-10T03:09:30.847428Z",
     "iopub.status.idle": "2022-07-10T03:09:30.852573Z",
     "shell.execute_reply": "2022-07-10T03:09:30.851718Z"
    },
    "origin_pos": 17,
    "tab": [
     "pytorch"
    ]
   },
   "outputs": [
    {
     "name": "stdout",
     "output_type": "stream",
     "text": [
      "('weight', torch.Size([8, 4])) ('bias', torch.Size([8]))\n",
      "('0.weight', torch.Size([8, 4])) ('0.bias', torch.Size([8])) ('2.weight', torch.Size([1, 8])) ('2.bias', torch.Size([1]))\n"
     ]
    }
   ],
   "source": [
    "print(*[(name, param.shape) for name, param in net[0].named_parameters()])\n",
    "print(*[(name, param.shape) for name, param in net.named_parameters()])"
   ]
  },
  {
   "cell_type": "markdown",
   "id": "701e53d5",
   "metadata": {
    "origin_pos": 19
   },
   "source": [
    "This provides us with another way of accessing the parameters of the network as follows.\n"
   ]
  },
  {
   "cell_type": "code",
   "execution_count": 6,
   "id": "ec88eb12",
   "metadata": {
    "execution": {
     "iopub.execute_input": "2022-07-10T03:09:30.856229Z",
     "iopub.status.busy": "2022-07-10T03:09:30.855680Z",
     "iopub.status.idle": "2022-07-10T03:09:30.861567Z",
     "shell.execute_reply": "2022-07-10T03:09:30.860724Z"
    },
    "origin_pos": 21,
    "tab": [
     "pytorch"
    ]
   },
   "outputs": [
    {
     "data": {
      "text/plain": [
       "tensor([0.1935])"
      ]
     },
     "execution_count": 6,
     "metadata": {},
     "output_type": "execute_result"
    }
   ],
   "source": [
    "net.state_dict()['2.bias'].data"
   ]
  },
  {
   "cell_type": "markdown",
   "id": "c4ef309c",
   "metadata": {
    "origin_pos": 23
   },
   "source": [
    "### [**Collecting Parameters from Nested Blocks**]\n",
    "\n",
    "Let us see how the parameter naming conventions work\n",
    "if we nest multiple blocks inside each other.\n",
    "For that we first define a function that produces blocks\n",
    "(a block factory, so to speak) and then\n",
    "combine these inside yet larger blocks.\n"
   ]
  },
  {
   "cell_type": "code",
   "execution_count": 7,
   "id": "0cfdc410",
   "metadata": {
    "execution": {
     "iopub.execute_input": "2022-07-10T03:09:30.865218Z",
     "iopub.status.busy": "2022-07-10T03:09:30.864647Z",
     "iopub.status.idle": "2022-07-10T03:09:30.875372Z",
     "shell.execute_reply": "2022-07-10T03:09:30.874498Z"
    },
    "origin_pos": 25,
    "tab": [
     "pytorch"
    ]
   },
   "outputs": [
    {
     "data": {
      "text/plain": [
       "tensor([[0.2768],\n",
       "        [0.2770]], grad_fn=<AddmmBackward0>)"
      ]
     },
     "execution_count": 7,
     "metadata": {},
     "output_type": "execute_result"
    }
   ],
   "source": [
    "def block1():\n",
    "    return nn.Sequential(nn.Linear(4, 8), nn.ReLU(),\n",
    "                         nn.Linear(8, 4), nn.ReLU())\n",
    "\n",
    "def block2():\n",
    "    net = nn.Sequential()\n",
    "    for i in range(4):\n",
    "        # Nested here\n",
    "        net.add_module(f'block {i}', block1())\n",
    "    return net\n",
    "\n",
    "rgnet = nn.Sequential(block2(), nn.Linear(4, 1))\n",
    "rgnet(X)"
   ]
  },
  {
   "cell_type": "markdown",
   "id": "d7b0ff2b",
   "metadata": {
    "origin_pos": 27
   },
   "source": [
    "Now that [**we have designed the network,\n",
    "let us see how it is organized.**]\n"
   ]
  },
  {
   "cell_type": "code",
   "execution_count": 8,
   "id": "0f1aa0c6",
   "metadata": {
    "execution": {
     "iopub.execute_input": "2022-07-10T03:09:30.878976Z",
     "iopub.status.busy": "2022-07-10T03:09:30.878407Z",
     "iopub.status.idle": "2022-07-10T03:09:30.882922Z",
     "shell.execute_reply": "2022-07-10T03:09:30.882057Z"
    },
    "origin_pos": 29,
    "tab": [
     "pytorch"
    ]
   },
   "outputs": [
    {
     "name": "stdout",
     "output_type": "stream",
     "text": [
      "Sequential(\n",
      "  (0): Sequential(\n",
      "    (block 0): Sequential(\n",
      "      (0): Linear(in_features=4, out_features=8, bias=True)\n",
      "      (1): ReLU()\n",
      "      (2): Linear(in_features=8, out_features=4, bias=True)\n",
      "      (3): ReLU()\n",
      "    )\n",
      "    (block 1): Sequential(\n",
      "      (0): Linear(in_features=4, out_features=8, bias=True)\n",
      "      (1): ReLU()\n",
      "      (2): Linear(in_features=8, out_features=4, bias=True)\n",
      "      (3): ReLU()\n",
      "    )\n",
      "    (block 2): Sequential(\n",
      "      (0): Linear(in_features=4, out_features=8, bias=True)\n",
      "      (1): ReLU()\n",
      "      (2): Linear(in_features=8, out_features=4, bias=True)\n",
      "      (3): ReLU()\n",
      "    )\n",
      "    (block 3): Sequential(\n",
      "      (0): Linear(in_features=4, out_features=8, bias=True)\n",
      "      (1): ReLU()\n",
      "      (2): Linear(in_features=8, out_features=4, bias=True)\n",
      "      (3): ReLU()\n",
      "    )\n",
      "  )\n",
      "  (1): Linear(in_features=4, out_features=1, bias=True)\n",
      ")\n"
     ]
    }
   ],
   "source": [
    "print(rgnet)"
   ]
  },
  {
   "cell_type": "markdown",
   "id": "cdd38fcd",
   "metadata": {
    "origin_pos": 31
   },
   "source": [
    "Since the layers are hierarchically nested,\n",
    "we can also access them as though\n",
    "indexing through nested lists.\n",
    "For instance, we can access the first major block,\n",
    "within it the second sub-block,\n",
    "and within that the bias of the first layer,\n",
    "with as follows.\n"
   ]
  },
  {
   "cell_type": "code",
   "execution_count": 9,
   "id": "01d96af8",
   "metadata": {
    "execution": {
     "iopub.execute_input": "2022-07-10T03:09:30.886494Z",
     "iopub.status.busy": "2022-07-10T03:09:30.885953Z",
     "iopub.status.idle": "2022-07-10T03:09:30.891905Z",
     "shell.execute_reply": "2022-07-10T03:09:30.891018Z"
    },
    "origin_pos": 33,
    "tab": [
     "pytorch"
    ]
   },
   "outputs": [
    {
     "data": {
      "text/plain": [
       "tensor([ 0.0250,  0.2810,  0.4646, -0.2867,  0.0950, -0.4076, -0.3923, -0.4863])"
      ]
     },
     "execution_count": 9,
     "metadata": {},
     "output_type": "execute_result"
    }
   ],
   "source": [
    "rgnet[0][1][0].bias.data"
   ]
  },
  {
   "cell_type": "markdown",
   "id": "e431f232",
   "metadata": {
    "origin_pos": 35
   },
   "source": [
    "## Parameter Initialization\n",
    "\n",
    "Now that we know how to access the parameters,\n",
    "let us look at how to initialize them properly.\n",
    "We discussed the need for proper initialization in :numref:`sec_numerical_stability`.\n",
    "The deep learning framework provides default random initializations to its layers.\n",
    "However, we often want to initialize our weights\n",
    "according to various other protocols. The framework provides most commonly\n",
    "used protocols, and also allows to create a custom initializer.\n"
   ]
  },
  {
   "cell_type": "markdown",
   "id": "0fca458b",
   "metadata": {
    "origin_pos": 37,
    "tab": [
     "pytorch"
    ]
   },
   "source": [
    "By default, PyTorch initializes weight and bias matrices\n",
    "uniformly by drawing from a range that is computed according to the input and output dimension.\n",
    "PyTorch's `nn.init` module provides a variety\n",
    "of preset initialization methods.\n"
   ]
  },
  {
   "cell_type": "markdown",
   "id": "8205b8bc",
   "metadata": {
    "origin_pos": 39
   },
   "source": [
    "### [**Built-in Initialization**]\n",
    "\n",
    "Let us begin by calling on built-in initializers.\n",
    "The code below initializes all weight parameters\n",
    "as Gaussian random variables\n",
    "with standard deviation 0.01, while bias parameters cleared to zero.\n"
   ]
  },
  {
   "cell_type": "code",
   "execution_count": 10,
   "id": "5d7ab489",
   "metadata": {
    "execution": {
     "iopub.execute_input": "2022-07-10T03:09:30.895793Z",
     "iopub.status.busy": "2022-07-10T03:09:30.895223Z",
     "iopub.status.idle": "2022-07-10T03:09:30.903153Z",
     "shell.execute_reply": "2022-07-10T03:09:30.902262Z"
    },
    "origin_pos": 41,
    "tab": [
     "pytorch"
    ]
   },
   "outputs": [
    {
     "data": {
      "text/plain": [
       "(tensor([-0.0080, -0.0098,  0.0024,  0.0059]), tensor(0.))"
      ]
     },
     "execution_count": 10,
     "metadata": {},
     "output_type": "execute_result"
    }
   ],
   "source": [
    "def init_normal(m):\n",
    "    if type(m) == nn.Linear:\n",
    "        nn.init.normal_(m.weight, mean=0, std=0.01)\n",
    "        nn.init.zeros_(m.bias)\n",
    "net.apply(init_normal)\n",
    "net[0].weight.data[0], net[0].bias.data[0]"
   ]
  },
  {
   "cell_type": "markdown",
   "id": "cd576283",
   "metadata": {
    "origin_pos": 43
   },
   "source": [
    "We can also initialize all the parameters\n",
    "to a given constant value (say, 1).\n"
   ]
  },
  {
   "cell_type": "code",
   "execution_count": 11,
   "id": "fec3d3fc",
   "metadata": {
    "execution": {
     "iopub.execute_input": "2022-07-10T03:09:30.906706Z",
     "iopub.status.busy": "2022-07-10T03:09:30.906137Z",
     "iopub.status.idle": "2022-07-10T03:09:30.913593Z",
     "shell.execute_reply": "2022-07-10T03:09:30.912742Z"
    },
    "origin_pos": 45,
    "tab": [
     "pytorch"
    ]
   },
   "outputs": [
    {
     "data": {
      "text/plain": [
       "(tensor([1., 1., 1., 1.]), tensor(0.))"
      ]
     },
     "execution_count": 11,
     "metadata": {},
     "output_type": "execute_result"
    }
   ],
   "source": [
    "def init_constant(m):\n",
    "    if type(m) == nn.Linear:\n",
    "        nn.init.constant_(m.weight, 1)\n",
    "        nn.init.zeros_(m.bias)\n",
    "net.apply(init_constant)\n",
    "net[0].weight.data[0], net[0].bias.data[0]"
   ]
  },
  {
   "cell_type": "markdown",
   "id": "306b524a",
   "metadata": {
    "origin_pos": 47
   },
   "source": [
    "[**We can also apply different initializers for certain blocks.**]\n",
    "For example, below we initialize the first layer\n",
    "with the Xavier initializer\n",
    "and initialize the second layer\n",
    "to a constant value of 42.\n"
   ]
  },
  {
   "cell_type": "code",
   "execution_count": 12,
   "id": "8cd0bf56",
   "metadata": {
    "execution": {
     "iopub.execute_input": "2022-07-10T03:09:30.917253Z",
     "iopub.status.busy": "2022-07-10T03:09:30.916721Z",
     "iopub.status.idle": "2022-07-10T03:09:30.923955Z",
     "shell.execute_reply": "2022-07-10T03:09:30.923041Z"
    },
    "origin_pos": 49,
    "tab": [
     "pytorch"
    ]
   },
   "outputs": [
    {
     "name": "stdout",
     "output_type": "stream",
     "text": [
      "tensor([-0.4039, -0.5412,  0.6771,  0.5279])\n",
      "tensor([[42., 42., 42., 42., 42., 42., 42., 42.]])\n"
     ]
    }
   ],
   "source": [
    "def xavier(m):\n",
    "    if type(m) == nn.Linear:\n",
    "        nn.init.xavier_uniform_(m.weight)\n",
    "def init_42(m):\n",
    "    if type(m) == nn.Linear:\n",
    "        nn.init.constant_(m.weight, 42)\n",
    "\n",
    "net[0].apply(xavier)\n",
    "net[2].apply(init_42)\n",
    "print(net[0].weight.data[0])\n",
    "print(net[2].weight.data)"
   ]
  },
  {
   "cell_type": "markdown",
   "id": "6fc3e08f",
   "metadata": {
    "origin_pos": 51
   },
   "source": [
    "### [**Custom Initialization**]\n",
    "\n",
    "Sometimes, the initialization methods we need\n",
    "are not provided by the deep learning framework.\n",
    "In the example below, we define an initializer\n",
    "for any weight parameter $w$ using the following strange distribution:\n",
    "\n",
    "$$\n",
    "\\begin{aligned}\n",
    "    w \\sim \\begin{cases}\n",
    "        U(5, 10) & \\text{ with probability } \\frac{1}{4} \\\\\n",
    "            0    & \\text{ with probability } \\frac{1}{2} \\\\\n",
    "        U(-10, -5) & \\text{ with probability } \\frac{1}{4}\n",
    "    \\end{cases}\n",
    "\\end{aligned}\n",
    "$$\n"
   ]
  },
  {
   "cell_type": "markdown",
   "id": "4a55745f",
   "metadata": {
    "origin_pos": 53,
    "tab": [
     "pytorch"
    ]
   },
   "source": [
    "Again, we implement a `my_init` function to apply to `net`.\n"
   ]
  },
  {
   "cell_type": "code",
   "execution_count": 13,
   "id": "c43fc97c",
   "metadata": {
    "execution": {
     "iopub.execute_input": "2022-07-10T03:09:30.927656Z",
     "iopub.status.busy": "2022-07-10T03:09:30.927082Z",
     "iopub.status.idle": "2022-07-10T03:09:30.935795Z",
     "shell.execute_reply": "2022-07-10T03:09:30.934914Z"
    },
    "origin_pos": 56,
    "tab": [
     "pytorch"
    ]
   },
   "outputs": [
    {
     "name": "stdout",
     "output_type": "stream",
     "text": [
      "Init weight torch.Size([8, 4])\n",
      "Init weight torch.Size([1, 8])\n"
     ]
    },
    {
     "data": {
      "text/plain": [
       "tensor([[7.0766, -0.0000, 0.0000, 5.6952],\n",
       "        [-0.0000, -0.0000, 5.7381, 0.0000]], grad_fn=<SliceBackward0>)"
      ]
     },
     "execution_count": 13,
     "metadata": {},
     "output_type": "execute_result"
    }
   ],
   "source": [
    "def my_init(m):\n",
    "    if type(m) == nn.Linear:\n",
    "        print(\"Init\", *[(name, param.shape)\n",
    "                        for name, param in m.named_parameters()][0])\n",
    "        nn.init.uniform_(m.weight, -10, 10)\n",
    "        m.weight.data *= m.weight.data.abs() >= 5\n",
    "\n",
    "net.apply(my_init)\n",
    "net[0].weight[:2]"
   ]
  },
  {
   "cell_type": "markdown",
   "id": "18df0461",
   "metadata": {
    "origin_pos": 58
   },
   "source": [
    "Note that we always have the option\n",
    "of setting parameters directly.\n"
   ]
  },
  {
   "cell_type": "code",
   "execution_count": 14,
   "id": "4ac21a28",
   "metadata": {
    "execution": {
     "iopub.execute_input": "2022-07-10T03:09:30.939459Z",
     "iopub.status.busy": "2022-07-10T03:09:30.938856Z",
     "iopub.status.idle": "2022-07-10T03:09:30.945557Z",
     "shell.execute_reply": "2022-07-10T03:09:30.944708Z"
    },
    "origin_pos": 60,
    "tab": [
     "pytorch"
    ]
   },
   "outputs": [
    {
     "data": {
      "text/plain": [
       "tensor([42.0000,  1.0000,  1.0000,  6.6952])"
      ]
     },
     "execution_count": 14,
     "metadata": {},
     "output_type": "execute_result"
    }
   ],
   "source": [
    "net[0].weight.data[:] += 1\n",
    "net[0].weight.data[0, 0] = 42\n",
    "net[0].weight.data[0]"
   ]
  },
  {
   "cell_type": "markdown",
   "id": "a54df43d",
   "metadata": {
    "origin_pos": 63
   },
   "source": [
    "## [**Tied Parameters**]\n",
    "\n",
    "Often, we want to share parameters across multiple layers.\n",
    "Let us see how to do this elegantly.\n",
    "In the following we allocate a dense layer\n",
    "and then use its parameters specifically\n",
    "to set those of another layer.\n"
   ]
  },
  {
   "cell_type": "code",
   "execution_count": 15,
   "id": "04394f60",
   "metadata": {
    "execution": {
     "iopub.execute_input": "2022-07-10T03:09:30.949191Z",
     "iopub.status.busy": "2022-07-10T03:09:30.948648Z",
     "iopub.status.idle": "2022-07-10T03:09:30.956954Z",
     "shell.execute_reply": "2022-07-10T03:09:30.956095Z"
    },
    "origin_pos": 65,
    "tab": [
     "pytorch"
    ]
   },
   "outputs": [
    {
     "name": "stdout",
     "output_type": "stream",
     "text": [
      "tensor([True, True, True, True, True, True, True, True])\n",
      "tensor([True, True, True, True, True, True, True, True])\n"
     ]
    }
   ],
   "source": [
    "# We need to give the shared layer a name so that we can refer to its\n",
    "# parameters\n",
    "shared = nn.Linear(8, 8)\n",
    "net = nn.Sequential(nn.Linear(4, 8), nn.ReLU(),\n",
    "                    shared, nn.ReLU(),\n",
    "                    shared, nn.ReLU(),\n",
    "                    nn.Linear(8, 1))\n",
    "net(X)\n",
    "# Check whether the parameters are the same\n",
    "print(net[2].weight.data[0] == net[4].weight.data[0])\n",
    "net[2].weight.data[0, 0] = 100\n",
    "# Make sure that they are actually the same object rather than just having the\n",
    "# same value\n",
    "print(net[2].weight.data[0] == net[4].weight.data[0])"
   ]
  },
  {
   "cell_type": "markdown",
   "id": "c28ee116",
   "metadata": {
    "origin_pos": 67,
    "tab": [
     "pytorch"
    ]
   },
   "source": [
    "This example shows that the parameters\n",
    "of the second and third layer are tied.\n",
    "They are not just equal, they are\n",
    "represented by the same exact tensor.\n",
    "Thus, if we change one of the parameters,\n",
    "the other one changes, too.\n",
    "You might wonder,\n",
    "when parameters are tied\n",
    "what happens to the gradients?\n",
    "Since the model parameters contain gradients,\n",
    "the gradients of the second hidden layer\n",
    "and the third hidden layer are added together\n",
    "during backpropagation.\n"
   ]
  },
  {
   "cell_type": "markdown",
   "id": "cfc50abd",
   "metadata": {
    "origin_pos": 68
   },
   "source": [
    "## Summary\n",
    "\n",
    "* We have several ways to access, initialize, and tie model parameters.\n",
    "* We can use custom initialization.\n",
    "\n",
    "\n",
    "## Exercises\n",
    "\n",
    "1. Use the `FancyMLP` model defined in :numref:`sec_model_construction` and access the parameters of the various layers.\n",
    "1. Look at the initialization module document to explore different initializers.\n",
    "1. Construct an MLP containing a shared parameter layer and train it. During the training process, observe the model parameters and gradients of each layer.\n",
    "1. Why is sharing parameters a good idea?\n"
   ]
  },
  {
   "cell_type": "markdown",
   "id": "615194d7",
   "metadata": {
    "origin_pos": 70,
    "tab": [
     "pytorch"
    ]
   },
   "source": [
    "[Discussions](https://discuss.d2l.ai/t/57)\n"
   ]
  }
 ],
 "metadata": {
  "kernelspec": {
   "display_name": "conda_pytorch_p36",
   "name": "conda_pytorch_p36"
  },
  "language_info": {
   "name": "python"
  }
 },
 "nbformat": 4,
 "nbformat_minor": 5
}