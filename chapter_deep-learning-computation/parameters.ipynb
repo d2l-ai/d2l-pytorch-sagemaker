{
 "cells": [
  {
   "cell_type": "markdown",
   "metadata": {
    "origin_pos": 0
   },
   "source": [
    "# Gerenciamento de Parâmetros\n",
    "\n",
    "Depois de escolher uma arquitetura\n",
    "e definir nossos hiperparâmetros,\n",
    "passamos para o ciclo de treinamento,\n",
    "onde nosso objetivo é encontrar valores de parâmetro\n",
    "que minimizam nossa função de perda.\n",
    "Após o treinamento, precisaremos desses parâmetros\n",
    "para fazer previsões futuras.\n",
    "Além disso, às vezes desejamos\n",
    "para extrair os parâmetros\n",
    "seja para reutilizá-los em algum outro contexto,\n",
    "para salvar nosso modelo em disco para que\n",
    "pode ser executado em outro *software*,\n",
    "ou para exame na esperança de\n",
    "ganhar compreensão científica.\n",
    "\n",
    "Na maioria das vezes, seremos capazes de\n",
    "ignorar os detalhes essenciais\n",
    "de como os parâmetros são declarados\n",
    "e manipulado, contando com estruturas de *Deep Learning*\n",
    "para fazer o trabalho pesado.\n",
    "No entanto, quando nos afastamos de\n",
    "arquiteturas empilhadas com camadas padrão,\n",
    "às vezes precisaremos \n",
    "declarar e manipular parâmetros.\n",
    "Nesta seção, cobrimos o seguinte:\n",
    "\n",
    "* Parâmetros de acesso para depuração, diagnóstico e visualizações.\n",
    "* Inicialização de parâmetros.\n",
    "* Parâmetros de compartilhamento em diferentes componentes do modelo.\n",
    "\n",
    "Começamos nos concentrando em um MLP com uma camada oculta.\n"
   ]
  },
  {
   "cell_type": "code",
   "execution_count": 1,
   "metadata": {
    "origin_pos": 2,
    "tab": [
     "pytorch"
    ]
   },
   "outputs": [
    {
     "data": {
      "text/plain": [
       "tensor([[0.2046],\n",
       "        [0.4232]], grad_fn=<AddmmBackward>)"
      ]
     },
     "execution_count": 1,
     "metadata": {},
     "output_type": "execute_result"
    }
   ],
   "source": [
    "import torch\n",
    "from torch import nn\n",
    "\n",
    "net = nn.Sequential(nn.Linear(4, 8), nn.ReLU(), nn.Linear(8, 1))\n",
    "X = torch.rand(size=(2, 4))\n",
    "net(X)"
   ]
  },
  {
   "cell_type": "markdown",
   "metadata": {
    "origin_pos": 4
   },
   "source": [
    "## Acesso a Parâmetros\n",
    "\n",
    "Vamos começar explicando como acessar os parâmetros\n",
    "dos modelos que você já conhece.\n",
    "Quando um modelo é definido por meio da classe `Sequential`,\n",
    "podemos primeiro acessar qualquer camada indexando\n",
    "no modelo como se fosse uma lista.\n",
    "Os parâmetros de cada camada são convenientemente\n",
    "localizado em seu atributo.\n",
    "Podemos inspecionar os parâmetros da segunda camada totalmente conectada da seguinte maneira.\n"
   ]
  },
  {
   "cell_type": "code",
   "execution_count": 2,
   "metadata": {
    "origin_pos": 6,
    "tab": [
     "pytorch"
    ]
   },
   "outputs": [
    {
     "name": "stdout",
     "output_type": "stream",
     "text": [
      "OrderedDict([('weight', tensor([[ 0.2166, -0.3507, -0.1181,  0.2769, -0.1432,  0.2410,  0.0740,  0.2221]])), ('bias', tensor([0.3118]))])\n"
     ]
    }
   ],
   "source": [
    "print(net[2].state_dict())"
   ]
  },
  {
   "cell_type": "markdown",
   "metadata": {
    "origin_pos": 8
   },
   "source": [
    "A saída nos diz algumas coisas importantes.\n",
    "Primeiro, esta camada totalmente conectada\n",
    "contém dois parâmetros,\n",
    "correspondendo aos\n",
    "pesos e vieses, respectivamente.\n",
    "Ambos são armazenados como *floats* de precisão simples (float32).\n",
    "Observe que os nomes dos parâmetros\n",
    "nos permitem identificar de forma única\n",
    "parâmetros de cada camada,\n",
    "mesmo em uma rede contendo centenas de camadas.\n",
    "\n",
    "\n",
    "### Parâmetros Direcionados\n",
    "\n",
    "Observe que cada parâmetro é representado\n",
    "como uma instância da classe de parâmetro.\n",
    "Para fazer algo útil com os parâmetros,\n",
    "primeiro precisamos acessar os valores numéricos subjacentes.\n",
    "Existem várias maneiras de fazer isso.\n",
    "Alguns são mais simples, enquanto outros são mais gerais.\n",
    "O código a seguir extrai o viés\n",
    "da segunda camada de rede neural, que retorna uma instância de classe de parâmetro, e\n",
    "acessa posteriormente o valor desse parâmetro.\n"
   ]
  },
  {
   "cell_type": "code",
   "execution_count": 3,
   "metadata": {
    "origin_pos": 10,
    "tab": [
     "pytorch"
    ]
   },
   "outputs": [
    {
     "name": "stdout",
     "output_type": "stream",
     "text": [
      "<class 'torch.nn.parameter.Parameter'>\n",
      "Parameter containing:\n",
      "tensor([0.3118], requires_grad=True)\n",
      "tensor([0.3118])\n"
     ]
    }
   ],
   "source": [
    "print(type(net[2].bias))\n",
    "print(net[2].bias)\n",
    "print(net[2].bias.data)"
   ]
  },
  {
   "cell_type": "markdown",
   "metadata": {
    "origin_pos": 12,
    "tab": [
     "pytorch"
    ]
   },
   "source": [
    "Os parâmetros são objetos complexos,\n",
    "contendo valores, gradientes,\n",
    "e informações adicionais.\n",
    "É por isso que precisamos solicitar o valor explicitamente.\n",
    "\n",
    "Além do valor, cada parâmetro também nos permite acessar o gradiente. Como ainda não invocamos a *backpropagation* para esta rede, ela está em seu estado inicial.\n"
   ]
  },
  {
   "cell_type": "code",
   "execution_count": 4,
   "metadata": {
    "origin_pos": 14,
    "tab": [
     "pytorch"
    ]
   },
   "outputs": [
    {
     "data": {
      "text/plain": [
       "True"
      ]
     },
     "execution_count": 4,
     "metadata": {},
     "output_type": "execute_result"
    }
   ],
   "source": [
    "net[2].weight.grad == None"
   ]
  },
  {
   "cell_type": "markdown",
   "metadata": {
    "origin_pos": 15
   },
   "source": [
    "### Todos os Parâmetros de Uma Vez\n",
    "\n",
    "Quando precisamos realizar operações em todos os parâmetros,\n",
    "acessá-los um por um pode se tornar tedioso.\n",
    "A situação pode ficar especialmente complicada\n",
    "quando trabalhamos com blocos mais complexos (por exemplo, blocos aninhados),\n",
    "uma vez que precisaríamos voltar recursivamente\n",
    "através de toda a árvore para extrair\n",
    "parâmetros de cada sub-bloco. Abaixo, demonstramos como acessar os parâmetros da primeira camada totalmente conectada versus acessar todas as camadas.\n"
   ]
  },
  {
   "cell_type": "code",
   "execution_count": 5,
   "metadata": {
    "origin_pos": 17,
    "tab": [
     "pytorch"
    ]
   },
   "outputs": [
    {
     "name": "stdout",
     "output_type": "stream",
     "text": [
      "('weight', torch.Size([8, 4])) ('bias', torch.Size([8]))\n",
      "('0.weight', torch.Size([8, 4])) ('0.bias', torch.Size([8])) ('2.weight', torch.Size([1, 8])) ('2.bias', torch.Size([1]))\n"
     ]
    }
   ],
   "source": [
    "print(*[(name, param.shape) for name, param in net[0].named_parameters()])\n",
    "print(*[(name, param.shape) for name, param in net.named_parameters()])"
   ]
  },
  {
   "cell_type": "markdown",
   "metadata": {
    "origin_pos": 19
   },
   "source": [
    "Isso nos fornece outra maneira de acessar os parâmetros da rede como segue.\n"
   ]
  },
  {
   "cell_type": "code",
   "execution_count": 6,
   "metadata": {
    "origin_pos": 21,
    "tab": [
     "pytorch"
    ]
   },
   "outputs": [
    {
     "data": {
      "text/plain": [
       "tensor([0.3118])"
      ]
     },
     "execution_count": 6,
     "metadata": {},
     "output_type": "execute_result"
    }
   ],
   "source": [
    "net.state_dict()['2.bias'].data"
   ]
  },
  {
   "cell_type": "markdown",
   "metadata": {
    "origin_pos": 23
   },
   "source": [
    "### Coletando Parâmetros de Blocos Aninhados\n",
    "\n",
    "Vamos ver como funcionam as convenções de nomenclatura de parâmetros\n",
    "se aninharmos vários blocos uns dentro dos outros.\n",
    "Para isso, primeiro definimos uma função que produz blocos\n",
    "(uma fábrica de blocos, por assim dizer) e então\n",
    "combine-os dentro de blocos ainda maiores.\n"
   ]
  },
  {
   "cell_type": "code",
   "execution_count": 7,
   "metadata": {
    "origin_pos": 25,
    "tab": [
     "pytorch"
    ]
   },
   "outputs": [
    {
     "data": {
      "text/plain": [
       "tensor([[0.1150],\n",
       "        [0.1150]], grad_fn=<AddmmBackward>)"
      ]
     },
     "execution_count": 7,
     "metadata": {},
     "output_type": "execute_result"
    }
   ],
   "source": [
    "def block1():\n",
    "    return nn.Sequential(nn.Linear(4, 8), nn.ReLU(),\n",
    "                         nn.Linear(8, 4), nn.ReLU())\n",
    "\n",
    "def block2():\n",
    "    net = nn.Sequential()\n",
    "    for i in range(4):\n",
    "        # Nested here\n",
    "        net.add_module(f'block {i}', block1())\n",
    "    return net\n",
    "\n",
    "rgnet = nn.Sequential(block2(), nn.Linear(4, 1))\n",
    "rgnet(X)"
   ]
  },
  {
   "cell_type": "markdown",
   "metadata": {
    "origin_pos": 27
   },
   "source": [
    "Agora que projetamos a rede,\n",
    "vamos ver como está organizado.\n"
   ]
  },
  {
   "cell_type": "code",
   "execution_count": 8,
   "metadata": {
    "origin_pos": 29,
    "tab": [
     "pytorch"
    ]
   },
   "outputs": [
    {
     "name": "stdout",
     "output_type": "stream",
     "text": [
      "Sequential(\n",
      "  (0): Sequential(\n",
      "    (block 0): Sequential(\n",
      "      (0): Linear(in_features=4, out_features=8, bias=True)\n",
      "      (1): ReLU()\n",
      "      (2): Linear(in_features=8, out_features=4, bias=True)\n",
      "      (3): ReLU()\n",
      "    )\n",
      "    (block 1): Sequential(\n",
      "      (0): Linear(in_features=4, out_features=8, bias=True)\n",
      "      (1): ReLU()\n",
      "      (2): Linear(in_features=8, out_features=4, bias=True)\n",
      "      (3): ReLU()\n",
      "    )\n",
      "    (block 2): Sequential(\n",
      "      (0): Linear(in_features=4, out_features=8, bias=True)\n",
      "      (1): ReLU()\n",
      "      (2): Linear(in_features=8, out_features=4, bias=True)\n",
      "      (3): ReLU()\n",
      "    )\n",
      "    (block 3): Sequential(\n",
      "      (0): Linear(in_features=4, out_features=8, bias=True)\n",
      "      (1): ReLU()\n",
      "      (2): Linear(in_features=8, out_features=4, bias=True)\n",
      "      (3): ReLU()\n",
      "    )\n",
      "  )\n",
      "  (1): Linear(in_features=4, out_features=1, bias=True)\n",
      ")\n"
     ]
    }
   ],
   "source": [
    "print(rgnet)"
   ]
  },
  {
   "cell_type": "markdown",
   "metadata": {
    "origin_pos": 31
   },
   "source": [
    "Uma vez que as camadas são aninhadas hierarquicamente,\n",
    "também podemos acessá-los como se\n",
    "indexação por meio de listas aninhadas.\n",
    "Por exemplo, podemos acessar o primeiro bloco principal,\n",
    "dentro dele o segundo sub-bloco,\n",
    "e dentro disso o viés da primeira camada,\n",
    "com o seguinte.\n"
   ]
  },
  {
   "cell_type": "code",
   "execution_count": 9,
   "metadata": {
    "origin_pos": 33,
    "tab": [
     "pytorch"
    ]
   },
   "outputs": [
    {
     "data": {
      "text/plain": [
       "tensor([ 0.3746,  0.1523, -0.2427, -0.0837, -0.3223, -0.3808, -0.1753,  0.4000])"
      ]
     },
     "execution_count": 9,
     "metadata": {},
     "output_type": "execute_result"
    }
   ],
   "source": [
    "rgnet[0][1][0].bias.data"
   ]
  },
  {
   "cell_type": "markdown",
   "metadata": {
    "origin_pos": 35
   },
   "source": [
    "## Inicialização de Parâmetros\n",
    "\n",
    "Agora que sabemos como acessar os parâmetros,\n",
    "vamos ver como inicializá-los corretamente.\n",
    "Discutimos a necessidade de inicialização adequada em :numref:`sec_numerical_stability`.\n",
    "A estrutura de *Deep Learning* fornece inicializações aleatórias padrão para suas camadas.\n",
    "No entanto, muitas vezes queremos inicializar nossos pesos\n",
    "de acordo com vários outros protocolos. A estrutura fornece mais comumente\n",
    "protocolos usados e também permite criar um inicializador personalizado.\n"
   ]
  },
  {
   "cell_type": "markdown",
   "metadata": {
    "origin_pos": 37,
    "tab": [
     "pytorch"
    ]
   },
   "source": [
    "Por padrão, o PyTorch inicializa matrizes de ponderação e polarização\n",
    "uniformemente extraindo de um intervalo que é calculado de acordo com a dimensão de entrada e saída.\n",
    "O módulo `nn.init` do PyTorch oferece uma variedade\n",
    "de métodos de inicialização predefinidos.\n"
   ]
  },
  {
   "cell_type": "markdown",
   "metadata": {
    "origin_pos": 39
   },
   "source": [
    "### Inicialização *Built-in* \n",
    "\n",
    "Vamos começar chamando inicializadores integrados.\n",
    "O código abaixo inicializa todos os parâmetros de peso\n",
    "como variáveis aleatórias gaussianas\n",
    "com desvio padrão de 0,01, enquanto os parâmetros de polarização são zerados.\n"
   ]
  },
  {
   "cell_type": "code",
   "execution_count": 10,
   "metadata": {
    "origin_pos": 41,
    "tab": [
     "pytorch"
    ]
   },
   "outputs": [
    {
     "data": {
      "text/plain": [
       "(tensor([ 0.0045, -0.0082, -0.0063,  0.0008]), tensor(0.))"
      ]
     },
     "execution_count": 10,
     "metadata": {},
     "output_type": "execute_result"
    }
   ],
   "source": [
    "def init_normal(m):\n",
    "    if type(m) == nn.Linear:\n",
    "        nn.init.normal_(m.weight, mean=0, std=0.01)\n",
    "        nn.init.zeros_(m.bias)\n",
    "net.apply(init_normal)\n",
    "net[0].weight.data[0], net[0].bias.data[0]"
   ]
  },
  {
   "cell_type": "markdown",
   "metadata": {
    "origin_pos": 43
   },
   "source": [
    "Também podemos inicializar todos os parâmetros\n",
    "a um determinado valor constante (digamos, 1).\n"
   ]
  },
  {
   "cell_type": "code",
   "execution_count": 11,
   "metadata": {
    "origin_pos": 45,
    "tab": [
     "pytorch"
    ]
   },
   "outputs": [
    {
     "data": {
      "text/plain": [
       "(tensor([1., 1., 1., 1.]), tensor(0.))"
      ]
     },
     "execution_count": 11,
     "metadata": {},
     "output_type": "execute_result"
    }
   ],
   "source": [
    "def init_constant(m):\n",
    "    if type(m) == nn.Linear:\n",
    "        nn.init.constant_(m.weight, 1)\n",
    "        nn.init.zeros_(m.bias)\n",
    "net.apply(init_constant)\n",
    "net[0].weight.data[0], net[0].bias.data[0]"
   ]
  },
  {
   "cell_type": "markdown",
   "metadata": {
    "origin_pos": 47
   },
   "source": [
    "Também podemos aplicar inicializadores diferentes para certos blocos.\n",
    "Por exemplo, abaixo inicializamos a primeira camada\n",
    "com o inicializador Xavier\n",
    "e inicializar a segunda camada\n",
    "para um valor constante de 42.\n"
   ]
  },
  {
   "cell_type": "code",
   "execution_count": 12,
   "metadata": {
    "origin_pos": 49,
    "tab": [
     "pytorch"
    ]
   },
   "outputs": [
    {
     "name": "stdout",
     "output_type": "stream",
     "text": [
      "tensor([ 0.5433, -0.5930, -0.6287, -0.6148])\n",
      "tensor([[42., 42., 42., 42., 42., 42., 42., 42.]])\n"
     ]
    }
   ],
   "source": [
    "def xavier(m):\n",
    "    if type(m) == nn.Linear:\n",
    "        nn.init.xavier_uniform_(m.weight)\n",
    "def init_42(m):\n",
    "    if type(m) == nn.Linear:\n",
    "        nn.init.constant_(m.weight, 42)\n",
    "\n",
    "net[0].apply(xavier)\n",
    "net[2].apply(init_42)\n",
    "print(net[0].weight.data[0])\n",
    "print(net[2].weight.data)"
   ]
  },
  {
   "cell_type": "markdown",
   "metadata": {
    "origin_pos": 51
   },
   "source": [
    "### Inicialização Customizada\n",
    "\n",
    "Às vezes, os métodos de inicialização de que precisamos\n",
    "não são fornecidos pela estrutura de *Deep Learning*.\n",
    "No exemplo abaixo, definimos um inicializador\n",
    "para qualquer parâmetro de peso $w$ usando a seguinte distribuição estranha:\n",
    "\n",
    "$$\n",
    "\\begin{aligned}\n",
    "    w \\sim \\begin{cases}\n",
    "        U(5, 10) & \\text{ with probability } \\frac{1}{4} \\\\\n",
    "            0    & \\text{ with probability } \\frac{1}{2} \\\\\n",
    "        U(-10, -5) & \\text{ with probability } \\frac{1}{4}\n",
    "    \\end{cases}\n",
    "\\end{aligned}\n",
    "$$\n"
   ]
  },
  {
   "cell_type": "markdown",
   "metadata": {
    "origin_pos": 53,
    "tab": [
     "pytorch"
    ]
   },
   "source": [
    "Novamente, implementamos uma função `my_init` para aplicar a` net`.\n"
   ]
  },
  {
   "cell_type": "code",
   "execution_count": 13,
   "metadata": {
    "origin_pos": 56,
    "tab": [
     "pytorch"
    ]
   },
   "outputs": [
    {
     "name": "stdout",
     "output_type": "stream",
     "text": [
      "Init weight torch.Size([8, 4])\n",
      "Init weight torch.Size([1, 8])\n"
     ]
    },
    {
     "data": {
      "text/plain": [
       "tensor([[ 6.2500,  9.0335,  6.4244, -6.6561],\n",
       "        [-5.9088,  9.8715,  7.8404,  0.0000]], grad_fn=<SliceBackward>)"
      ]
     },
     "execution_count": 13,
     "metadata": {},
     "output_type": "execute_result"
    }
   ],
   "source": [
    "def my_init(m):\n",
    "    if type(m) == nn.Linear:\n",
    "        print(\"Init\", *[(name, param.shape)\n",
    "                        for name, param in m.named_parameters()][0])\n",
    "        nn.init.uniform_(m.weight, -10, 10)\n",
    "        m.weight.data *= m.weight.data.abs() >= 5\n",
    "\n",
    "net.apply(my_init)\n",
    "net[0].weight[:2]"
   ]
  },
  {
   "cell_type": "markdown",
   "metadata": {
    "origin_pos": 58
   },
   "source": [
    "Observe que sempre temos a opção\n",
    "de definir parâmetros diretamente.\n"
   ]
  },
  {
   "cell_type": "code",
   "execution_count": 14,
   "metadata": {
    "origin_pos": 60,
    "tab": [
     "pytorch"
    ]
   },
   "outputs": [
    {
     "data": {
      "text/plain": [
       "tensor([42.0000, 10.0335,  7.4244, -5.6561])"
      ]
     },
     "execution_count": 14,
     "metadata": {},
     "output_type": "execute_result"
    }
   ],
   "source": [
    "net[0].weight.data[:] += 1\n",
    "net[0].weight.data[0, 0] = 42\n",
    "net[0].weight.data[0]"
   ]
  },
  {
   "cell_type": "markdown",
   "metadata": {
    "origin_pos": 63
   },
   "source": [
    "## Parâmetros *Tied*\n",
    "\n",
    "\n",
    "Frequentemente, queremos compartilhar parâmetros em várias camadas.\n",
    "Vamos ver como fazer isso com elegância.\n",
    "A seguir, alocamos uma camada densa\n",
    "e usar seus parâmetros especificamente\n",
    "para definir os de outra camada.\n"
   ]
  },
  {
   "cell_type": "code",
   "execution_count": 15,
   "metadata": {
    "origin_pos": 65,
    "tab": [
     "pytorch"
    ]
   },
   "outputs": [
    {
     "name": "stdout",
     "output_type": "stream",
     "text": [
      "tensor([True, True, True, True, True, True, True, True])\n",
      "tensor([True, True, True, True, True, True, True, True])\n"
     ]
    }
   ],
   "source": [
    "# Precisamos dar as camadas compartilhadas um nome\n",
    "# para que possamos referenciar seus parâmetros\n",
    "\n",
    "#\n",
    "shared = nn.Linear(8, 8)\n",
    "net = nn.Sequential(nn.Linear(4, 8), nn.ReLU(),\n",
    "                    shared, nn.ReLU(),\n",
    "                    shared, nn.ReLU(),\n",
    "                    nn.Linear(8, 1))\n",
    "net(X)\n",
    "# Checar se são os mesmos parâmetros\n",
    "print(net[2].weight.data[0] == net[4].weight.data[0])\n",
    "net[2].weight.data[0, 0] = 100\n",
    "# Garantindo que são o mesmo objeto ao invés de ter\n",
    "# apenas o mesmo valor\n",
    "print(net[2].weight.data[0] == net[4].weight.data[0])"
   ]
  },
  {
   "cell_type": "markdown",
   "metadata": {
    "origin_pos": 67,
    "tab": [
     "pytorch"
    ]
   },
   "source": [
    "Este exemplo mostra que os parâmetros\n",
    "da segunda e terceira camadas são amarrados.\n",
    "Eles não são apenas iguais, eles são\n",
    "representado pelo mesmo tensor exato.\n",
    "Assim, se mudarmos um dos parâmetros,\n",
    "o outro também muda.\n",
    "Você pode se perguntar,\n",
    "quando os parâmetros são amarrados\n",
    "o que acontece com os gradientes?\n",
    "Uma vez que os parâmetros do modelo contêm gradientes,\n",
    "os gradientes da segunda camada oculta\n",
    "e a terceira camada oculta são adicionadas juntas\n",
    "durante a retropropagação.\n"
   ]
  },
  {
   "cell_type": "markdown",
   "metadata": {
    "origin_pos": 68
   },
   "source": [
    "## Sumário\n",
    "\n",
    "* Temos várias maneiras de acessar, inicializar e vincular os parâmetros do modelo.\n",
    "* Podemos usar inicialização personalizada.\n",
    "\n",
    "\n",
    "## Exercícios\n",
    "\n",
    "1. Use o modelo `FancyMLP` definido em :numref:`sec_model_construction` e acesse os parâmetros das várias camadas.\n",
    "1. Observe o documento do módulo de inicialização para explorar diferentes inicializadores.\n",
    "1. Construa um MLP contendo uma camada de parâmetros compartilhados e treine-o. Durante o processo de treinamento, observe os parâmetros do modelo e gradientes de cada camada.\n",
    "1. Por que compartilhar parâmetros é uma boa ideia?\n"
   ]
  },
  {
   "cell_type": "markdown",
   "metadata": {
    "origin_pos": 70,
    "tab": [
     "pytorch"
    ]
   },
   "source": [
    "[Discussão](https://discuss.d2l.ai/t/57)\n"
   ]
  },
  {
   "cell_type": "markdown",
   "metadata": {
    "origin_pos": 72
   },
   "source": [
    "<!--stackedit_data:\n",
    "eyJoaXN0b3J5IjpbMjI3MjUyNjYwLC03MTk0NTg0ODEsMjUwMT\n",
    "g4NTk3LC0xNTkzNzg3NzI4LDE2NDI5Nzg1MDFdfQ==\n",
    "-->\n"
   ]
  }
 ],
 "metadata": {
  "kernelspec": {
   "display_name": "conda_pytorch_p36",
   "name": "conda_pytorch_p36"
  },
  "language_info": {
   "name": "python"
  }
 },
 "nbformat": 4,
 "nbformat_minor": 4
}