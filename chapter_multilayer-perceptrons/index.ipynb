{
 "cells": [
  {
   "cell_type": "markdown",
   "metadata": {
    "origin_pos": 0
   },
   "source": [
    "# *Perceptrons* Multicamada\n",
    ":label:`chap_perceptrons`\n",
    "\n",
    "Neste capítulo, apresentaremos sua primeira rede verdadeiramente *profunda*.\n",
    "As redes profundas mais simples são chamadas *perceptrons* multicamada,\n",
    "e eles consistem em várias camadas de neurônios\n",
    "cada um totalmente conectado àqueles na camada abaixo\n",
    "(do qual eles recebem contribuições)\n",
    "e aqueles acima (que eles, por sua vez, influenciam).\n",
    "Quando treinamos modelos de alta capacidade, corremos o risco de fazer *overfitting*.\n",
    "Portanto, precisaremos fornecer sua primeira introdução rigorosa\n",
    "às noções de *overfitting*, *underfitting* e seleção de modelo.\n",
    "Para ajudá-lo a combater esses problemas,\n",
    "apresentaremos técnicas de regularização, como redução do peso e abandono escolar.\n",
    "Também discutiremos questões relacionadas à estabilidade numérica e inicialização de parâmetros\n",
    "que são essenciais para o treinamento bem-sucedido de redes profundas.\n",
    "Durante todo o tempo, nosso objetivo é dar a você uma compreensão firme não apenas dos conceitos\n",
    "mas também da prática de usar redes profundas.\n",
    "No final deste capítulo,\n",
    "aplicamos o que apresentamos até agora a um caso real: a previsão do preço da casa.\n",
    "Nós examinamos questões relacionadas ao desempenho computacional,\n",
    "escalabilidade e eficiência de nossos modelos para os capítulos subsequentes.\n",
    "\n",
    ":begin_tab:toc\n",
    " - [mlp](mlp.ipynb)\n",
    " - [mlp-scratch](mlp-scratch.ipynb)\n",
    " - [mlp-concise](mlp-concise.ipynb)\n",
    " - [underfit-overfit](underfit-overfit.ipynb)\n",
    " - [weight-decay](weight-decay.ipynb)\n",
    " - [dropout](dropout.ipynb)\n",
    " - [backprop](backprop.ipynb)\n",
    " - [numerical-stability-and-init](numerical-stability-and-init.ipynb)\n",
    " - [environment](environment.ipynb)\n",
    " - [kaggle-house-price](kaggle-house-price.ipynb)\n",
    ":end_tab:\n",
    "\n",
    "<!--stackedit_data:\n",
    "eyJoaXN0b3J5IjpbNjAzMDE2NzhdfQ==\n",
    "-->\n"
   ]
  }
 ],
 "metadata": {
  "kernelspec": {
   "display_name": "conda_pytorch_p36",
   "name": "conda_pytorch_p36"
  },
  "language_info": {
   "name": "python"
  }
 },
 "nbformat": 4,
 "nbformat_minor": 4
}