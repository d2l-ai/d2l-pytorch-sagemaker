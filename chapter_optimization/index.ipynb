{
 "cells": [
  {
   "cell_type": "markdown",
   "metadata": {
    "origin_pos": 0
   },
   "source": [
    "# Algoritmos de Otimização\n",
    ":label:`chap_optimization`\n",
    "\n",
    "Se você leu o livro em sequência até agora, já usou vários algoritmos de otimização para treinar modelos de aprendizado profundo.\n",
    "Foram as ferramentas que nos permitiram continuar atualizando os parâmetros do modelo e minimizar o valor da função perda, conforme avaliado no conjunto de treinamento. Na verdade, qualquer pessoa que se contentar em tratar a otimização como um dispositivo de caixa preta para minimizar as funções objetivas em um ambiente simples pode muito bem se contentar com o conhecimento de que existe uma série de encantamentos de tal procedimento (com nomes como \"SGD\" e \"Adam\" )\n",
    "\n",
    "Para se sair bem, entretanto, é necessário algum conhecimento mais profundo.\n",
    "Os algoritmos de otimização são importantes para o aprendizado profundo.\n",
    "Por um lado, treinar um modelo complexo de aprendizado profundo pode levar horas, dias ou até semanas.\n",
    "O desempenho do algoritmo de otimização afeta diretamente a eficiência de treinamento do modelo.\n",
    "Por outro lado, compreender os princípios de diferentes algoritmos de otimização e a função de seus hiperparâmetros\n",
    "nos permitirá ajustar os hiperparâmetros de maneira direcionada para melhorar o desempenho dos modelos de aprendizado profundo.\n",
    "\n",
    "Neste capítulo, exploramos algoritmos comuns de otimização de aprendizagem profunda em profundidade.\n",
    "Quase todos os problemas de otimização que surgem no aprendizado profundo são * não convexos *.\n",
    "No entanto, o projeto e a análise de algoritmos no contexto de problemas * convexos * provaram ser muito instrutivos.\n",
    "É por essa razão que este capítulo inclui uma cartilha sobre otimização convexa e a prova para um algoritmo de descida gradiente estocástico muito simples em uma função objetivo convexa.\n",
    "\n",
    ":begin_tab:toc\n",
    " - [optimization-intro](optimization-intro.ipynb)\n",
    " - [convexity](convexity.ipynb)\n",
    " - [gd](gd.ipynb)\n",
    " - [sgd](sgd.ipynb)\n",
    " - [minibatch-sgd](minibatch-sgd.ipynb)\n",
    " - [momentum](momentum.ipynb)\n",
    " - [adagrad](adagrad.ipynb)\n",
    " - [rmsprop](rmsprop.ipynb)\n",
    " - [adadelta](adadelta.ipynb)\n",
    " - [adam](adam.ipynb)\n",
    " - [lr-scheduler](lr-scheduler.ipynb)\n",
    ":end_tab:\n",
    "\n",
    "<!--stackedit_data:\n",
    "eyJoaXN0b3J5IjpbLTQ5NjE0NDRdfQ==\n",
    "-->\n"
   ]
  }
 ],
 "metadata": {
  "kernelspec": {
   "display_name": "conda_pytorch_p36",
   "name": "conda_pytorch_p36"
  },
  "language_info": {
   "name": "python"
  }
 },
 "nbformat": 4,
 "nbformat_minor": 4
}