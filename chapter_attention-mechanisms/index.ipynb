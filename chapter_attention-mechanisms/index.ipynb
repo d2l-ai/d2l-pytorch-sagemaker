{
 "cells": [
  {
   "cell_type": "markdown",
   "id": "13936f99",
   "metadata": {
    "origin_pos": 0
   },
   "source": [
    "# Attention Mechanisms\n",
    ":label:`chap_attention`\n",
    "\n",
    "The optic nerve of a primate's visual system\n",
    "receives massive sensory input,\n",
    "far exceeding what the brain can fully process.\n",
    "Fortunately,\n",
    "not all stimuli are created equal.\n",
    "Focalization and concentration of consciousness\n",
    "have enabled primates to direct attention\n",
    "to objects of interest,\n",
    "such as preys and predators,\n",
    "in the complex visual environment.\n",
    "The ability of paying attention to\n",
    "only a small fraction of the information\n",
    "has evolutionary significance,\n",
    "allowing human beings\n",
    "to live and succeed.\n",
    "\n",
    "Scientists have been studying attention\n",
    "in the cognitive neuroscience field\n",
    "since the 19th century.\n",
    "In this chapter,\n",
    "we will begin by reviewing a popular framework\n",
    "explaining how attention is deployed in a visual scene.\n",
    "Inspired by the attention cues in this framework,\n",
    "we will design models\n",
    "that leverage such attention cues.\n",
    "Notably, the Nadaraya-Waston kernel regression\n",
    "in 1964 is a simple demonstration of machine learning with *attention mechanisms*.\n",
    "\n",
    "Next, we will go on to introduce attention functions\n",
    "that have been extensively used in\n",
    "the design of attention models in deep learning.\n",
    "Specifically,\n",
    "we will show how to use these functions\n",
    "to design the *Bahdanau attention*,\n",
    "a groundbreaking attention model in deep learning\n",
    "that can align bidirectionally and is differentiable.\n",
    "\n",
    "In the end,\n",
    "equipped with\n",
    "the more recent\n",
    "*multi-head attention*\n",
    "and *self-attention* designs,\n",
    "we will describe the *transformer* architecture\n",
    "based solely on attention mechanisms.\n",
    "Since their proposal in 2017,\n",
    "transformers\n",
    "have been pervasive in modern\n",
    "deep learning applications,\n",
    "such as in areas of\n",
    "language,\n",
    "vision, speech,\n",
    "and reinforcement learning.\n",
    "\n",
    ":begin_tab:toc\n",
    " - [attention-cues](attention-cues.ipynb)\n",
    " - [nadaraya-watson](nadaraya-watson.ipynb)\n",
    " - [attention-scoring-functions](attention-scoring-functions.ipynb)\n",
    " - [bahdanau-attention](bahdanau-attention.ipynb)\n",
    " - [multihead-attention](multihead-attention.ipynb)\n",
    " - [self-attention-and-positional-encoding](self-attention-and-positional-encoding.ipynb)\n",
    " - [transformer](transformer.ipynb)\n",
    ":end_tab:\n"
   ]
  }
 ],
 "metadata": {
  "kernelspec": {
   "display_name": "conda_pytorch_p36",
   "name": "conda_pytorch_p36"
  },
  "language_info": {
   "name": "python"
  }
 },
 "nbformat": 4,
 "nbformat_minor": 5
}