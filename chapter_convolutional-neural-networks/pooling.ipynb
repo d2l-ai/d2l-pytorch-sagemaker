{
 "cells": [
  {
   "cell_type": "markdown",
   "metadata": {},
   "source": [
    "Installing (updating) the following libraries for your Sagemaker\n",
    "instance."
   ]
  },
  {
   "cell_type": "code",
   "execution_count": null,
   "metadata": {},
   "outputs": [],
   "source": [
    "!pip install .. # installing d2l\n"
   ]
  },
  {
   "cell_type": "markdown",
   "metadata": {
    "origin_pos": 0
   },
   "source": [
    "# *Pooling*\n",
    ":label:`sec_pooling`\n",
    "\n",
    "\n",
    "\n",
    "Muitas vezes, conforme processamos imagens, queremos gradualmente\n",
    "reduzir a resolução espacial de nossas representações ocultas,\n",
    "agregando informações para que\n",
    "quanto mais alto subimos na rede,\n",
    "maior o campo receptivo (na entrada)\n",
    "ao qual cada nó oculto é sensível.\n",
    "\n",
    "Muitas vezes, nossa tarefa final faz alguma pergunta global sobre a imagem,\n",
    "por exemplo, *contém um gato?*\n",
    "Então, normalmente, as unidades de nossa camada final devem ser sensíveis\n",
    "para toda a entrada.\n",
    "Ao agregar informações gradualmente, produzindo mapas cada vez mais grosseiros,\n",
    "alcançamos esse objetivo de, em última análise, aprendendo uma representação global,\n",
    "enquanto mantém todas as vantagens das camadas convolucionais nas camadas intermediárias de processamento.\n",
    "\n",
    "Além disso, ao detectar recursos de nível inferior, como bordas\n",
    "(conforme discutido em :numref:`sec_conv_layer`),\n",
    "frequentemente queremos que nossas representações sejam um tanto invariáveis ​​à tradução.\n",
    "Por exemplo, se pegarmos a imagem `X`\n",
    "com uma delimitação nítida entre preto e branco\n",
    "e deslocarmos a imagem inteira em um pixel para a direita,\n",
    "ou seja, `Z [i, j] = X [i, j + 1]`,\n",
    "então a saída para a nova imagem `Z` pode ser muito diferente.\n",
    "A borda terá deslocado um pixel.\n",
    "Na realidade, os objetos dificilmente ocorrem exatamente no mesmo lugar.\n",
    "Na verdade, mesmo com um tripé e um objeto estacionário,\n",
    "a vibração da câmera devido ao movimento do obturador\n",
    "pode mudar tudo em um pixel ou mais\n",
    "(câmeras de última geração são carregadas com recursos especiais para resolver esse problema).\n",
    "\n",
    "Esta seção apresenta *camadas de pooling*,\n",
    "que servem ao duplo propósito de\n",
    "mitigando a sensibilidade das camadas convolucionais à localização\n",
    "e de representações de *downsampling* espacialmente.\n",
    "\n",
    "## *Pooling* Máximo e *Pooling* Médio\n",
    "\n",
    "\n",
    "Como camadas convolucionais, operadores de *pooling*\n",
    "consistem em uma janela de formato fixo que é deslizada\n",
    "todas as regiões na entrada de acordo com seu passo,\n",
    "computando uma única saída para cada local percorrido\n",
    "pela janela de formato fixo (também conhecida como *janela de pooling*).\n",
    "No entanto, ao contrário do cálculo de correlação cruzada\n",
    "das entradas e grãos na camada convolucional,\n",
    "a camada de *pooling* não contém parâmetros (não há *kernel*).\n",
    "Em vez disso, os operadores de *pooling* são determinísticos,\n",
    "normalmente calculando o valor máximo ou médio\n",
    "dos elementos na janela de *pooling*.\n",
    "Essas operações são chamadas de *pooling máximo* (*pooling máximo* para breve)\n",
    "e *pooling médio*, respectivamente.\n",
    "\n",
    "\n",
    "Em ambos os casos, como com o operador de correlação cruzada,\n",
    "podemos pensar na janela de *pooling*\n",
    "começando da parte superior esquerda do tensor de entrada\n",
    "e deslizando pelo tensor de entrada da esquerda para a direita e de cima para baixo.\n",
    "Em cada local que atinge a janela de *pooling*,\n",
    "ele calcula o máximo ou o médio\n",
    "valor do subtensor de entrada na janela,\n",
    "dependendo se o *pooling* máximo ou médio é empregado.\n",
    "\n",
    "![Pooling máximo com uma forma de janela de pool de $2\\times 2$. As partes sombreadas são o primeiro elemento de saída, bem como os elementos tensores de entrada usados para o cálculo de saída: $\\max(0, 1, 3, 4)=4$.](../img/pooling.svg)\n",
    ":label:`fig_pooling`\n",
    "\n",
    "O tensor de saída em :numref:`fig_pooling` tem uma altura de 2 e uma largura de 2.\n",
    "Os quatro elementos são derivados do valor máximo em cada janela de *pooling*:\n",
    "\n",
    "$$\n",
    "\\max(0, 1, 3, 4)=4,\\\\\n",
    "\\max(1, 2, 4, 5)=5,\\\\\n",
    "\\max(3, 4, 6, 7)=7,\\\\\n",
    "\\max(4, 5, 7, 8)=8.\\\\\n",
    "$$\n",
    "\n",
    "\n",
    "Uma camada de *pooling* com uma forma de janela de pool de $p \\times q$\n",
    "é chamado de camada de *pooling* $p \\times q$\n",
    "A operação de *pooling* é chamada $p \\times q$ *pooling*.\n",
    "\n",
    "Vamos retornar ao exemplo de detecção de borda do objeto\n",
    "mencionado no início desta seção.\n",
    "Agora vamos usar a saída da camada convolucional\n",
    "como entrada para $2\\times 2$ *pooling* máximo.\n",
    "Defina a entrada da camada convolucional como `X` e a saída da camada de pooling como` Y`. Se os valores de `X [i, j]` e `X [i, j + 1]` são ou não diferentes,\n",
    "ou `X [i, j + 1]` e `X [i, j + 2]` são diferentes,\n",
    "a camada de pool sempre produz `Y [i, j] = 1`.\n",
    "Ou seja, usando a camada de pooling máxima $2\\times 2$\n",
    "ainda podemos detectar se o padrão reconhecido pela camada convolucional\n",
    "move no máximo um elemento em altura ou largura.\n",
    "\n",
    "No código abaixo, implementamos a propagação direta\n",
    "da camada de *pooling* na função `pool2d`.\n",
    "Esta função é semelhante à função `corr2d`\n",
    "in: numref: `sec_conv_layer`.\n",
    "No entanto, aqui não temos *kernel*, computando a saída\n",
    "como o máximo ou a média de cada região na entrada.\n"
   ]
  },
  {
   "cell_type": "code",
   "execution_count": 1,
   "metadata": {
    "origin_pos": 2,
    "tab": [
     "pytorch"
    ]
   },
   "outputs": [],
   "source": [
    "import torch\n",
    "from torch import nn\n",
    "from d2l import torch as d2l"
   ]
  },
  {
   "cell_type": "code",
   "execution_count": 2,
   "metadata": {
    "origin_pos": 3,
    "tab": [
     "pytorch"
    ]
   },
   "outputs": [],
   "source": [
    "def pool2d(X, pool_size, mode='max'):\n",
    "    p_h, p_w = pool_size\n",
    "    Y = torch.zeros((X.shape[0] - p_h + 1, X.shape[1] - p_w + 1))\n",
    "    for i in range(Y.shape[0]):\n",
    "        for j in range(Y.shape[1]):\n",
    "            if mode == 'max':\n",
    "                Y[i, j] = X[i: i + p_h, j: j + p_w].max()\n",
    "            elif mode == 'avg':\n",
    "                Y[i, j] = X[i: i + p_h, j: j + p_w].mean()\n",
    "    return Y"
   ]
  },
  {
   "cell_type": "markdown",
   "metadata": {
    "origin_pos": 5
   },
   "source": [
    "Podemos construir o tensor de entrada `X` em :numref:`fig_pooling`  para validar a saída da camada de *pooling* máximo bidimensional.\n"
   ]
  },
  {
   "cell_type": "code",
   "execution_count": 3,
   "metadata": {
    "origin_pos": 6,
    "tab": [
     "pytorch"
    ]
   },
   "outputs": [
    {
     "data": {
      "text/plain": [
       "tensor([[4., 5.],\n",
       "        [7., 8.]])"
      ]
     },
     "execution_count": 3,
     "metadata": {},
     "output_type": "execute_result"
    }
   ],
   "source": [
    "X = torch.tensor([[0.0, 1.0, 2.0], [3.0, 4.0, 5.0], [6.0, 7.0, 8.0]])\n",
    "pool2d(X, (2, 2))"
   ]
  },
  {
   "cell_type": "markdown",
   "metadata": {
    "origin_pos": 7
   },
   "source": [
    "Além disso, experimentamos a camada de *pooling* média.\n"
   ]
  },
  {
   "cell_type": "code",
   "execution_count": 4,
   "metadata": {
    "origin_pos": 8,
    "tab": [
     "pytorch"
    ]
   },
   "outputs": [
    {
     "data": {
      "text/plain": [
       "tensor([[2., 3.],\n",
       "        [5., 6.]])"
      ]
     },
     "execution_count": 4,
     "metadata": {},
     "output_type": "execute_result"
    }
   ],
   "source": [
    "pool2d(X, (2, 2), 'avg')"
   ]
  },
  {
   "cell_type": "markdown",
   "metadata": {
    "origin_pos": 9
   },
   "source": [
    "## Preenchimento e Passos\n",
    "\n",
    "\n",
    "Tal como acontece com as camadas convolucionais, camadas de *pooling*\n",
    "também podem alterar a forma de saída.\n",
    "E como antes, podemos alterar a operação para obter uma forma de saída desejada\n",
    "preenchendo a entrada e ajustando o passo.\n",
    "Podemos demonstrar o uso de preenchimento e passos\n",
    "em camadas de agrupamento por meio da camada de agrupamento máximo bidimensional integrada do framework de *deep learning*.\n",
    "Primeiro construímos um tensor de entrada `X` cuja forma tem quatro dimensões,\n",
    "onde o número de exemplos (tamanho do lote) e o número de canais são ambos 1.\n"
   ]
  },
  {
   "cell_type": "code",
   "execution_count": 5,
   "metadata": {
    "origin_pos": 11,
    "tab": [
     "pytorch"
    ]
   },
   "outputs": [
    {
     "data": {
      "text/plain": [
       "tensor([[[[ 0.,  1.,  2.,  3.],\n",
       "          [ 4.,  5.,  6.,  7.],\n",
       "          [ 8.,  9., 10., 11.],\n",
       "          [12., 13., 14., 15.]]]])"
      ]
     },
     "execution_count": 5,
     "metadata": {},
     "output_type": "execute_result"
    }
   ],
   "source": [
    "X = torch.arange(16, dtype=torch.float32).reshape((1, 1, 4, 4))\n",
    "X"
   ]
  },
  {
   "cell_type": "markdown",
   "metadata": {
    "origin_pos": 13
   },
   "source": [
    "Por padrão, o passo e a janela de *pooling* na instância da classe interna do *framework*\n",
    "têm a mesma forma.\n",
    "Abaixo, usamos uma janela de *pooling* de forma `(3, 3)`,\n",
    "portanto, obtemos uma forma de passo de `(3, 3)` por padrão.\n"
   ]
  },
  {
   "cell_type": "code",
   "execution_count": 6,
   "metadata": {
    "origin_pos": 15,
    "tab": [
     "pytorch"
    ]
   },
   "outputs": [
    {
     "data": {
      "text/plain": [
       "tensor([[[[10.]]]])"
      ]
     },
     "execution_count": 6,
     "metadata": {},
     "output_type": "execute_result"
    }
   ],
   "source": [
    "pool2d = nn.MaxPool2d(3)\n",
    "pool2d(X)"
   ]
  },
  {
   "cell_type": "markdown",
   "metadata": {
    "origin_pos": 17
   },
   "source": [
    "O passo e o preenchimento podem ser especificados manualmente.\n"
   ]
  },
  {
   "cell_type": "code",
   "execution_count": 7,
   "metadata": {
    "origin_pos": 19,
    "tab": [
     "pytorch"
    ]
   },
   "outputs": [
    {
     "data": {
      "text/plain": [
       "tensor([[[[ 5.,  7.],\n",
       "          [13., 15.]]]])"
      ]
     },
     "execution_count": 7,
     "metadata": {},
     "output_type": "execute_result"
    }
   ],
   "source": [
    "pool2d = nn.MaxPool2d(3, padding=1, stride=2)\n",
    "pool2d(X)"
   ]
  },
  {
   "cell_type": "markdown",
   "metadata": {
    "origin_pos": 22
   },
   "source": [
    "Claro, podemos especificar uma janela de *pooling* retangular arbitrária\n",
    "e especificar o preenchimento e o passo para altura e largura, respectivamente.\n",
    "Para `nn.MaxPool2D`, o preenchimento deve ser menor que a metade do kernel_size.\n",
    "Se a condição não for atendida, podemos primeiro preenchemos a entrada usando\n",
    "`nn.functional.pad` e, em seguida, o passamos para a camada de *pooling*.\n",
    "\n",
    "Claro, podemos especificar uma janela de *pooling* retangular arbitrária\n",
    "e especificar o preenchimento e o passo para altura e largura, respectivamente.\n",
    "No TensorFlow, para implementar um preenchimento de 1 em todo o tensor, uma função projetada para preenchimento\n",
    "deve ser invocada usando `tf.pad`. Isso implementará o preenchimento necessário e permitirá que o supracitado (3, 3) agrupamento com uma passada (2, 2) para realizar\n",
    "semelhantes aos do PyTorch e MXNet. Ao preencher desta forma, a variável embutida `padding` deve ser definida como `válida`.\n"
   ]
  },
  {
   "cell_type": "code",
   "execution_count": 8,
   "metadata": {
    "origin_pos": 24,
    "tab": [
     "pytorch"
    ]
   },
   "outputs": [
    {
     "data": {
      "text/plain": [
       "tensor([[[[ 0.,  3.],\n",
       "          [ 8., 11.],\n",
       "          [12., 15.]]]])"
      ]
     },
     "execution_count": 8,
     "metadata": {},
     "output_type": "execute_result"
    }
   ],
   "source": [
    "X_pad = nn.functional.pad(X, (2, 2, 1, 1))\n",
    "pool2d = nn.MaxPool2d((2, 3), stride=(2, 3))\n",
    "pool2d(X_pad)"
   ]
  },
  {
   "cell_type": "markdown",
   "metadata": {
    "origin_pos": 26
   },
   "source": [
    "## Canais Múltiplos\n",
    "\n",
    "\n",
    "Ao processar dados de entrada multicanal,\n",
    "a camada de *pooling* agrupa cada canal de entrada separadamente,\n",
    "em vez de somar as entradas nos canais\n",
    "como em uma camada convolucional.\n",
    "Isso significa que o número de canais de saída para a camada de *pooling*\n",
    "é igual ao número de canais de entrada.\n",
    "Abaixo, vamos concatenar os tensores `X` e` X + 1`\n",
    "na dimensão do canal para construir uma entrada com 2 canais.\n",
    "\n",
    "Observe que isso exigirá um\n",
    "concatenação ao longo da última dimensão do TensorFlow devido à sintaxe dos últimos canais.\n"
   ]
  },
  {
   "cell_type": "code",
   "execution_count": 9,
   "metadata": {
    "origin_pos": 27,
    "tab": [
     "pytorch"
    ]
   },
   "outputs": [
    {
     "data": {
      "text/plain": [
       "tensor([[[[ 0.,  1.,  2.,  3.],\n",
       "          [ 4.,  5.,  6.,  7.],\n",
       "          [ 8.,  9., 10., 11.],\n",
       "          [12., 13., 14., 15.]],\n",
       "\n",
       "         [[ 1.,  2.,  3.,  4.],\n",
       "          [ 5.,  6.,  7.,  8.],\n",
       "          [ 9., 10., 11., 12.],\n",
       "          [13., 14., 15., 16.]]]])"
      ]
     },
     "execution_count": 9,
     "metadata": {},
     "output_type": "execute_result"
    }
   ],
   "source": [
    "X = torch.cat((X, X + 1), 1)\n",
    "X"
   ]
  },
  {
   "cell_type": "markdown",
   "metadata": {
    "origin_pos": 29
   },
   "source": [
    "Como podemos ver, o número de canais de saída ainda é 2 após o *pooling*.\n"
   ]
  },
  {
   "cell_type": "code",
   "execution_count": 10,
   "metadata": {
    "origin_pos": 31,
    "tab": [
     "pytorch"
    ]
   },
   "outputs": [
    {
     "data": {
      "text/plain": [
       "tensor([[[[ 5.,  7.],\n",
       "          [13., 15.]],\n",
       "\n",
       "         [[ 6.,  8.],\n",
       "          [14., 16.]]]])"
      ]
     },
     "execution_count": 10,
     "metadata": {},
     "output_type": "execute_result"
    }
   ],
   "source": [
    "pool2d = nn.MaxPool2d(3, padding=1, stride=2)\n",
    "pool2d(X)"
   ]
  },
  {
   "cell_type": "markdown",
   "metadata": {
    "origin_pos": 33
   },
   "source": [
    "Observe que a saída para o *pooling* de tensorflow parece à primeira vista ser diferente, no entanto\n",
    "numericamente, os mesmos resultados são apresentados como MXNet e PyTorch.\n",
    "A diferença está na dimensionalidade, e na leitura do\n",
    "a saída verticalmente produz a mesma saída que as outras implementações.\n",
    "\n",
    "## Resumo\n",
    "\n",
    "* Pegando os elementos de entrada na janela de agrupamento, a operação de agrupamento máxima atribui o valor máximo como a saída e a operação de agrupamento média atribui o valor médio como a saída.\n",
    "* Um dos principais benefícios de uma camada de *pooling* é aliviar a sensibilidade excessiva da camada convolucional ao local.\n",
    "* Podemos especificar o preenchimento e a passada para a camada de *pooling*.\n",
    "* O agrupamento máximo, combinado com uma passada maior do que 1, pode ser usado para reduzir as dimensões espaciais (por exemplo, largura e altura).\n",
    "* O número de canais de saída da camada de *pooling* é igual ao número de canais de entrada.\n",
    "\n",
    "\n",
    "## Exercícios\n",
    "\n",
    "1. Você pode implementar o *pooling* médio como um caso especial de uma camada de convolução? Se sim, faça.\n",
    "1. Você pode implementar o *pooling* máximo como um caso especial de uma camada de convolução? Se for assim, faça.\n",
    "1. Qual é o custo computacional da camada de *pooling*? Suponha que a entrada para a camada de *pooling* seja do tamanho  $c\\times h\\times w$, a janela de *pooling* tem um formato de $p_h\\times p_w$ com um preenchimento de $(p_h, p_w)$ e um passo de $(s_h, s_w)$.\n",
    "1. Por que você espera que o *pooling* máximo e o *pooling* médio funcionem de maneira diferente?\n",
    "1. Precisamos de uma camada mínima de *pooling* separada? Você pode substituí-la por outra operação?\n",
    "1. Existe outra operação entre o *pooling* médio e máximo que você possa considerar (dica: lembre-se do *softmax*)? Por que não é tão popular?\n"
   ]
  },
  {
   "cell_type": "markdown",
   "metadata": {
    "origin_pos": 35,
    "tab": [
     "pytorch"
    ]
   },
   "source": [
    "[Discussions](https://discuss.d2l.ai/t/72)\n"
   ]
  },
  {
   "cell_type": "markdown",
   "metadata": {
    "origin_pos": 37
   },
   "source": [
    "<!--stackedit_data:\n",
    "eyJoaXN0b3J5IjpbMjAzMjIwMDQ0NiwtMTIwOTA5MTA3NiwtMT\n",
    "EwMDAzNzAzOCwxODk0MDMzMjM3LC0xMzA5OTExODZdfQ==\n",
    "-->\n"
   ]
  }
 ],
 "metadata": {
  "kernelspec": {
   "display_name": "conda_pytorch_p36",
   "name": "conda_pytorch_p36"
  },
  "language_info": {
   "name": "python"
  }
 },
 "nbformat": 4,
 "nbformat_minor": 4
}