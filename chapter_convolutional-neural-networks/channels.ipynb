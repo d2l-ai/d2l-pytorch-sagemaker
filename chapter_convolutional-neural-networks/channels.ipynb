{
 "cells": [
  {
   "cell_type": "markdown",
   "metadata": {},
   "source": [
    "Installing (updating) the following libraries for your Sagemaker\n",
    "instance."
   ]
  },
  {
   "cell_type": "code",
   "execution_count": null,
   "metadata": {},
   "outputs": [],
   "source": [
    "!pip install .. # installing d2l\n"
   ]
  },
  {
   "cell_type": "markdown",
   "metadata": {
    "origin_pos": 0
   },
   "source": [
    "# Canais de Múltiplas Entradas e Saídas\n",
    ":label:`sec_channels`\n",
    "\n",
    "\n",
    "Embora tenhamos descrito os vários canais\n",
    "que compõem cada imagem (por exemplo, imagens coloridas têm os canais RGB padrão\n",
    "para indicar a quantidade de vermelho, verde e azul) e camadas convolucionais para vários canais em :numref:`subsec_why-conv-channels`,\n",
    "até agora, simplificamos todos os nossos exemplos numéricos\n",
    "trabalhando com apenas uma única entrada e um único canal de saída.\n",
    "Isso nos permitiu pensar em nossas entradas, *kernels* de convolução,\n",
    "e saídas, cada um como tensores bidimensionais.\n",
    "\n",
    "Quando adicionamos canais a isto,\n",
    "nossas entradas e representações ocultas\n",
    "ambas se tornam tensores tridimensionais.\n",
    "Por exemplo, cada imagem de entrada RGB tem a forma $3\\times h\\times w$.\n",
    "Referimo-nos a este eixo, com um tamanho de 3, como a dimensão do *canal*.\n",
    "Nesta seção, daremos uma olhada mais detalhada\n",
    "em núcleos de convolução com múltiplos canais de entrada e saída.\n",
    "\n",
    "## Canais de Entrada Múltiplos\n",
    "\n",
    "\n",
    "Quando os dados de entrada contêm vários canais,\n",
    "precisamos construir um *kernel* de convolução\n",
    "com o mesmo número de canais de entrada que os dados de entrada,\n",
    "para que possa realizar correlação cruzada com os dados de entrada.\n",
    "Supondo que o número de canais para os dados de entrada seja $c_i$,\n",
    "o número de canais de entrada do *kernel* de convolução também precisa ser $c_i$. Se a forma da janela do nosso kernel de convolução é $k_h\\times k_w$,\n",
    "então quando $c_i=1$, podemos pensar em nosso kernel de convolução\n",
    "apenas como um tensor bidimensional de forma $k_h\\times k_w$.\n",
    "\n",
    "No entanto, quando $c_i>1$, precisamos de um kernel\n",
    "que contém um tensor de forma $k_h\\times k_w$ para *cada* canal de entrada. Concatenando estes $c_i$ tensores juntos\n",
    "produz um kernel de convolução de forma $c_i\\times k_h\\times k_w$.\n",
    "Uma vez que o *kernel* de entrada e convolução tem cada um $c_i$ canais,\n",
    "podemos realizar uma operação de correlação cruzada\n",
    "no tensor bidimensional da entrada\n",
    "e o tensor bidimensional do núcleo de convolução\n",
    "para cada canal, adicionando os resultados $c_i$ juntos\n",
    "(somando os canais)\n",
    "para produzir um tensor bidimensional.\n",
    "Este é o resultado de uma correlação cruzada bidimensional\n",
    "entre uma entrada multicanal e\n",
    "um *kernel* de convolução com vários canais de entrada.\n",
    "\n",
    "Em :numref:`fig_conv_multi_in`, demonstramos um exemplo\n",
    "de uma correlação cruzada bidimensional com dois canais de entrada.\n",
    "As partes sombreadas são o primeiro elemento de saída\n",
    "bem como os elementos tensores de entrada e kernel usados ​​para o cálculo de saída:\n",
    "$(1\\times1+2\\times2+4\\times3+5\\times4)+(0\\times0+1\\times1+3\\times2+4\\times3)=56$.\n",
    "\n",
    "![Cálculo de correlação cruzada com 2 canais de entrada.](../img/conv-multi-in.svg)\n",
    ":label:`fig_conv_multi_in`\n",
    "\n",
    "\n",
    "Para ter certeza de que realmente entendemos o que está acontecendo aqui,\n",
    "podemos implementar operações de correlação cruzada com vários canais de entrada.\n",
    "Observe que tudo o que estamos fazendo é realizar uma operação de correlação cruzada\n",
    "por canal e depois somando os resultados.\n"
   ]
  },
  {
   "cell_type": "code",
   "execution_count": 1,
   "metadata": {
    "origin_pos": 2,
    "tab": [
     "pytorch"
    ]
   },
   "outputs": [],
   "source": [
    "import torch\n",
    "from d2l import torch as d2l"
   ]
  },
  {
   "cell_type": "code",
   "execution_count": 2,
   "metadata": {
    "origin_pos": 3,
    "tab": [
     "pytorch"
    ]
   },
   "outputs": [],
   "source": [
    "def corr2d_multi_in(X, K):\n",
    "    # First, iterate through the 0th dimension (channel dimension) of `X` and\n",
    "    # `K`. Then, add them together\n",
    "    return sum(d2l.corr2d(x, k) for x, k in zip(X, K))"
   ]
  },
  {
   "cell_type": "markdown",
   "metadata": {
    "origin_pos": 5
   },
   "source": [
    "Podemos construir o tensor de entrada `X` e o tensor do kernel` K`\n",
    "correspondendo aos valores em :numref:`fig_conv_multi_in`\n",
    "para validar a saída da operação de correlação cruzada.\n"
   ]
  },
  {
   "cell_type": "code",
   "execution_count": 3,
   "metadata": {
    "origin_pos": 6,
    "tab": [
     "pytorch"
    ]
   },
   "outputs": [
    {
     "data": {
      "text/plain": [
       "tensor([[ 56.,  72.],\n",
       "        [104., 120.]])"
      ]
     },
     "execution_count": 3,
     "metadata": {},
     "output_type": "execute_result"
    }
   ],
   "source": [
    "X = torch.tensor([[[0.0, 1.0, 2.0], [3.0, 4.0, 5.0], [6.0, 7.0, 8.0]],\n",
    "               [[1.0, 2.0, 3.0], [4.0, 5.0, 6.0], [7.0, 8.0, 9.0]]])\n",
    "K = torch.tensor([[[0.0, 1.0], [2.0, 3.0]], [[1.0, 2.0], [3.0, 4.0]]])\n",
    "\n",
    "corr2d_multi_in(X, K)"
   ]
  },
  {
   "cell_type": "markdown",
   "metadata": {
    "origin_pos": 7
   },
   "source": [
    "## Canais de Saída Múltiplos\n",
    "\n",
    "\n",
    "Independentemente do número de canais de entrada,\n",
    "até agora acabamos sempre com um canal de saída.\n",
    "No entanto, como discutimos em :numref:`subsec_why-conv-channels`,\n",
    "é essencial ter vários canais em cada camada.\n",
    "Nas arquiteturas de rede neural mais populares,\n",
    "na verdade, aumentamos a dimensão do canal\n",
    "à medida que subimos na rede neural,\n",
    "normalmente reduzindo as amostras para compensar a resolução espacial\n",
    "para maior *profundidade do canal*.\n",
    "Intuitivamente, você pode pensar em cada canal\n",
    "como respondendo a algum conjunto diferente de *features*.\n",
    "A realidade é um pouco mais complicada do que as interpretações mais ingênuas dessa intuição, uma vez que as representações não são aprendidas de forma independente, mas sim otimizadas para serem úteis em conjunto.\n",
    "Portanto, pode não ser que um único canal aprenda um detector de bordas, mas sim que alguma direção no espaço do canal corresponde à detecção de bordas.\n",
    "\n",
    "\n",
    "Denote por $c_i$ e $c_o$ o número\n",
    "dos canais de entrada e saída, respectivamente,\n",
    "e sejam $k_h$ e $k_w$ a altura e a largura do *kernel*.\n",
    "Para obter uma saída com vários canais,\n",
    "podemos criar um tensor de kernel\n",
    "da forma $c_i\\times k_h\\times k_w$\n",
    "para *cada* canal de saída.\n",
    "Nós os concatenamos na dimensão do canal de saída,\n",
    "de modo que a forma do núcleo de convolução\n",
    "é $c_o\\times c_i\\times k_h\\times k_w$.\n",
    "Em operações de correlação cruzada,\n",
    "o resultado em cada canal de saída é calculado\n",
    "do *kernel* de convolução correspondente a esse canal de saída\n",
    "e recebe a entrada de todos os canais no tensor de entrada.\n",
    "\n",
    "Implementamos uma função de correlação cruzada\n",
    "para calcular a saída de vários canais, conforme mostrado abaixo.\n"
   ]
  },
  {
   "cell_type": "code",
   "execution_count": 4,
   "metadata": {
    "origin_pos": 8,
    "tab": [
     "pytorch"
    ]
   },
   "outputs": [],
   "source": [
    "def corr2d_multi_in_out(X, K):\n",
    "    # Iterate through the 0th dimension of `K`, and each time, perform\n",
    "    # cross-correlation operations with input `X`. All of the results are\n",
    "    # stacked together\n",
    "    return torch.stack([corr2d_multi_in(X, k) for k in K], 0)"
   ]
  },
  {
   "cell_type": "markdown",
   "metadata": {
    "origin_pos": 9
   },
   "source": [
    "Construímos um *kernel* de convolução com 3 canais de saída\n",
    "concatenando o tensor do kernel `K` com` K + 1`\n",
    "(mais um para cada elemento em `K`) e` K + 2`.\n"
   ]
  },
  {
   "cell_type": "code",
   "execution_count": 5,
   "metadata": {
    "origin_pos": 10,
    "tab": [
     "pytorch"
    ]
   },
   "outputs": [
    {
     "data": {
      "text/plain": [
       "torch.Size([3, 2, 2, 2])"
      ]
     },
     "execution_count": 5,
     "metadata": {},
     "output_type": "execute_result"
    }
   ],
   "source": [
    "K = torch.stack((K, K + 1, K + 2), 0)\n",
    "K.shape"
   ]
  },
  {
   "cell_type": "markdown",
   "metadata": {
    "origin_pos": 11
   },
   "source": [
    "Abaixo, realizamos operações de correlação cruzada\n",
    "no tensor de entrada `X` com o tensor do kernel` K`.\n",
    "Agora a saída contém 3 canais.\n",
    "O resultado do primeiro canal é consistente\n",
    "com o resultado do tensor de entrada anterior `X`\n",
    "e o canal de múltiplas entradas,\n",
    "*kernel* do canal de saída única.\n"
   ]
  },
  {
   "cell_type": "code",
   "execution_count": 6,
   "metadata": {
    "origin_pos": 12,
    "tab": [
     "pytorch"
    ]
   },
   "outputs": [
    {
     "data": {
      "text/plain": [
       "tensor([[[ 56.,  72.],\n",
       "         [104., 120.]],\n",
       "\n",
       "        [[ 76., 100.],\n",
       "         [148., 172.]],\n",
       "\n",
       "        [[ 96., 128.],\n",
       "         [192., 224.]]])"
      ]
     },
     "execution_count": 6,
     "metadata": {},
     "output_type": "execute_result"
    }
   ],
   "source": [
    "corr2d_multi_in_out(X, K)"
   ]
  },
  {
   "cell_type": "markdown",
   "metadata": {
    "origin_pos": 13
   },
   "source": [
    "## Camada Convolucional $1\\times 1$\n",
    "\n",
    "\n",
    "No início, uma convolução $1 \\times 1$, ou seja, $k_h = k_w = 1$,\n",
    "não parece fazer muito sentido.\n",
    "Afinal, uma convolução correlaciona pixels adjacentes.\n",
    "Uma convolução $1 \\times 1$ obviamente não faz isso.\n",
    "No entanto, são operações populares que às vezes são incluídas\n",
    "nos projetos de redes profundas complexas.\n",
    "Vejamos com alguns detalhes o que ele realmente faz.\n",
    "\n",
    "Como a janela mínima é usada,\n",
    "a convolução $1\\times 1$ perde a capacidade\n",
    "de camadas convolucionais maiores\n",
    "para reconhecer padrões que consistem em interações\n",
    "entre os elementos adjacentes nas dimensões de altura e largura.\n",
    "O único cálculo da convolução $1\\times 1$ ocorre\n",
    "na dimensão do canal.\n",
    "\n",
    ":numref:`fig_conv_1x1` mostra o cálculo de correlação cruzada\n",
    "usando o kernel de convolução $1\\times 1$\n",
    "com 3 canais de entrada e 2 canais de saída.\n",
    "Observe que as entradas e saídas têm a mesma altura e largura.\n",
    "Cada elemento na saída é derivado\n",
    "de uma combinação linear de elementos *na mesma posição*\n",
    "na imagem de entrada.\n",
    "Você poderia pensar na camada convolucional $1\\times 1$\n",
    "como constituindo uma camada totalmente conectada aplicada em cada localização de pixel\n",
    "para transformar os valores de entrada correspondentes $c_i$ em valores de saída $c_o$.\n",
    "Porque esta ainda é uma camada convolucional,\n",
    "os pesos são vinculados à localização do pixel.\n",
    "Assim, a camada convolucional $1\\times 1$ requer pesos $c_o\\times c_i$ \n",
    "(mais o *bias*).\n",
    "\n",
    "\n",
    "\n",
    "![O cálculo de correlação cruzada usa o *kernel* de convolução $1\\times 1$  com 3 canais de entrada e 2 canais de saída. A entrada e a saída têm a mesma altura e largura.](../img/conv-1x1.svg)\n",
    ":label:`fig_conv_1x1`\n",
    "\n",
    "Vamos verificar se isso funciona na prática:\n",
    "implementamos uma convolução $1 \\times 1$\n",
    "usando uma camada totalmente conectada.\n",
    "A única coisa é que precisamos fazer alguns ajustes\n",
    "para a forma de dados antes e depois da multiplicação da matriz.\n"
   ]
  },
  {
   "cell_type": "code",
   "execution_count": 7,
   "metadata": {
    "origin_pos": 14,
    "tab": [
     "pytorch"
    ]
   },
   "outputs": [],
   "source": [
    "def corr2d_multi_in_out_1x1(X, K):\n",
    "    c_i, h, w = X.shape\n",
    "    c_o = K.shape[0]\n",
    "    X = X.reshape((c_i, h * w))\n",
    "    K = K.reshape((c_o, c_i))\n",
    "    Y = torch.matmul(K, X)  # Matrix multiplication in the fully-connected layer\n",
    "    return Y.reshape((c_o, h, w))"
   ]
  },
  {
   "cell_type": "markdown",
   "metadata": {
    "origin_pos": 15
   },
   "source": [
    "Ao realizar convolução $1\\times 1$ ,\n",
    "a função acima é equivalente à função de correlação cruzada implementada anteriormente `corr2d_multi_in_out`.\n",
    "Vamos verificar isso com alguns dados de amostra.\n"
   ]
  },
  {
   "cell_type": "code",
   "execution_count": 8,
   "metadata": {
    "origin_pos": 16,
    "tab": [
     "pytorch"
    ]
   },
   "outputs": [],
   "source": [
    "X = torch.normal(0, 1, (3, 3, 3))\n",
    "K = torch.normal(0, 1, (2, 3, 1, 1))"
   ]
  },
  {
   "cell_type": "code",
   "execution_count": 9,
   "metadata": {
    "origin_pos": 18,
    "tab": [
     "pytorch"
    ]
   },
   "outputs": [],
   "source": [
    "Y1 = corr2d_multi_in_out_1x1(X, K)\n",
    "Y2 = corr2d_multi_in_out(X, K)\n",
    "assert float(torch.abs(Y1 - Y2).sum()) < 1e-6"
   ]
  },
  {
   "cell_type": "markdown",
   "metadata": {
    "origin_pos": 19
   },
   "source": [
    "## Resumo\n",
    "\n",
    "* Vários canais podem ser usados para estender os parâmetros do modelo da camada convolucional.\n",
    "* A camada convolucional $1\\times 1$ é equivalente à camada totalmente conectada, quando aplicada por pixel.\n",
    "* A camada convolucional $1\\times 1$ é normalmente usada para ajustar o número de canais entre as camadas de rede e para controlar a complexidade do modelo.\n",
    "\n",
    "\n",
    "## Exercícios\n",
    "\n",
    "1. Suponha que temos dois *kernels* de convolução de tamanho $k_1$ e $k_2$, respectivamente (sem não linearidade entre eles).\n",
    "    1. Prove que o resultado da operação pode ser expresso por uma única convolução.\n",
    "    1. Qual é a dimensionalidade da convolução única equivalente?\n",
    "    1. O inverso é verdadeiro?\n",
    "1. Assuma uma entrada de forma $c_i\\times h\\times w$ e um *kernel* de convolução de forma $c_o\\times c_i\\times k_h\\times k_w$, preenchimento de $(p_h, p_w)$, e passo de $(s_h, s_w)$.\n",
    "    1. Qual é o custo computacional (multiplicações e adições) para a propagação direta?\n",
    "    1. Qual é a pegada de memória?\n",
    "    1. Qual é a pegada de memória para a computação reversa?\n",
    "    1. Qual é o custo computacional para a retropropagação?\n",
    "1. Por que fator o número de cálculos aumenta se dobrarmos o número de canais de entrada $c_i$ e o número de canais de saída $c_o$? O que acontece se dobrarmos o preenchimento?\n",
    "1. Se a altura e largura de um *kernel* de convolução é $k_h=k_w=1$,, qual é a complexidade computacional da propagação direta?\n",
    "1. As variáveis ​​`Y1` e` Y2` no último exemplo desta seção são exatamente as mesmas? Porque?\n",
    "1. Como você implementaria convoluções usando a multiplicação de matrizes quando a janela de convolução não é $1\\times 1$?\n"
   ]
  },
  {
   "cell_type": "markdown",
   "metadata": {
    "origin_pos": 21,
    "tab": [
     "pytorch"
    ]
   },
   "source": [
    "[Discussions](https://discuss.d2l.ai/t/70)\n"
   ]
  },
  {
   "cell_type": "markdown",
   "metadata": {
    "origin_pos": 23
   },
   "source": [
    "<!--stackedit_data:\n",
    "eyJoaXN0b3J5IjpbLTE2NjY1MDUzNDUsOTcxMDkyNjUxLDE4Nz\n",
    "c1NTE2ODQsLTQwNTQwMzkwNCwtMTEzODU1Njc0LDIyMzY2OTYz\n",
    "MywxMDg0Nzk1MTk3LDEwOTYzOTg3NjVdfQ==\n",
    "-->\n"
   ]
  }
 ],
 "metadata": {
  "kernelspec": {
   "display_name": "conda_pytorch_p36",
   "name": "conda_pytorch_p36"
  },
  "language_info": {
   "name": "python"
  }
 },
 "nbformat": 4,
 "nbformat_minor": 4
}