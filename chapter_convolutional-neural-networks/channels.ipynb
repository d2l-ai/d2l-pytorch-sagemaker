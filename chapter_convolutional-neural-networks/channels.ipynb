{
 "cells": [
  {
   "cell_type": "markdown",
   "id": "06b73d55",
   "metadata": {},
   "source": [
    "Installing (updating) the following libraries for your Sagemaker\n",
    "instance."
   ]
  },
  {
   "cell_type": "code",
   "execution_count": null,
   "id": "47234e9f",
   "metadata": {},
   "outputs": [],
   "source": [
    "!pip install .. # installing d2l\n"
   ]
  },
  {
   "cell_type": "markdown",
   "id": "ac599896",
   "metadata": {
    "origin_pos": 0
   },
   "source": [
    "# Multiple Input and Multiple Output Channels\n",
    ":label:`sec_channels`\n",
    "\n",
    "While we have described the multiple channels\n",
    "that comprise each image (e.g., color images have the standard RGB channels\n",
    "to indicate the amount of red, green and blue) and convolutional layers for multiple channels in :numref:`subsec_why-conv-channels`,\n",
    "until now, we simplified all of our numerical examples\n",
    "by working with just a single input and a single output channel.\n",
    "This has allowed us to think of our inputs, convolution kernels,\n",
    "and outputs each as two-dimensional tensors.\n",
    "\n",
    "When we add channels into the mix,\n",
    "our inputs and hidden representations\n",
    "both become three-dimensional tensors.\n",
    "For example, each RGB input image has shape $3\\times h\\times w$.\n",
    "We refer to this axis, with a size of 3, as the *channel* dimension.\n",
    "In this section, we will take a deeper look\n",
    "at convolution kernels with multiple input and multiple output channels.\n",
    "\n",
    "## Multiple Input Channels\n",
    "\n",
    "When the input data contain multiple channels,\n",
    "we need to construct a convolution kernel\n",
    "with the same number of input channels as the input data,\n",
    "so that it can perform cross-correlation with the input data.\n",
    "Assuming that the number of channels for the input data is $c_i$,\n",
    "the number of input channels of the convolution kernel also needs to be $c_i$. If our convolution kernel's window shape is $k_h\\times k_w$,\n",
    "then when $c_i=1$, we can think of our convolution kernel\n",
    "as just a two-dimensional tensor of shape $k_h\\times k_w$.\n",
    "\n",
    "However, when $c_i>1$, we need a kernel\n",
    "that contains a tensor of shape $k_h\\times k_w$ for *every* input channel. Concatenating these $c_i$ tensors together\n",
    "yields a convolution kernel of shape $c_i\\times k_h\\times k_w$.\n",
    "Since the input and convolution kernel each have $c_i$ channels,\n",
    "we can perform a cross-correlation operation\n",
    "on the two-dimensional tensor of the input\n",
    "and the two-dimensional tensor of the convolution kernel\n",
    "for each channel, adding the $c_i$ results together\n",
    "(summing over the channels)\n",
    "to yield a two-dimensional tensor.\n",
    "This is the result of a two-dimensional cross-correlation\n",
    "between a multi-channel input and\n",
    "a multi-input-channel convolution kernel.\n",
    "\n",
    "In :numref:`fig_conv_multi_in`, we demonstrate an example\n",
    "of a two-dimensional cross-correlation with two input channels.\n",
    "The shaded portions are the first output element\n",
    "as well as the input and kernel tensor elements used for the output computation:\n",
    "$(1\\times1+2\\times2+4\\times3+5\\times4)+(0\\times0+1\\times1+3\\times2+4\\times3)=56$.\n",
    "\n",
    "![Cross-correlation computation with 2 input channels.](../img/conv-multi-in.svg)\n",
    ":label:`fig_conv_multi_in`\n",
    "\n",
    "\n",
    "To make sure we really understand what is going on here,\n",
    "we can (**implement cross-correlation operations with multiple input channels**) ourselves.\n",
    "Notice that all we are doing is performing one cross-correlation operation\n",
    "per channel and then adding up the results.\n"
   ]
  },
  {
   "cell_type": "code",
   "execution_count": 1,
   "id": "3ce7fa68",
   "metadata": {
    "execution": {
     "iopub.execute_input": "2022-07-10T02:58:17.964981Z",
     "iopub.status.busy": "2022-07-10T02:58:17.964225Z",
     "iopub.status.idle": "2022-07-10T02:58:19.969540Z",
     "shell.execute_reply": "2022-07-10T02:58:19.968437Z"
    },
    "origin_pos": 2,
    "tab": [
     "pytorch"
    ]
   },
   "outputs": [],
   "source": [
    "import torch\n",
    "from d2l import torch as d2l"
   ]
  },
  {
   "cell_type": "code",
   "execution_count": 2,
   "id": "ab897ae4",
   "metadata": {
    "execution": {
     "iopub.execute_input": "2022-07-10T02:58:19.974516Z",
     "iopub.status.busy": "2022-07-10T02:58:19.973804Z",
     "iopub.status.idle": "2022-07-10T02:58:19.978838Z",
     "shell.execute_reply": "2022-07-10T02:58:19.977842Z"
    },
    "origin_pos": 3,
    "tab": [
     "pytorch"
    ]
   },
   "outputs": [],
   "source": [
    "def corr2d_multi_in(X, K):\n",
    "    # First, iterate through the 0th dimension (channel dimension) of `X` and\n",
    "    # `K`. Then, add them together\n",
    "    return sum(d2l.corr2d(x, k) for x, k in zip(X, K))"
   ]
  },
  {
   "cell_type": "markdown",
   "id": "a545703d",
   "metadata": {
    "origin_pos": 5
   },
   "source": [
    "We can construct the input tensor `X` and the kernel tensor `K`\n",
    "corresponding to the values in :numref:`fig_conv_multi_in`\n",
    "to (**validate the output**) of the cross-correlation operation.\n"
   ]
  },
  {
   "cell_type": "code",
   "execution_count": 3,
   "id": "29c03154",
   "metadata": {
    "execution": {
     "iopub.execute_input": "2022-07-10T02:58:19.982628Z",
     "iopub.status.busy": "2022-07-10T02:58:19.981858Z",
     "iopub.status.idle": "2022-07-10T02:58:20.011727Z",
     "shell.execute_reply": "2022-07-10T02:58:20.010706Z"
    },
    "origin_pos": 6,
    "tab": [
     "pytorch"
    ]
   },
   "outputs": [
    {
     "data": {
      "text/plain": [
       "tensor([[ 56.,  72.],\n",
       "        [104., 120.]])"
      ]
     },
     "execution_count": 3,
     "metadata": {},
     "output_type": "execute_result"
    }
   ],
   "source": [
    "X = torch.tensor([[[0.0, 1.0, 2.0], [3.0, 4.0, 5.0], [6.0, 7.0, 8.0]],\n",
    "               [[1.0, 2.0, 3.0], [4.0, 5.0, 6.0], [7.0, 8.0, 9.0]]])\n",
    "K = torch.tensor([[[0.0, 1.0], [2.0, 3.0]], [[1.0, 2.0], [3.0, 4.0]]])\n",
    "\n",
    "corr2d_multi_in(X, K)"
   ]
  },
  {
   "cell_type": "markdown",
   "id": "6380d326",
   "metadata": {
    "origin_pos": 7
   },
   "source": [
    "## Multiple Output Channels\n",
    ":label:`subsec_multi-output-channels`\n",
    "\n",
    "Regardless of the number of input channels,\n",
    "so far we always ended up with one output channel.\n",
    "However, as we discussed in :numref:`subsec_why-conv-channels`,\n",
    "it turns out to be essential to have multiple channels at each layer.\n",
    "In the most popular neural network architectures,\n",
    "we actually increase the channel dimension\n",
    "as we go higher up in the neural network,\n",
    "typically downsampling to trade off spatial resolution\n",
    "for greater *channel depth*.\n",
    "Intuitively, you could think of each channel\n",
    "as responding to some different set of features.\n",
    "Reality is a bit more complicated than the most naive interpretations of this intuition since representations are not learned independent but are rather optimized to be jointly useful.\n",
    "So it may not be that a single channel learns an edge detector but rather that some direction in channel space corresponds to detecting edges.\n",
    "\n",
    "\n",
    "Denote by $c_i$ and $c_o$ the number\n",
    "of input and output channels, respectively,\n",
    "and let $k_h$ and $k_w$ be the height and width of the kernel.\n",
    "To get an output with multiple channels,\n",
    "we can create a kernel tensor\n",
    "of shape $c_i\\times k_h\\times k_w$\n",
    "for *every* output channel.\n",
    "We concatenate them on the output channel dimension,\n",
    "so that the shape of the convolution kernel\n",
    "is $c_o\\times c_i\\times k_h\\times k_w$.\n",
    "In cross-correlation operations,\n",
    "the result on each output channel is calculated\n",
    "from the convolution kernel corresponding to that output channel\n",
    "and takes input from all channels in the input tensor.\n",
    "\n",
    "We implement a cross-correlation function\n",
    "to [**calculate the output of multiple channels**] as shown below.\n"
   ]
  },
  {
   "cell_type": "code",
   "execution_count": 4,
   "id": "67035c07",
   "metadata": {
    "execution": {
     "iopub.execute_input": "2022-07-10T02:58:20.015551Z",
     "iopub.status.busy": "2022-07-10T02:58:20.015053Z",
     "iopub.status.idle": "2022-07-10T02:58:20.019977Z",
     "shell.execute_reply": "2022-07-10T02:58:20.018962Z"
    },
    "origin_pos": 8,
    "tab": [
     "pytorch"
    ]
   },
   "outputs": [],
   "source": [
    "def corr2d_multi_in_out(X, K):\n",
    "    # Iterate through the 0th dimension of `K`, and each time, perform\n",
    "    # cross-correlation operations with input `X`. All of the results are\n",
    "    # stacked together\n",
    "    return torch.stack([corr2d_multi_in(X, k) for k in K], 0)"
   ]
  },
  {
   "cell_type": "markdown",
   "id": "b99ae4ce",
   "metadata": {
    "origin_pos": 9
   },
   "source": [
    "We construct a convolution kernel with 3 output channels\n",
    "by concatenating the kernel tensor `K` with `K+1`\n",
    "(plus one for each element in `K`) and `K+2`.\n"
   ]
  },
  {
   "cell_type": "code",
   "execution_count": 5,
   "id": "7cffd138",
   "metadata": {
    "execution": {
     "iopub.execute_input": "2022-07-10T02:58:20.023855Z",
     "iopub.status.busy": "2022-07-10T02:58:20.023139Z",
     "iopub.status.idle": "2022-07-10T02:58:20.029822Z",
     "shell.execute_reply": "2022-07-10T02:58:20.028830Z"
    },
    "origin_pos": 10,
    "tab": [
     "pytorch"
    ]
   },
   "outputs": [
    {
     "data": {
      "text/plain": [
       "torch.Size([3, 2, 2, 2])"
      ]
     },
     "execution_count": 5,
     "metadata": {},
     "output_type": "execute_result"
    }
   ],
   "source": [
    "K = torch.stack((K, K + 1, K + 2), 0)\n",
    "K.shape"
   ]
  },
  {
   "cell_type": "markdown",
   "id": "8980fae7",
   "metadata": {
    "origin_pos": 11
   },
   "source": [
    "Below, we perform cross-correlation operations\n",
    "on the input tensor `X` with the kernel tensor `K`.\n",
    "Now the output contains 3 channels.\n",
    "The result of the first channel is consistent\n",
    "with the result of the previous input tensor `X`\n",
    "and the multi-input channel,\n",
    "single-output channel kernel.\n"
   ]
  },
  {
   "cell_type": "code",
   "execution_count": 6,
   "id": "40159130",
   "metadata": {
    "execution": {
     "iopub.execute_input": "2022-07-10T02:58:20.033848Z",
     "iopub.status.busy": "2022-07-10T02:58:20.033096Z",
     "iopub.status.idle": "2022-07-10T02:58:20.041384Z",
     "shell.execute_reply": "2022-07-10T02:58:20.040344Z"
    },
    "origin_pos": 12,
    "tab": [
     "pytorch"
    ]
   },
   "outputs": [
    {
     "data": {
      "text/plain": [
       "tensor([[[ 56.,  72.],\n",
       "         [104., 120.]],\n",
       "\n",
       "        [[ 76., 100.],\n",
       "         [148., 172.]],\n",
       "\n",
       "        [[ 96., 128.],\n",
       "         [192., 224.]]])"
      ]
     },
     "execution_count": 6,
     "metadata": {},
     "output_type": "execute_result"
    }
   ],
   "source": [
    "corr2d_multi_in_out(X, K)"
   ]
  },
  {
   "cell_type": "markdown",
   "id": "e403ada4",
   "metadata": {
    "origin_pos": 13
   },
   "source": [
    "## $1\\times 1$ Convolutional Layer\n",
    "\n",
    "At first, a [**$1 \\times 1$ convolution**], i.e., $k_h = k_w = 1$,\n",
    "does not seem to make much sense.\n",
    "After all, a convolution correlates adjacent pixels.\n",
    "A $1 \\times 1$ convolution obviously does not.\n",
    "Nonetheless, they are popular operations that are sometimes included\n",
    "in the designs of complex deep networks.\n",
    "Let us see in some detail what it actually does.\n",
    "\n",
    "Because the minimum window is used,\n",
    "the $1\\times 1$ convolution loses the ability\n",
    "of larger convolutional layers\n",
    "to recognize patterns consisting of interactions\n",
    "among adjacent elements in the height and width dimensions.\n",
    "The only computation of the $1\\times 1$ convolution occurs\n",
    "on the channel dimension.\n",
    "\n",
    ":numref:`fig_conv_1x1` shows the cross-correlation computation\n",
    "using the $1\\times 1$ convolution kernel\n",
    "with 3 input channels and 2 output channels.\n",
    "Note that the inputs and outputs have the same height and width.\n",
    "Each element in the output is derived\n",
    "from a linear combination of elements *at the same position*\n",
    "in the input image.\n",
    "You could think of the $1\\times 1$ convolutional layer\n",
    "as constituting a fully-connected layer applied at every single pixel location\n",
    "to transform the $c_i$ corresponding input values into $c_o$ output values.\n",
    "Because this is still a convolutional layer,\n",
    "the weights are tied across pixel location.\n",
    "Thus the $1\\times 1$ convolutional layer requires $c_o\\times c_i$ weights\n",
    "(plus the bias).\n",
    "\n",
    "\n",
    "![The cross-correlation computation uses the $1\\times 1$ convolution kernel with 3 input channels and 2 output channels. The input and output have the same height and width.](../img/conv-1x1.svg)\n",
    ":label:`fig_conv_1x1`\n",
    "\n",
    "Let us check whether this works in practice:\n",
    "we implement a $1 \\times 1$ convolution\n",
    "using a fully-connected layer.\n",
    "The only thing is that we need to make some adjustments\n",
    "to the data shape before and after the matrix multiplication.\n"
   ]
  },
  {
   "cell_type": "code",
   "execution_count": 7,
   "id": "20efff2c",
   "metadata": {
    "execution": {
     "iopub.execute_input": "2022-07-10T02:58:20.045301Z",
     "iopub.status.busy": "2022-07-10T02:58:20.044560Z",
     "iopub.status.idle": "2022-07-10T02:58:20.050000Z",
     "shell.execute_reply": "2022-07-10T02:58:20.048965Z"
    },
    "origin_pos": 14,
    "tab": [
     "pytorch"
    ]
   },
   "outputs": [],
   "source": [
    "def corr2d_multi_in_out_1x1(X, K):\n",
    "    c_i, h, w = X.shape\n",
    "    c_o = K.shape[0]\n",
    "    X = X.reshape((c_i, h * w))\n",
    "    K = K.reshape((c_o, c_i))\n",
    "    # Matrix multiplication in the fully-connected layer\n",
    "    Y = torch.matmul(K, X)\n",
    "    return Y.reshape((c_o, h, w))"
   ]
  },
  {
   "cell_type": "markdown",
   "id": "de299760",
   "metadata": {
    "origin_pos": 15
   },
   "source": [
    "When performing $1\\times 1$ convolution,\n",
    "the above function is equivalent to the previously implemented cross-correlation function `corr2d_multi_in_out`.\n",
    "Let us check this with some sample data.\n"
   ]
  },
  {
   "cell_type": "code",
   "execution_count": 8,
   "id": "cbea5fe2",
   "metadata": {
    "execution": {
     "iopub.execute_input": "2022-07-10T02:58:20.053826Z",
     "iopub.status.busy": "2022-07-10T02:58:20.053141Z",
     "iopub.status.idle": "2022-07-10T02:58:20.058237Z",
     "shell.execute_reply": "2022-07-10T02:58:20.057188Z"
    },
    "origin_pos": 16,
    "tab": [
     "pytorch"
    ]
   },
   "outputs": [],
   "source": [
    "X = torch.normal(0, 1, (3, 3, 3))\n",
    "K = torch.normal(0, 1, (2, 3, 1, 1))"
   ]
  },
  {
   "cell_type": "code",
   "execution_count": 9,
   "id": "5d10c97d",
   "metadata": {
    "execution": {
     "iopub.execute_input": "2022-07-10T02:58:20.061988Z",
     "iopub.status.busy": "2022-07-10T02:58:20.061295Z",
     "iopub.status.idle": "2022-07-10T02:58:20.068518Z",
     "shell.execute_reply": "2022-07-10T02:58:20.067453Z"
    },
    "origin_pos": 18,
    "tab": [
     "pytorch"
    ]
   },
   "outputs": [],
   "source": [
    "Y1 = corr2d_multi_in_out_1x1(X, K)\n",
    "Y2 = corr2d_multi_in_out(X, K)\n",
    "assert float(torch.abs(Y1 - Y2).sum()) < 1e-6"
   ]
  },
  {
   "cell_type": "markdown",
   "id": "2e712407",
   "metadata": {
    "origin_pos": 19
   },
   "source": [
    "## Summary\n",
    "\n",
    "* Multiple channels can be used to extend the model parameters of the convolutional layer.\n",
    "* The $1\\times 1$ convolutional layer is equivalent to the fully-connected layer, when applied on a per pixel basis.\n",
    "* The $1\\times 1$ convolutional layer is typically used to adjust the number of channels between network layers and to control model complexity.\n",
    "\n",
    "\n",
    "## Exercises\n",
    "\n",
    "1. Assume that we have two convolution kernels of size $k_1$ and $k_2$, respectively (with no nonlinearity in between).\n",
    "    1. Prove that the result of the operation can be expressed by a single convolution.\n",
    "    1. What is the dimensionality of the equivalent single convolution?\n",
    "    1. Is the converse true?\n",
    "1. Assume an input of shape $c_i\\times h\\times w$ and a convolution kernel of shape $c_o\\times c_i\\times k_h\\times k_w$, padding of $(p_h, p_w)$, and stride of $(s_h, s_w)$.\n",
    "    1. What is the computational cost (multiplications and additions) for the forward propagation?\n",
    "    1. What is the memory footprint?\n",
    "    1. What is the memory footprint for the backward computation?\n",
    "    1. What is the computational cost for the backpropagation?\n",
    "1. By what factor does the number of calculations increase if we double the number of input channels $c_i$ and the number of output channels $c_o$? What happens if we double the padding?\n",
    "1. If the height and width of a convolution kernel is $k_h=k_w=1$, what is the computational complexity of the forward propagation?\n",
    "1. Are the variables `Y1` and `Y2` in the last example of this section exactly the same? Why?\n",
    "1. How would you implement convolutions using matrix multiplication when the convolution window is not $1\\times 1$?\n"
   ]
  },
  {
   "cell_type": "markdown",
   "id": "226f1703",
   "metadata": {
    "origin_pos": 21,
    "tab": [
     "pytorch"
    ]
   },
   "source": [
    "[Discussions](https://discuss.d2l.ai/t/70)\n"
   ]
  }
 ],
 "metadata": {
  "kernelspec": {
   "display_name": "conda_pytorch_p36",
   "name": "conda_pytorch_p36"
  },
  "language_info": {
   "name": "python"
  }
 },
 "nbformat": 4,
 "nbformat_minor": 5
}