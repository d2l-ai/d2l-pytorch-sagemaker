{
 "cells": [
  {
   "cell_type": "markdown",
   "metadata": {
    "origin_pos": 0
   },
   "source": [
    "# Instalação\n",
    ":label:`chap_installation`\n",
    "\n",
    "Para prepara-lo a ter uma experiência prática de aprendizado,\n",
    "precisamos configurar o ambiente para executar *Python*,\n",
    "*Jupyter notebooks*, as bibliotecas relevantes,\n",
    "e o código necessário para executar o livro em si.\n",
    "\n",
    "## Instalando Miniconda\n",
    "\n",
    "A maneira mais simples de começar será instalar\n",
    "[Miniconda](https://conda.io/en/latest/miniconda.html). A versão *Python* 3.x\n",
    "é necessária. Você pode pular as etapas a seguir se o conda já tiver sido instalado.\n",
    "Baixe o arquivo Miniconda sh correspondente do site\n",
    "e então execute a instalação a partir da linha de comando\n",
    "usando  `sh <FILENAME> -b`. Para usuários do macOS:\n",
    "\n",
    "```bash\n",
    "# O nome do arquivo pode estar diferente\n",
    "sh Miniconda3-latest-MacOSX-x86_64.sh -b\n",
    "```\n",
    "\n",
    "Para os usuários de Linux:\n",
    "\n",
    "```bash\n",
    "# O nome do arquivo pode estar diferente\n",
    "sh Miniconda3-latest-Linux-x86_64.sh -b\n",
    "```\n",
    "\n",
    "A seguir, inicialize o *shell* para que possamos executar `conda` diretamente.\n",
    "\n",
    "```bash\n",
    "~/miniconda3/bin/conda init\n",
    "```\n",
    "\n",
    "Agora feche e reabra seu *shell* atual. Você deve ser capaz de criar um novo ambiente da seguinte forma:\n",
    "\n",
    "```bash\n",
    "conda create --name d2l python=3.8 -y\n",
    "```\n",
    "\n",
    "## Baixando os *Notebooks D2L*\n",
    "\n",
    "Em seguida, precisamos baixar o código deste livro. Você pode clicar no botão \"All Notebooks\" na parte superior de qualquer página HTML para baixar e descompactar o código.\n",
    "Alternativamente, se você tiver `unzip` (caso contrário, execute` sudo apt install unzip`) disponível:\n",
    "\n",
    "```bash\n",
    "mkdir d2l-en && cd d2l-en\n",
    "curl https://d2l.ai/d2l-en.zip -o d2l-en.zip\n",
    "unzip d2l-en.zip && rm d2l-en.zip\n",
    "```\n",
    "\n",
    "Agora precisamos ativar o ambiente `d2l`.\n",
    "\n",
    "```bash\n",
    "conda activate d2l\n",
    "```\n",
    "\n",
    "## Instalando o *Framework* e o pacote `d2l` \n",
    "\n",
    "Antes de instalar o *Framework* de *Deep Learning*, primeiro verifique\n",
    "se você tem ou não GPUs adequadas em sua máquina\n",
    "(as GPUs que alimentam a tela em um laptop padrão\n",
    "não contam para nossos propósitos).\n",
    "Se você estiver instalando em um servidor GPU,\n",
    "proceda para: ref: `subsec_gpu` para instruções\n",
    "para instalar uma versão compatível com GPU.\n",
    "\n",
    "Caso contrário, você pode instalar a versão da CPU da seguinte maneira. Isso será mais do que potência suficiente para você\n",
    "pelos primeiros capítulos, mas você precisará acessar GPUs para executar modelos maiores.\n"
   ]
  },
  {
   "cell_type": "markdown",
   "metadata": {
    "origin_pos": 2,
    "tab": [
     "pytorch"
    ]
   },
   "source": [
    "```bash\n",
    "pip install torch torchvision -f https://download.pytorch.org/whl/torch_stable.html\n",
    "```\n"
   ]
  },
  {
   "cell_type": "markdown",
   "metadata": {
    "origin_pos": 4
   },
   "source": [
    "Nós também instalamos o pacote `d2l` que encapsula  funções e classes frequentemente usadas neste livro.\n",
    "\n",
    "```bash\n",
    "# -U: Atualiza todos os pacotes para as versões mais atuais disponíveis\n",
    "pip install -U d2l\n",
    "```\n",
    "\n",
    "Após realizadas as instalações podemos abrir os *notebooks Jupyter* através do seguinte comando:\n",
    "\n",
    "```bash\n",
    "jupyter notebook\n",
    "```\n",
    "\n",
    "Nesse ponto, você pode abrir http://localhost:8888 (geralmente abre automaticamente) no navegador da web. Em seguida, podemos executar o código para cada seção do livro.\n",
    "Sempre execute `conda activate d2l` para ativar o ambiente de execução\n",
    "antes de executar o código do livro ou atualizar o *framework* de  *Deep Learning* ou o pacote `d2l`.\n",
    "Para sair do ambiente, execute `conda deactivate`.\n",
    "\n",
    "\n",
    "## Compatibilidade com GPU\n",
    ":label:`subsec_gpu`\n"
   ]
  },
  {
   "cell_type": "markdown",
   "metadata": {
    "origin_pos": 6,
    "tab": [
     "pytorch"
    ]
   },
   "source": [
    "Por padrão, o Framework de Deep Learning é instalada com suporte para GPU.\n",
    "Se o seu computador tem GPUs NVIDIA e instalou [CUDA](https://developer.nvidia.com/cuda-downloads),\n",
    "então está tudo pronto.\n"
   ]
  },
  {
   "cell_type": "markdown",
   "metadata": {
    "origin_pos": 7
   },
   "source": [
    "## Exercícios\n",
    "\n",
    "1. Baixe o código do livro e instale o ambiente de execução.\n"
   ]
  },
  {
   "cell_type": "markdown",
   "metadata": {
    "origin_pos": 9,
    "tab": [
     "pytorch"
    ]
   },
   "source": [
    "[Discussão](https://discuss.d2l.ai/t/24)\n"
   ]
  },
  {
   "cell_type": "markdown",
   "metadata": {
    "origin_pos": 11
   },
   "source": [
    "<!--stackedit_data:\n",
    "eyJoaXN0b3J5IjpbMjEwMDA3Mjg4Nyw3OTg2OTc2ODEsLTk1Nj\n",
    "M1MTEzMSwtMTc1NTIwNTkzOV19\n",
    "-->\n"
   ]
  }
 ],
 "metadata": {
  "kernelspec": {
   "display_name": "conda_pytorch_p36",
   "name": "conda_pytorch_p36"
  },
  "language_info": {
   "name": "python"
  }
 },
 "nbformat": 4,
 "nbformat_minor": 4
}