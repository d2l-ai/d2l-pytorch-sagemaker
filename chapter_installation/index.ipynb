{
 "cells": [
  {
   "cell_type": "markdown",
   "metadata": {
    "origin_pos": 0
   },
   "source": [
    "# Installation\n",
    ":label:`chap_installation`\n",
    "\n",
    "In order to get you up and running for hands-on learning experience,\n",
    "we need to set you up with an environment for running Python,\n",
    "Jupyter notebooks, the relevant libraries,\n",
    "and the code needed to run the book itself.\n",
    "\n",
    "## Installing Miniconda\n",
    "\n",
    "The simplest way to get going will be to install\n",
    "[Miniconda](https://conda.io/en/latest/miniconda.html). The Python 3.x version\n",
    "is required. You can skip the following steps if conda has already been installed.\n",
    "\n",
    "Visit the Miniconda website and determine the appropriate version for your system\n",
    "based on your Python 3.x version and machine architecture.\n",
    "For example, if you are using macOS and Python 3.x you would download the \n",
    "bash script with strings \"Miniconda3\" and \"MacOSX\" in its name,\n",
    "navigate to the download location\n",
    "and execute the installation as follows:\n",
    "\n",
    "```bash\n",
    "sh Miniconda3-latest-MacOSX-x86_64.sh -b\n",
    "```\n",
    "\n",
    "A Linux user with Python 3.x would download the file\n",
    "with strings \"Miniconda3\" and \"Linux\" in its name \n",
    "and execute the following at the download location:\n",
    "\n",
    "```bash\n",
    "sh Miniconda3-latest-Linux-x86_64.sh -b\n",
    "```\n",
    "\n",
    "Next, initialize the shell so we can run `conda` directly.\n",
    "\n",
    "```bash\n",
    "~/miniconda3/bin/conda init\n",
    "```\n",
    "\n",
    "Now close and re-open your current shell. You should be able to create a new\n",
    "environment as following:\n",
    "\n",
    "```bash\n",
    "conda create --name d2l python=3.8 -y\n",
    "```\n",
    "\n",
    "## Downloading the D2L Notebooks\n",
    "\n",
    "Next, we need to download the code of this book. You can click the \"All\n",
    "Notebooks\" tab on the top of any HTML page to download and unzip the code.\n",
    "Alternatively, if you have `unzip` (otherwise run `sudo apt install unzip`) available:\n",
    "\n",
    "```bash\n",
    "mkdir d2l-en && cd d2l-en\n",
    "curl https://d2l.ai/d2l-en.zip -o d2l-en.zip\n",
    "unzip d2l-en.zip && rm d2l-en.zip\n",
    "```\n",
    "\n",
    "Now we will want to activate the `d2l` environment.\n",
    "\n",
    "```bash\n",
    "conda activate d2l\n",
    "```\n",
    "\n",
    "## Installing the Framework and the `d2l` Package\n",
    "\n",
    "Before installing the deep learning framework, please first check\n",
    "whether or not you have proper GPUs on your machine\n",
    "(the GPUs that power the display on a standard laptop\n",
    "do not count for our purposes).\n",
    "If you are installing on a GPU server,\n",
    "proceed to :ref:`subsec_gpu` for instructions\n",
    "to install a GPU-supported version.\n",
    "\n",
    "Otherwise, you can install the CPU version as follows.\n",
    "That will be more than enough horsepower to get you\n",
    "through the first few chapters but you will want\n",
    "to access GPUs before running larger models.\n"
   ]
  },
  {
   "cell_type": "markdown",
   "metadata": {
    "origin_pos": 2,
    "tab": [
     "pytorch"
    ]
   },
   "source": [
    "```bash\n",
    "pip install torch torchvision\n",
    "```\n"
   ]
  },
  {
   "cell_type": "markdown",
   "metadata": {
    "origin_pos": 4
   },
   "source": [
    "We also install the `d2l` package that encapsulates frequently used\n",
    "functions and classes in this book.\n",
    "\n",
    "```bash\n",
    "# -U: Upgrade all packages to the newest available version\n",
    "pip install -U d2l\n",
    "```\n",
    "\n",
    "Once they are installed, we now open the Jupyter notebook by running:\n",
    "\n",
    "```bash\n",
    "jupyter notebook\n",
    "```\n",
    "\n",
    "At this point, you can open http://localhost:8888 (it usually opens automatically) in your Web browser. Then we can run the code for each section of the book.\n",
    "Please always execute `conda activate d2l` to activate the runtime environment\n",
    "before running the code of the book or updating the deep learning framework or the `d2l` package.\n",
    "To exit the environment, run `conda deactivate`.\n",
    "\n",
    "\n",
    "## GPU Support\n",
    ":label:`subsec_gpu`\n"
   ]
  },
  {
   "cell_type": "markdown",
   "metadata": {
    "origin_pos": 6,
    "tab": [
     "pytorch"
    ]
   },
   "source": [
    "By default, the deep learning framework is installed with GPU support.\n",
    "If your computer has NVIDIA GPUs and has installed [CUDA](https://developer.nvidia.com/cuda-downloads),\n",
    "then you are all set.\n"
   ]
  },
  {
   "cell_type": "markdown",
   "metadata": {
    "origin_pos": 7
   },
   "source": [
    "## Exercises\n",
    "\n",
    "1. Download the code for the book and install the runtime environment.\n"
   ]
  },
  {
   "cell_type": "markdown",
   "metadata": {
    "origin_pos": 9,
    "tab": [
     "pytorch"
    ]
   },
   "source": [
    "[Discussions](https://discuss.d2l.ai/t/24)\n"
   ]
  }
 ],
 "metadata": {
  "kernelspec": {
   "display_name": "conda_pytorch_p36",
   "name": "conda_pytorch_p36"
  },
  "language_info": {
   "name": "python"
  }
 },
 "nbformat": 4,
 "nbformat_minor": 4
}