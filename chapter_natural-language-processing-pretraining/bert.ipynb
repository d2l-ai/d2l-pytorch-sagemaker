{
 "cells": [
  {
   "cell_type": "markdown",
   "metadata": {},
   "source": [
    "Installing (updating) the following libraries for your Sagemaker\n",
    "instance."
   ]
  },
  {
   "cell_type": "code",
   "execution_count": null,
   "metadata": {},
   "outputs": [],
   "source": [
    "!pip install .. # installing d2l\n"
   ]
  },
  {
   "cell_type": "markdown",
   "metadata": {
    "origin_pos": 0
   },
   "source": [
    "# Representações de codificador bidirecional de transformadores (BERT)\n",
    ":label:`sec_bert`\n",
    "\n",
    "Introduzimos vários modelos de incorporação de palavras para a compreensão da linguagem natural.\n",
    "Após o pré-treinamento, a saída pode ser pensada como uma matriz\n",
    "onde cada linha é um vetor que representa uma palavra de um vocabulário predefinido.\n",
    "Na verdade, esses modelos de incorporação de palavras são todos *independentes do contexto*.\n",
    "Vamos começar ilustrando essa propriedade.\n",
    "\n",
    "## De Independente do Contexto para Sensível ao Contexto\n",
    "\n",
    "Lembre-se dos experimentos em :numref:`sec_word2vec_pretraining` e :numref:`sec_synonyms`.\n",
    "Por exemplo, word2vec e GloVe atribuem o mesmo vetor pré-treinado à mesma palavra, independentemente do contexto da palavra (se houver).\n",
    "Formalmente, uma representação independente de contexto de qualquer token $x$\n",
    "é uma função $f(x)$ que leva apenas $x$ como entrada.\n",
    "Dada a abundância de polissemia e semântica complexa em linguagens naturais,\n",
    "representações independentes de contexto têm limitações óbvias.\n",
    "Por exemplo, a palavra \"guindaste\" em contextos\n",
    "\"um guindaste está voando\" e \"um motorista de guindaste veio\" têm significados completamente diferentes;\n",
    "assim, a mesma palavra pode receber diferentes representações dependendo dos contextos.\n",
    "\n",
    "Isso motiva o desenvolvimento de representações de palavras *sensíveis ao contexto*,\n",
    "onde as representações de palavras dependem de seus contextos.\n",
    "Portanto, uma representação sensível ao contexto do token $x$ é uma função $f(x, c(x))$\n",
    "dependendo de $x$ e de seu contexto $c(x)$.\n",
    "Representações contextuais populares\n",
    "incluem TagLM (tagger de sequência aumentada de modelo de linguagem) :cite:`Peters.Ammar.Bhagavatula.ea.2017`,\n",
    "CoVe (vetores de contexto) :cite:`McCann.Bradbury.Xiong.ea.2017`,\n",
    "e ELMo (Embeddings from Language Models) :cite:`Peters.Neumann.Iyyer.ea.2018`.\n",
    "\n",
    "Por exemplo, tomando toda a sequência como entrada,\n",
    "ELMo é uma função que atribui uma representação a cada palavra da sequência de entrada.\n",
    "Especificamente, o ELMo combina todas as representações da camada intermediária do LSTM bidirecional pré-treinado como a representação de saída.\n",
    "Em seguida, a representação ELMo será adicionada ao modelo supervisionado existente de uma tarefa downstream\n",
    "como recursos adicionais, como concatenando a representação ELMo e a representação original (por exemplo, GloVe) de tokens no modelo existente.\n",
    "Por um lado,\n",
    "todos os pesos no modelo LSTM bidirecional pré-treinado são congelados após as representações ELMo serem adicionadas.\n",
    "Por outro lado,\n",
    "o modelo supervisionado existente é personalizado especificamente para uma determinada tarefa.\n",
    "Aproveitando os melhores modelos diferentes para diferentes tarefas naquele momento,\n",
    "adicionar ELMo melhorou o estado da arte em seis tarefas de processamento de linguagem natural:\n",
    "análise de sentimento, inferência de linguagem natural,\n",
    "rotulagem de função semântica, resolução de co-referência,\n",
    "reconhecimento de entidade nomeada e resposta a perguntas.\n",
    "\n",
    "\n",
    "## De Task-Specific para Task-Agnostic\n",
    "\n",
    "Embora o ELMo tenha melhorado significativamente as soluções para um conjunto diversificado de tarefas de processamento de linguagem natural,\n",
    "cada solução ainda depende de uma arquitetura *específica para a tarefa*.\n",
    "No entanto, é praticamente não trivial criar uma arquitetura específica para cada tarefa de processamento de linguagem natural.\n",
    "O modelo GPT (Generative Pre-Training) representa um esforço na concepção\n",
    "um modelo *agnóstico de tarefa* geral para representações sensíveis ao contexto :cite:`Radford.Narasimhan.Salimans.ea.2018`.\n",
    "Construído em um decodificador de transformador,\n",
    "O GPT pré-treina um modelo de linguagem que será usado para representar sequências de texto.\n",
    "Ao aplicar GPT a uma tarefa downstream,\n",
    "a saída do modelo de linguagem será alimentada em uma camada de saída linear adicionada\n",
    "para prever o rótulo da tarefa.\n",
    "Em nítido contraste com o ELMo que congela os parâmetros do modelo pré-treinado,\n",
    "GPT ajusta *todos* os parâmetros no decodificador de transformador pré-treinado\n",
    "durante a aprendizagem supervisionada da tarefa a jusante.\n",
    "GPT foi avaliada em doze tarefas de inferência de linguagem natural,\n",
    "resposta a perguntas, similaridade de sentenças e classificação,\n",
    "e melhorou o estado da arte em nove deles com mudanças mínimas\n",
    "para a arquitetura do modelo.\n",
    "\n",
    "No entanto, devido à natureza autoregressiva dos modelos de linguagem,\n",
    "O GPT apenas olha para a frente (da esquerda para a direita).\n",
    "Em contextos \"fui ao banco para depositar dinheiro\" e \"fui ao banco para me sentar\",\n",
    "como \"banco\" é sensível ao contexto à sua esquerda,\n",
    "GPT retornará a mesma representação para \"banco\",\n",
    "embora tenha significados diferentes.\n",
    "\n",
    "## BERT: Combinando o melhor dos dois mundos\n",
    "\n",
    "Como nós vimos,\n",
    "O ELMo codifica o contexto bidirecionalmente, mas usa arquiteturas específicas para tarefas;\n",
    "enquanto o GPT é agnóstico em relação à tarefa, mas codifica o contexto da esquerda para a direita.\n",
    "Combinando o melhor dos dois mundos,\n",
    "BERT (Representações de Codificador Bidirecional de Transformadores)\n",
    "codifica o contexto bidirecionalmente e requer mudanças mínimas de arquitetura\n",
    "para uma ampla gama de tarefas de processamento de linguagem natural :cite:`Devlin.Chang.Lee.ea.2018`.\n",
    "Usando um codificador de transformador pré-treinado,\n",
    "O BERT é capaz de representar qualquer token com base em seu contexto bidirecional.\n",
    "Durante a aprendizagem supervisionada de tarefas posteriores,\n",
    "O BERT é semelhante ao GPT em dois aspectos.\n",
    "Primeiro, as representações de BERT serão alimentadas em uma camada de saída adicionada,\n",
    "com mudanças mínimas na arquitetura do modelo, dependendo da natureza das tarefas,\n",
    "como a previsão para cada token versus a previsão para a sequência inteira.\n",
    "Segundo,\n",
    "todos os parâmetros do codificador de transformador pré-treinado são ajustados,\n",
    "enquanto a camada de saída adicional será treinada do zero.\n",
    ":numref:`fig_elmo-gpt-bert` descreve as diferenças entre ELMo, GPT e BERT.\n",
    "\n",
    "![A comparison of ELMo, GPT, and BERT.](../img/elmo-gpt-bert.svg)\n",
    ":label:`fig_elmo-gpt-bert`\n",
    "\n",
    "O BERT melhorou ainda mais o estado da arte em onze tarefas de processamento de linguagem natural\n",
    "sob categorias amplas de i) classificação de texto único (por exemplo, análise de sentimento), ii) classificação de pares de texto (por exemplo, inferência de linguagem natural),\n",
    "iii) resposta a perguntas, iv) marcação de texto (por exemplo, reconhecimento de entidade nomeada).\n",
    "Tudo proposto em 2018,\n",
    "de ELMo sensível ao contexto a GPT e BERT agnósticos de tarefa,\n",
    "O pré-treinamento conceitualmente simples, mas empiricamente poderoso, de representações profundas para linguagens naturais revolucionou as soluções para várias tarefas de processamento de linguagem natural.\n",
    "\n",
    "No resto deste capítulo,\n",
    "vamos mergulhar no pré-treinamento de BERT.\n",
    "Quando os aplicativos de processamento de linguagem natural são explicados em :numref:`chap_nlp_app`,\n",
    "ilustraremos o ajuste fino de BERT para aplicações downstream.\n"
   ]
  },
  {
   "cell_type": "code",
   "execution_count": 1,
   "metadata": {
    "origin_pos": 2,
    "tab": [
     "pytorch"
    ]
   },
   "outputs": [],
   "source": [
    "import torch\n",
    "from torch import nn\n",
    "from d2l import torch as d2l"
   ]
  },
  {
   "cell_type": "markdown",
   "metadata": {
    "origin_pos": 3
   },
   "source": [
    "## Representação de entrada\n",
    ":label:`subsec_bert_input_rep`\n",
    "\n",
    "No processamento de linguagem natural,\n",
    "algumas tarefas (por exemplo, análise de sentimento) usam um único texto como entrada,\n",
    "enquanto em algumas outras tarefas (por exemplo, inferência de linguagem natural),\n",
    "a entrada é um par de sequências de texto.\n",
    "A sequência de entrada de BERT representa sem ambiguidade texto único e pares de texto.\n",
    "Na antiga,\n",
    "a sequência de entrada de BERT é a concatenação de\n",
    "o token de classificação especial “&lt;sep&gt;”,\n",
    "tokens de uma sequência de texto,\n",
    "e o token de separação especial “&lt;sep&gt;”.\n",
    "No ultimo,\n",
    "a sequência de entrada de BERT é a concatenação de\n",
    "“&lt;sep&gt;”, tokens da primeira sequência de texto,\n",
    "“&lt;sep&gt;”, tokens da segunda sequência de texto e “&lt;sep&gt;”.\n",
    "Iremos distinguir de forma consistente a terminologia \"sequência de entrada de BERT\"\n",
    "de outros tipos de \"sequências\".\n",
    "Por exemplo, uma *sequência de entrada de BERT* pode incluir uma *sequência de texto* ou duas *sequências de texto*.\n",
    "\n",
    "Para distinguir pares de texto,\n",
    "o segmento aprendido embeddings $\\mathbf{e}_A$ e $\\mathbf{e}_B$\n",
    "são adicionados aos embeddings de token da primeira e da segunda sequência, respectivamente.\n",
    "Para entradas de texto único, apenas $\\mathbf{e}_A$ é usado.\n",
    "\n",
    "O seguinte `get_tokens_and_segments` leva uma ou duas frases\n",
    "como entrada, em seguida, retorna tokens da sequência de entrada BERT\n",
    "e seus IDs de segmento correspondentes.\n"
   ]
  },
  {
   "cell_type": "code",
   "execution_count": 2,
   "metadata": {
    "origin_pos": 4,
    "tab": [
     "pytorch"
    ]
   },
   "outputs": [],
   "source": [
    "#@save\n",
    "def get_tokens_and_segments(tokens_a, tokens_b=None):\n",
    "    tokens = ['<cls>'] + tokens_a + ['<sep>']\n",
    "    # 0 and 1 are marking segment A and B, respectively\n",
    "    segments = [0] * (len(tokens_a) + 2)\n",
    "    if tokens_b is not None:\n",
    "        tokens += tokens_b + ['<sep>']\n",
    "        segments += [1] * (len(tokens_b) + 1)\n",
    "    return tokens, segments"
   ]
  },
  {
   "cell_type": "markdown",
   "metadata": {
    "origin_pos": 5
   },
   "source": [
    "O BERT escolhe o codificador do transformador como sua arquitetura bidirecional.\n",
    "Comum no codificador do transformador,\n",
    "embeddings posicionais são adicionados em cada posição da sequência de entrada BERT.\n",
    "No entanto, diferente do codificador do transformador original,\n",
    "O BERT usa embeddings posicionais *aprendíveis*.\n",
    "Para resumir, :numref:`fig_bert-input` mostra que\n",
    "os embeddings da sequência de entrada de BERT são a soma\n",
    "dos embeddings de token, embeddings de segmento e embeddings posicionais.\n",
    "\n",
    "![Os embeddings da sequência de entrada de BERT são a soma\n",
    "dos embeddings de token, embeddings de segmento e embeddings posicionais.](../img/bert-input.svg)\n",
    ":label:`fig_bert-input`\n",
    "\n",
    "A seguinte classe `BERTEncoder` é semelhante à classe `TransformerEncoder`\n",
    "conforme implementado em :numref:`sec_transformer`.\n",
    "Diferente de `TransformerEncoder`, `BERTEncoder` usa\n",
    "embeddings de segmento e embeddings posicionais aprendíveis.\n"
   ]
  },
  {
   "cell_type": "code",
   "execution_count": 3,
   "metadata": {
    "origin_pos": 7,
    "tab": [
     "pytorch"
    ]
   },
   "outputs": [],
   "source": [
    "#@save\n",
    "class BERTEncoder(nn.Module):\n",
    "    def __init__(self, vocab_size, num_hiddens, norm_shape, ffn_num_input,\n",
    "                 ffn_num_hiddens, num_heads, num_layers, dropout,\n",
    "                 max_len=1000, key_size=768, query_size=768, value_size=768,\n",
    "                 **kwargs):\n",
    "        super(BERTEncoder, self).__init__(**kwargs)\n",
    "        self.token_embedding = nn.Embedding(vocab_size, num_hiddens)\n",
    "        self.segment_embedding = nn.Embedding(2, num_hiddens)\n",
    "        self.blks = nn.Sequential()\n",
    "        for i in range(num_layers):\n",
    "            self.blks.add_module(f\"{i}\", d2l.EncoderBlock(\n",
    "                key_size, query_size, value_size, num_hiddens, norm_shape,\n",
    "                ffn_num_input, ffn_num_hiddens, num_heads, dropout, True))\n",
    "        # In BERT, positional embeddings are learnable, thus we create a\n",
    "        # parameter of positional embeddings that are long enough\n",
    "        self.pos_embedding = nn.Parameter(torch.randn(1, max_len,\n",
    "                                                      num_hiddens))\n",
    "\n",
    "    def forward(self, tokens, segments, valid_lens):\n",
    "        # Shape of `X` remains unchanged in the following code snippet:\n",
    "        # (batch size, max sequence length, `num_hiddens`)\n",
    "        X = self.token_embedding(tokens) + self.segment_embedding(segments)\n",
    "        X = X + self.pos_embedding.data[:, :X.shape[1], :]\n",
    "        for blk in self.blks:\n",
    "            X = blk(X, valid_lens)\n",
    "        return X"
   ]
  },
  {
   "cell_type": "markdown",
   "metadata": {
    "origin_pos": 8
   },
   "source": [
    "Suppose that the vocabulary size is 10,000.\n",
    "To demonstrate forward inference of `BERTEncoder`,\n",
    "let us create an instance of it and initialize its parameters.\n",
    "\n",
    "Suponha que o tamanho do vocabulário seja 10.000.\n",
    "Para demonstrar a inferência direta de `BERTEncoder`,\n",
    "vamos criar uma instância dele e inicializar seus parâmetros.\n"
   ]
  },
  {
   "cell_type": "code",
   "execution_count": 4,
   "metadata": {
    "origin_pos": 10,
    "tab": [
     "pytorch"
    ]
   },
   "outputs": [],
   "source": [
    "vocab_size, num_hiddens, ffn_num_hiddens, num_heads = 10000, 768, 1024, 4\n",
    "norm_shape, ffn_num_input, num_layers, dropout = [768], 768, 2, 0.2\n",
    "encoder = BERTEncoder(vocab_size, num_hiddens, norm_shape, ffn_num_input,\n",
    "                      ffn_num_hiddens, num_heads, num_layers, dropout)"
   ]
  },
  {
   "cell_type": "markdown",
   "metadata": {
    "origin_pos": 11
   },
   "source": [
    "Definimos `tokens` como sendo 2 sequências de entrada BERT de comprimento 8,\n",
    "onde cada token é um índice do vocabulário.\n",
    "A inferência direta de `BERTEncoder` com os `tokens` de entrada\n",
    "retorna o resultado codificado onde cada token é representado por um vetor\n",
    "cujo comprimento é predefinido pelo hiperparâmetro `num_hiddens`.\n",
    "Esse hiperparâmetro geralmente é conhecido como *tamanho oculto*\n",
    "(número de unidades ocultas) do codificador do transformador.\n"
   ]
  },
  {
   "cell_type": "code",
   "execution_count": 5,
   "metadata": {
    "origin_pos": 13,
    "tab": [
     "pytorch"
    ]
   },
   "outputs": [
    {
     "data": {
      "text/plain": [
       "torch.Size([2, 8, 768])"
      ]
     },
     "execution_count": 5,
     "metadata": {},
     "output_type": "execute_result"
    }
   ],
   "source": [
    "tokens = torch.randint(0, vocab_size, (2, 8))\n",
    "segments = torch.tensor([[0, 0, 0, 0, 1, 1, 1, 1], [0, 0, 0, 1, 1, 1, 1, 1]])\n",
    "encoded_X = encoder(tokens, segments, None)\n",
    "encoded_X.shape"
   ]
  },
  {
   "cell_type": "markdown",
   "metadata": {
    "origin_pos": 14
   },
   "source": [
    "## Tarefas de pré-treinamento\n",
    ":label:`subsec_bert_pretraining_tasks`\n",
    "\n",
    "A inferência direta de `BERTEncoder` dá a representação de BERT\n",
    "de cada token do texto de entrada e o inserido\n",
    "tokens especiais “&lt;cls&gt;” e “&lt;seq&gt;”.\n",
    "A seguir, usaremos essas representações para calcular a função de perda\n",
    "para pré-treinamento de BERT.\n",
    "O pré-treinamento é composto pelas duas tarefas a seguir:\n",
    "modelagem de linguagem mascarada e previsão da próxima frase.\n",
    "\n",
    "### Modelagem de linguagem mascarada\n",
    ":label:`subsec_mlm`\n",
    "\n",
    "Conforme ilustrado em :numref:`sec_language_model`,\n",
    "um modelo de linguagem prevê um token usando o contexto à sua esquerda.\n",
    "Para codificar o contexto bidirecionalmente para representar cada token,\n",
    "BERT mascara tokens aleatoriamente e usa tokens do contexto bidirecional para\n",
    "prever os tokens mascarados.\n",
    "Esta tarefa é conhecida como *modelo de linguagem mascarada*.\n",
    "\n",
    "Nesta tarefa de pré-treinamento,\n",
    "15% dos tokens serão selecionados aleatoriamente como os tokens mascarados para previsão.\n",
    "Para prever um token mascarado sem trapacear usando o rótulo,\n",
    "uma abordagem direta é sempre substituí-lo por um “&lt;mask&gt;” especial token na sequência de entrada BERT.\n",
    "No entanto, o token especial artificial “&lt;mask&gt;” nunca aparecerá\n",
    "no ajuste fino.\n",
    "Para evitar essa incompatibilidade entre o pré-treinamento e o ajuste fino,\n",
    "se um token for mascarado para previsão (por exemplo, \"ótimo\" foi selecionado para ser mascarado e previsto em \"este filme é ótimo\"),\n",
    "na entrada, ele será substituído por:\n",
    "\n",
    "* uma “&lt;mask&gt;” especial token 80% do tempo (por exemplo, \"este filme é ótimo\" torna-se \"este filme é &lt;mask&gt;\");\n",
    "* um token aleatório 10% do tempo (por exemplo, \"este filme é ótimo\" torna-se \"este filme é uma bebida\");\n",
    "* o token de rótulo inalterado em 10% do tempo (por exemplo, \"este filme é ótimo\" torna-se \"este filme é ótimo\").\n",
    "\n",
    "Observe que por 10% de 15% do tempo, um token aleatório é inserido.\n",
    "Este ruído ocasional encoraja o BERT a ser menos inclinado para o token mascarado (especialmente quando o token de rótulo permanece inalterado) em sua codificação de contexto bidirecional.\n",
    "\n",
    "Implementamos a seguinte classe `MaskLM` para prever tokens mascarados\n",
    "na tarefa de modelo de linguagem mascarada de pré-treinamento de BERT.\n",
    "A previsão usa um MLP de uma camada oculta (`self.mlp`).\n",
    "Na inferência direta, são necessárias duas entradas:\n",
    "o resultado codificado de `BERTEncoder` e as posições do token para predição.\n",
    "A saída são os resultados da previsão nessas posições.\n"
   ]
  },
  {
   "cell_type": "code",
   "execution_count": 6,
   "metadata": {
    "origin_pos": 16,
    "tab": [
     "pytorch"
    ]
   },
   "outputs": [],
   "source": [
    "#@save\n",
    "class MaskLM(nn.Module):\n",
    "    def __init__(self, vocab_size, num_hiddens, num_inputs=768, **kwargs):\n",
    "        super(MaskLM, self).__init__(**kwargs)\n",
    "        self.mlp = nn.Sequential(nn.Linear(num_inputs, num_hiddens),\n",
    "                                 nn.ReLU(),\n",
    "                                 nn.LayerNorm(num_hiddens),\n",
    "                                 nn.Linear(num_hiddens, vocab_size))\n",
    "\n",
    "    def forward(self, X, pred_positions):\n",
    "        num_pred_positions = pred_positions.shape[1]\n",
    "        pred_positions = pred_positions.reshape(-1)\n",
    "        batch_size = X.shape[0]\n",
    "        batch_idx = torch.arange(0, batch_size)\n",
    "        # Suppose that `batch_size` = 2, `num_pred_positions` = 3, then\n",
    "        # `batch_idx` is `torch.tensor([0, 0, 0, 1, 1, 1])`\n",
    "        batch_idx = torch.repeat_interleave(batch_idx, num_pred_positions)\n",
    "        masked_X = X[batch_idx, pred_positions]\n",
    "        masked_X = masked_X.reshape((batch_size, num_pred_positions, -1))\n",
    "        mlm_Y_hat = self.mlp(masked_X)\n",
    "        return mlm_Y_hat"
   ]
  },
  {
   "cell_type": "markdown",
   "metadata": {
    "origin_pos": 17
   },
   "source": [
    "Para demonstrar a inferência direta de `MaskLM`,\n",
    "nós criamos sua instância `mlm` e a inicializamos.\n",
    "Lembre-se de que `encoded_X` da inferência direta de `BERTEncoder`\n",
    "representa 2 sequências de entrada de BERT.\n",
    "Definimos `mlm_positions` como os 3 índices a serem previstos em qualquer sequência de entrada de BERT de` encoded_X`.\n",
    "A inferência direta de `mlm` retorna os resultados de predição `mlm_Y_hat`\n",
    "em todas as posições mascaradas `mlm_positions` de `encoded_X`.\n",
    "Para cada previsão, o tamanho do resultado é igual ao tamanho do vocabulário.\n"
   ]
  },
  {
   "cell_type": "code",
   "execution_count": 7,
   "metadata": {
    "origin_pos": 19,
    "tab": [
     "pytorch"
    ]
   },
   "outputs": [
    {
     "data": {
      "text/plain": [
       "torch.Size([2, 3, 10000])"
      ]
     },
     "execution_count": 7,
     "metadata": {},
     "output_type": "execute_result"
    }
   ],
   "source": [
    "mlm = MaskLM(vocab_size, num_hiddens)\n",
    "mlm_positions = torch.tensor([[1, 5, 2], [6, 1, 5]])\n",
    "mlm_Y_hat = mlm(encoded_X, mlm_positions)\n",
    "mlm_Y_hat.shape"
   ]
  },
  {
   "cell_type": "markdown",
   "metadata": {
    "origin_pos": 20
   },
   "source": [
    "Com os rótulos de verdade do solo `mlm_Y` dos tokens previstos `mlm_Y_hat` sob as máscaras,\n",
    "podemos calcular a perda de entropia cruzada da tarefa do modelo de linguagem mascarada no pré-treinamento de BERT.\n"
   ]
  },
  {
   "cell_type": "code",
   "execution_count": 8,
   "metadata": {
    "origin_pos": 22,
    "tab": [
     "pytorch"
    ]
   },
   "outputs": [
    {
     "data": {
      "text/plain": [
       "torch.Size([6])"
      ]
     },
     "execution_count": 8,
     "metadata": {},
     "output_type": "execute_result"
    }
   ],
   "source": [
    "mlm_Y = torch.tensor([[7, 8, 9], [10, 20, 30]])\n",
    "loss = nn.CrossEntropyLoss(reduction='none')\n",
    "mlm_l = loss(mlm_Y_hat.reshape((-1, vocab_size)), mlm_Y.reshape(-1))\n",
    "mlm_l.shape"
   ]
  },
  {
   "cell_type": "markdown",
   "metadata": {
    "origin_pos": 23
   },
   "source": [
    "### Previsão da próxima frase\n",
    ":label:`subsec_nsp`\n",
    "\n",
    "Embora a modelagem de linguagem mascarada seja capaz de codificar o contexto bidirecional\n",
    "para representar palavras, não modela explicitamente a relação lógica\n",
    "entre pares de texto.\n",
    "Para ajudar a entender a relação entre duas sequências de texto,\n",
    "O BERT considera uma tarefa de classificação binária, *previsão da próxima frase*, em seu pré-treinamento.\n",
    "Ao gerar pares de frases para pré-treinamento,\n",
    "na metade do tempo, são de fato sentenças consecutivas com o rótulo \"Verdadeiro\";\n",
    "enquanto, na outra metade do tempo, a segunda frase é amostrada aleatoriamente do corpus com o rótulo \"Falso\".\n",
    "\n",
    "A seguinte classe `NextSentencePred` usa um MLP de uma camada oculta\n",
    "para prever se a segunda frase é a próxima frase da primeira\n",
    "na seqüência de entrada de BERT.\n",
    "Devido à autoatenção no codificador do transformador,\n",
    "a representação BERT do token especial “&lt;cls&gt;”\n",
    "codifica as duas sentenças da entrada.\n",
    "Portanto, a camada de saída (`self.output`) do classificador MLP leva `X` como entrada,\n",
    "onde `X` é a saída da camada oculta MLP cuja entrada é o código “&lt;cls&gt;” símbolo.\n"
   ]
  },
  {
   "cell_type": "code",
   "execution_count": 9,
   "metadata": {
    "origin_pos": 25,
    "tab": [
     "pytorch"
    ]
   },
   "outputs": [],
   "source": [
    "#@save\n",
    "class NextSentencePred(nn.Module):\n",
    "    def __init__(self, num_inputs, **kwargs):\n",
    "        super(NextSentencePred, self).__init__(**kwargs)\n",
    "        self.output = nn.Linear(num_inputs, 2)\n",
    "\n",
    "    def forward(self, X):\n",
    "        # `X` shape: (batch size, `num_hiddens`)\n",
    "        return self.output(X)"
   ]
  },
  {
   "cell_type": "markdown",
   "metadata": {
    "origin_pos": 26
   },
   "source": [
    "Podemos ver que a inferência direta de uma instância `NextSentencePred`\n",
    "retorna previsões binárias para cada sequência de entrada de BERT.\n"
   ]
  },
  {
   "cell_type": "code",
   "execution_count": 10,
   "metadata": {
    "origin_pos": 28,
    "tab": [
     "pytorch"
    ]
   },
   "outputs": [
    {
     "data": {
      "text/plain": [
       "torch.Size([2, 2])"
      ]
     },
     "execution_count": 10,
     "metadata": {},
     "output_type": "execute_result"
    }
   ],
   "source": [
    "# PyTorch by default won't flatten the tensor as seen in mxnet where, if\n",
    "# flatten=True, all but the first axis of input data are collapsed together\n",
    "encoded_X = torch.flatten(encoded_X, start_dim=1)\n",
    "# input_shape for NSP: (batch size, `num_hiddens`)\n",
    "nsp = NextSentencePred(encoded_X.shape[-1])\n",
    "nsp_Y_hat = nsp(encoded_X)\n",
    "nsp_Y_hat.shape"
   ]
  },
  {
   "cell_type": "markdown",
   "metadata": {
    "origin_pos": 29
   },
   "source": [
    "A perda de entropia cruzada das 2 classificações binárias também pode ser calculada.\n"
   ]
  },
  {
   "cell_type": "code",
   "execution_count": 11,
   "metadata": {
    "origin_pos": 31,
    "tab": [
     "pytorch"
    ]
   },
   "outputs": [
    {
     "data": {
      "text/plain": [
       "torch.Size([2])"
      ]
     },
     "execution_count": 11,
     "metadata": {},
     "output_type": "execute_result"
    }
   ],
   "source": [
    "nsp_y = torch.tensor([0, 1])\n",
    "nsp_l = loss(nsp_Y_hat, nsp_y)\n",
    "nsp_l.shape"
   ]
  },
  {
   "cell_type": "markdown",
   "metadata": {
    "origin_pos": 32
   },
   "source": [
    "É digno de nota que todos os rótulos em ambas as tarefas de pré-treinamento mencionadas\n",
    "pode ser obtido trivialmente a partir do corpus de pré-treinamento sem esforço de rotulagem manual.\n",
    "O BERT original foi pré-treinado na concatenação de BookCorpus :cite:`Zhu.Kiros.Zemel.ea.2015`\n",
    "e Wikipedia em inglês.\n",
    "Esses dois corpora de texto são enormes:\n",
    "eles têm 800 milhões de palavras e 2,5 bilhões de palavras, respectivamente.\n",
    "\n",
    "\n",
    "## Juntando todas as coisas\n",
    "\n",
    "Ao pré-treinamento de BERT, a função de perda final é uma combinação linear de\n",
    "ambas as funções de perda para modelagem de linguagem mascarada e previsão da próxima frase.\n",
    "Agora podemos definir a classe `BERTModel` instanciando as três classes\n",
    "`BERTEncoder`,` MaskLM` e `NextSentencePred`.\n",
    "A inferência direta retorna as representações codificadas de BERT `encoded_X`,\n",
    "previsões de modelagem de linguagem mascarada `mlm_Y_hat`,\n",
    "e as previsões da próxima frase `nsp_Y_hat`.\n"
   ]
  },
  {
   "cell_type": "code",
   "execution_count": 12,
   "metadata": {
    "origin_pos": 34,
    "tab": [
     "pytorch"
    ]
   },
   "outputs": [],
   "source": [
    "#@save\n",
    "class BERTModel(nn.Module):\n",
    "    def __init__(self, vocab_size, num_hiddens, norm_shape, ffn_num_input,\n",
    "                 ffn_num_hiddens, num_heads, num_layers, dropout,\n",
    "                 max_len=1000, key_size=768, query_size=768, value_size=768,\n",
    "                 hid_in_features=768, mlm_in_features=768,\n",
    "                 nsp_in_features=768):\n",
    "        super(BERTModel, self).__init__()\n",
    "        self.encoder = BERTEncoder(vocab_size, num_hiddens, norm_shape,\n",
    "                    ffn_num_input, ffn_num_hiddens, num_heads, num_layers,\n",
    "                    dropout, max_len=max_len, key_size=key_size,\n",
    "                    query_size=query_size, value_size=value_size)\n",
    "        self.hidden = nn.Sequential(nn.Linear(hid_in_features, num_hiddens),\n",
    "                                    nn.Tanh())\n",
    "        self.mlm = MaskLM(vocab_size, num_hiddens, mlm_in_features)\n",
    "        self.nsp = NextSentencePred(nsp_in_features)\n",
    "\n",
    "    def forward(self, tokens, segments, valid_lens=None, pred_positions=None):\n",
    "        encoded_X = self.encoder(tokens, segments, valid_lens)\n",
    "        if pred_positions is not None:\n",
    "            mlm_Y_hat = self.mlm(encoded_X, pred_positions)\n",
    "        else:\n",
    "            mlm_Y_hat = None\n",
    "        # The hidden layer of the MLP classifier for next sentence prediction.\n",
    "        # 0 is the index of the '<cls>' token\n",
    "        nsp_Y_hat = self.nsp(self.hidden(encoded_X[:, 0, :]))\n",
    "        return encoded_X, mlm_Y_hat, nsp_Y_hat"
   ]
  },
  {
   "cell_type": "markdown",
   "metadata": {
    "origin_pos": 35
   },
   "source": [
    "## Sumário\n",
    "\n",
    "* Os modelos de incorporação de palavras, como word2vec e GloVe, são independentes do contexto. Eles atribuem o mesmo vetor pré-treinado à mesma palavra, independentemente do contexto da palavra (se houver). É difícil para eles lidar bem com a polissemia ou semântica complexa em linguagens naturais.\n",
    "* Para representações de palavras sensíveis ao contexto, como ELMo e GPT, as representações de palavras dependem de seus contextos.\n",
    "* ELMo codifica o contexto bidirecionalmente, mas usa arquiteturas de tarefas específicas (no entanto, é praticamente não trivial criar uma arquitetura específica para cada tarefa de processamento de linguagem natural); enquanto o GPT é agnóstico em relação à tarefa, mas codifica o contexto da esquerda para a direita.\n",
    "* O BERT combina o melhor dos dois mundos: ele codifica o contexto bidirecionalmente e requer mudanças mínimas de arquitetura para uma ampla gama de tarefas de processamento de linguagem natural.\n",
    "* Os embeddings da sequência de entrada BERT são a soma dos embeddings de token, embeddings de segmento e embeddings posicionais.\n",
    "* O pré-treinamento do BERT é composto de duas tarefas: modelagem de linguagem mascarada e previsão da próxima frase. O primeiro é capaz de codificar contexto bidirecional para representar palavras, enquanto o último modela explicitamente a relação lógica entre pares de texto.\n",
    "\n",
    "## Exercícios\n",
    "\n",
    "1. Por que o BERT é bem-sucedido?\n",
    "1. Todas as outras coisas sendo iguais, um modelo de linguagem mascarada exigirá mais ou menos etapas de pré-treinamento para convergir do que um modelo de linguagem da esquerda para a direita? Por quê?\n",
    "1. Na implementação original do BERT, a rede feed-forward posicional em `BERTEncoder` (via `d2l.EncoderBlock`) e a camada totalmente conectada em `MaskLM` usam a unidade linear de erro Gaussiano (GELU) :cite:`Hendrycks.Gimpel.2016` como a função de ativação. Pesquisa sobre a diferença entre GELU e ReLU.\n"
   ]
  },
  {
   "cell_type": "markdown",
   "metadata": {
    "origin_pos": 37,
    "tab": [
     "pytorch"
    ]
   },
   "source": [
    "[Discussão](https://discuss.d2l.ai/t/1490)\n"
   ]
  },
  {
   "cell_type": "markdown",
   "metadata": {
    "origin_pos": 38
   },
   "source": [
    "<!--stackedit_data:\n",
    "eyJoaXN0b3J5IjpbLTgyMjU0OTg3MiwxOTI3NzQ2NTE1LDEwMD\n",
    "AxMzA5MjldfQ==\n",
    "-->\n"
   ]
  }
 ],
 "metadata": {
  "kernelspec": {
   "display_name": "conda_pytorch_p36",
   "name": "conda_pytorch_p36"
  },
  "language_info": {
   "name": "python"
  }
 },
 "nbformat": 4,
 "nbformat_minor": 4
}