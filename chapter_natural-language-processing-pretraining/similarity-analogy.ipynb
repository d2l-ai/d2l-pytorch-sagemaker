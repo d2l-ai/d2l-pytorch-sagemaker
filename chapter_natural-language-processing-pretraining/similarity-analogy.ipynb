{
 "cells": [
  {
   "cell_type": "markdown",
   "id": "7c34a5eb",
   "metadata": {},
   "source": [
    "Installing (updating) the following libraries for your Sagemaker\n",
    "instance."
   ]
  },
  {
   "cell_type": "code",
   "execution_count": null,
   "id": "d58e3677",
   "metadata": {},
   "outputs": [],
   "source": [
    "!pip install .. # installing d2l\n"
   ]
  },
  {
   "cell_type": "markdown",
   "id": "7e966b1d",
   "metadata": {
    "origin_pos": 0
   },
   "source": [
    "# Word Similarity and Analogy\n",
    ":label:`sec_synonyms`\n",
    "\n",
    "In :numref:`sec_word2vec_pretraining`, \n",
    "we trained a word2vec model on a small dataset, \n",
    "and applied it\n",
    "to find semantically similar words \n",
    "for an input word.\n",
    "In practice,\n",
    "word vectors that are pretrained\n",
    "on large corpora can be\n",
    "applied to downstream\n",
    "natural language processing tasks,\n",
    "which will be covered later\n",
    "in :numref:`chap_nlp_app`.\n",
    "To demonstrate \n",
    "semantics of pretrained word vectors\n",
    "from large corpora in a straightforward way,\n",
    "let's apply them\n",
    "in the word similarity and analogy tasks.\n"
   ]
  },
  {
   "cell_type": "code",
   "execution_count": 1,
   "id": "457cb3ed",
   "metadata": {
    "execution": {
     "iopub.execute_input": "2022-12-14T05:04:26.654579Z",
     "iopub.status.busy": "2022-12-14T05:04:26.653980Z",
     "iopub.status.idle": "2022-12-14T05:04:28.937869Z",
     "shell.execute_reply": "2022-12-14T05:04:28.936600Z"
    },
    "origin_pos": 2,
    "tab": [
     "pytorch"
    ]
   },
   "outputs": [],
   "source": [
    "import os\n",
    "import torch\n",
    "from torch import nn\n",
    "from d2l import torch as d2l"
   ]
  },
  {
   "cell_type": "markdown",
   "id": "abafcaed",
   "metadata": {
    "origin_pos": 3
   },
   "source": [
    "## Loading Pretrained Word Vectors\n",
    "\n",
    "Below lists pretrained GloVe embeddings of dimension 50, 100, and 300,\n",
    "which can be downloaded from the [GloVe website](https://nlp.stanford.edu/projects/glove/).\n",
    "The pretrained fastText embeddings are available in multiple languages.\n",
    "Here we consider one English version (300-dimensional \"wiki.en\") that can be downloaded from the\n",
    "[fastText website](https://fasttext.cc/).\n"
   ]
  },
  {
   "cell_type": "code",
   "execution_count": 2,
   "id": "5936c836",
   "metadata": {
    "execution": {
     "iopub.execute_input": "2022-12-14T05:04:28.942971Z",
     "iopub.status.busy": "2022-12-14T05:04:28.942003Z",
     "iopub.status.idle": "2022-12-14T05:04:28.950249Z",
     "shell.execute_reply": "2022-12-14T05:04:28.949181Z"
    },
    "origin_pos": 4,
    "tab": [
     "pytorch"
    ]
   },
   "outputs": [],
   "source": [
    "#@save\n",
    "d2l.DATA_HUB['glove.6b.50d'] = (d2l.DATA_URL + 'glove.6B.50d.zip',\n",
    "                                '0b8703943ccdb6eb788e6f091b8946e82231bc4d')\n",
    "\n",
    "#@save\n",
    "d2l.DATA_HUB['glove.6b.100d'] = (d2l.DATA_URL + 'glove.6B.100d.zip',\n",
    "                                 'cd43bfb07e44e6f27cbcc7bc9ae3d80284fdaf5a')\n",
    "\n",
    "#@save\n",
    "d2l.DATA_HUB['glove.42b.300d'] = (d2l.DATA_URL + 'glove.42B.300d.zip',\n",
    "                                  'b5116e234e9eb9076672cfeabf5469f3eec904fa')\n",
    "\n",
    "#@save\n",
    "d2l.DATA_HUB['wiki.en'] = (d2l.DATA_URL + 'wiki.en.zip',\n",
    "                           'c1816da3821ae9f43899be655002f6c723e91b88')"
   ]
  },
  {
   "cell_type": "markdown",
   "id": "4da0ba3b",
   "metadata": {
    "origin_pos": 5
   },
   "source": [
    "To load these pretrained GloVe and fastText embeddings, we define the following `TokenEmbedding` class.\n"
   ]
  },
  {
   "cell_type": "code",
   "execution_count": 3,
   "id": "f4a5d555",
   "metadata": {
    "execution": {
     "iopub.execute_input": "2022-12-14T05:04:28.954350Z",
     "iopub.status.busy": "2022-12-14T05:04:28.953646Z",
     "iopub.status.idle": "2022-12-14T05:04:28.969451Z",
     "shell.execute_reply": "2022-12-14T05:04:28.968368Z"
    },
    "origin_pos": 6,
    "tab": [
     "pytorch"
    ]
   },
   "outputs": [],
   "source": [
    "#@save\n",
    "class TokenEmbedding:\n",
    "    \"\"\"Token Embedding.\"\"\"\n",
    "    def __init__(self, embedding_name):\n",
    "        self.idx_to_token, self.idx_to_vec = self._load_embedding(\n",
    "            embedding_name)\n",
    "        self.unknown_idx = 0\n",
    "        self.token_to_idx = {token: idx for idx, token in\n",
    "                             enumerate(self.idx_to_token)}\n",
    "\n",
    "    def _load_embedding(self, embedding_name):\n",
    "        idx_to_token, idx_to_vec = ['<unk>'], []\n",
    "        data_dir = d2l.download_extract(embedding_name)\n",
    "        # GloVe website: https://nlp.stanford.edu/projects/glove/\n",
    "        # fastText website: https://fasttext.cc/\n",
    "        with open(os.path.join(data_dir, 'vec.txt'), 'r') as f:\n",
    "            for line in f:\n",
    "                elems = line.rstrip().split(' ')\n",
    "                token, elems = elems[0], [float(elem) for elem in elems[1:]]\n",
    "                # Skip header information, such as the top row in fastText\n",
    "                if len(elems) > 1:\n",
    "                    idx_to_token.append(token)\n",
    "                    idx_to_vec.append(elems)\n",
    "        idx_to_vec = [[0] * len(idx_to_vec[0])] + idx_to_vec\n",
    "        return idx_to_token, torch.tensor(idx_to_vec)\n",
    "\n",
    "    def __getitem__(self, tokens):\n",
    "        indices = [self.token_to_idx.get(token, self.unknown_idx)\n",
    "                   for token in tokens]\n",
    "        vecs = self.idx_to_vec[torch.tensor(indices)]\n",
    "        return vecs\n",
    "\n",
    "    def __len__(self):\n",
    "        return len(self.idx_to_token)"
   ]
  },
  {
   "cell_type": "markdown",
   "id": "d71ea2a7",
   "metadata": {
    "origin_pos": 7
   },
   "source": [
    "Below we load the\n",
    "50-dimensional GloVe embeddings\n",
    "(pretrained on a Wikipedia subset).\n",
    "When creating the `TokenEmbedding` instance,\n",
    "the specified embedding file has to be downloaded if it\n",
    "was not yet.\n"
   ]
  },
  {
   "cell_type": "code",
   "execution_count": 4,
   "id": "1ae31f53",
   "metadata": {
    "execution": {
     "iopub.execute_input": "2022-12-14T05:04:28.973743Z",
     "iopub.status.busy": "2022-12-14T05:04:28.972996Z",
     "iopub.status.idle": "2022-12-14T05:04:39.342229Z",
     "shell.execute_reply": "2022-12-14T05:04:39.341369Z"
    },
    "origin_pos": 8,
    "tab": [
     "pytorch"
    ]
   },
   "outputs": [
    {
     "name": "stdout",
     "output_type": "stream",
     "text": [
      "Downloading ../data/glove.6B.50d.zip from http://d2l-data.s3-accelerate.amazonaws.com/glove.6B.50d.zip...\n"
     ]
    }
   ],
   "source": [
    "glove_6b50d = TokenEmbedding('glove.6b.50d')"
   ]
  },
  {
   "cell_type": "markdown",
   "id": "25b47e55",
   "metadata": {
    "origin_pos": 9
   },
   "source": [
    "Output the vocabulary size. The vocabulary contains 400000 words (tokens) and a special unknown token.\n"
   ]
  },
  {
   "cell_type": "code",
   "execution_count": 5,
   "id": "3b48c121",
   "metadata": {
    "execution": {
     "iopub.execute_input": "2022-12-14T05:04:39.346094Z",
     "iopub.status.busy": "2022-12-14T05:04:39.345525Z",
     "iopub.status.idle": "2022-12-14T05:04:39.351405Z",
     "shell.execute_reply": "2022-12-14T05:04:39.350648Z"
    },
    "origin_pos": 10,
    "tab": [
     "pytorch"
    ]
   },
   "outputs": [
    {
     "data": {
      "text/plain": [
       "400001"
      ]
     },
     "execution_count": 5,
     "metadata": {},
     "output_type": "execute_result"
    }
   ],
   "source": [
    "len(glove_6b50d)"
   ]
  },
  {
   "cell_type": "markdown",
   "id": "36290635",
   "metadata": {
    "origin_pos": 11
   },
   "source": [
    "We can get the index of a word in the vocabulary, and vice versa.\n"
   ]
  },
  {
   "cell_type": "code",
   "execution_count": 6,
   "id": "fd5e4c61",
   "metadata": {
    "execution": {
     "iopub.execute_input": "2022-12-14T05:04:39.354729Z",
     "iopub.status.busy": "2022-12-14T05:04:39.354085Z",
     "iopub.status.idle": "2022-12-14T05:04:39.359213Z",
     "shell.execute_reply": "2022-12-14T05:04:39.358451Z"
    },
    "origin_pos": 12,
    "tab": [
     "pytorch"
    ]
   },
   "outputs": [
    {
     "data": {
      "text/plain": [
       "(3367, 'beautiful')"
      ]
     },
     "execution_count": 6,
     "metadata": {},
     "output_type": "execute_result"
    }
   ],
   "source": [
    "glove_6b50d.token_to_idx['beautiful'], glove_6b50d.idx_to_token[3367]"
   ]
  },
  {
   "cell_type": "markdown",
   "id": "6b7255a8",
   "metadata": {
    "origin_pos": 13
   },
   "source": [
    "## Applying Pretrained Word Vectors\n",
    "\n",
    "Using the loaded GloVe vectors,\n",
    "we will demonstrate their semantics\n",
    "by applying them\n",
    "in the following word similarity and analogy tasks.\n",
    "\n",
    "\n",
    "### Word Similarity\n",
    "\n",
    "Similar to :numref:`subsec_apply-word-embed`,\n",
    "in order to find semantically similar words\n",
    "for an input word\n",
    "based on cosine similarities between\n",
    "word vectors,\n",
    "we implement the following `knn`\n",
    "($k$-nearest neighbors) function.\n"
   ]
  },
  {
   "cell_type": "code",
   "execution_count": 7,
   "id": "bef3c3ab",
   "metadata": {
    "execution": {
     "iopub.execute_input": "2022-12-14T05:04:39.362468Z",
     "iopub.status.busy": "2022-12-14T05:04:39.361851Z",
     "iopub.status.idle": "2022-12-14T05:04:39.366840Z",
     "shell.execute_reply": "2022-12-14T05:04:39.366057Z"
    },
    "origin_pos": 15,
    "tab": [
     "pytorch"
    ]
   },
   "outputs": [],
   "source": [
    "def knn(W, x, k):\n",
    "    # Add 1e-9 for numerical stability\n",
    "    cos = torch.mv(W, x.reshape(-1,)) / (\n",
    "        torch.sqrt(torch.sum(W * W, axis=1) + 1e-9) *\n",
    "        torch.sqrt((x * x).sum()))\n",
    "    _, topk = torch.topk(cos, k=k)\n",
    "    return topk, [cos[int(i)] for i in topk]"
   ]
  },
  {
   "cell_type": "markdown",
   "id": "f12f0fea",
   "metadata": {
    "origin_pos": 16
   },
   "source": [
    "Then, we \n",
    "search for similar words\n",
    "using the pretrained word vectors \n",
    "from the `TokenEmbedding` instance `embed`.\n"
   ]
  },
  {
   "cell_type": "code",
   "execution_count": 8,
   "id": "a23b687a",
   "metadata": {
    "execution": {
     "iopub.execute_input": "2022-12-14T05:04:39.370020Z",
     "iopub.status.busy": "2022-12-14T05:04:39.369411Z",
     "iopub.status.idle": "2022-12-14T05:04:39.373891Z",
     "shell.execute_reply": "2022-12-14T05:04:39.373157Z"
    },
    "origin_pos": 17,
    "tab": [
     "pytorch"
    ]
   },
   "outputs": [],
   "source": [
    "def get_similar_tokens(query_token, k, embed):\n",
    "    topk, cos = knn(embed.idx_to_vec, embed[[query_token]], k + 1)\n",
    "    for i, c in zip(topk[1:], cos[1:]):  # Exclude the input word\n",
    "        print(f'cosine sim={float(c):.3f}: {embed.idx_to_token[int(i)]}')"
   ]
  },
  {
   "cell_type": "markdown",
   "id": "32851042",
   "metadata": {
    "origin_pos": 18
   },
   "source": [
    "The vocabulary of the pretrained word vectors\n",
    "in `glove_6b50d` contains 400000 words and a special unknown token. \n",
    "Excluding the input word and unknown token,\n",
    "among this vocabulary\n",
    "let's find \n",
    "three most semantically similar words\n",
    "to word \"chip\".\n"
   ]
  },
  {
   "cell_type": "code",
   "execution_count": 9,
   "id": "9c0a966f",
   "metadata": {
    "execution": {
     "iopub.execute_input": "2022-12-14T05:04:39.377128Z",
     "iopub.status.busy": "2022-12-14T05:04:39.376519Z",
     "iopub.status.idle": "2022-12-14T05:04:39.427134Z",
     "shell.execute_reply": "2022-12-14T05:04:39.426272Z"
    },
    "origin_pos": 19,
    "tab": [
     "pytorch"
    ]
   },
   "outputs": [
    {
     "name": "stdout",
     "output_type": "stream",
     "text": [
      "cosine sim=0.856: chips\n",
      "cosine sim=0.749: intel\n",
      "cosine sim=0.749: electronics\n"
     ]
    }
   ],
   "source": [
    "get_similar_tokens('chip', 3, glove_6b50d)"
   ]
  },
  {
   "cell_type": "markdown",
   "id": "af1b4140",
   "metadata": {
    "origin_pos": 20
   },
   "source": [
    "Below outputs similar words\n",
    "to \"baby\" and \"beautiful\".\n"
   ]
  },
  {
   "cell_type": "code",
   "execution_count": 10,
   "id": "40544e6d",
   "metadata": {
    "execution": {
     "iopub.execute_input": "2022-12-14T05:04:39.431688Z",
     "iopub.status.busy": "2022-12-14T05:04:39.431151Z",
     "iopub.status.idle": "2022-12-14T05:04:39.455634Z",
     "shell.execute_reply": "2022-12-14T05:04:39.454762Z"
    },
    "origin_pos": 21,
    "tab": [
     "pytorch"
    ]
   },
   "outputs": [
    {
     "name": "stdout",
     "output_type": "stream",
     "text": [
      "cosine sim=0.839: babies\n",
      "cosine sim=0.800: boy\n",
      "cosine sim=0.792: girl\n"
     ]
    }
   ],
   "source": [
    "get_similar_tokens('baby', 3, glove_6b50d)"
   ]
  },
  {
   "cell_type": "code",
   "execution_count": 11,
   "id": "ed79e56c",
   "metadata": {
    "execution": {
     "iopub.execute_input": "2022-12-14T05:04:39.459379Z",
     "iopub.status.busy": "2022-12-14T05:04:39.458688Z",
     "iopub.status.idle": "2022-12-14T05:04:39.483043Z",
     "shell.execute_reply": "2022-12-14T05:04:39.482138Z"
    },
    "origin_pos": 22,
    "tab": [
     "pytorch"
    ]
   },
   "outputs": [
    {
     "name": "stdout",
     "output_type": "stream",
     "text": [
      "cosine sim=0.921: lovely\n",
      "cosine sim=0.893: gorgeous\n",
      "cosine sim=0.830: wonderful\n"
     ]
    }
   ],
   "source": [
    "get_similar_tokens('beautiful', 3, glove_6b50d)"
   ]
  },
  {
   "cell_type": "markdown",
   "id": "c0638f4c",
   "metadata": {
    "origin_pos": 23
   },
   "source": [
    "### Word Analogy\n",
    "\n",
    "Besides finding similar words,\n",
    "we can also apply word vectors\n",
    "to word analogy tasks.\n",
    "For example,\n",
    "“man”:“woman”::“son”:“daughter”\n",
    "is the form of a word analogy:\n",
    "“man” is to “woman” as “son” is to “daughter”.\n",
    "Specifically,\n",
    "the word analogy completion task\n",
    "can be defined as:\n",
    "for a word analogy \n",
    "$a : b :: c : d$, given the first three words $a$, $b$ and $c$, find $d$. \n",
    "Denote the vector of word $w$ by $\\text{vec}(w)$. \n",
    "To complete the analogy,\n",
    "we will find the word \n",
    "whose vector is most similar\n",
    "to the result of $\\text{vec}(c)+\\text{vec}(b)-\\text{vec}(a)$.\n"
   ]
  },
  {
   "cell_type": "code",
   "execution_count": 12,
   "id": "1c63b5cc",
   "metadata": {
    "execution": {
     "iopub.execute_input": "2022-12-14T05:04:39.486561Z",
     "iopub.status.busy": "2022-12-14T05:04:39.486003Z",
     "iopub.status.idle": "2022-12-14T05:04:39.490865Z",
     "shell.execute_reply": "2022-12-14T05:04:39.490070Z"
    },
    "origin_pos": 24,
    "tab": [
     "pytorch"
    ]
   },
   "outputs": [],
   "source": [
    "def get_analogy(token_a, token_b, token_c, embed):\n",
    "    vecs = embed[[token_a, token_b, token_c]]\n",
    "    x = vecs[1] - vecs[0] + vecs[2]\n",
    "    topk, cos = knn(embed.idx_to_vec, x, 1)\n",
    "    return embed.idx_to_token[int(topk[0])]  # Remove unknown words"
   ]
  },
  {
   "cell_type": "markdown",
   "id": "0de3c60c",
   "metadata": {
    "origin_pos": 25
   },
   "source": [
    "Let's verify the \"male-female\" analogy using the loaded word vectors.\n"
   ]
  },
  {
   "cell_type": "code",
   "execution_count": 13,
   "id": "53e95aa6",
   "metadata": {
    "execution": {
     "iopub.execute_input": "2022-12-14T05:04:39.494088Z",
     "iopub.status.busy": "2022-12-14T05:04:39.493547Z",
     "iopub.status.idle": "2022-12-14T05:04:39.515884Z",
     "shell.execute_reply": "2022-12-14T05:04:39.515092Z"
    },
    "origin_pos": 26,
    "tab": [
     "pytorch"
    ]
   },
   "outputs": [
    {
     "data": {
      "text/plain": [
       "'daughter'"
      ]
     },
     "execution_count": 13,
     "metadata": {},
     "output_type": "execute_result"
    }
   ],
   "source": [
    "get_analogy('man', 'woman', 'son', glove_6b50d)"
   ]
  },
  {
   "cell_type": "markdown",
   "id": "6349d5ff",
   "metadata": {
    "origin_pos": 27
   },
   "source": [
    "Below completes a\n",
    "“capital-country” analogy: \n",
    "“beijing”:“china”::“tokyo”:“japan”.\n",
    "This demonstrates \n",
    "semantics in the pretrained word vectors.\n"
   ]
  },
  {
   "cell_type": "code",
   "execution_count": 14,
   "id": "3520540a",
   "metadata": {
    "execution": {
     "iopub.execute_input": "2022-12-14T05:04:39.519490Z",
     "iopub.status.busy": "2022-12-14T05:04:39.518934Z",
     "iopub.status.idle": "2022-12-14T05:04:39.542978Z",
     "shell.execute_reply": "2022-12-14T05:04:39.542139Z"
    },
    "origin_pos": 28,
    "tab": [
     "pytorch"
    ]
   },
   "outputs": [
    {
     "data": {
      "text/plain": [
       "'japan'"
      ]
     },
     "execution_count": 14,
     "metadata": {},
     "output_type": "execute_result"
    }
   ],
   "source": [
    "get_analogy('beijing', 'china', 'tokyo', glove_6b50d)"
   ]
  },
  {
   "cell_type": "markdown",
   "id": "de6cc2ee",
   "metadata": {
    "origin_pos": 29
   },
   "source": [
    "For the\n",
    "“adjective-superlative adjective” analogy\n",
    "such as \n",
    "“bad”:“worst”::“big”:“biggest”,\n",
    "we can see that the pretrained word vectors\n",
    "may capture the syntactic information.\n"
   ]
  },
  {
   "cell_type": "code",
   "execution_count": 15,
   "id": "34810310",
   "metadata": {
    "execution": {
     "iopub.execute_input": "2022-12-14T05:04:39.546684Z",
     "iopub.status.busy": "2022-12-14T05:04:39.546113Z",
     "iopub.status.idle": "2022-12-14T05:04:39.568459Z",
     "shell.execute_reply": "2022-12-14T05:04:39.567658Z"
    },
    "origin_pos": 30,
    "tab": [
     "pytorch"
    ]
   },
   "outputs": [
    {
     "data": {
      "text/plain": [
       "'biggest'"
      ]
     },
     "execution_count": 15,
     "metadata": {},
     "output_type": "execute_result"
    }
   ],
   "source": [
    "get_analogy('bad', 'worst', 'big', glove_6b50d)"
   ]
  },
  {
   "cell_type": "markdown",
   "id": "507752ed",
   "metadata": {
    "origin_pos": 31
   },
   "source": [
    "To show the captured notion\n",
    "of past tense in the pretrained word vectors,\n",
    "we can test the syntax using the\n",
    "\"present tense-past tense\" analogy: “do”:“did”::“go”:“went”.\n"
   ]
  },
  {
   "cell_type": "code",
   "execution_count": 16,
   "id": "01a59b53",
   "metadata": {
    "execution": {
     "iopub.execute_input": "2022-12-14T05:04:39.572126Z",
     "iopub.status.busy": "2022-12-14T05:04:39.571579Z",
     "iopub.status.idle": "2022-12-14T05:04:39.593917Z",
     "shell.execute_reply": "2022-12-14T05:04:39.593082Z"
    },
    "origin_pos": 32,
    "tab": [
     "pytorch"
    ]
   },
   "outputs": [
    {
     "data": {
      "text/plain": [
       "'went'"
      ]
     },
     "execution_count": 16,
     "metadata": {},
     "output_type": "execute_result"
    }
   ],
   "source": [
    "get_analogy('do', 'did', 'go', glove_6b50d)"
   ]
  },
  {
   "cell_type": "markdown",
   "id": "c006805a",
   "metadata": {
    "origin_pos": 33
   },
   "source": [
    "## Summary\n",
    "\n",
    "* In practice, word vectors that are pretrained on large corpora can be applied to downstream natural language processing tasks.\n",
    "* Pretrained word vectors can be applied to the word similarity and analogy tasks.\n",
    "\n",
    "\n",
    "## Exercises\n",
    "\n",
    "1. Test the fastText results using `TokenEmbedding('wiki.en')`.\n",
    "1. When the vocabulary is extremely large, how can we find similar words or complete a word analogy faster?\n"
   ]
  },
  {
   "cell_type": "markdown",
   "id": "ecdf65b3",
   "metadata": {
    "origin_pos": 35,
    "tab": [
     "pytorch"
    ]
   },
   "source": [
    "[Discussions](https://discuss.d2l.ai/t/1336)\n"
   ]
  }
 ],
 "metadata": {
  "kernelspec": {
   "display_name": "conda_pytorch_p36",
   "name": "conda_pytorch_p36"
  },
  "language_info": {
   "name": "python"
  }
 },
 "nbformat": 4,
 "nbformat_minor": 5
}