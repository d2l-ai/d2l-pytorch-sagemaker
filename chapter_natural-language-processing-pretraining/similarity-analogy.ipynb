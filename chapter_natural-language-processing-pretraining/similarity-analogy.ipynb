{
 "cells": [
  {
   "cell_type": "markdown",
   "id": "e815999e",
   "metadata": {},
   "source": [
    "Installing (updating) the following libraries for your Sagemaker\n",
    "instance."
   ]
  },
  {
   "cell_type": "code",
   "execution_count": null,
   "id": "b6be788f",
   "metadata": {},
   "outputs": [],
   "source": [
    "!pip install .. # installing d2l\n"
   ]
  },
  {
   "cell_type": "markdown",
   "id": "11c1ddbd",
   "metadata": {
    "origin_pos": 0
   },
   "source": [
    "# Word Similarity and Analogy\n",
    ":label:`sec_synonyms`\n",
    "\n",
    "In :numref:`sec_word2vec_pretraining`, \n",
    "we trained a word2vec model on a small dataset, \n",
    "and applied it\n",
    "to find semantically similar words \n",
    "for an input word.\n",
    "In practice,\n",
    "word vectors that are pretrained\n",
    "on large corpora can be\n",
    "applied to downstream\n",
    "natural language processing tasks,\n",
    "which will be covered later\n",
    "in :numref:`chap_nlp_app`.\n",
    "To demonstrate \n",
    "semantics of pretrained word vectors\n",
    "from large corpora in a straightforward way,\n",
    "let's apply them\n",
    "in the word similarity and analogy tasks.\n"
   ]
  },
  {
   "cell_type": "code",
   "execution_count": 1,
   "id": "08a7dc38",
   "metadata": {
    "execution": {
     "iopub.execute_input": "2023-08-14T16:33:10.896609Z",
     "iopub.status.busy": "2023-08-14T16:33:10.895987Z",
     "iopub.status.idle": "2023-08-14T16:33:13.713845Z",
     "shell.execute_reply": "2023-08-14T16:33:13.712596Z"
    },
    "origin_pos": 2,
    "tab": [
     "pytorch"
    ]
   },
   "outputs": [],
   "source": [
    "import os\n",
    "import torch\n",
    "from torch import nn\n",
    "from d2l import torch as d2l"
   ]
  },
  {
   "cell_type": "markdown",
   "id": "3bb378fa",
   "metadata": {
    "origin_pos": 3
   },
   "source": [
    "## Loading Pretrained Word Vectors\n",
    "\n",
    "Below lists pretrained GloVe embeddings of dimension 50, 100, and 300,\n",
    "which can be downloaded from the [GloVe website](https://nlp.stanford.edu/projects/glove/).\n",
    "The pretrained fastText embeddings are available in multiple languages.\n",
    "Here we consider one English version (300-dimensional \"wiki.en\") that can be downloaded from the\n",
    "[fastText website](https://fasttext.cc/).\n"
   ]
  },
  {
   "cell_type": "code",
   "execution_count": 2,
   "id": "6a24ab8e",
   "metadata": {
    "execution": {
     "iopub.execute_input": "2023-08-14T16:33:13.719947Z",
     "iopub.status.busy": "2023-08-14T16:33:13.719146Z",
     "iopub.status.idle": "2023-08-14T16:33:13.725922Z",
     "shell.execute_reply": "2023-08-14T16:33:13.724538Z"
    },
    "origin_pos": 4,
    "tab": [
     "pytorch"
    ]
   },
   "outputs": [],
   "source": [
    "#@save\n",
    "d2l.DATA_HUB['glove.6b.50d'] = (d2l.DATA_URL + 'glove.6B.50d.zip',\n",
    "                                '0b8703943ccdb6eb788e6f091b8946e82231bc4d')\n",
    "\n",
    "#@save\n",
    "d2l.DATA_HUB['glove.6b.100d'] = (d2l.DATA_URL + 'glove.6B.100d.zip',\n",
    "                                 'cd43bfb07e44e6f27cbcc7bc9ae3d80284fdaf5a')\n",
    "\n",
    "#@save\n",
    "d2l.DATA_HUB['glove.42b.300d'] = (d2l.DATA_URL + 'glove.42B.300d.zip',\n",
    "                                  'b5116e234e9eb9076672cfeabf5469f3eec904fa')\n",
    "\n",
    "#@save\n",
    "d2l.DATA_HUB['wiki.en'] = (d2l.DATA_URL + 'wiki.en.zip',\n",
    "                           'c1816da3821ae9f43899be655002f6c723e91b88')"
   ]
  },
  {
   "cell_type": "markdown",
   "id": "009fc9fa",
   "metadata": {
    "origin_pos": 5
   },
   "source": [
    "To load these pretrained GloVe and fastText embeddings, we define the following `TokenEmbedding` class.\n"
   ]
  },
  {
   "cell_type": "code",
   "execution_count": 3,
   "id": "d80f10db",
   "metadata": {
    "execution": {
     "iopub.execute_input": "2023-08-14T16:33:13.731856Z",
     "iopub.status.busy": "2023-08-14T16:33:13.731042Z",
     "iopub.status.idle": "2023-08-14T16:33:13.744507Z",
     "shell.execute_reply": "2023-08-14T16:33:13.743439Z"
    },
    "origin_pos": 6,
    "tab": [
     "pytorch"
    ]
   },
   "outputs": [],
   "source": [
    "#@save\n",
    "class TokenEmbedding:\n",
    "    \"\"\"Token Embedding.\"\"\"\n",
    "    def __init__(self, embedding_name):\n",
    "        self.idx_to_token, self.idx_to_vec = self._load_embedding(\n",
    "            embedding_name)\n",
    "        self.unknown_idx = 0\n",
    "        self.token_to_idx = {token: idx for idx, token in\n",
    "                             enumerate(self.idx_to_token)}\n",
    "\n",
    "    def _load_embedding(self, embedding_name):\n",
    "        idx_to_token, idx_to_vec = ['<unk>'], []\n",
    "        data_dir = d2l.download_extract(embedding_name)\n",
    "        # GloVe website: https://nlp.stanford.edu/projects/glove/\n",
    "        # fastText website: https://fasttext.cc/\n",
    "        with open(os.path.join(data_dir, 'vec.txt'), 'r') as f:\n",
    "            for line in f:\n",
    "                elems = line.rstrip().split(' ')\n",
    "                token, elems = elems[0], [float(elem) for elem in elems[1:]]\n",
    "                # Skip header information, such as the top row in fastText\n",
    "                if len(elems) > 1:\n",
    "                    idx_to_token.append(token)\n",
    "                    idx_to_vec.append(elems)\n",
    "        idx_to_vec = [[0] * len(idx_to_vec[0])] + idx_to_vec\n",
    "        return idx_to_token, torch.tensor(idx_to_vec)\n",
    "\n",
    "    def __getitem__(self, tokens):\n",
    "        indices = [self.token_to_idx.get(token, self.unknown_idx)\n",
    "                   for token in tokens]\n",
    "        vecs = self.idx_to_vec[torch.tensor(indices)]\n",
    "        return vecs\n",
    "\n",
    "    def __len__(self):\n",
    "        return len(self.idx_to_token)"
   ]
  },
  {
   "cell_type": "markdown",
   "id": "82276068",
   "metadata": {
    "origin_pos": 7
   },
   "source": [
    "Below we load the\n",
    "50-dimensional GloVe embeddings\n",
    "(pretrained on a Wikipedia subset).\n",
    "When creating the `TokenEmbedding` instance,\n",
    "the specified embedding file has to be downloaded if it\n",
    "was not yet.\n"
   ]
  },
  {
   "cell_type": "code",
   "execution_count": 4,
   "id": "affbe32a",
   "metadata": {
    "execution": {
     "iopub.execute_input": "2023-08-14T16:33:13.749329Z",
     "iopub.status.busy": "2023-08-14T16:33:13.748893Z",
     "iopub.status.idle": "2023-08-14T16:33:27.445505Z",
     "shell.execute_reply": "2023-08-14T16:33:27.444579Z"
    },
    "origin_pos": 8,
    "tab": [
     "pytorch"
    ]
   },
   "outputs": [
    {
     "name": "stdout",
     "output_type": "stream",
     "text": [
      "Downloading ../data/glove.6B.50d.zip from http://d2l-data.s3-accelerate.amazonaws.com/glove.6B.50d.zip...\n"
     ]
    }
   ],
   "source": [
    "glove_6b50d = TokenEmbedding('glove.6b.50d')"
   ]
  },
  {
   "cell_type": "markdown",
   "id": "9b8ef89d",
   "metadata": {
    "origin_pos": 9
   },
   "source": [
    "Output the vocabulary size. The vocabulary contains 400000 words (tokens) and a special unknown token.\n"
   ]
  },
  {
   "cell_type": "code",
   "execution_count": 5,
   "id": "59d03a05",
   "metadata": {
    "execution": {
     "iopub.execute_input": "2023-08-14T16:33:27.450384Z",
     "iopub.status.busy": "2023-08-14T16:33:27.449788Z",
     "iopub.status.idle": "2023-08-14T16:33:27.455769Z",
     "shell.execute_reply": "2023-08-14T16:33:27.454981Z"
    },
    "origin_pos": 10,
    "tab": [
     "pytorch"
    ]
   },
   "outputs": [
    {
     "data": {
      "text/plain": [
       "400001"
      ]
     },
     "execution_count": 5,
     "metadata": {},
     "output_type": "execute_result"
    }
   ],
   "source": [
    "len(glove_6b50d)"
   ]
  },
  {
   "cell_type": "markdown",
   "id": "8fd5c5b5",
   "metadata": {
    "origin_pos": 11
   },
   "source": [
    "We can get the index of a word in the vocabulary, and vice versa.\n"
   ]
  },
  {
   "cell_type": "code",
   "execution_count": 6,
   "id": "f3176414",
   "metadata": {
    "execution": {
     "iopub.execute_input": "2023-08-14T16:33:27.460288Z",
     "iopub.status.busy": "2023-08-14T16:33:27.460009Z",
     "iopub.status.idle": "2023-08-14T16:33:27.465351Z",
     "shell.execute_reply": "2023-08-14T16:33:27.464549Z"
    },
    "origin_pos": 12,
    "tab": [
     "pytorch"
    ]
   },
   "outputs": [
    {
     "data": {
      "text/plain": [
       "(3367, 'beautiful')"
      ]
     },
     "execution_count": 6,
     "metadata": {},
     "output_type": "execute_result"
    }
   ],
   "source": [
    "glove_6b50d.token_to_idx['beautiful'], glove_6b50d.idx_to_token[3367]"
   ]
  },
  {
   "cell_type": "markdown",
   "id": "350fe209",
   "metadata": {
    "origin_pos": 13
   },
   "source": [
    "## Applying Pretrained Word Vectors\n",
    "\n",
    "Using the loaded GloVe vectors,\n",
    "we will demonstrate their semantics\n",
    "by applying them\n",
    "in the following word similarity and analogy tasks.\n",
    "\n",
    "\n",
    "### Word Similarity\n",
    "\n",
    "Similar to :numref:`subsec_apply-word-embed`,\n",
    "in order to find semantically similar words\n",
    "for an input word\n",
    "based on cosine similarities between\n",
    "word vectors,\n",
    "we implement the following `knn`\n",
    "($k$-nearest neighbors) function.\n"
   ]
  },
  {
   "cell_type": "code",
   "execution_count": 7,
   "id": "a2e18af3",
   "metadata": {
    "execution": {
     "iopub.execute_input": "2023-08-14T16:33:27.469432Z",
     "iopub.status.busy": "2023-08-14T16:33:27.468831Z",
     "iopub.status.idle": "2023-08-14T16:33:27.473813Z",
     "shell.execute_reply": "2023-08-14T16:33:27.472980Z"
    },
    "origin_pos": 15,
    "tab": [
     "pytorch"
    ]
   },
   "outputs": [],
   "source": [
    "def knn(W, x, k):\n",
    "    # Add 1e-9 for numerical stability\n",
    "    cos = torch.mv(W, x.reshape(-1,)) / (\n",
    "        torch.sqrt(torch.sum(W * W, axis=1) + 1e-9) *\n",
    "        torch.sqrt((x * x).sum()))\n",
    "    _, topk = torch.topk(cos, k=k)\n",
    "    return topk, [cos[int(i)] for i in topk]"
   ]
  },
  {
   "cell_type": "markdown",
   "id": "077168a7",
   "metadata": {
    "origin_pos": 16
   },
   "source": [
    "Then, we \n",
    "search for similar words\n",
    "using the pretrained word vectors \n",
    "from the `TokenEmbedding` instance `embed`.\n"
   ]
  },
  {
   "cell_type": "code",
   "execution_count": 8,
   "id": "139a8651",
   "metadata": {
    "execution": {
     "iopub.execute_input": "2023-08-14T16:33:27.477959Z",
     "iopub.status.busy": "2023-08-14T16:33:27.477407Z",
     "iopub.status.idle": "2023-08-14T16:33:27.481902Z",
     "shell.execute_reply": "2023-08-14T16:33:27.481063Z"
    },
    "origin_pos": 17,
    "tab": [
     "pytorch"
    ]
   },
   "outputs": [],
   "source": [
    "def get_similar_tokens(query_token, k, embed):\n",
    "    topk, cos = knn(embed.idx_to_vec, embed[[query_token]], k + 1)\n",
    "    for i, c in zip(topk[1:], cos[1:]):  # Exclude the input word\n",
    "        print(f'cosine sim={float(c):.3f}: {embed.idx_to_token[int(i)]}')"
   ]
  },
  {
   "cell_type": "markdown",
   "id": "3c0c84c1",
   "metadata": {
    "origin_pos": 18
   },
   "source": [
    "The vocabulary of the pretrained word vectors\n",
    "in `glove_6b50d` contains 400000 words and a special unknown token. \n",
    "Excluding the input word and unknown token,\n",
    "among this vocabulary\n",
    "let's find \n",
    "three most semantically similar words\n",
    "to word \"chip\".\n"
   ]
  },
  {
   "cell_type": "code",
   "execution_count": 9,
   "id": "fcdd5c02",
   "metadata": {
    "execution": {
     "iopub.execute_input": "2023-08-14T16:33:27.486007Z",
     "iopub.status.busy": "2023-08-14T16:33:27.485457Z",
     "iopub.status.idle": "2023-08-14T16:33:27.533359Z",
     "shell.execute_reply": "2023-08-14T16:33:27.532492Z"
    },
    "origin_pos": 19,
    "tab": [
     "pytorch"
    ]
   },
   "outputs": [
    {
     "name": "stdout",
     "output_type": "stream",
     "text": [
      "cosine sim=0.856: chips\n",
      "cosine sim=0.749: intel\n",
      "cosine sim=0.749: electronics\n"
     ]
    }
   ],
   "source": [
    "get_similar_tokens('chip', 3, glove_6b50d)"
   ]
  },
  {
   "cell_type": "markdown",
   "id": "73c5f2bc",
   "metadata": {
    "origin_pos": 20
   },
   "source": [
    "Below outputs similar words\n",
    "to \"baby\" and \"beautiful\".\n"
   ]
  },
  {
   "cell_type": "code",
   "execution_count": 10,
   "id": "8a247c27",
   "metadata": {
    "execution": {
     "iopub.execute_input": "2023-08-14T16:33:27.537559Z",
     "iopub.status.busy": "2023-08-14T16:33:27.537278Z",
     "iopub.status.idle": "2023-08-14T16:33:27.559558Z",
     "shell.execute_reply": "2023-08-14T16:33:27.558710Z"
    },
    "origin_pos": 21,
    "tab": [
     "pytorch"
    ]
   },
   "outputs": [
    {
     "name": "stdout",
     "output_type": "stream",
     "text": [
      "cosine sim=0.839: babies\n",
      "cosine sim=0.800: boy\n",
      "cosine sim=0.792: girl\n"
     ]
    }
   ],
   "source": [
    "get_similar_tokens('baby', 3, glove_6b50d)"
   ]
  },
  {
   "cell_type": "code",
   "execution_count": 11,
   "id": "29f4fbd3",
   "metadata": {
    "execution": {
     "iopub.execute_input": "2023-08-14T16:33:27.564267Z",
     "iopub.status.busy": "2023-08-14T16:33:27.563789Z",
     "iopub.status.idle": "2023-08-14T16:33:27.584471Z",
     "shell.execute_reply": "2023-08-14T16:33:27.583631Z"
    },
    "origin_pos": 22,
    "tab": [
     "pytorch"
    ]
   },
   "outputs": [
    {
     "name": "stdout",
     "output_type": "stream",
     "text": [
      "cosine sim=0.921: lovely\n",
      "cosine sim=0.893: gorgeous\n",
      "cosine sim=0.830: wonderful\n"
     ]
    }
   ],
   "source": [
    "get_similar_tokens('beautiful', 3, glove_6b50d)"
   ]
  },
  {
   "cell_type": "markdown",
   "id": "1f38ca76",
   "metadata": {
    "origin_pos": 23
   },
   "source": [
    "### Word Analogy\n",
    "\n",
    "Besides finding similar words,\n",
    "we can also apply word vectors\n",
    "to word analogy tasks.\n",
    "For example,\n",
    "“man”:“woman”::“son”:“daughter”\n",
    "is the form of a word analogy:\n",
    "“man” is to “woman” as “son” is to “daughter”.\n",
    "Specifically,\n",
    "the word analogy completion task\n",
    "can be defined as:\n",
    "for a word analogy \n",
    "$a : b :: c : d$, given the first three words $a$, $b$ and $c$, find $d$. \n",
    "Denote the vector of word $w$ by $\\textrm{vec}(w)$. \n",
    "To complete the analogy,\n",
    "we will find the word \n",
    "whose vector is most similar\n",
    "to the result of $\\textrm{vec}(c)+\\textrm{vec}(b)-\\textrm{vec}(a)$.\n"
   ]
  },
  {
   "cell_type": "code",
   "execution_count": 12,
   "id": "759821e8",
   "metadata": {
    "execution": {
     "iopub.execute_input": "2023-08-14T16:33:27.589454Z",
     "iopub.status.busy": "2023-08-14T16:33:27.588828Z",
     "iopub.status.idle": "2023-08-14T16:33:27.593568Z",
     "shell.execute_reply": "2023-08-14T16:33:27.592758Z"
    },
    "origin_pos": 24,
    "tab": [
     "pytorch"
    ]
   },
   "outputs": [],
   "source": [
    "def get_analogy(token_a, token_b, token_c, embed):\n",
    "    vecs = embed[[token_a, token_b, token_c]]\n",
    "    x = vecs[1] - vecs[0] + vecs[2]\n",
    "    topk, cos = knn(embed.idx_to_vec, x, 1)\n",
    "    return embed.idx_to_token[int(topk[0])]  # Remove unknown words"
   ]
  },
  {
   "cell_type": "markdown",
   "id": "069f424f",
   "metadata": {
    "origin_pos": 25
   },
   "source": [
    "Let's verify the \"male-female\" analogy using the loaded word vectors.\n"
   ]
  },
  {
   "cell_type": "code",
   "execution_count": 13,
   "id": "557b8235",
   "metadata": {
    "execution": {
     "iopub.execute_input": "2023-08-14T16:33:27.598191Z",
     "iopub.status.busy": "2023-08-14T16:33:27.597654Z",
     "iopub.status.idle": "2023-08-14T16:33:27.618107Z",
     "shell.execute_reply": "2023-08-14T16:33:27.617274Z"
    },
    "origin_pos": 26,
    "tab": [
     "pytorch"
    ]
   },
   "outputs": [
    {
     "data": {
      "text/plain": [
       "'daughter'"
      ]
     },
     "execution_count": 13,
     "metadata": {},
     "output_type": "execute_result"
    }
   ],
   "source": [
    "get_analogy('man', 'woman', 'son', glove_6b50d)"
   ]
  },
  {
   "cell_type": "markdown",
   "id": "7f4a0fc5",
   "metadata": {
    "origin_pos": 27
   },
   "source": [
    "Below completes a\n",
    "“capital-country” analogy: \n",
    "“beijing”:“china”::“tokyo”:“japan”.\n",
    "This demonstrates \n",
    "semantics in the pretrained word vectors.\n"
   ]
  },
  {
   "cell_type": "code",
   "execution_count": 14,
   "id": "0dbd5888",
   "metadata": {
    "execution": {
     "iopub.execute_input": "2023-08-14T16:33:27.623040Z",
     "iopub.status.busy": "2023-08-14T16:33:27.622468Z",
     "iopub.status.idle": "2023-08-14T16:33:27.643786Z",
     "shell.execute_reply": "2023-08-14T16:33:27.642969Z"
    },
    "origin_pos": 28,
    "tab": [
     "pytorch"
    ]
   },
   "outputs": [
    {
     "data": {
      "text/plain": [
       "'japan'"
      ]
     },
     "execution_count": 14,
     "metadata": {},
     "output_type": "execute_result"
    }
   ],
   "source": [
    "get_analogy('beijing', 'china', 'tokyo', glove_6b50d)"
   ]
  },
  {
   "cell_type": "markdown",
   "id": "64e08c95",
   "metadata": {
    "origin_pos": 29
   },
   "source": [
    "For the\n",
    "“adjective-superlative adjective” analogy\n",
    "such as \n",
    "“bad”:“worst”::“big”:“biggest”,\n",
    "we can see that the pretrained word vectors\n",
    "may capture the syntactic information.\n"
   ]
  },
  {
   "cell_type": "code",
   "execution_count": 15,
   "id": "afd700ad",
   "metadata": {
    "execution": {
     "iopub.execute_input": "2023-08-14T16:33:27.648677Z",
     "iopub.status.busy": "2023-08-14T16:33:27.648097Z",
     "iopub.status.idle": "2023-08-14T16:33:27.669196Z",
     "shell.execute_reply": "2023-08-14T16:33:27.668072Z"
    },
    "origin_pos": 30,
    "tab": [
     "pytorch"
    ]
   },
   "outputs": [
    {
     "data": {
      "text/plain": [
       "'biggest'"
      ]
     },
     "execution_count": 15,
     "metadata": {},
     "output_type": "execute_result"
    }
   ],
   "source": [
    "get_analogy('bad', 'worst', 'big', glove_6b50d)"
   ]
  },
  {
   "cell_type": "markdown",
   "id": "1497c9c3",
   "metadata": {
    "origin_pos": 31
   },
   "source": [
    "To show the captured notion\n",
    "of past tense in the pretrained word vectors,\n",
    "we can test the syntax using the\n",
    "\"present tense-past tense\" analogy: “do”:“did”::“go”:“went”.\n"
   ]
  },
  {
   "cell_type": "code",
   "execution_count": 16,
   "id": "a55507ed",
   "metadata": {
    "execution": {
     "iopub.execute_input": "2023-08-14T16:33:27.674027Z",
     "iopub.status.busy": "2023-08-14T16:33:27.673406Z",
     "iopub.status.idle": "2023-08-14T16:33:27.697132Z",
     "shell.execute_reply": "2023-08-14T16:33:27.696029Z"
    },
    "origin_pos": 32,
    "tab": [
     "pytorch"
    ]
   },
   "outputs": [
    {
     "data": {
      "text/plain": [
       "'went'"
      ]
     },
     "execution_count": 16,
     "metadata": {},
     "output_type": "execute_result"
    }
   ],
   "source": [
    "get_analogy('do', 'did', 'go', glove_6b50d)"
   ]
  },
  {
   "cell_type": "markdown",
   "id": "a4037a2a",
   "metadata": {
    "origin_pos": 33
   },
   "source": [
    "## Summary\n",
    "\n",
    "* In practice, word vectors that are pretrained on large corpora can be applied to downstream natural language processing tasks.\n",
    "* Pretrained word vectors can be applied to the word similarity and analogy tasks.\n",
    "\n",
    "\n",
    "## Exercises\n",
    "\n",
    "1. Test the fastText results using `TokenEmbedding('wiki.en')`.\n",
    "1. When the vocabulary is extremely large, how can we find similar words or complete a word analogy faster?\n"
   ]
  },
  {
   "cell_type": "markdown",
   "id": "0d6f1b84",
   "metadata": {
    "origin_pos": 35,
    "tab": [
     "pytorch"
    ]
   },
   "source": [
    "[Discussions](https://discuss.d2l.ai/t/1336)\n"
   ]
  }
 ],
 "metadata": {
  "kernelspec": {
   "display_name": "conda_pytorch_p36",
   "name": "conda_pytorch_p36"
  },
  "language_info": {
   "name": "python"
  },
  "required_libs": []
 },
 "nbformat": 4,
 "nbformat_minor": 5
}