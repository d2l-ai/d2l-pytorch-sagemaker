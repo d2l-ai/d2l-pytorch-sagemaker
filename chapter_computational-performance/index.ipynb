{
 "cells": [
  {
   "cell_type": "markdown",
   "metadata": {
    "origin_pos": 0
   },
   "source": [
    "# Desempenho Computacional \n",
    ":label:`chap_performance`\n",
    "\n",
    "No *deep learning* os *datasets* geralmente são grandes e a computação do modelo é complexa. Portanto, estamos sempre muito preocupados com o desempenho computacional. Este capítulo enfocará os fatores importantes que afetam o desempenho da computação: programação imperativa, programação simbólica, programação assíncrona, computação paralela automática e computação multi-GPU. Ao estudar este capítulo, você deve ser capaz de melhorar ainda mais o desempenho de computação dos modelos que foram implementados nos capítulos anteriores, por exemplo, reduzindo o tempo de treinamento do modelo sem afetar a precisão do modelo.\n",
    "\n",
    ":begin_tab:toc\n",
    " - [hybridize](hybridize.ipynb)\n",
    " - [async-computation](async-computation.ipynb)\n",
    " - [auto-parallelism](auto-parallelism.ipynb)\n",
    " - [hardware](hardware.ipynb)\n",
    " - [multiple-gpus](multiple-gpus.ipynb)\n",
    " - [multiple-gpus-concise](multiple-gpus-concise.ipynb)\n",
    " - [parameterserver](parameterserver.ipynb)\n",
    ":end_tab:\n",
    "\n",
    "<!--stackedit_data:\n",
    "eyJoaXN0b3J5IjpbMTkyODQ4MDAzNF19\n",
    "-->\n"
   ]
  }
 ],
 "metadata": {
  "kernelspec": {
   "display_name": "conda_pytorch_p36",
   "name": "conda_pytorch_p36"
  },
  "language_info": {
   "name": "python"
  }
 },
 "nbformat": 4,
 "nbformat_minor": 4
}