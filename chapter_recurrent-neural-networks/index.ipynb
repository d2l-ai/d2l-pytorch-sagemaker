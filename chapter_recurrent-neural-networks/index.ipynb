{
 "cells": [
  {
   "cell_type": "markdown",
   "metadata": {
    "origin_pos": 0
   },
   "source": [
    "# Redes Neurais Recorrentes\n",
    ":label:`chap_rnn`\n",
    "\n",
    "\n",
    "Até agora encontramos dois tipos de dados: dados tabulares e dados de imagem.\n",
    "Para o último, projetamos camadas especializadas para aproveitar a regularidade delas.\n",
    "Em outras palavras, se permutássemos os pixels em uma imagem, seria muito mais difícil raciocinar sobre seu conteúdo de algo que se pareceria muito com o fundo de um padrão de teste na época da TV analógica.\n",
    "\n",
    "O mais importante é que, até agora, assumimos tacitamente que todos os nossos dados são retirados de alguma distribuição, e todos os exemplos são distribuídos de forma independente e idêntica (d.i.i.).\n",
    "Infelizmente, isso não é verdade para a maioria dos dados. Por exemplo, as palavras neste parágrafo são escritas em sequência e seria muito difícil decifrar seu significado se fossem permutadas aleatoriamente.\n",
    "Da mesma forma, os quadros de imagem em um vídeo, o sinal de áudio em uma conversa e o comportamento de navegação em um site seguem uma ordem sequencial.\n",
    "Portanto, é razoável supor que modelos especializados para esses dados terão um desempenho melhor em descrevê-los.\n",
    "\n",
    "Outro problema surge do fato de que podemos não apenas receber uma sequência como uma entrada, mas esperar que continuemos a sequência.\n",
    "Por exemplo, a tarefa poderia ser continuar a série $2, 4, 6, 8, 10, \\ldots$ Isso é bastante comum na análise de série temporal, para prever o mercado de ações, a curva de febre de um paciente ou a aceleração necessária para um carro de corrida. Novamente, queremos ter modelos que possam lidar com esses dados.\n",
    "\n",
    "\n",
    "Em suma, embora as CNNs podem processar informações espaciais com eficiência, *as redes neurais recorrentes* (RNNs)[^1] são projetadas para lidar melhor com as informações sequenciais.\n",
    "As RNNs introduzem variáveis de estado para armazenar informações anteriores, junto com as entradas atuais, para determinar as saídas atuais.\n",
    "\n",
    "[^1]:*recurrent neural networks*\n",
    "\n",
    "Muitos dos exemplos de uso de redes recorrentes são baseados em dados de texto. Portanto, enfatizaremos os modelos de linguagem neste capítulo. Após uma revisão mais formal dos dados sequenciais, apresentamos técnicas práticas para o pré-processamento desses.\n",
    "A seguir, discutimos os conceitos básicos de um modelo de linguagem e usamos essa discussão como inspiração para o design de RNNs.\n",
    "No final descrevemos o método de cálculo do gradiente para RNNs, uma vez que problemas podem ser encontrados durante o treinamento de tais redes.\n",
    "\n",
    ":begin_tab:toc\n",
    " - [sequence](sequence.ipynb)\n",
    " - [text-preprocessing](text-preprocessing.ipynb)\n",
    " - [language-models-and-dataset](language-models-and-dataset.ipynb)\n",
    " - [rnn](rnn.ipynb)\n",
    " - [rnn-scratch](rnn-scratch.ipynb)\n",
    " - [rnn-concise](rnn-concise.ipynb)\n",
    " - [bptt](bptt.ipynb)\n",
    ":end_tab:\n",
    "\n",
    "<!--stackedit_data:\n",
    "eyJoaXN0b3J5IjpbMTkzNjQ5MzMwOCwxMDE1NTQ1ODg0LC0zNT\n",
    "AyNzQxM119\n",
    "-->\n"
   ]
  }
 ],
 "metadata": {
  "kernelspec": {
   "display_name": "conda_pytorch_p36",
   "name": "conda_pytorch_p36"
  },
  "language_info": {
   "name": "python"
  }
 },
 "nbformat": 4,
 "nbformat_minor": 4
}