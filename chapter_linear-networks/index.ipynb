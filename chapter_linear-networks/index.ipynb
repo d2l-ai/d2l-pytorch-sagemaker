{
 "cells": [
  {
   "cell_type": "markdown",
   "metadata": {
    "origin_pos": 0
   },
   "source": [
    "# Linear Neural Networks\n",
    ":label:`chap_linear`\n",
    "\n",
    "Before we get into the details of deep neural networks,\n",
    "we need to cover the basics of neural network training.\n",
    "In this chapter, we will cover the entire training process,\n",
    "including defining simple neural network architectures, handling data, specifying a loss function, and training the model. \n",
    "In order to make things easier to grasp, we begin with the simplest concepts.\n",
    "Fortunately, classic statistical learning techniques such as linear and softmax regression\n",
    "can be cast as *linear* neural networks.\n",
    "Starting from these classic algorithms, we will introduce you to the basics,\n",
    "providing the basis for more complex techniques in the rest of the book.\n",
    "\n",
    ":begin_tab:toc\n",
    " - [linear-regression](linear-regression.ipynb)\n",
    " - [linear-regression-scratch](linear-regression-scratch.ipynb)\n",
    " - [linear-regression-concise](linear-regression-concise.ipynb)\n",
    " - [softmax-regression](softmax-regression.ipynb)\n",
    " - [image-classification-dataset](image-classification-dataset.ipynb)\n",
    " - [softmax-regression-scratch](softmax-regression-scratch.ipynb)\n",
    " - [softmax-regression-concise](softmax-regression-concise.ipynb)\n",
    ":end_tab:\n"
   ]
  }
 ],
 "metadata": {
  "kernelspec": {
   "display_name": "conda_pytorch_p36",
   "name": "conda_pytorch_p36"
  },
  "language_info": {
   "name": "python"
  }
 },
 "nbformat": 4,
 "nbformat_minor": 4
}