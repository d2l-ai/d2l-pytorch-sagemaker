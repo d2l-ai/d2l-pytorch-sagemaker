{
 "cells": [
  {
   "cell_type": "markdown",
   "metadata": {
    "origin_pos": 0
   },
   "source": [
    "# Linear Neural NetworkRedes Neurais Lineares\n",
    ":label:`chap_linear`\n",
    "\n",
    "Antes de entrarmos nos detalhes das redes neurais profundas,\n",
    "precisamos cobrir os fundamentos do treinamento de redes neurais.\n",
    "Neste capítulo, cobriremos todo o processo de treinamento,\n",
    "incluindo a definição de arquiteturas de redes neurais simples, manipulação de dados, especificação de uma função de perda e treinamento do modelo.\n",
    "Para tornar as coisas mais fáceis de entender, começamos com os conceitos mais simples.\n",
    "Felizmente, técnicas clássicas de aprendizagem estatística, como regressão linear e *softmax*\n",
    "podem ser lançadas como redes neurais *lineares*.\n",
    "Partindo desses algoritmos clássicos, apresentaremos o básico,\n",
    "fornecendo a base para técnicas mais complexas no restante do livro.\n",
    "\n",
    ":begin_tab:toc\n",
    " - [linear-regression](linear-regression.ipynb)\n",
    " - [linear-regression-scratch](linear-regression-scratch.ipynb)\n",
    " - [linear-regression-concise](linear-regression-concise.ipynb)\n",
    " - [softmax-regression](softmax-regression.ipynb)\n",
    " - [image-classification-dataset](image-classification-dataset.ipynb)\n",
    " - [softmax-regression-scratch](softmax-regression-scratch.ipynb)\n",
    " - [softmax-regression-concise](softmax-regression-concise.ipynb)\n",
    ":end_tab:\n",
    "\n",
    "<!--stackedit_data:\n",
    "eyJoaXN0b3J5IjpbNDI4MTkyMzM4XX0=\n",
    "-->\n"
   ]
  }
 ],
 "metadata": {
  "kernelspec": {
   "display_name": "conda_pytorch_p36",
   "name": "conda_pytorch_p36"
  },
  "language_info": {
   "name": "python"
  }
 },
 "nbformat": 4,
 "nbformat_minor": 4
}