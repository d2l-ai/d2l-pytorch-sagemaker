{
 "cells": [
  {
   "cell_type": "markdown",
   "id": "cff84185",
   "metadata": {},
   "source": [
    "Installing (updating) the following libraries for your Sagemaker\n",
    "instance."
   ]
  },
  {
   "cell_type": "code",
   "execution_count": null,
   "id": "b08b2c81",
   "metadata": {},
   "outputs": [],
   "source": [
    "!pip install .. # installing d2l\n"
   ]
  },
  {
   "cell_type": "markdown",
   "id": "9f73f17b",
   "metadata": {
    "origin_pos": 1
   },
   "source": [
    "# The Encoder-Decoder Architecture\n",
    ":label:`sec_encoder-decoder`\n",
    "\n",
    "In general seq2seq problems \n",
    "like machine translation \n",
    "(:numref:`sec_machine_translation`),\n",
    "inputs and outputs are of varying lengths\n",
    "that are unaligned. \n",
    "The standard approach to handling this sort of data\n",
    "is to design an *encoder-decoder* architecture (:numref:`fig_encoder_decoder`)\n",
    "consisting of two major components:\n",
    "an *encoder* that takes a variable-length sequence as input,\n",
    "and a *decoder* that acts as a conditional language model,\n",
    "taking in the encoded input \n",
    "and the leftwards context of the target sequence \n",
    "and predicting the subsequent token in the target sequence. \n",
    "\n",
    "\n",
    "![The encoder-decoder architecture.](../img/encoder-decoder.svg)\n",
    ":label:`fig_encoder_decoder`\n",
    "\n",
    "Let's take machine translation from English to French as an example.\n",
    "Given an input sequence in English:\n",
    "\"They\", \"are\", \"watching\", \".\",\n",
    "this encoder-decoder architecture\n",
    "first encodes the variable-length input into a state,\n",
    "then decodes the state \n",
    "to generate the translated sequence,\n",
    "token by token, as output:\n",
    "\"Ils\", \"regardent\", \".\".\n",
    "Since the encoder-decoder architecture\n",
    "forms the basis of different seq2seq models\n",
    "in subsequent sections,\n",
    "this section will convert this architecture\n",
    "into an interface that will be implemented later.\n"
   ]
  },
  {
   "cell_type": "code",
   "execution_count": 1,
   "id": "9667c33d",
   "metadata": {
    "execution": {
     "iopub.execute_input": "2023-02-10T05:33:50.673065Z",
     "iopub.status.busy": "2023-02-10T05:33:50.672749Z",
     "iopub.status.idle": "2023-02-10T05:33:53.933966Z",
     "shell.execute_reply": "2023-02-10T05:33:53.929938Z"
    },
    "origin_pos": 3,
    "tab": [
     "pytorch"
    ]
   },
   "outputs": [],
   "source": [
    "from torch import nn\n",
    "from d2l import torch as d2l"
   ]
  },
  {
   "cell_type": "markdown",
   "id": "b0a1e05c",
   "metadata": {
    "origin_pos": 6
   },
   "source": [
    "## (**Encoder**)\n",
    "\n",
    "In the encoder interface,\n",
    "we just specify that\n",
    "the encoder takes variable-length sequences as input `X`.\n",
    "The implementation will be provided \n",
    "by any model that inherits this base `Encoder` class.\n"
   ]
  },
  {
   "cell_type": "code",
   "execution_count": 2,
   "id": "60f1cb0c",
   "metadata": {
    "execution": {
     "iopub.execute_input": "2023-02-10T05:33:53.944484Z",
     "iopub.status.busy": "2023-02-10T05:33:53.941648Z",
     "iopub.status.idle": "2023-02-10T05:33:53.960328Z",
     "shell.execute_reply": "2023-02-10T05:33:53.957436Z"
    },
    "origin_pos": 8,
    "tab": [
     "pytorch"
    ]
   },
   "outputs": [],
   "source": [
    "class Encoder(nn.Module):  #@save\n",
    "    \"\"\"The base encoder interface for the encoder-decoder architecture.\"\"\"\n",
    "    def __init__(self):\n",
    "        super().__init__()\n",
    "\n",
    "    # Later there can be additional arguments (e.g., length excluding padding)\n",
    "    def forward(self, X, *args):\n",
    "        raise NotImplementedError"
   ]
  },
  {
   "cell_type": "markdown",
   "id": "321655fd",
   "metadata": {
    "origin_pos": 11
   },
   "source": [
    "## [**Decoder**]\n",
    "\n",
    "In the following decoder interface,\n",
    "we add an additional `init_state` method\n",
    "to convert the encoder output (`enc_all_outputs`)\n",
    "into the encoded state.\n",
    "Note that this step\n",
    "may require extra inputs,\n",
    "such as the valid length of the input,\n",
    "which was explained\n",
    "in :numref:`sec_machine_translation`.\n",
    "To generate a variable-length sequence token by token,\n",
    "every time the decoder may map an input \n",
    "(e.g., the generated token at the previous time step)\n",
    "and the encoded state \n",
    "into an output token at the current time step.\n"
   ]
  },
  {
   "cell_type": "code",
   "execution_count": 3,
   "id": "b41f6031",
   "metadata": {
    "execution": {
     "iopub.execute_input": "2023-02-10T05:33:53.968602Z",
     "iopub.status.busy": "2023-02-10T05:33:53.968153Z",
     "iopub.status.idle": "2023-02-10T05:33:53.991691Z",
     "shell.execute_reply": "2023-02-10T05:33:53.988685Z"
    },
    "origin_pos": 13,
    "tab": [
     "pytorch"
    ]
   },
   "outputs": [],
   "source": [
    "class Decoder(nn.Module):  #@save\n",
    "    \"\"\"The base decoder interface for the encoder-decoder architecture.\"\"\"\n",
    "    def __init__(self):\n",
    "        super().__init__()\n",
    "\n",
    "    # Later there can be additional arguments (e.g., length excluding padding)\n",
    "    def init_state(self, enc_all_outputs, *args):\n",
    "        raise NotImplementedError\n",
    "\n",
    "    def forward(self, X, state):\n",
    "        raise NotImplementedError"
   ]
  },
  {
   "cell_type": "markdown",
   "id": "7ba19a75",
   "metadata": {
    "origin_pos": 16
   },
   "source": [
    "## [**Putting the Encoder and Decoder Together**]\n",
    "\n",
    "In the forward propagation,\n",
    "the output of the encoder\n",
    "is used to produce the encoded state,\n",
    "and this state will be further used\n",
    "by the decoder as one of its input.\n"
   ]
  },
  {
   "cell_type": "code",
   "execution_count": 4,
   "id": "4c7c6c48",
   "metadata": {
    "execution": {
     "iopub.execute_input": "2023-02-10T05:33:53.999652Z",
     "iopub.status.busy": "2023-02-10T05:33:53.995132Z",
     "iopub.status.idle": "2023-02-10T05:33:54.017057Z",
     "shell.execute_reply": "2023-02-10T05:33:54.012340Z"
    },
    "origin_pos": 17,
    "tab": [
     "pytorch"
    ]
   },
   "outputs": [],
   "source": [
    "class EncoderDecoder(d2l.Classifier):  #@save\n",
    "    \"\"\"The base class for the encoder-decoder architecture.\"\"\"\n",
    "    def __init__(self, encoder, decoder):\n",
    "        super().__init__()\n",
    "        self.encoder = encoder\n",
    "        self.decoder = decoder\n",
    "\n",
    "    def forward(self, enc_X, dec_X, *args):\n",
    "        enc_all_outputs = self.encoder(enc_X, *args)\n",
    "        dec_state = self.decoder.init_state(enc_all_outputs, *args)\n",
    "        # Return decoder output only\n",
    "        return self.decoder(dec_X, dec_state)[0]"
   ]
  },
  {
   "cell_type": "markdown",
   "id": "b5d61029",
   "metadata": {
    "origin_pos": 20
   },
   "source": [
    "In the next section, \n",
    "we will see how to apply RNNs to design \n",
    "seq2seq models based on \n",
    "this encoder-decoder architecture.\n",
    "\n",
    "\n",
    "## Summary\n",
    "\n",
    "Encoder-decoder architectures\n",
    "can handle inputs and outputs \n",
    "that both consist of variable-length sequences\n",
    "and thus are suitable for seq2seq problems \n",
    "such as machine translation.\n",
    "The encoder takes a variable-length sequence as input \n",
    "and transforms it into a state with a fixed shape.\n",
    "The decoder maps the encoded state of a fixed shape\n",
    "to a variable-length sequence.\n",
    "\n",
    "\n",
    "## Exercises\n",
    "\n",
    "1. Suppose that we use neural networks to implement the encoder-decoder architecture. Do the encoder and the decoder have to be the same type of neural network?  \n",
    "1. Besides machine translation, can you think of another application where the encoder-decoder architecture can be applied?\n"
   ]
  },
  {
   "cell_type": "markdown",
   "id": "2b95aa40",
   "metadata": {
    "origin_pos": 22,
    "tab": [
     "pytorch"
    ]
   },
   "source": [
    "[Discussions](https://discuss.d2l.ai/t/1061)\n"
   ]
  }
 ],
 "metadata": {
  "kernelspec": {
   "display_name": "conda_pytorch_p36",
   "name": "conda_pytorch_p36"
  },
  "language_info": {
   "name": "python"
  }
 },
 "nbformat": 4,
 "nbformat_minor": 5
}