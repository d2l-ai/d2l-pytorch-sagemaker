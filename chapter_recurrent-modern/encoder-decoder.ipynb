{
 "cells": [
  {
   "cell_type": "markdown",
   "metadata": {
    "origin_pos": 0
   },
   "source": [
    "# Encoder-Decoder Architecture\n",
    ":label:`sec_encoder-decoder`\n",
    "\n",
    "As we have discussed in \n",
    ":numref:`sec_machine_translation`,\n",
    "machine translation\n",
    "is a major problem domain for sequence transduction models,\n",
    "whose input and output are\n",
    "both variable-length sequences.\n",
    "To handle this type of inputs and outputs,\n",
    "we can design an architecture with two major components.\n",
    "The first component is an *encoder*:\n",
    "it takes a variable-length sequence as the input and transforms it into a state with a fixed shape.\n",
    "The second component is a *decoder*:\n",
    "it maps the encoded state of a fixed shape\n",
    "to a variable-length sequence.\n",
    "This is called an *encoder-decoder* architecture,\n",
    "which is depicted in :numref:`fig_encoder_decoder`.\n",
    "\n",
    "![The encoder-decoder architecture.](../img/encoder-decoder.svg)\n",
    ":label:`fig_encoder_decoder`\n",
    "\n",
    "Let us take machine translation from English to French\n",
    "as an example.\n",
    "Given an input sequence in English:\n",
    "\"They\", \"are\", \"watching\", \".\",\n",
    "this encoder-decoder architecture\n",
    "first encodes the variable-length input into a state,\n",
    "then decodes the state \n",
    "to generate the translated sequence token by token\n",
    "as the output:\n",
    "\"Ils\", \"regardent\", \".\".\n",
    "Since the encoder-decoder architecture\n",
    "forms the basis\n",
    "of different sequence transduction models\n",
    "in subsequent sections,\n",
    "this section will convert this architecture\n",
    "into an interface that will be implemented later.\n",
    "\n",
    "## (**Encoder**)\n",
    "\n",
    "In the encoder interface,\n",
    "we just specify that\n",
    "the encoder takes variable-length sequences as the input `X`.\n",
    "The implementation will be provided \n",
    "by any model that inherits this base `Encoder` class.\n"
   ]
  },
  {
   "cell_type": "code",
   "execution_count": 1,
   "metadata": {
    "origin_pos": 2,
    "tab": [
     "pytorch"
    ]
   },
   "outputs": [],
   "source": [
    "from torch import nn\n",
    "\n",
    "\n",
    "#@save\n",
    "class Encoder(nn.Module):\n",
    "    \"\"\"The base encoder interface for the encoder-decoder architecture.\"\"\"\n",
    "    def __init__(self, **kwargs):\n",
    "        super(Encoder, self).__init__(**kwargs)\n",
    "\n",
    "    def forward(self, X, *args):\n",
    "        raise NotImplementedError"
   ]
  },
  {
   "cell_type": "markdown",
   "metadata": {
    "origin_pos": 4
   },
   "source": [
    "## [**Decoder**]\n",
    "\n",
    "In the following decoder interface,\n",
    "we add an additional `init_state` function\n",
    "to convert the encoder output (`enc_outputs`)\n",
    "into the encoded state.\n",
    "Note that this step\n",
    "may need extra inputs such as \n",
    "the valid length of the input,\n",
    "which was explained\n",
    "in :numref:`subsec_mt_data_loading`.\n",
    "To generate a variable-length sequence token by token,\n",
    "every time the decoder\n",
    "may map an input (e.g., the generated token at the previous time step)\n",
    "and the encoded state\n",
    "into an output token at the current time step.\n"
   ]
  },
  {
   "cell_type": "code",
   "execution_count": 2,
   "metadata": {
    "origin_pos": 6,
    "tab": [
     "pytorch"
    ]
   },
   "outputs": [],
   "source": [
    "#@save\n",
    "class Decoder(nn.Module):\n",
    "    \"\"\"The base decoder interface for the encoder-decoder architecture.\"\"\"\n",
    "    def __init__(self, **kwargs):\n",
    "        super(Decoder, self).__init__(**kwargs)\n",
    "\n",
    "    def init_state(self, enc_outputs, *args):\n",
    "        raise NotImplementedError\n",
    "\n",
    "    def forward(self, X, state):\n",
    "        raise NotImplementedError"
   ]
  },
  {
   "cell_type": "markdown",
   "metadata": {
    "origin_pos": 8
   },
   "source": [
    "## [**Putting the Encoder and Decoder Together**]\n",
    "\n",
    "In the end,\n",
    "the encoder-decoder architecture\n",
    "contains both an encoder and a decoder,\n",
    "with optionally extra arguments.\n",
    "In the forward propagation,\n",
    "the output of the encoder\n",
    "is used to produce the encoded state,\n",
    "and this state\n",
    "will be further used by the decoder as one of its input.\n"
   ]
  },
  {
   "cell_type": "code",
   "execution_count": 3,
   "metadata": {
    "origin_pos": 10,
    "tab": [
     "pytorch"
    ]
   },
   "outputs": [],
   "source": [
    "#@save\n",
    "class EncoderDecoder(nn.Module):\n",
    "    \"\"\"The base class for the encoder-decoder architecture.\"\"\"\n",
    "    def __init__(self, encoder, decoder, **kwargs):\n",
    "        super(EncoderDecoder, self).__init__(**kwargs)\n",
    "        self.encoder = encoder\n",
    "        self.decoder = decoder\n",
    "\n",
    "    def forward(self, enc_X, dec_X, *args):\n",
    "        enc_outputs = self.encoder(enc_X, *args)\n",
    "        dec_state = self.decoder.init_state(enc_outputs, *args)\n",
    "        return self.decoder(dec_X, dec_state)"
   ]
  },
  {
   "cell_type": "markdown",
   "metadata": {
    "origin_pos": 12
   },
   "source": [
    "The term \"state\" in the encoder-decoder architecture\n",
    "has probably inspired you to implement this\n",
    "architecture using neural networks with states.\n",
    "In the next section,\n",
    "we will see how to apply RNNs to design \n",
    "sequence transduction models based on \n",
    "this encoder-decoder architecture.\n",
    "\n",
    "\n",
    "## Summary\n",
    "\n",
    "* The encoder-decoder architecture can handle inputs and outputs that are both variable-length sequences, thus is suitable for sequence transduction problems such as machine translation.\n",
    "* The encoder takes a variable-length sequence as the input and transforms it into a state with a fixed shape.\n",
    "* The decoder maps the encoded state of a fixed shape to a variable-length sequence.\n",
    "\n",
    "\n",
    "## Exercises\n",
    "\n",
    "1. Suppose that we use neural networks to implement the encoder-decoder architecture. Do the encoder and the decoder have to be the same type of neural network?  \n",
    "1. Besides machine translation, can you think of another application where the encoder-decoder architecture can be applied?\n"
   ]
  },
  {
   "cell_type": "markdown",
   "metadata": {
    "origin_pos": 14,
    "tab": [
     "pytorch"
    ]
   },
   "source": [
    "[Discussions](https://discuss.d2l.ai/t/1061)\n"
   ]
  }
 ],
 "metadata": {
  "kernelspec": {
   "display_name": "conda_pytorch_p36",
   "name": "conda_pytorch_p36"
  },
  "language_info": {
   "name": "python"
  }
 },
 "nbformat": 4,
 "nbformat_minor": 4
}