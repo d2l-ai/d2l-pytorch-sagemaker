{
 "cells": [
  {
   "cell_type": "markdown",
   "metadata": {
    "origin_pos": 0
   },
   "source": [
    "# Arquitetura Encoder-Decoder\n",
    ":label:`sec_encoder-decoder`\n",
    "\n",
    "Como discutimos em\n",
    ":numref:`sec_machine_translation`,\n",
    "maquina de tradução\n",
    "é um domínio de problema principal para modelos de transdução de sequência,\n",
    "cuja entrada e saída são\n",
    "ambas as sequências de comprimento variável.\n",
    "Para lidar com este tipo de entradas e saídas,\n",
    "podemos projetar uma arquitetura com dois componentes principais.\n",
    "O primeiro componente é um *codificador*:\n",
    "ele pega uma sequência de comprimento variável como entrada e a transforma em um estado com uma forma fixa.\n",
    "O segundo componente é um *decodificador*:\n",
    "ele mapeia o estado codificado de uma forma fixa\n",
    "a uma sequência de comprimento variável.\n",
    "Isso é chamado de arquitetura *codificador-decodificador*,\n",
    "que é representado em :numref:`fig_encoder_decoder`.\n",
    "\n",
    "![A arquitetura encoder-decoder.](../img/encoder-decoder.svg)\n",
    ":label:`fig_encoder_decoder`\n",
    "\n",
    "Vamos fazer uma tradução automática de inglês para francês\n",
    "como um exemplo.\n",
    "Dada uma sequência de entrada em inglês:\n",
    "\"They\", \"are\", \"watching\", \".\",\n",
    "esta arquitetura de codificador-decodificador\n",
    "primeiro codifica a entrada de comprimento variável em um estado,\n",
    "então decodifica o estado\n",
    "para gerar o token de sequência traduzido por token\n",
    "como saída:\n",
    "\"Ils\", \"respectent\", \".\".\n",
    "Uma vez que a arquitetura codificador-decodificador\n",
    "forma a base\n",
    "de diferentes modelos de transdução de sequência\n",
    "nas seções subsequentes,\n",
    "esta seção irá converter esta arquitetura\n",
    "em uma interface que será implementada posteriormente.\n",
    "\n",
    "## Encoder\n",
    "\n",
    "Na interface do codificador,\n",
    "nós apenas especificamos isso\n",
    "o codificador recebe sequências de comprimento variável como `X` de entrada.\n",
    "A implementação será fornecida\n",
    "por qualquer modelo que herde esta classe `Encoder` base.\n"
   ]
  },
  {
   "cell_type": "code",
   "execution_count": 1,
   "metadata": {
    "origin_pos": 2,
    "tab": [
     "pytorch"
    ]
   },
   "outputs": [],
   "source": [
    "from torch import nn\n",
    "\n",
    "\n",
    "#@save\n",
    "class Encoder(nn.Module):\n",
    "    \"\"\"The base encoder interface for the encoder-decoder architecture.\"\"\"\n",
    "    def __init__(self, **kwargs):\n",
    "        super(Encoder, self).__init__(**kwargs)\n",
    "\n",
    "    def forward(self, X, *args):\n",
    "        raise NotImplementedError"
   ]
  },
  {
   "cell_type": "markdown",
   "metadata": {
    "origin_pos": 3
   },
   "source": [
    "## Decoder\n",
    "\n",
    "Na seguinte interface do decodificador,\n",
    "adicionamos uma função adicional `init_state`\n",
    "para converter a saída do codificador (`enc_outputs`)\n",
    "no estado codificado.\n",
    "Observe que esta etapa\n",
    "pode precisar de entradas extras, como\n",
    "o comprimento válido da entrada,\n",
    "o que foi explicado\n",
    "in :numref:`subsec_mt_data_loading`.\n",
    "Para gerar um token de sequência de comprimento variável por token,\n",
    "toda vez que o decodificador\n",
    "pode mapear uma entrada (por exemplo, o token gerado na etapa de tempo anterior)\n",
    "e o estado codificado\n",
    "em um token de saída na etapa de tempo atual.\n"
   ]
  },
  {
   "cell_type": "code",
   "execution_count": 2,
   "metadata": {
    "origin_pos": 5,
    "tab": [
     "pytorch"
    ]
   },
   "outputs": [],
   "source": [
    "#@save\n",
    "class Decoder(nn.Module):\n",
    "    \"\"\"The base decoder interface for the encoder-decoder architecture.\"\"\"\n",
    "    def __init__(self, **kwargs):\n",
    "        super(Decoder, self).__init__(**kwargs)\n",
    "\n",
    "    def init_state(self, enc_outputs, *args):\n",
    "        raise NotImplementedError\n",
    "\n",
    "    def forward(self, X, state):\n",
    "        raise NotImplementedError"
   ]
  },
  {
   "cell_type": "markdown",
   "metadata": {
    "origin_pos": 6
   },
   "source": [
    "## Somando o Encoder e o Decoder\n",
    "\n",
    "No fim,\n",
    "a arquitetura codificador-decodificador\n",
    "contém um codificador e um decodificador,\n",
    "com argumentos opcionalmente extras.\n",
    "Na propagação direta,\n",
    "a saída do codificador\n",
    "é usado para produzir o estado codificado,\n",
    "e este estado\n",
    "será posteriormente usado pelo decodificador como uma de suas entradas.\n"
   ]
  },
  {
   "cell_type": "code",
   "execution_count": 3,
   "metadata": {
    "origin_pos": 8,
    "tab": [
     "pytorch"
    ]
   },
   "outputs": [],
   "source": [
    "#@save\n",
    "class EncoderDecoder(nn.Module):\n",
    "    \"\"\"The base class for the encoder-decoder architecture.\"\"\"\n",
    "    def __init__(self, encoder, decoder, **kwargs):\n",
    "        super(EncoderDecoder, self).__init__(**kwargs)\n",
    "        self.encoder = encoder\n",
    "        self.decoder = decoder\n",
    "\n",
    "    def forward(self, enc_X, dec_X, *args):\n",
    "        enc_outputs = self.encoder(enc_X, *args)\n",
    "        dec_state = self.decoder.init_state(enc_outputs, *args)\n",
    "        return self.decoder(dec_X, dec_state)"
   ]
  },
  {
   "cell_type": "markdown",
   "metadata": {
    "origin_pos": 9
   },
   "source": [
    "O termo \"estado\" na arquitetura do codificador-decodificador\n",
    "provavelmente inspirou você a implementar este\n",
    "arquitetura usando redes neurais com estados.\n",
    "Na próxima seção,\n",
    "veremos como aplicar RNNs para projetar\n",
    "modelos de transdução de sequência baseados em\n",
    "esta arquitetura de codificador-decodificador.\n",
    "\n",
    "\n",
    "## Sumário\n",
    "\n",
    "* A arquitetura do codificador-decodificador pode lidar com entradas e saídas que são sequências de comprimento variável, portanto, é adequada para problemas de transdução de sequência, como tradução automática.\n",
    "* O codificador pega uma sequência de comprimento variável como entrada e a transforma em um estado com forma fixa.\n",
    "* O decodificador mapeia o estado codificado de uma forma fixa para uma sequência de comprimento variável.\n",
    "\n",
    "\n",
    "## Exercícios\n",
    "\n",
    "1. Suponha que usamos redes neurais para implementar a arquitetura codificador-decodificador. O codificador e o decodificador precisam ser do mesmo tipo de rede neural?\n",
    "1. Além da tradução automática, você consegue pensar em outro aplicativo em que a arquitetura codificador-decodificador possa ser aplicada?\n"
   ]
  },
  {
   "cell_type": "markdown",
   "metadata": {
    "origin_pos": 11,
    "tab": [
     "pytorch"
    ]
   },
   "source": [
    "[Discussão](https://discuss.d2l.ai/t/1061)\n"
   ]
  },
  {
   "cell_type": "markdown",
   "metadata": {
    "origin_pos": 12
   },
   "source": [
    "<!--stackedit_data:\n",
    "eyJoaXN0b3J5IjpbOTEyMDkwMTk3XX0=\n",
    "-->\n"
   ]
  }
 ],
 "metadata": {
  "kernelspec": {
   "display_name": "conda_pytorch_p36",
   "name": "conda_pytorch_p36"
  },
  "language_info": {
   "name": "python"
  }
 },
 "nbformat": 4,
 "nbformat_minor": 4
}