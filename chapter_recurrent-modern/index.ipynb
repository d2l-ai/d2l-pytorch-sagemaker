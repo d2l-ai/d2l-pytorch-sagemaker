{
 "cells": [
  {
   "cell_type": "markdown",
   "id": "c6f2a69c",
   "metadata": {
    "origin_pos": 0
   },
   "source": [
    "# Modern Recurrent Neural Networks\n",
    ":label:`chap_modern_rnn`\n",
    "\n",
    "We have introduced the basics of RNNs,\n",
    "which can better handle sequence data.\n",
    "For demonstration,\n",
    "we implemented RNN-based\n",
    "language models on text data.\n",
    "However, \n",
    "such techniques may not be sufficient\n",
    "for practitioners when they face\n",
    "a wide range of sequence learning problems nowadays.\n",
    "\n",
    "For instance,\n",
    "a notable issue in practice\n",
    "is the numerical instability of RNNs.\n",
    "Although we have applied implementation tricks\n",
    "such as gradient clipping,\n",
    "this issue can be alleviated further\n",
    "with more sophisticated designs of sequence models.\n",
    "Specifically,\n",
    "gated RNNs are much more common in practice.\n",
    "We will begin by introducing two of such widely-used networks,\n",
    "namely *gated recurrent units* (GRUs) and *long short-term memory* (LSTM).\n",
    "Furthermore, we will expand the RNN architecture\n",
    "with a single unidirectional hidden layer\n",
    "that has been discussed so far.\n",
    "We will describe deep architectures with\n",
    "multiple hidden layers,\n",
    "and discuss the bidirectional design\n",
    "with both forward and backward recurrent computations.\n",
    "Such expansions are frequently adopted\n",
    "in modern recurrent networks.\n",
    "When explaining these RNN variants,\n",
    "we continue to consider\n",
    "the same language modeling problem introduced in :numref:`chap_rnn`.\n",
    "\n",
    "In fact, language modeling\n",
    "reveals only a small fraction of what \n",
    "sequence learning is capable of.\n",
    "In a variety of sequence learning problems,\n",
    "such as automatic speech recognition, text to speech, and machine translation,\n",
    "both inputs and outputs are sequences of arbitrary length.\n",
    "To explain how to fit this type of data,\n",
    "we will take machine translation as an example,\n",
    "and introduce the encoder-decoder architecture based on\n",
    "RNNs and beam search for sequence generation.\n",
    "\n",
    ":begin_tab:toc\n",
    " - [gru](gru.ipynb)\n",
    " - [lstm](lstm.ipynb)\n",
    " - [deep-rnn](deep-rnn.ipynb)\n",
    " - [bi-rnn](bi-rnn.ipynb)\n",
    " - [machine-translation-and-dataset](machine-translation-and-dataset.ipynb)\n",
    " - [encoder-decoder](encoder-decoder.ipynb)\n",
    " - [seq2seq](seq2seq.ipynb)\n",
    " - [beam-search](beam-search.ipynb)\n",
    ":end_tab:\n"
   ]
  }
 ],
 "metadata": {
  "kernelspec": {
   "display_name": "conda_pytorch_p36",
   "name": "conda_pytorch_p36"
  },
  "language_info": {
   "name": "python"
  }
 },
 "nbformat": 4,
 "nbformat_minor": 5
}